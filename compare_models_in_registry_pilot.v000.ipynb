{
 "cells": [
  {
   "cell_type": "code",
   "execution_count": 1,
   "metadata": {},
   "outputs": [],
   "source": [
    "import wandb\n",
    "import pandas as pd\n",
    "import seaborn as sns\n",
    "import matplotlib.pyplot as plt\n",
    "import sleap\n",
    "import numpy as np\n",
    "\n",
    "from matplotlib.patches import ConnectionPatch\n",
    "from pathlib import Path"
   ]
  },
  {
   "cell_type": "code",
   "execution_count": 2,
   "metadata": {},
   "outputs": [],
   "source": [
    "import sleap_roots_training"
   ]
  },
  {
   "cell_type": "code",
   "execution_count": 3,
   "metadata": {},
   "outputs": [],
   "source": [
    "CSV_PATH = \"metrics.csv\"\n",
    "TAGS = [\"rice3-5DAG\", \"soybean6-8DAG\", \"sorghum5-12DAG\", \"soybean\", \"sorghum\", \"canola2-13DAG\", \"canola\", \"pennycress\", \"arabidopsis\", \"pennycress14DAG\", \"arabidopsis7-11DAG\", \"primary\", \"2025-01-25\", \"rice\"]\n",
    "ARTIFACT_NAME = \"primary-root-model-metrics\""
   ]
  },
  {
   "cell_type": "code",
   "execution_count": 3,
   "metadata": {},
   "outputs": [],
   "source": [
    "# Constants for W&B initialization\n",
    "ENTITY_NAME = \"eberrigan-salk-institute-for-biological-studies\"\n",
    "PROJECT_NAME = \"sleap-roots\"\n",
    "REGISTRY = \"sleap-roots-models\"\n",
    "EXPERIMENT_NAME = \"test_run_v001\""
   ]
  },
  {
   "cell_type": "code",
   "execution_count": 4,
   "metadata": {},
   "outputs": [],
   "source": [
    "GROUPS = [\"sorghum-soybean-canola-pennycress-rice-arabidopsis-primary-2025-01-20\", \"canola-pennycress-arabidopsis-primary-2025-01-20\", \"soybean-primary-2025-01-05\", \"rice-primary-2025-01-19\", \"canola-primary-2025-01-19\", \"pennycress-primary-2025-01-19\", \"arabidopsis-primary-2025-01-19\", \"sorghum-soybean-primary-2025-01-07\", \"sorghum-primary-2025-01-06\"]\n",
    "VERSIONS = [\"000\", \"001\", \"002\"]"
   ]
  },
  {
   "cell_type": "code",
   "execution_count": 7,
   "metadata": {},
   "outputs": [
    {
     "name": "stdout",
     "output_type": "stream",
     "text": [
      "Configuration updated successfully at e:\\repositories\\sleap-roots-training\\sleap_roots_training\\config.yaml.\n",
      "Configuration has been reset to default values.\n"
     ]
    }
   ],
   "source": [
    "sleap_roots_training.reset_config()"
   ]
  },
  {
   "cell_type": "code",
   "execution_count": 8,
   "metadata": {},
   "outputs": [
    {
     "name": "stdout",
     "output_type": "stream",
     "text": [
      "Configuration updated successfully at e:\\repositories\\sleap-roots-training\\sleap_roots_training\\config.yaml.\n",
      "CONFIG updated to {'project_name': 'sleap-roots', 'entity_name': 'eberrigan-salk-institute-for-biological-studies', 'experiment_name': 'test_run_v001', 'registry': 'sleap-roots-models'}.\n"
     ]
    }
   ],
   "source": [
    "sleap_roots_training.update_config(entity_name=ENTITY_NAME, project_name=PROJECT_NAME, registry=REGISTRY, experiment_name=EXPERIMENT_NAME)"
   ]
  },
  {
   "cell_type": "code",
   "execution_count": 9,
   "metadata": {},
   "outputs": [],
   "source": [
    "test_video = r\"tests\\data\\arabidopsis_20DAG_20_D_R8.h5\""
   ]
  },
  {
   "cell_type": "code",
   "execution_count": 10,
   "metadata": {},
   "outputs": [
    {
     "name": "stderr",
     "output_type": "stream",
     "text": [
      "\u001b[34m\u001b[1mwandb\u001b[0m: Using wandb-core as the SDK backend.  Please refer to https://wandb.me/wandb-core for more information.\n",
      "\u001b[34m\u001b[1mwandb\u001b[0m: Currently logged in as: \u001b[33meberrigan\u001b[0m (\u001b[33meberrigan-salk-institute-for-biological-studies\u001b[0m). Use \u001b[1m`wandb login --relogin`\u001b[0m to force relogin\n"
     ]
    },
    {
     "data": {
      "text/html": [
       "Tracking run with wandb version 0.18.6"
      ],
      "text/plain": [
       "<IPython.core.display.HTML object>"
      ]
     },
     "metadata": {},
     "output_type": "display_data"
    },
    {
     "data": {
      "text/html": [
       "Run data is saved locally in <code>e:\\repositories\\sleap-roots-training\\wandb\\run-20250129_162332-fq5gr32d</code>"
      ],
      "text/plain": [
       "<IPython.core.display.HTML object>"
      ]
     },
     "metadata": {},
     "output_type": "display_data"
    },
    {
     "data": {
      "text/html": [
       "Syncing run <strong><a href='https://wandb.ai/eberrigan-salk-institute-for-biological-studies/sleap-roots/runs/fq5gr32d' target=\"_blank\">test_run_v001</a></strong> to <a href='https://wandb.ai/eberrigan-salk-institute-for-biological-studies/sleap-roots' target=\"_blank\">Weights & Biases</a> (<a href='https://wandb.me/developer-guide' target=\"_blank\">docs</a>)<br/>"
      ],
      "text/plain": [
       "<IPython.core.display.HTML object>"
      ]
     },
     "metadata": {},
     "output_type": "display_data"
    },
    {
     "data": {
      "text/html": [
       " View project at <a href='https://wandb.ai/eberrigan-salk-institute-for-biological-studies/sleap-roots' target=\"_blank\">https://wandb.ai/eberrigan-salk-institute-for-biological-studies/sleap-roots</a>"
      ],
      "text/plain": [
       "<IPython.core.display.HTML object>"
      ]
     },
     "metadata": {},
     "output_type": "display_data"
    },
    {
     "data": {
      "text/html": [
       " View run at <a href='https://wandb.ai/eberrigan-salk-institute-for-biological-studies/sleap-roots/runs/fq5gr32d' target=\"_blank\">https://wandb.ai/eberrigan-salk-institute-for-biological-studies/sleap-roots/runs/fq5gr32d</a>"
      ],
      "text/plain": [
       "<IPython.core.display.HTML object>"
      ]
     },
     "metadata": {},
     "output_type": "display_data"
    },
    {
     "name": "stdout",
     "output_type": "stream",
     "text": [
      "Fetching artifact: eberrigan-salk-institute-for-biological-studies-org/wandb-registry-sleap-roots-models/sorghum-soybean-canola-pennycress-rice-arabidopsis-primary-2025-01-20_v002:latest\n"
     ]
    },
    {
     "name": "stderr",
     "output_type": "stream",
     "text": [
      "\u001b[34m\u001b[1mwandb\u001b[0m: \u001b[33mWARNING\u001b[0m Registries can be linked/fetched using a shorthand form without specifying the organization name. Try using shorthand path format: <my_registry_name>/<artifact_name> or just <my_registry_name> if fetching just the project.\n",
      "\u001b[34m\u001b[1mwandb\u001b[0m: Downloading large artifact sorghum-soybean-canola-pennycress-rice-arabidopsis-primary-2025-01-20_v002:latest, 331.10MB. 260 files... \n",
      "\u001b[34m\u001b[1mwandb\u001b[0m:   260 of 260 files downloaded.  \n",
      "Done. 0:0:1.1\n"
     ]
    },
    {
     "name": "stdout",
     "output_type": "stream",
     "text": [
      "Downloaded artifact: sorghum-soybean-canola-pennycress-rice-arabidopsis-primary-2025-01-20_v002 to e:\\repositories\\sleap-roots-training\\artifacts\\sorghum-soybean-canola-pennycress-rice-arabidopsis-primary-2025-01-20_v002-v0\n",
      "Fetching artifact: eberrigan-salk-institute-for-biological-studies-org/wandb-registry-sleap-roots-models/canola-pennycress-arabidopsis-primary-2025-01-20_v002:latest\n"
     ]
    },
    {
     "name": "stderr",
     "output_type": "stream",
     "text": [
      "\u001b[34m\u001b[1mwandb\u001b[0m: \u001b[33mWARNING\u001b[0m Registries can be linked/fetched using a shorthand form without specifying the organization name. Try using shorthand path format: <my_registry_name>/<artifact_name> or just <my_registry_name> if fetching just the project.\n",
      "\u001b[34m\u001b[1mwandb\u001b[0m: Downloading large artifact canola-pennycress-arabidopsis-primary-2025-01-20_v002:latest, 220.13MB. 172 files... \n",
      "\u001b[34m\u001b[1mwandb\u001b[0m:   172 of 172 files downloaded.  \n",
      "Done. 0:0:0.7\n"
     ]
    },
    {
     "name": "stdout",
     "output_type": "stream",
     "text": [
      "Downloaded artifact: canola-pennycress-arabidopsis-primary-2025-01-20_v002 to e:\\repositories\\sleap-roots-training\\artifacts\\canola-pennycress-arabidopsis-primary-2025-01-20_v002-v0\n",
      "Fetching artifact: eberrigan-salk-institute-for-biological-studies-org/wandb-registry-sleap-roots-models/soybean-primary-2025-01-05_v002:latest\n"
     ]
    },
    {
     "name": "stderr",
     "output_type": "stream",
     "text": [
      "\u001b[34m\u001b[1mwandb\u001b[0m: \u001b[33mWARNING\u001b[0m Registries can be linked/fetched using a shorthand form without specifying the organization name. Try using shorthand path format: <my_registry_name>/<artifact_name> or just <my_registry_name> if fetching just the project.\n",
      "\u001b[34m\u001b[1mwandb\u001b[0m: Downloading large artifact soybean-primary-2025-01-05_v002:latest, 63.41MB. 16 files... \n",
      "\u001b[34m\u001b[1mwandb\u001b[0m:   16 of 16 files downloaded.  \n",
      "Done. 0:0:0.3\n"
     ]
    },
    {
     "name": "stdout",
     "output_type": "stream",
     "text": [
      "Downloaded artifact: soybean-primary-2025-01-05_v002 to e:\\repositories\\sleap-roots-training\\artifacts\\soybean-primary-2025-01-05_v002-v0\n",
      "Fetching artifact: eberrigan-salk-institute-for-biological-studies-org/wandb-registry-sleap-roots-models/rice-primary-2025-01-19_v002:latest\n"
     ]
    },
    {
     "name": "stderr",
     "output_type": "stream",
     "text": [
      "\u001b[34m\u001b[1mwandb\u001b[0m: \u001b[33mWARNING\u001b[0m Registries can be linked/fetched using a shorthand form without specifying the organization name. Try using shorthand path format: <my_registry_name>/<artifact_name> or just <my_registry_name> if fetching just the project.\n",
      "\u001b[34m\u001b[1mwandb\u001b[0m: Downloading large artifact rice-primary-2025-01-19_v002:latest, 274.83MB. 236 files... \n",
      "\u001b[34m\u001b[1mwandb\u001b[0m:   236 of 236 files downloaded.  \n",
      "Done. 0:0:0.9\n"
     ]
    },
    {
     "name": "stdout",
     "output_type": "stream",
     "text": [
      "Downloaded artifact: rice-primary-2025-01-19_v002 to e:\\repositories\\sleap-roots-training\\artifacts\\rice-primary-2025-01-19_v002-v0\n",
      "Fetching artifact: eberrigan-salk-institute-for-biological-studies-org/wandb-registry-sleap-roots-models/canola-primary-2025-01-19_v002:latest\n"
     ]
    },
    {
     "name": "stderr",
     "output_type": "stream",
     "text": [
      "\u001b[34m\u001b[1mwandb\u001b[0m: \u001b[33mWARNING\u001b[0m Registries can be linked/fetched using a shorthand form without specifying the organization name. Try using shorthand path format: <my_registry_name>/<artifact_name> or just <my_registry_name> if fetching just the project.\n",
      "\u001b[34m\u001b[1mwandb\u001b[0m: Downloading large artifact canola-primary-2025-01-19_v002:latest, 59.55MB. 16 files... \n",
      "\u001b[34m\u001b[1mwandb\u001b[0m:   16 of 16 files downloaded.  \n",
      "Done. 0:0:0.4\n"
     ]
    },
    {
     "name": "stdout",
     "output_type": "stream",
     "text": [
      "Downloaded artifact: canola-primary-2025-01-19_v002 to e:\\repositories\\sleap-roots-training\\artifacts\\canola-primary-2025-01-19_v002-v0\n",
      "Fetching artifact: eberrigan-salk-institute-for-biological-studies-org/wandb-registry-sleap-roots-models/pennycress-primary-2025-01-19_v002:latest\n"
     ]
    },
    {
     "name": "stderr",
     "output_type": "stream",
     "text": [
      "\u001b[34m\u001b[1mwandb\u001b[0m: \u001b[33mWARNING\u001b[0m Registries can be linked/fetched using a shorthand form without specifying the organization name. Try using shorthand path format: <my_registry_name>/<artifact_name> or just <my_registry_name> if fetching just the project.\n",
      "\u001b[34m\u001b[1mwandb\u001b[0m: Downloading large artifact pennycress-primary-2025-01-19_v002:latest, 132.68MB. 92 files... \n",
      "\u001b[34m\u001b[1mwandb\u001b[0m:   92 of 92 files downloaded.  \n",
      "Done. 0:0:0.4\n"
     ]
    },
    {
     "name": "stdout",
     "output_type": "stream",
     "text": [
      "Downloaded artifact: pennycress-primary-2025-01-19_v002 to e:\\repositories\\sleap-roots-training\\artifacts\\pennycress-primary-2025-01-19_v002-v0\n",
      "Fetching artifact: eberrigan-salk-institute-for-biological-studies-org/wandb-registry-sleap-roots-models/arabidopsis-primary-2025-01-19_v002:latest\n"
     ]
    },
    {
     "name": "stderr",
     "output_type": "stream",
     "text": [
      "\u001b[34m\u001b[1mwandb\u001b[0m: \u001b[33mWARNING\u001b[0m Registries can be linked/fetched using a shorthand form without specifying the organization name. Try using shorthand path format: <my_registry_name>/<artifact_name> or just <my_registry_name> if fetching just the project.\n",
      "\u001b[34m\u001b[1mwandb\u001b[0m: Downloading large artifact arabidopsis-primary-2025-01-19_v002:latest, 59.36MB. 16 files... \n",
      "\u001b[34m\u001b[1mwandb\u001b[0m:   16 of 16 files downloaded.  \n",
      "Done. 0:0:0.3\n"
     ]
    },
    {
     "name": "stdout",
     "output_type": "stream",
     "text": [
      "Downloaded artifact: arabidopsis-primary-2025-01-19_v002 to e:\\repositories\\sleap-roots-training\\artifacts\\arabidopsis-primary-2025-01-19_v002-v0\n",
      "Fetching artifact: eberrigan-salk-institute-for-biological-studies-org/wandb-registry-sleap-roots-models/sorghum-soybean-primary-2025-01-07_v002:latest\n"
     ]
    },
    {
     "name": "stderr",
     "output_type": "stream",
     "text": [
      "\u001b[34m\u001b[1mwandb\u001b[0m: \u001b[33mWARNING\u001b[0m Registries can be linked/fetched using a shorthand form without specifying the organization name. Try using shorthand path format: <my_registry_name>/<artifact_name> or just <my_registry_name> if fetching just the project.\n",
      "\u001b[34m\u001b[1mwandb\u001b[0m: Downloading large artifact sorghum-soybean-primary-2025-01-07_v002:latest, 60.40MB. 16 files... \n",
      "\u001b[34m\u001b[1mwandb\u001b[0m:   16 of 16 files downloaded.  \n",
      "Done. 0:0:0.3\n"
     ]
    },
    {
     "name": "stdout",
     "output_type": "stream",
     "text": [
      "Downloaded artifact: sorghum-soybean-primary-2025-01-07_v002 to e:\\repositories\\sleap-roots-training\\artifacts\\sorghum-soybean-primary-2025-01-07_v002-v0\n",
      "Fetching artifact: eberrigan-salk-institute-for-biological-studies-org/wandb-registry-sleap-roots-models/sorghum-primary-2025-01-06_v002:latest\n"
     ]
    },
    {
     "name": "stderr",
     "output_type": "stream",
     "text": [
      "\u001b[34m\u001b[1mwandb\u001b[0m: \u001b[33mWARNING\u001b[0m Registries can be linked/fetched using a shorthand form without specifying the organization name. Try using shorthand path format: <my_registry_name>/<artifact_name> or just <my_registry_name> if fetching just the project.\n",
      "\u001b[34m\u001b[1mwandb\u001b[0m: Downloading large artifact sorghum-primary-2025-01-06_v002:latest, 59.48MB. 16 files... \n",
      "\u001b[34m\u001b[1mwandb\u001b[0m:   16 of 16 files downloaded.  \n",
      "Done. 0:0:0.3\n"
     ]
    },
    {
     "name": "stdout",
     "output_type": "stream",
     "text": [
      "Downloaded artifact: sorghum-primary-2025-01-06_v002 to e:\\repositories\\sleap-roots-training\\artifacts\\sorghum-primary-2025-01-06_v002-v0\n"
     ]
    },
    {
     "data": {
      "application/vnd.jupyter.widget-view+json": {
       "model_id": "d748771553694272bc3725f1ab98631a",
       "version_major": 2,
       "version_minor": 0
      },
      "text/plain": [
       "VBox(children=(Label(value='0.070 MB of 0.070 MB uploaded\\r'), FloatProgress(value=1.0, max=1.0)))"
      ]
     },
     "metadata": {},
     "output_type": "display_data"
    },
    {
     "data": {
      "text/html": [
       " View run <strong style=\"color:#cdcd00\">test_run_v001</strong> at: <a href='https://wandb.ai/eberrigan-salk-institute-for-biological-studies/sleap-roots/runs/fq5gr32d' target=\"_blank\">https://wandb.ai/eberrigan-salk-institute-for-biological-studies/sleap-roots/runs/fq5gr32d</a><br/> View project at: <a href='https://wandb.ai/eberrigan-salk-institute-for-biological-studies/sleap-roots' target=\"_blank\">https://wandb.ai/eberrigan-salk-institute-for-biological-studies/sleap-roots</a><br/>Synced 6 W&B file(s), 0 media file(s), 5 artifact file(s) and 0 other file(s)"
      ],
      "text/plain": [
       "<IPython.core.display.HTML object>"
      ]
     },
     "metadata": {},
     "output_type": "display_data"
    },
    {
     "data": {
      "text/html": [
       "Find logs at: <code>.\\wandb\\run-20250129_162332-fq5gr32d\\logs</code>"
      ],
      "text/plain": [
       "<IPython.core.display.HTML object>"
      ]
     },
     "metadata": {},
     "output_type": "display_data"
    }
   ],
   "source": [
    "# Get predictions for a single frame of the test video using models from each group\n",
    "sleap_roots_training.predictions_viz(output_dir=EXPERIMENT_NAME, filename=test_video, groups=GROUPS, frame_idx=1, model_version=\"002\", overwrite=False)"
   ]
  },
  {
   "cell_type": "code",
   "execution_count": 11,
   "metadata": {},
   "outputs": [
    {
     "data": {
      "text/html": [
       "Tracking run with wandb version 0.18.6"
      ],
      "text/plain": [
       "<IPython.core.display.HTML object>"
      ]
     },
     "metadata": {},
     "output_type": "display_data"
    },
    {
     "data": {
      "text/html": [
       "Run data is saved locally in <code>e:\\repositories\\sleap-roots-training\\wandb\\run-20250129_162426-8a7wuk17</code>"
      ],
      "text/plain": [
       "<IPython.core.display.HTML object>"
      ]
     },
     "metadata": {},
     "output_type": "display_data"
    },
    {
     "data": {
      "text/html": [
       "Syncing run <strong><a href='https://wandb.ai/eberrigan-salk-institute-for-biological-studies/sleap-roots/runs/8a7wuk17' target=\"_blank\">evaluate_sorghum-soybean-primary-2025-01-07_v002_on_sorghum-primary-2025-01-06_v002</a></strong> to <a href='https://wandb.ai/eberrigan-salk-institute-for-biological-studies/sleap-roots' target=\"_blank\">Weights & Biases</a> (<a href='https://wandb.me/developer-guide' target=\"_blank\">docs</a>)<br/>"
      ],
      "text/plain": [
       "<IPython.core.display.HTML object>"
      ]
     },
     "metadata": {},
     "output_type": "display_data"
    },
    {
     "data": {
      "text/html": [
       " View project at <a href='https://wandb.ai/eberrigan-salk-institute-for-biological-studies/sleap-roots' target=\"_blank\">https://wandb.ai/eberrigan-salk-institute-for-biological-studies/sleap-roots</a>"
      ],
      "text/plain": [
       "<IPython.core.display.HTML object>"
      ]
     },
     "metadata": {},
     "output_type": "display_data"
    },
    {
     "data": {
      "text/html": [
       " View run at <a href='https://wandb.ai/eberrigan-salk-institute-for-biological-studies/sleap-roots/runs/8a7wuk17' target=\"_blank\">https://wandb.ai/eberrigan-salk-institute-for-biological-studies/sleap-roots/runs/8a7wuk17</a>"
      ],
      "text/plain": [
       "<IPython.core.display.HTML object>"
      ]
     },
     "metadata": {},
     "output_type": "display_data"
    },
    {
     "name": "stdout",
     "output_type": "stream",
     "text": [
      "Fetching artifact: eberrigan-salk-institute-for-biological-studies-org/wandb-registry-sleap-roots-models/sorghum-soybean-primary-2025-01-07_v002:latest\n"
     ]
    },
    {
     "name": "stderr",
     "output_type": "stream",
     "text": [
      "\u001b[34m\u001b[1mwandb\u001b[0m: \u001b[33mWARNING\u001b[0m Registries can be linked/fetched using a shorthand form without specifying the organization name. Try using shorthand path format: <my_registry_name>/<artifact_name> or just <my_registry_name> if fetching just the project.\n"
     ]
    },
    {
     "name": "stdout",
     "output_type": "stream",
     "text": [
      "Fetching artifact: eberrigan-salk-institute-for-biological-studies-org/wandb-registry-sleap-roots-models/sorghum-primary-2025-01-06_v002:latest\n"
     ]
    },
    {
     "name": "stderr",
     "output_type": "stream",
     "text": [
      "\u001b[34m\u001b[1mwandb\u001b[0m: \u001b[33mWARNING\u001b[0m Registries can be linked/fetched using a shorthand form without specifying the organization name. Try using shorthand path format: <my_registry_name>/<artifact_name> or just <my_registry_name> if fetching just the project.\n",
      "\u001b[34m\u001b[1mwandb\u001b[0m: Downloading large artifact sorghum-soybean-primary-2025-01-07_v002:latest, 60.40MB. 16 files... \n"
     ]
    },
    {
     "name": "stdout",
     "output_type": "stream",
     "text": [
      "Test data saved to test_run_v001/sorghum-primary-2025-01-06_v002_test_labels.slp\n"
     ]
    },
    {
     "name": "stderr",
     "output_type": "stream",
     "text": [
      "\u001b[34m\u001b[1mwandb\u001b[0m:   16 of 16 files downloaded.  \n",
      "Done. 0:0:0.3\n"
     ]
    },
    {
     "data": {
      "application/vnd.jupyter.widget-view+json": {
       "model_id": "7311f74cfd3d4ddaa3ea780732516310",
       "version_major": 2,
       "version_minor": 0
      },
      "text/plain": [
       "Output()"
      ]
     },
     "metadata": {},
     "output_type": "display_data"
    },
    {
     "name": "stdout",
     "output_type": "stream",
     "text": [
      "Model loaded successfully from e:\\repositories\\sleap-roots-training\\artifacts\\sorghum-soybean-primary-2025-01-07_v002-v0.\n"
     ]
    },
    {
     "data": {
      "text/html": [
       "<pre style=\"white-space:pre;overflow-x:auto;line-height:normal;font-family:Menlo,'DejaVu Sans Mono',consolas,'Courier New',monospace\"></pre>\n"
      ],
      "text/plain": []
     },
     "metadata": {},
     "output_type": "display_data"
    },
    {
     "name": "stdout",
     "output_type": "stream",
     "text": [
      "INFO:sleap.nn.evals:Saved predictions: D:/SLEAP/20250102_generalizability_experiment/primary/sorghum_soybean/train_test_split.v002\\models\\250107_142745.multi_instance.n=1436\\labels_pr.test.slp\n",
      "INFO:sleap.nn.evals:Saved metrics: D:/SLEAP/20250102_generalizability_experiment/primary/sorghum_soybean/train_test_split.v002\\models\\250107_142745.multi_instance.n=1436\\metrics.test.npz\n",
      "INFO:sleap.nn.evals:OKS mAP: 0.050043\n",
      "Predictions saved to test_run_v001/sorghum-soybean-primary-2025-01-07_v002_on_sorghum-primary-2025-01-06_v002_test_predictions.slp\n",
      "Metrics saved to test_run_v001/sorghum-soybean-primary-2025-01-07_v002_on_sorghum-primary-2025-01-06_v002_metrics.csv\n",
      "Distances saved to test_run_v001/sorghum-soybean-primary-2025-01-07_v002_on_sorghum-primary-2025-01-06_v002_distances.csv\n",
      "Distance histogram saved to test_run_v001\\sorghum-soybean-primary-2025-01-07_v002_on_sorghum-primary-2025-01-06_v002_distance_histogram.png\n"
     ]
    },
    {
     "data": {
      "application/vnd.jupyter.widget-view+json": {
       "model_id": "7f4d9be906e84d5faf911ddca47a4374",
       "version_major": 2,
       "version_minor": 0
      },
      "text/plain": [
       "VBox(children=(Label(value='0.092 MB of 0.092 MB uploaded\\r'), FloatProgress(value=1.0, max=1.0)))"
      ]
     },
     "metadata": {},
     "output_type": "display_data"
    },
    {
     "data": {
      "text/html": [
       "\n",
       "    <style>\n",
       "        .wandb-row {\n",
       "            display: flex;\n",
       "            flex-direction: row;\n",
       "            flex-wrap: wrap;\n",
       "            justify-content: flex-start;\n",
       "            width: 100%;\n",
       "        }\n",
       "        .wandb-col {\n",
       "            display: flex;\n",
       "            flex-direction: column;\n",
       "            flex-basis: 100%;\n",
       "            flex: 1;\n",
       "            padding: 10px;\n",
       "        }\n",
       "    </style>\n",
       "<div class=\"wandb-row\"><div class=\"wandb-col\"><h3>Run summary:</h3><br/><table class=\"wandb\"><tr><td>dist_avg</td><td>1.62802</td></tr><tr><td>dist_p50</td><td>1.06495</td></tr><tr><td>dist_p90</td><td>3.35472</td></tr><tr><td>dist_p95</td><td>4.81627</td></tr><tr><td>dist_p99</td><td>8.31326</td></tr><tr><td>dist_std</td><td>1.71952</td></tr><tr><td>model_name</td><td>sorghum-soybean-prim...</td></tr><tr><td>model_path</td><td>e:\\repositories\\slea...</td></tr><tr><td>oks_map</td><td>0.05004</td></tr><tr><td>oks_mar</td><td>0.05556</td></tr><tr><td>vis_prec</td><td>1</td></tr><tr><td>vis_recall</td><td>0.5914</td></tr></table><br/></div></div>"
      ],
      "text/plain": [
       "<IPython.core.display.HTML object>"
      ]
     },
     "metadata": {},
     "output_type": "display_data"
    },
    {
     "data": {
      "text/html": [
       " View run <strong style=\"color:#cdcd00\">evaluate_sorghum-soybean-primary-2025-01-07_v002_on_sorghum-primary-2025-01-06_v002</strong> at: <a href='https://wandb.ai/eberrigan-salk-institute-for-biological-studies/sleap-roots/runs/8a7wuk17' target=\"_blank\">https://wandb.ai/eberrigan-salk-institute-for-biological-studies/sleap-roots/runs/8a7wuk17</a><br/> View project at: <a href='https://wandb.ai/eberrigan-salk-institute-for-biological-studies/sleap-roots' target=\"_blank\">https://wandb.ai/eberrigan-salk-institute-for-biological-studies/sleap-roots</a><br/>Synced 7 W&B file(s), 0 media file(s), 6 artifact file(s) and 0 other file(s)"
      ],
      "text/plain": [
       "<IPython.core.display.HTML object>"
      ]
     },
     "metadata": {},
     "output_type": "display_data"
    },
    {
     "data": {
      "text/html": [
       "Find logs at: <code>.\\wandb\\run-20250129_162426-8a7wuk17\\logs</code>"
      ],
      "text/plain": [
       "<IPython.core.display.HTML object>"
      ]
     },
     "metadata": {},
     "output_type": "display_data"
    }
   ],
   "source": [
    "# Evaluate sorghum-soybean model on sorghum and soybean\n",
    "# eberrigan-salk-institute-for-biological-studies-org/wandb-registry-sleap-roots-models/sorghum-soybean-primary-2025-01-07_v002:v0\n",
    "# eberrigan-salk-institute-for-biological-studies-org/wandb-registry-sleap-roots-models/sorghum-primary-2025-01-06_v002:v0\n",
    "\n",
    "labels_pr_sorghum, metrics_sorghum = sleap_roots_training.evaluate_model(\"sorghum-soybean-primary-2025-01-07_v002\", \"sorghum-primary-2025-01-06_v002\", EXPERIMENT_NAME)"
   ]
  }
 ],
 "metadata": {
  "kernelspec": {
   "display_name": "sleap_v1.3.4",
   "language": "python",
   "name": "python3"
  },
  "language_info": {
   "codemirror_mode": {
    "name": "ipython",
    "version": 3
   },
   "file_extension": ".py",
   "mimetype": "text/x-python",
   "name": "python",
   "nbconvert_exporter": "python",
   "pygments_lexer": "ipython3",
   "version": "3.7.12"
  }
 },
 "nbformat": 4,
 "nbformat_minor": 2
}
