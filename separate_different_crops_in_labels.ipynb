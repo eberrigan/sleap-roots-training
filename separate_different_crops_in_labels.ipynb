{
 "cells": [
  {
   "cell_type": "code",
   "execution_count": 1,
   "id": "0a6a57c3-e31b-4800-8ce9-7c1750a9df68",
   "metadata": {
    "tags": []
   },
   "outputs": [],
   "source": [
    "import os\n",
    "import pandas as pd\n",
    "import sleap\n",
    "import numpy as np\n",
    "import random\n",
    "import re\n",
    "import matplotlib.pyplot as plt\n",
    "\n",
    "from pathlib import Path"
   ]
  },
  {
   "cell_type": "code",
   "execution_count": 2,
   "id": "2b1a7356-46e7-404a-be9d-c7b76e1d03f3",
   "metadata": {
    "tags": []
   },
   "outputs": [],
   "source": [
    "# labels path\n",
    "labels_path = \"D:/SLEAP/20250102_generalizability_experiment/primary/canola/labels_canola_primary_6nodes.v005.slp\" # actually canola and pennycress\n",
    "\n",
    "# Directory output path to save the labels of the first crop\n",
    "output_path = \"D:/SLEAP/20250102_generalizability_experiment/primary/canola\"\n",
    "\n",
    "# Directory output path to save the labels of the second crop\n",
    "output_path2 = \"D:/SLEAP/20250102_generalizability_experiment/primary/pennycress\""
   ]
  },
  {
   "cell_type": "code",
   "execution_count": 3,
   "id": "c57b6a21",
   "metadata": {},
   "outputs": [],
   "source": [
    "# 'D:/SLEAP/SLEAP_Canola_Pennycress/primary_root/h5_files_for_PR_sleap_project/9_do/33PFABDMTW.h5'\n",
    "# Z:/Experiments/Canola/CYL_Canola_Diversity_Screen/Downstream_Data_Extraction_and_Analysis/4-19-23_data_v000_not_qc_not_proofread/H5_w_SLEAP_predictions_preqc_preproofread/W22/2do/HMDQXXWRSQ.h5\n",
    "# D:\\SLEAP\\SLEAP_Canola_Pennycress\\primary_root\\h5_files_for_PR_sleap_project\\pennycress\\14_do\n",
    "\n",
    "def separate_crops(labels, match_string='pennycress'):\n",
    "    \"\"\"Load sleap labels and separate the crops using matches from the video filenames.\n",
    "    \n",
    "    Args:\n",
    "        labels (sleap.Labels): Labels to separate.\n",
    "        \n",
    "    Returns:\n",
    "        first_crop_labels (sleap.Labels): Labels using the first crop.\n",
    "        second_crop_labels (sleap.Labels): Labels using the second crop.\n",
    "    \"\"\"\n",
    "    first_crop_labels = []\n",
    "    second_crop_labels = []\n",
    "    for label in labels:\n",
    "        if match_string in label.video.filename:\n",
    "            second_crop_labels.append(label)\n",
    "            print(f\"Found {match_string} data: {label.video.filename}\")\n",
    "        else:\n",
    "            first_crop_labels.append(label)\n",
    "    first_crop_labels = sleap.Labels(first_crop_labels)\n",
    "    second_crop_labels = sleap.Labels(second_crop_labels)\n",
    "    print(f\"Number of first crop labels: {len(first_crop_labels)}\")\n",
    "    print(f\"Number of second crop labels: {len(second_crop_labels)}\")\n",
    "    return first_crop_labels, second_crop_labels"
   ]
  },
  {
   "cell_type": "code",
   "execution_count": 4,
   "id": "3744579e-99df-4a78-a006-866e1c136bb0",
   "metadata": {
    "tags": []
   },
   "outputs": [],
   "source": [
    "base_labels = sleap.load_file(Path(labels_path).as_posix()) # load labels file\n",
    "user_labels = base_labels.with_user_labels_only() # user instances only"
   ]
  },
  {
   "cell_type": "code",
   "execution_count": 5,
   "id": "155639d0",
   "metadata": {},
   "outputs": [],
   "source": [
    "# Make the output directory if it doesn't exist\n",
    "Path(output_path).mkdir(parents=True, exist_ok=True)"
   ]
  },
  {
   "cell_type": "code",
   "execution_count": 6,
   "id": "467508f4-0836-403b-974f-97268d592559",
   "metadata": {
    "tags": []
   },
   "outputs": [
    {
     "name": "stdout",
     "output_type": "stream",
     "text": [
      "LabeledFrame(video=HDF5Video('D:/SLEAP/SLEAP_Canola_Pennycress/primary_root/h5_files_for_PR_sleap_project/9_do/33PFABDMTW.h5'), frame_idx=0, instances=1)\n",
      "LabeledFrame(video=HDF5Video('D:/SLEAP/SLEAP_Canola_Pennycress/primary_root/h5_files_for_PR_sleap_project/9_do/33PFABDMTW.h5'), frame_idx=27, instances=1)\n",
      "LabeledFrame(video=HDF5Video('D:/SLEAP/SLEAP_Canola_Pennycress/primary_root/h5_files_for_PR_sleap_project/9_do/CTDUW5MAB7.h5'), frame_idx=14, instances=1)\n",
      "LabeledFrame(video=HDF5Video('D:/SLEAP/SLEAP_Canola_Pennycress/primary_root/h5_files_for_PR_sleap_project/9_do/CTDUW5MAB7.h5'), frame_idx=59, instances=1)\n",
      "LabeledFrame(video=HDF5Video('D:/SLEAP/SLEAP_Canola_Pennycress/primary_root/h5_files_for_PR_sleap_project/9_do/8SA030IT8T.h5'), frame_idx=49, instances=1)\n"
     ]
    }
   ],
   "source": [
    "# Print the first few items to check their structure\n",
    "for label in user_labels[:5]:\n",
    "    print(label)"
   ]
  },
  {
   "cell_type": "code",
   "execution_count": 7,
   "id": "ce57ef2f",
   "metadata": {},
   "outputs": [
    {
     "name": "stdout",
     "output_type": "stream",
     "text": [
      "There are 435 labels total.\n",
      "Found pennycress data: D:/SLEAP/SLEAP_Canola_Pennycress/lateral_3_nodes/h5_files_for_LR_sleap_project/pennycress/14_do/C4SII6QM92.h5\n",
      "Found pennycress data: D:/SLEAP/SLEAP_Canola_Pennycress/lateral_3_nodes/h5_files_for_LR_sleap_project/pennycress/14_do/C4SII6QM92.h5\n",
      "Found pennycress data: D:/SLEAP/SLEAP_Canola_Pennycress/lateral_3_nodes/h5_files_for_LR_sleap_project/pennycress/14_do/C4SII6QM92.h5\n",
      "Found pennycress data: D:/SLEAP/SLEAP_Canola_Pennycress/lateral_3_nodes/h5_files_for_LR_sleap_project/pennycress/14_do/C4SII6QM92.h5\n",
      "Found pennycress data: D:/SLEAP/SLEAP_Canola_Pennycress/lateral_3_nodes/h5_files_for_LR_sleap_project/pennycress/14_do/C4SII6QM92.h5\n",
      "Found pennycress data: D:/SLEAP/SLEAP_Canola_Pennycress/lateral_3_nodes/h5_files_for_LR_sleap_project/pennycress/14_do/C4SII6QM92.h5\n",
      "Found pennycress data: D:/SLEAP/SLEAP_Canola_Pennycress/lateral_3_nodes/h5_files_for_LR_sleap_project/pennycress/14_do/C4SII6QM92.h5\n",
      "Found pennycress data: D:/SLEAP/SLEAP_Canola_Pennycress/lateral_3_nodes/h5_files_for_LR_sleap_project/pennycress/14_do/C4SII6QM92.h5\n",
      "Found pennycress data: D:/SLEAP/SLEAP_Canola_Pennycress/lateral_3_nodes/h5_files_for_LR_sleap_project/pennycress/14_do/C4SII6QM92.h5\n",
      "Found pennycress data: D:/SLEAP/SLEAP_Canola_Pennycress/lateral_3_nodes/h5_files_for_LR_sleap_project/pennycress/14_do/C4SII6QM92.h5\n",
      "Found pennycress data: D:/SLEAP/SLEAP_Canola_Pennycress/lateral_3_nodes/h5_files_for_LR_sleap_project/pennycress/14_do/C4SII6QM92.h5\n",
      "Found pennycress data: D:/SLEAP/SLEAP_Canola_Pennycress/lateral_3_nodes/h5_files_for_LR_sleap_project/pennycress/14_do/COUB2XMY5O.h5\n",
      "Found pennycress data: D:/SLEAP/SLEAP_Canola_Pennycress/lateral_3_nodes/h5_files_for_LR_sleap_project/pennycress/14_do/COUB2XMY5O.h5\n",
      "Found pennycress data: D:/SLEAP/SLEAP_Canola_Pennycress/lateral_3_nodes/h5_files_for_LR_sleap_project/pennycress/14_do/COUB2XMY5O.h5\n",
      "Found pennycress data: D:/SLEAP/SLEAP_Canola_Pennycress/lateral_3_nodes/h5_files_for_LR_sleap_project/pennycress/14_do/D0467EXTXZ.h5\n",
      "Found pennycress data: D:/SLEAP/SLEAP_Canola_Pennycress/lateral_3_nodes/h5_files_for_LR_sleap_project/pennycress/14_do/D0467EXTXZ.h5\n",
      "Found pennycress data: D:/SLEAP/SLEAP_Canola_Pennycress/lateral_3_nodes/h5_files_for_LR_sleap_project/pennycress/14_do/P55WYB2B18.h5\n",
      "Found pennycress data: D:/SLEAP/SLEAP_Canola_Pennycress/lateral_3_nodes/h5_files_for_LR_sleap_project/pennycress/14_do/3FHTDWIJ5T.h5\n",
      "Found pennycress data: D:/SLEAP/SLEAP_Canola_Pennycress/lateral_3_nodes/h5_files_for_LR_sleap_project/pennycress/14_do/3FHTDWIJ5T.h5\n",
      "Found pennycress data: D:/SLEAP/SLEAP_Canola_Pennycress/lateral_3_nodes/h5_files_for_LR_sleap_project/pennycress/14_do/3FHTDWIJ5T.h5\n",
      "Found pennycress data: D:/SLEAP/SLEAP_Canola_Pennycress/lateral_3_nodes/h5_files_for_LR_sleap_project/pennycress/14_do/3FHTDWIJ5T.h5\n",
      "Found pennycress data: D:/SLEAP/SLEAP_Canola_Pennycress/lateral_3_nodes/h5_files_for_LR_sleap_project/pennycress/14_do/8OIOH440Y8.h5\n",
      "Found pennycress data: D:/SLEAP/SLEAP_Canola_Pennycress/lateral_3_nodes/h5_files_for_LR_sleap_project/pennycress/14_do/8OIOH440Y8.h5\n",
      "Found pennycress data: D:/SLEAP/SLEAP_Canola_Pennycress/lateral_3_nodes/h5_files_for_LR_sleap_project/pennycress/14_do/8OIOH440Y8.h5\n",
      "Found pennycress data: D:/SLEAP/SLEAP_Canola_Pennycress/lateral_3_nodes/h5_files_for_LR_sleap_project/pennycress/14_do/MSFJHUO1WV.h5\n",
      "Found pennycress data: D:/SLEAP/SLEAP_Canola_Pennycress/lateral_3_nodes/h5_files_for_LR_sleap_project/pennycress/14_do/MSFJHUO1WV.h5\n",
      "Found pennycress data: D:/SLEAP/SLEAP_Canola_Pennycress/lateral_3_nodes/h5_files_for_LR_sleap_project/pennycress/14_do/MSFJHUO1WV.h5\n",
      "Found pennycress data: D:/SLEAP/SLEAP_Canola_Pennycress/lateral_3_nodes/h5_files_for_LR_sleap_project/pennycress/14_do/OH3MXW2DT2.h5\n",
      "Found pennycress data: D:/SLEAP/SLEAP_Canola_Pennycress/lateral_3_nodes/h5_files_for_LR_sleap_project/pennycress/14_do/OH3MXW2DT2.h5\n",
      "Found pennycress data: D:/SLEAP/SLEAP_Canola_Pennycress/lateral_3_nodes/h5_files_for_LR_sleap_project/pennycress/14_do/VZ1OZPLQ3S.h5\n",
      "Found pennycress data: D:/SLEAP/SLEAP_Canola_Pennycress/lateral_3_nodes/h5_files_for_LR_sleap_project/pennycress/14_do/4LW5Q28BTN.h5\n",
      "Found pennycress data: D:/SLEAP/SLEAP_Canola_Pennycress/lateral_3_nodes/h5_files_for_LR_sleap_project/pennycress/14_do/4RQD86I62H.h5\n",
      "Found pennycress data: D:/SLEAP/SLEAP_Canola_Pennycress/lateral_3_nodes/h5_files_for_LR_sleap_project/pennycress/14_do/25EBPBOJV8.h5\n",
      "Number of first crop labels: 402\n",
      "Number of second crop labels: 33\n",
      "Saved pennycress labels to D:/SLEAP/20250102_generalizability_experiment/primary/pennycress\n",
      "Saved canola labels to D:/SLEAP/20250102_generalizability_experiment/primary/canola\n"
     ]
    }
   ],
   "source": [
    "print(f\"There are {len(user_labels)} labels total.\")\n",
    "\n",
    "# Separate the pennycress and canola data\n",
    "canola_labels, pennycress_labels = separate_crops(user_labels)\n",
    "\n",
    "# Set pennycress labels output_path\n",
    "pennycress_output_path = Path(\"D:/SLEAP/20250102_generalizability_experiment/primary\") / \"pennycress\"\n",
    "Path(pennycress_output_path).mkdir(parents=True, exist_ok=True)\n",
    "\n",
    "# Save the pennycress labels\n",
    "pennycress_labels.save(pennycress_output_path / \"labels_pennycress_primary_6nodes.v000.slp\")\n",
    "print(f\"Saved pennycress labels to {pennycress_output_path.as_posix()}\")\n",
    "\n",
    "# Save the canola labels\n",
    "canola_labels.save(Path(output_path) / \"labels_ONLYcanola_primary_6nodes.v000.slp\")\n",
    "print(f\"Saved canola labels to {output_path}\")"
   ]
  }
 ],
 "metadata": {
  "kernelspec": {
   "display_name": "sleap_v1.3.4",
   "language": "python",
   "name": "python3"
  },
  "language_info": {
   "codemirror_mode": {
    "name": "ipython",
    "version": 3
   },
   "file_extension": ".py",
   "mimetype": "text/x-python",
   "name": "python",
   "nbconvert_exporter": "python",
   "pygments_lexer": "ipython3",
   "version": "3.7.12"
  }
 },
 "nbformat": 4,
 "nbformat_minor": 5
}
