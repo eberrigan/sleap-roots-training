{
 "cells": [
  {
   "cell_type": "code",
   "execution_count": 1,
   "id": "c028c1b4-bd70-4083-a376-2cbf4ff0bcfa",
   "metadata": {
    "tags": []
   },
   "outputs": [],
   "source": [
    "import os\n",
    "import sleap\n",
    "import pandas as pd\n",
    "from pathlib import Path"
   ]
  },
  {
   "cell_type": "code",
   "execution_count": 2,
   "id": "145e02ea-3928-4d81-a427-1ede85336564",
   "metadata": {
    "tags": []
   },
   "outputs": [],
   "source": [
    "# Define the age groups and versions\n",
    "groups = [\"sorghum\", \"soybean\"]\n",
    "versions = [\"000\", \"001\", \"002\"]\n",
    "\n",
    "# Base path\n",
    "base_path = \"D:/SLEAP/20250102_generalizability_experiment/lateral\"\n",
    "\n",
    "output_dir = \"sorghum_soybean\""
   ]
  },
  {
   "cell_type": "code",
   "execution_count": 3,
   "id": "c8b0e0a6-284a-48c5-a659-b45c1a72c7e2",
   "metadata": {
    "tags": []
   },
   "outputs": [
    {
     "name": "stdout",
     "output_type": "stream",
     "text": [
      "Loaded: D:\\SLEAP\\20250102_generalizability_experiment\\lateral\\sorghum\\train_test_split.v000\\train.pkg.slp\n",
      "Loaded: D:\\SLEAP\\20250102_generalizability_experiment\\lateral\\soybean\\train_test_split.v000\\train.pkg.slp\n",
      "Merged: D:\\SLEAP\\20250102_generalizability_experiment\\lateral\\sorghum_soybean\\train_test_split.v000\\train.pkg.slp\n",
      "Loaded: D:\\SLEAP\\20250102_generalizability_experiment\\lateral\\sorghum\\train_test_split.v000\\val.pkg.slp\n",
      "Loaded: D:\\SLEAP\\20250102_generalizability_experiment\\lateral\\soybean\\train_test_split.v000\\val.pkg.slp\n",
      "Merged: D:\\SLEAP\\20250102_generalizability_experiment\\lateral\\sorghum_soybean\\train_test_split.v000\\val.pkg.slp\n",
      "Loaded: D:\\SLEAP\\20250102_generalizability_experiment\\lateral\\sorghum\\train_test_split.v000\\test.pkg.slp\n",
      "Loaded: D:\\SLEAP\\20250102_generalizability_experiment\\lateral\\soybean\\train_test_split.v000\\test.pkg.slp\n",
      "Merged: D:\\SLEAP\\20250102_generalizability_experiment\\lateral\\sorghum_soybean\\train_test_split.v000\\test.pkg.slp\n",
      "Loaded: D:\\SLEAP\\20250102_generalizability_experiment\\lateral\\sorghum\\train_test_split.v001\\train.pkg.slp\n",
      "Loaded: D:\\SLEAP\\20250102_generalizability_experiment\\lateral\\soybean\\train_test_split.v001\\train.pkg.slp\n",
      "Merged: D:\\SLEAP\\20250102_generalizability_experiment\\lateral\\sorghum_soybean\\train_test_split.v001\\train.pkg.slp\n",
      "Loaded: D:\\SLEAP\\20250102_generalizability_experiment\\lateral\\sorghum\\train_test_split.v001\\val.pkg.slp\n",
      "Loaded: D:\\SLEAP\\20250102_generalizability_experiment\\lateral\\soybean\\train_test_split.v001\\val.pkg.slp\n",
      "Merged: D:\\SLEAP\\20250102_generalizability_experiment\\lateral\\sorghum_soybean\\train_test_split.v001\\val.pkg.slp\n",
      "Loaded: D:\\SLEAP\\20250102_generalizability_experiment\\lateral\\sorghum\\train_test_split.v001\\test.pkg.slp\n",
      "Loaded: D:\\SLEAP\\20250102_generalizability_experiment\\lateral\\soybean\\train_test_split.v001\\test.pkg.slp\n",
      "Merged: D:\\SLEAP\\20250102_generalizability_experiment\\lateral\\sorghum_soybean\\train_test_split.v001\\test.pkg.slp\n",
      "Loaded: D:\\SLEAP\\20250102_generalizability_experiment\\lateral\\sorghum\\train_test_split.v002\\train.pkg.slp\n",
      "Loaded: D:\\SLEAP\\20250102_generalizability_experiment\\lateral\\soybean\\train_test_split.v002\\train.pkg.slp\n",
      "Merged: D:\\SLEAP\\20250102_generalizability_experiment\\lateral\\sorghum_soybean\\train_test_split.v002\\train.pkg.slp\n",
      "Loaded: D:\\SLEAP\\20250102_generalizability_experiment\\lateral\\sorghum\\train_test_split.v002\\val.pkg.slp\n",
      "Loaded: D:\\SLEAP\\20250102_generalizability_experiment\\lateral\\soybean\\train_test_split.v002\\val.pkg.slp\n",
      "Merged: D:\\SLEAP\\20250102_generalizability_experiment\\lateral\\sorghum_soybean\\train_test_split.v002\\val.pkg.slp\n",
      "Loaded: D:\\SLEAP\\20250102_generalizability_experiment\\lateral\\sorghum\\train_test_split.v002\\test.pkg.slp\n",
      "Loaded: D:\\SLEAP\\20250102_generalizability_experiment\\lateral\\soybean\\train_test_split.v002\\test.pkg.slp\n",
      "Merged: D:\\SLEAP\\20250102_generalizability_experiment\\lateral\\sorghum_soybean\\train_test_split.v002\\test.pkg.slp\n",
      "Summary saved to D:\\SLEAP\\20250102_generalizability_experiment\\lateral\\sorghum_soybean\\train_test_splits.csv\n"
     ]
    }
   ],
   "source": [
    "split_types = [\"train\", \"val\", \"test\"]\n",
    "\n",
    "# Create the main new directory and subdirectories\n",
    "new_main_dir = Path(base_path) / output_dir\n",
    "for version in versions:\n",
    "    (new_main_dir / f\"train_test_split.v{version}\").mkdir(exist_ok=True, parents=True)\n",
    "\n",
    "# Data structure to store summary information\n",
    "summary_data = []\n",
    "\n",
    "# Iterate over each version and split type\n",
    "for version in versions:\n",
    "    for split_type in split_types:\n",
    "        merged_labels = None\n",
    "        frame_counts = {}\n",
    "        # Merge labels from each age group and count frames\n",
    "        for group in groups:\n",
    "            file_path = Path(f\"{base_path}/{group}/train_test_split.v{version}/{split_type}.pkg.slp\")\n",
    "            try:\n",
    "                labels = sleap.load_file(file_path.as_posix())\n",
    "                print(f\"Loaded: {file_path}\")\n",
    "                frame_counts[group] = len(labels)\n",
    "\n",
    "                if merged_labels is None:\n",
    "                    merged_labels = labels\n",
    "                else:\n",
    "                    merged_labels.extend_from(labels, unify=True)\n",
    "            except FileNotFoundError:\n",
    "                print(f\"File not found: {file_path}\")\n",
    "                frame_counts[group] = 0  # Assign 0 frames if file is missing\n",
    "\n",
    "        # Save the merged labels to the new directory\n",
    "        save_path = new_main_dir / f\"train_test_split.v{version}/{split_type}.pkg.slp\"\n",
    "        if merged_labels:\n",
    "            merged_labels.save(save_path, with_images=True)\n",
    "            print(f\"Merged: {save_path}\")\n",
    "        else:\n",
    "            print(f\"No labels to save for {split_type} in version {version}. Skipping.\")\n",
    "            continue\n",
    "\n",
    "        # Append summary info dynamically based on groups\n",
    "        summary_entry = {\n",
    "            'path': save_path.as_posix(),\n",
    "            'version': version,\n",
    "            'labeled_frames': len(merged_labels) if merged_labels else 0,\n",
    "            'split_type': split_type,\n",
    "        }\n",
    "        for group in groups:\n",
    "            summary_entry[group] = frame_counts.get(group, 0)  # Dynamically add group counts\n",
    "        summary_data.append(summary_entry)\n",
    "\n",
    "# Create a DataFrame and save as CSV\n",
    "df_summary = pd.DataFrame(summary_data)\n",
    "summary_csv = new_main_dir / 'train_test_splits.csv'\n",
    "df_summary.to_csv(summary_csv, index=False)\n",
    "\n",
    "print(f\"Summary saved to {summary_csv}\")\n"
   ]
  },
  {
   "cell_type": "code",
   "execution_count": null,
   "id": "00be5712-76fd-46e5-a3b9-2d14c234da68",
   "metadata": {},
   "outputs": [],
   "source": []
  }
 ],
 "metadata": {
  "kernelspec": {
   "display_name": "sleap_v1.3.4",
   "language": "python",
   "name": "python3"
  },
  "language_info": {
   "codemirror_mode": {
    "name": "ipython",
    "version": 3
   },
   "file_extension": ".py",
   "mimetype": "text/x-python",
   "name": "python",
   "nbconvert_exporter": "python",
   "pygments_lexer": "ipython3",
   "version": "3.7.12"
  }
 },
 "nbformat": 4,
 "nbformat_minor": 5
}
