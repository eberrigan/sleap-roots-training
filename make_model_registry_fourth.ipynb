{
 "cells": [
  {
   "cell_type": "code",
   "execution_count": 9,
   "metadata": {},
   "outputs": [],
   "source": [
    "import wandb\n",
    "import pandas as pd\n",
    "\n",
    "from pathlib import Path"
   ]
  },
  {
   "cell_type": "code",
   "execution_count": 10,
   "metadata": {},
   "outputs": [],
   "source": [
    "# Path to working directory\n",
    "working_dir = \"D:/SLEAP/20250102_generalizability_experiment/primary/sorghum\" # This should be the same as the previous notebook"
   ]
  },
  {
   "cell_type": "code",
   "execution_count": 11,
   "metadata": {},
   "outputs": [
    {
     "name": "stdout",
     "output_type": "stream",
     "text": [
      "Current working directory: D:\\SLEAP\\20250102_generalizability_experiment\\primary\\sorghum\n"
     ]
    }
   ],
   "source": [
    "# Set the working directory\n",
    "cwd = Path(working_dir)\n",
    "print(f\"Current working directory: {cwd}\")"
   ]
  },
  {
   "cell_type": "code",
   "execution_count": 12,
   "metadata": {},
   "outputs": [],
   "source": [
    "# Constants for W&B initialization\n",
    "ENTITY_NAME = \"eberrigan-salk-institute-for-biological-studies\"\n",
    "PROJECT_NAME = \"sleap-roots\"\n",
    "EXPERIMENT_NAME = \"sorghum-primary-pilot01-2025-01-03\"  # Unique name for the experiment\n",
    "CSV_PATH = cwd / \"train_test_splits.csv\"  # Path to the CSV file with the train/test splits\n",
    "REGISTRY = \"wandb-registry-model\"\n",
    "COLLECTION_NAME = EXPERIMENT_NAME  # Name of the collection to store the model artifact\n",
    "\n",
    "# Tags for the model artifact\n",
    "MODEL_TAGS = [\"sorghum\", \"primary\", \"5-12DAG\", \"pilot01\", \"2025-01-03\"]"
   ]
  },
  {
   "cell_type": "code",
   "execution_count": 13,
   "metadata": {},
   "outputs": [],
   "source": [
    "def load_training_data(csv_path):\n",
    "    \"\"\"Loads training data from a CSV file.\n",
    "\n",
    "    Args:\n",
    "        csv_path (Path): Path to the CSV file containing training data.\n",
    "\n",
    "    Returns:\n",
    "        pandas.DataFrame: DataFrame containing the training data.\n",
    "    \"\"\"\n",
    "    return pd.read_csv(csv_path)\n",
    "\n",
    "def get_training_groups(df):\n",
    "    \"\"\"Groups training data by version.\n",
    "\n",
    "    Args:\n",
    "        df (pandas.DataFrame): DataFrame containing the training data.\n",
    "\n",
    "    Returns:\n",
    "        pandas.core.groupby.DataFrameGroupBy: Grouped DataFrame.\n",
    "    \"\"\"\n",
    "    return df.groupby(\"version\")\n",
    "\n",
    "def fetch_model_artifact_from_experiment(project_name, entity_name, artifact_name, experiment_version=None):\n",
    "    \"\"\"Fetches a specific version of a model artifact from a W&B experiment.\n",
    "\n",
    "    Args:\n",
    "        project_name (str): Name of the W&B project.\n",
    "        entity_name (str): Name of the W&B entity.\n",
    "        artifact_name (str): Name of the artifact to fetch.\n",
    "        experiment_version (str, optional): Specific version from the training run names to fetch. Defaults to latest.\n",
    "\n",
    "    Returns:\n",
    "        wandb.Artifact: The fetched artifact.\n",
    "    \"\"\"\n",
    "    run = wandb.init(project=project_name, entity=entity_name, job_type=\"fetch_artifact\")\n",
    "    artifact_version = f\":{experiment_version}\" if experiment_version else \":latest\"\n",
    "    artifact = run.use_artifact(f\"{artifact_name}{artifact_version}\")\n",
    "    artifact_dir = artifact.download()\n",
    "    print(f\"Fetched artifact '{artifact_name}{artifact_version}' to directory '{artifact_dir}'.\")\n",
    "    run.finish()\n",
    "    return artifact\n",
    "\n",
    "\n",
    "\n",
    "def fetch_model_artifact_and_link_to_registry(project_name, entity_name, artifact_name, registry_name, collection_name, experiment_version=None):\n",
    "    \"\"\"Fetchs a specific version of a model artifact from a W&B experiment and links it to the registry.\n",
    "    \n",
    "    Args:\n",
    "        project_name (str): Name of the W&B project.\n",
    "        entity_name (str): Name of the W&B entity.\n",
    "        artifact_name (str): Name of the artifact to fetch.\n",
    "        registry_name (str): Name of the registry to link the artifact to.\n",
    "        collection_name (str): Name of the collection to store the model artifact.\n",
    "        experiment_version (str, optional): Specific version from the training run names to fetch. Defaults to latest.\n",
    "    \"\"\"\n",
    "    run = wandb.init(project=project_name, entity=entity_name, job_type=\"fetch_artifact\")\n",
    "    artifact_version = f\":{experiment_version}\" if experiment_version else \":latest\"\n",
    "    artifact = run.use_artifact(f\"{artifact_name}{artifact_version}\")\n",
    "\n",
    "    # Link the artifact to the registry\n",
    "    full_registry_name = f\"{entity_name}/{registry_name}/{collection_name}\"\n",
    "    run.link_artifact(artifact, registry=full_registry_name)\n",
    "    print(f\"Linked artifact '{artifact_name}{artifact_version}' to registry '{full_registry_name}'.\")\n",
    "    run.finish()"
   ]
  },
  {
   "cell_type": "code",
   "execution_count": 14,
   "metadata": {},
   "outputs": [],
   "source": [
    "def main(csv_path):\n",
    "    \"\"\"Main function to add model artifacts to the W&B registry.\n",
    "    \n",
    "    Args:\n",
    "        csv_path (Path): Path to the CSV file containing train-test splits paths.\n",
    "    \"\"\"\n",
    "    df = load_training_data(csv_path)\n",
    "    grouped = get_training_groups(df)\n",
    "\n",
    "    for version, group in grouped:\n",
    "        print(f\"Processing version {version}...\")\n",
    "        print(f\"Group: {group}\")\n",
    "        \n",
    "        # Build artifact name from version\n",
    "        artifact_name = f\"{EXPERIMENT_NAME}_training_v00{version}\"\n",
    "        # Fetch the model artifact from the experiment and link it to the registry\n",
    "        fetch_model_artifact_and_link_to_registry(PROJECT_NAME, ENTITY_NAME, artifact_name, REGISTRY, COLLECTION_NAME, version)"
   ]
  }
 ],
 "metadata": {
  "kernelspec": {
   "display_name": "sleap_v1.3.4",
   "language": "python",
   "name": "python3"
  },
  "language_info": {
   "codemirror_mode": {
    "name": "ipython",
    "version": 3
   },
   "file_extension": ".py",
   "mimetype": "text/x-python",
   "name": "python",
   "nbconvert_exporter": "python",
   "pygments_lexer": "ipython3",
   "version": "3.7.12"
  }
 },
 "nbformat": 4,
 "nbformat_minor": 2
}
