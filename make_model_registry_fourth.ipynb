{
 "cells": [
  {
   "cell_type": "code",
   "execution_count": 10,
   "metadata": {},
   "outputs": [],
   "source": [
    "import wandb\n",
    "import pandas as pd\n",
    "\n",
    "from pathlib import Path"
   ]
  },
  {
   "cell_type": "code",
   "execution_count": 11,
   "metadata": {},
   "outputs": [],
   "source": [
    "# ! wandb login"
   ]
  },
  {
   "cell_type": "code",
   "execution_count": 12,
   "metadata": {},
   "outputs": [],
   "source": [
    "# ! wandb status"
   ]
  },
  {
   "cell_type": "code",
   "execution_count": 13,
   "metadata": {},
   "outputs": [],
   "source": [
    "# Path to working directory\n",
    "# working_dir = \"D:/SLEAP/20250102_generalizability_experiment/primary/sorghum_soybean\" # This should be the same as the previous notebook\n",
    "# working_dir = \"D:/SLEAP/20250102_generalizability_experiment/primary/sorghum\" # This should be the same as the previous notebook\n",
    "# working_dir = \"D:/SLEAP/20250102_generalizability_experiment/lateral/sorghum\" # This should be the same as the previous notebook\n",
    "# working_dir = \"D:/SLEAP/20250102_generalizability_experiment/lateral/soybean\"\n",
    "# working_dir = \"D:/SLEAP/20250102_generalizability_experiment/lateral/sorghum_soybean\" # This should be the same as the previous notebook\n",
    "# working_dir = \"D:/SLEAP/20250102_generalizability_experiment/primary/canola\" # This should be the same as the previous notebook\n",
    "# working_dir = \"D:/SLEAP/20250102_generalizability_experiment/primary/pennycress\" # This should be the same as the previous notebook\n",
    "# working_dir = \"D:/SLEAP/20250102_generalizability_experiment/lateral/arabidopsis\" # This should be the same as the previous notebook\n",
    "# working_dir = \"D:/SLEAP/20250102_generalizability_experiment/primary/arabidopsis\" # This should be the same as the previous notebook\n",
    "# working_dir = \"D:/SLEAP/20250102_generalizability_experiment/primary/pennycress\"\n",
    "# working_dir = \"D:/SLEAP/20250102_generalizability_experiment/primary/canola\" # This should be the same as the previous notebook\n",
    "working_dir = \"D:/SLEAP/20250102_generalizability_experiment/primary/younger_rice\" # This should be the same as the previous notebook"
   ]
  },
  {
   "cell_type": "code",
   "execution_count": 14,
   "metadata": {},
   "outputs": [
    {
     "name": "stdout",
     "output_type": "stream",
     "text": [
      "Current working directory: D:\\SLEAP\\20250102_generalizability_experiment\\primary\\younger_rice\n"
     ]
    }
   ],
   "source": [
    "# Set the working directory\n",
    "cwd = Path(working_dir)\n",
    "print(f\"Current working directory: {cwd}\")"
   ]
  },
  {
   "cell_type": "code",
   "execution_count": 15,
   "metadata": {},
   "outputs": [],
   "source": [
    "# Constants for W&B initialization\n",
    "ENTITY_NAME = \"eberrigan-salk-institute-for-biological-studies\"\n",
    "PROJECT_NAME = \"sleap-roots\"\n",
    "EXPERIMENT_NAME = \"rice-primary-2025-01-19\"  # Unique name for the experiment from the previous notebook\n",
    "CSV_PATH = cwd / \"train_test_splits.csv\"  # Path to the CSV file with the train/test splits\n",
    "REGISTRY = \"sleap-roots-models\""
   ]
  },
  {
   "cell_type": "code",
   "execution_count": 16,
   "metadata": {},
   "outputs": [],
   "source": [
    "def load_training_data(csv_path):\n",
    "    \"\"\"Loads training data from a CSV file.\n",
    "\n",
    "    Args:\n",
    "        csv_path (Path): Path to the CSV file containing training data.\n",
    "\n",
    "    Returns:\n",
    "        pandas.DataFrame: DataFrame containing the training data.\n",
    "    \"\"\"\n",
    "    return pd.read_csv(csv_path)\n",
    "\n",
    "def get_training_groups(df):\n",
    "    \"\"\"Groups training data by version.\n",
    "\n",
    "    Args:\n",
    "        df (pandas.DataFrame): DataFrame containing the training data.\n",
    "\n",
    "    Returns:\n",
    "        pandas.core.groupby.DataFrameGroupBy: Grouped DataFrame.\n",
    "    \"\"\"\n",
    "    return df.groupby(\"version\")\n",
    "\n",
    "def fetch_model_artifact_from_experiment(project_name, entity_name, artifact_name, wandb_version=None):\n",
    "    \"\"\"Fetches a specific version of a model artifact from a W&B experiment.\n",
    "\n",
    "    Args:\n",
    "        project_name (str): Name of the W&B project.\n",
    "        entity_name (str): Name of the W&B entity.\n",
    "        artifact_name (str): Name of the artifact to fetch.\n",
    "        wandb_version (str, optional): Specific version from the training run names to fetch. Defaults to latest.\n",
    "\n",
    "    Returns:\n",
    "        wandb.Artifact: The fetched artifact.\n",
    "    \"\"\"\n",
    "    run = wandb.init(project=project_name, entity=entity_name, job_type=\"fetch_artifact\")\n",
    "    artifact_version = f\"{wandb_version}\" if wandb_version else \"latest\"\n",
    "    full_artifact_name = f\"{artifact_name}:{artifact_version}\"\n",
    "    print(f\"Fetching artifact '{full_artifact_name}' from project '{project_name}'.\")\n",
    "    artifact = run.use_artifact(f\"{full_artifact_name}\")\n",
    "    print(f\"Fetched artifact '{full_artifact_name}'.\")\n",
    "    artifact_dir = artifact.download()\n",
    "    print(f\"Fetched artifact '{artifact_name}:{artifact_version}' to directory '{artifact_dir}'.\")\n",
    "    run.finish()\n",
    "    return artifact\n",
    "\n",
    "\n",
    "def fetch_model_artifact_and_link_to_registry(project_name, entity_name, artifact_name, registry_name, collection_name, wandb_version=None):\n",
    "    \"\"\"Fetchs a specific version of a model artifact from a W&B experiment and links it to the registry.\n",
    "    \n",
    "    Args:\n",
    "        project_name (str): Name of the W&B project.\n",
    "        entity_name (str): Name of the W&B entity.\n",
    "        artifact_name (str): Name of the artifact to fetch.\n",
    "        registry_name (str): Name of the registry to link the artifact to.\n",
    "        collection_name (str): Name of the collection to store the model artifact.\n",
    "        wandb_version (str, optional): Specific version from the training run names to fetch. Defaults to latest.\n",
    "    \"\"\"\n",
    "    run = wandb.init(project=project_name, entity=entity_name, job_type=\"fetch_artifact\")\n",
    "    artifact_version = f\"{wandb_version}\" if wandb_version else \"latest\"\n",
    "    full_artifact_name = f\"{artifact_name}:{artifact_version}\"\n",
    "    print(f\"Fetching artifact '{full_artifact_name}' from project '{project_name}'.\")\n",
    "    artifact = run.use_artifact(f\"{full_artifact_name}\")\n",
    "    print(f\"Fetched artifact '{full_artifact_name}'.\")\n",
    "\n",
    "    # Link the artifact to the registry\n",
    "    full_registry_name = f\"{entity_name}-org/wandb-registry-{registry_name}/{collection_name}\"\n",
    "    print(f\"Linking artifact '{full_artifact_name}' to registry '{full_registry_name}'.\")\n",
    "    run.link_artifact(artifact, full_registry_name)\n",
    "    print(f\"Linked artifact '{artifact_name}:{artifact_version}' to registry '{full_registry_name}'.\")\n",
    "    run.finish()\n",
    "\n",
    "\n",
    "def promote_model_in_registry(project_name, entity_name, registry_name, artifact_name, stage, wandb_version=None):\n",
    "    \"\"\"Promotes a specific artifact in the W&B model registry to a given stage.\n",
    "\n",
    "    Args:\n",
    "        project_name (str): Name of the W&B project.\n",
    "        registry_name (str): Name of the model registry.\n",
    "        artifact_name (str): Name of the artifact to promote.\n",
    "        stage (str): Stage to promote the artifact to (e.g., 'production', 'staging').\n",
    "\n",
    "    Returns:\n",
    "        None\n",
    "    \"\"\"\n",
    "    run = wandb.init(project=project_name, entity=entity_name, job_type=\"promote_registry_artifact\")\n",
    "    artifact_version = f\"{wandb_version}\" if wandb_version else \"latest\"\n",
    "    full_artifact_name = f\"{artifact_name}:{artifact_version}\"\n",
    "    artifact = run.use_artifact(f\"{registry_name}/{full_artifact_name}:latest\")\n",
    "    artifact.aliases.append(stage)\n",
    "    artifact.save()\n",
    "    print(f\"Promoted artifact '{full_artifact_name}' in registry '{registry_name}' to stage '{stage}'.\")\n",
    "    run.finish()\n"
   ]
  },
  {
   "cell_type": "code",
   "execution_count": 17,
   "metadata": {},
   "outputs": [],
   "source": [
    "def main(csv_path, wandb_version=None):\n",
    "    \"\"\"Main function to add model artifacts to the W&B registry.\n",
    "    \n",
    "    Args:\n",
    "        csv_path (Path): Path to the CSV file containing train-test splits paths.\n",
    "        wandb_version (str, optional): Specific version from the training run names to fetch. Defaults to None.\n",
    "    \"\"\"\n",
    "    df = load_training_data(csv_path)\n",
    "    grouped = get_training_groups(df)\n",
    "\n",
    "    for version, group in grouped:\n",
    "        print(f\"Processing version {version}...\")\n",
    "        print(f\"Group: {group}\")\n",
    "        \n",
    "        # Build artifact name from version\n",
    "        artifact_name = f\"{EXPERIMENT_NAME}_v00{version}\"\n",
    "        collection_name = artifact_name\n",
    "        # Fetch the model artifact from the experiment and link it to the registry\n",
    "        fetch_model_artifact_and_link_to_registry(PROJECT_NAME, ENTITY_NAME, artifact_name, REGISTRY, collection_name, wandb_version)"
   ]
  },
  {
   "cell_type": "code",
   "execution_count": 18,
   "metadata": {},
   "outputs": [
    {
     "name": "stdout",
     "output_type": "stream",
     "text": [
      "Processing version 0...\n",
      "Group:                                                 path  version  labeled_frames  \\\n",
      "0  D:\\SLEAP\\20250102_generalizability_experiment\\...        0             737   \n",
      "1  D:\\SLEAP\\20250102_generalizability_experiment\\...        0             158   \n",
      "2  D:\\SLEAP\\20250102_generalizability_experiment\\...        0             158   \n",
      "\n",
      "  split_type  \n",
      "0      train  \n",
      "1        val  \n",
      "2       test  \n"
     ]
    },
    {
     "data": {
      "text/html": [
       "Tracking run with wandb version 0.18.6"
      ],
      "text/plain": [
       "<IPython.core.display.HTML object>"
      ]
     },
     "metadata": {},
     "output_type": "display_data"
    },
    {
     "data": {
      "text/html": [
       "Run data is saved locally in <code>e:\\repositories\\sleap-roots-training\\wandb\\run-20250120_081417-7ajd1hah</code>"
      ],
      "text/plain": [
       "<IPython.core.display.HTML object>"
      ]
     },
     "metadata": {},
     "output_type": "display_data"
    },
    {
     "data": {
      "text/html": [
       "Syncing run <strong><a href='https://wandb.ai/eberrigan-salk-institute-for-biological-studies/sleap-roots/runs/7ajd1hah' target=\"_blank\">prime-pyramid-142</a></strong> to <a href='https://wandb.ai/eberrigan-salk-institute-for-biological-studies/sleap-roots' target=\"_blank\">Weights & Biases</a> (<a href='https://wandb.me/developer-guide' target=\"_blank\">docs</a>)<br/>"
      ],
      "text/plain": [
       "<IPython.core.display.HTML object>"
      ]
     },
     "metadata": {},
     "output_type": "display_data"
    },
    {
     "data": {
      "text/html": [
       " View project at <a href='https://wandb.ai/eberrigan-salk-institute-for-biological-studies/sleap-roots' target=\"_blank\">https://wandb.ai/eberrigan-salk-institute-for-biological-studies/sleap-roots</a>"
      ],
      "text/plain": [
       "<IPython.core.display.HTML object>"
      ]
     },
     "metadata": {},
     "output_type": "display_data"
    },
    {
     "data": {
      "text/html": [
       " View run at <a href='https://wandb.ai/eberrigan-salk-institute-for-biological-studies/sleap-roots/runs/7ajd1hah' target=\"_blank\">https://wandb.ai/eberrigan-salk-institute-for-biological-studies/sleap-roots/runs/7ajd1hah</a>"
      ],
      "text/plain": [
       "<IPython.core.display.HTML object>"
      ]
     },
     "metadata": {},
     "output_type": "display_data"
    },
    {
     "name": "stdout",
     "output_type": "stream",
     "text": [
      "Fetching artifact 'rice-primary-2025-01-19_v000:latest' from project 'sleap-roots'.\n",
      "Fetched artifact 'rice-primary-2025-01-19_v000:latest'.\n",
      "Linking artifact 'rice-primary-2025-01-19_v000:latest' to registry 'eberrigan-salk-institute-for-biological-studies-org/wandb-registry-sleap-roots-models/rice-primary-2025-01-19_v000'.\n",
      "Linked artifact 'rice-primary-2025-01-19_v000:latest' to registry 'eberrigan-salk-institute-for-biological-studies-org/wandb-registry-sleap-roots-models/rice-primary-2025-01-19_v000'.\n"
     ]
    },
    {
     "data": {
      "text/html": [
       " View run <strong style=\"color:#cdcd00\">prime-pyramid-142</strong> at: <a href='https://wandb.ai/eberrigan-salk-institute-for-biological-studies/sleap-roots/runs/7ajd1hah' target=\"_blank\">https://wandb.ai/eberrigan-salk-institute-for-biological-studies/sleap-roots/runs/7ajd1hah</a><br/> View project at: <a href='https://wandb.ai/eberrigan-salk-institute-for-biological-studies/sleap-roots' target=\"_blank\">https://wandb.ai/eberrigan-salk-institute-for-biological-studies/sleap-roots</a><br/>Synced 5 W&B file(s), 0 media file(s), 0 artifact file(s) and 0 other file(s)"
      ],
      "text/plain": [
       "<IPython.core.display.HTML object>"
      ]
     },
     "metadata": {},
     "output_type": "display_data"
    },
    {
     "data": {
      "text/html": [
       "Find logs at: <code>.\\wandb\\run-20250120_081417-7ajd1hah\\logs</code>"
      ],
      "text/plain": [
       "<IPython.core.display.HTML object>"
      ]
     },
     "metadata": {},
     "output_type": "display_data"
    },
    {
     "name": "stdout",
     "output_type": "stream",
     "text": [
      "Processing version 1...\n",
      "Group:                                                 path  version  labeled_frames  \\\n",
      "3  D:\\SLEAP\\20250102_generalizability_experiment\\...        1             737   \n",
      "4  D:\\SLEAP\\20250102_generalizability_experiment\\...        1             158   \n",
      "5  D:\\SLEAP\\20250102_generalizability_experiment\\...        1             158   \n",
      "\n",
      "  split_type  \n",
      "3      train  \n",
      "4        val  \n",
      "5       test  \n"
     ]
    },
    {
     "data": {
      "text/html": [
       "Tracking run with wandb version 0.18.6"
      ],
      "text/plain": [
       "<IPython.core.display.HTML object>"
      ]
     },
     "metadata": {},
     "output_type": "display_data"
    },
    {
     "data": {
      "text/html": [
       "Run data is saved locally in <code>e:\\repositories\\sleap-roots-training\\wandb\\run-20250120_081421-qa6xzuai</code>"
      ],
      "text/plain": [
       "<IPython.core.display.HTML object>"
      ]
     },
     "metadata": {},
     "output_type": "display_data"
    },
    {
     "data": {
      "text/html": [
       "Syncing run <strong><a href='https://wandb.ai/eberrigan-salk-institute-for-biological-studies/sleap-roots/runs/qa6xzuai' target=\"_blank\">stoic-dawn-143</a></strong> to <a href='https://wandb.ai/eberrigan-salk-institute-for-biological-studies/sleap-roots' target=\"_blank\">Weights & Biases</a> (<a href='https://wandb.me/developer-guide' target=\"_blank\">docs</a>)<br/>"
      ],
      "text/plain": [
       "<IPython.core.display.HTML object>"
      ]
     },
     "metadata": {},
     "output_type": "display_data"
    },
    {
     "data": {
      "text/html": [
       " View project at <a href='https://wandb.ai/eberrigan-salk-institute-for-biological-studies/sleap-roots' target=\"_blank\">https://wandb.ai/eberrigan-salk-institute-for-biological-studies/sleap-roots</a>"
      ],
      "text/plain": [
       "<IPython.core.display.HTML object>"
      ]
     },
     "metadata": {},
     "output_type": "display_data"
    },
    {
     "data": {
      "text/html": [
       " View run at <a href='https://wandb.ai/eberrigan-salk-institute-for-biological-studies/sleap-roots/runs/qa6xzuai' target=\"_blank\">https://wandb.ai/eberrigan-salk-institute-for-biological-studies/sleap-roots/runs/qa6xzuai</a>"
      ],
      "text/plain": [
       "<IPython.core.display.HTML object>"
      ]
     },
     "metadata": {},
     "output_type": "display_data"
    },
    {
     "name": "stdout",
     "output_type": "stream",
     "text": [
      "Fetching artifact 'rice-primary-2025-01-19_v001:latest' from project 'sleap-roots'.\n",
      "Fetched artifact 'rice-primary-2025-01-19_v001:latest'.\n",
      "Linking artifact 'rice-primary-2025-01-19_v001:latest' to registry 'eberrigan-salk-institute-for-biological-studies-org/wandb-registry-sleap-roots-models/rice-primary-2025-01-19_v001'.\n",
      "Linked artifact 'rice-primary-2025-01-19_v001:latest' to registry 'eberrigan-salk-institute-for-biological-studies-org/wandb-registry-sleap-roots-models/rice-primary-2025-01-19_v001'.\n"
     ]
    },
    {
     "data": {
      "text/html": [
       " View run <strong style=\"color:#cdcd00\">stoic-dawn-143</strong> at: <a href='https://wandb.ai/eberrigan-salk-institute-for-biological-studies/sleap-roots/runs/qa6xzuai' target=\"_blank\">https://wandb.ai/eberrigan-salk-institute-for-biological-studies/sleap-roots/runs/qa6xzuai</a><br/> View project at: <a href='https://wandb.ai/eberrigan-salk-institute-for-biological-studies/sleap-roots' target=\"_blank\">https://wandb.ai/eberrigan-salk-institute-for-biological-studies/sleap-roots</a><br/>Synced 5 W&B file(s), 0 media file(s), 0 artifact file(s) and 0 other file(s)"
      ],
      "text/plain": [
       "<IPython.core.display.HTML object>"
      ]
     },
     "metadata": {},
     "output_type": "display_data"
    },
    {
     "data": {
      "text/html": [
       "Find logs at: <code>.\\wandb\\run-20250120_081421-qa6xzuai\\logs</code>"
      ],
      "text/plain": [
       "<IPython.core.display.HTML object>"
      ]
     },
     "metadata": {},
     "output_type": "display_data"
    },
    {
     "name": "stdout",
     "output_type": "stream",
     "text": [
      "Processing version 2...\n",
      "Group:                                                 path  version  labeled_frames  \\\n",
      "6  D:\\SLEAP\\20250102_generalizability_experiment\\...        2             737   \n",
      "7  D:\\SLEAP\\20250102_generalizability_experiment\\...        2             158   \n",
      "8  D:\\SLEAP\\20250102_generalizability_experiment\\...        2             158   \n",
      "\n",
      "  split_type  \n",
      "6      train  \n",
      "7        val  \n",
      "8       test  \n"
     ]
    },
    {
     "data": {
      "text/html": [
       "Tracking run with wandb version 0.18.6"
      ],
      "text/plain": [
       "<IPython.core.display.HTML object>"
      ]
     },
     "metadata": {},
     "output_type": "display_data"
    },
    {
     "data": {
      "text/html": [
       "Run data is saved locally in <code>e:\\repositories\\sleap-roots-training\\wandb\\run-20250120_081425-vv8l20g1</code>"
      ],
      "text/plain": [
       "<IPython.core.display.HTML object>"
      ]
     },
     "metadata": {},
     "output_type": "display_data"
    },
    {
     "data": {
      "text/html": [
       "Syncing run <strong><a href='https://wandb.ai/eberrigan-salk-institute-for-biological-studies/sleap-roots/runs/vv8l20g1' target=\"_blank\">mild-wildflower-144</a></strong> to <a href='https://wandb.ai/eberrigan-salk-institute-for-biological-studies/sleap-roots' target=\"_blank\">Weights & Biases</a> (<a href='https://wandb.me/developer-guide' target=\"_blank\">docs</a>)<br/>"
      ],
      "text/plain": [
       "<IPython.core.display.HTML object>"
      ]
     },
     "metadata": {},
     "output_type": "display_data"
    },
    {
     "data": {
      "text/html": [
       " View project at <a href='https://wandb.ai/eberrigan-salk-institute-for-biological-studies/sleap-roots' target=\"_blank\">https://wandb.ai/eberrigan-salk-institute-for-biological-studies/sleap-roots</a>"
      ],
      "text/plain": [
       "<IPython.core.display.HTML object>"
      ]
     },
     "metadata": {},
     "output_type": "display_data"
    },
    {
     "data": {
      "text/html": [
       " View run at <a href='https://wandb.ai/eberrigan-salk-institute-for-biological-studies/sleap-roots/runs/vv8l20g1' target=\"_blank\">https://wandb.ai/eberrigan-salk-institute-for-biological-studies/sleap-roots/runs/vv8l20g1</a>"
      ],
      "text/plain": [
       "<IPython.core.display.HTML object>"
      ]
     },
     "metadata": {},
     "output_type": "display_data"
    },
    {
     "name": "stdout",
     "output_type": "stream",
     "text": [
      "Fetching artifact 'rice-primary-2025-01-19_v002:latest' from project 'sleap-roots'.\n",
      "Fetched artifact 'rice-primary-2025-01-19_v002:latest'.\n",
      "Linking artifact 'rice-primary-2025-01-19_v002:latest' to registry 'eberrigan-salk-institute-for-biological-studies-org/wandb-registry-sleap-roots-models/rice-primary-2025-01-19_v002'.\n",
      "Linked artifact 'rice-primary-2025-01-19_v002:latest' to registry 'eberrigan-salk-institute-for-biological-studies-org/wandb-registry-sleap-roots-models/rice-primary-2025-01-19_v002'.\n"
     ]
    },
    {
     "data": {
      "text/html": [
       " View run <strong style=\"color:#cdcd00\">mild-wildflower-144</strong> at: <a href='https://wandb.ai/eberrigan-salk-institute-for-biological-studies/sleap-roots/runs/vv8l20g1' target=\"_blank\">https://wandb.ai/eberrigan-salk-institute-for-biological-studies/sleap-roots/runs/vv8l20g1</a><br/> View project at: <a href='https://wandb.ai/eberrigan-salk-institute-for-biological-studies/sleap-roots' target=\"_blank\">https://wandb.ai/eberrigan-salk-institute-for-biological-studies/sleap-roots</a><br/>Synced 5 W&B file(s), 0 media file(s), 0 artifact file(s) and 0 other file(s)"
      ],
      "text/plain": [
       "<IPython.core.display.HTML object>"
      ]
     },
     "metadata": {},
     "output_type": "display_data"
    },
    {
     "data": {
      "text/html": [
       "Find logs at: <code>.\\wandb\\run-20250120_081425-vv8l20g1\\logs</code>"
      ],
      "text/plain": [
       "<IPython.core.display.HTML object>"
      ]
     },
     "metadata": {},
     "output_type": "display_data"
    }
   ],
   "source": [
    "main(CSV_PATH, wandb_version=None)"
   ]
  }
 ],
 "metadata": {
  "kernelspec": {
   "display_name": "sleap_v1.3.4",
   "language": "python",
   "name": "python3"
  },
  "language_info": {
   "codemirror_mode": {
    "name": "ipython",
    "version": 3
   },
   "file_extension": ".py",
   "mimetype": "text/x-python",
   "name": "python",
   "nbconvert_exporter": "python",
   "pygments_lexer": "ipython3",
   "version": "3.7.12"
  }
 },
 "nbformat": 4,
 "nbformat_minor": 2
}
