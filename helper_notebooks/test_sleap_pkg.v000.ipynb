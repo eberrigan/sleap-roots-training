{
 "cells": [
  {
   "cell_type": "code",
   "execution_count": 9,
   "metadata": {},
   "outputs": [],
   "source": [
    "import sleap\n",
    "import tensorflow as tf\n",
    "\n",
    "from pathlib import Path"
   ]
  },
  {
   "cell_type": "code",
   "execution_count": 2,
   "metadata": {},
   "outputs": [],
   "source": [
    "model_path = \"D:/SLEAP/20250102_generalizability_experiment/primary/sorghum/train_test_split.v002/models/250106_211119.multi_instance.n=255\""
   ]
  },
  {
   "cell_type": "code",
   "execution_count": 3,
   "metadata": {},
   "outputs": [],
   "source": [
    "test_data_path = \"D:/SLEAP/20250102_generalizability_experiment/primary/sorghum/train_test_split.v002/test.pkg.slp\""
   ]
  },
  {
   "cell_type": "code",
   "execution_count": 4,
   "metadata": {},
   "outputs": [],
   "source": [
    "metrics = sleap.load_metrics(model_path=model_path, split=\"test\")"
   ]
  },
  {
   "cell_type": "code",
   "execution_count": 5,
   "metadata": {},
   "outputs": [
    {
     "data": {
      "text/plain": [
       "Labels(labeled_frames=45, videos=207, skeletons=1, tracks=0)"
      ]
     },
     "execution_count": 5,
     "metadata": {},
     "output_type": "execute_result"
    }
   ],
   "source": [
    "test_labels = sleap.load_file(test_data_path)\n",
    "test_labels"
   ]
  },
  {
   "cell_type": "code",
   "execution_count": 6,
   "metadata": {},
   "outputs": [
    {
     "data": {
      "text/plain": [
       "[Skeleton(name='Skeleton-1', description='None', nodes=['r1', 'r2', 'r3', 'r4', 'r5', 'r6'], edges=[('r1', 'r2'), ('r2', 'r3'), ('r3', 'r4'), ('r4', 'r5'), ('r5', 'r6')], symmetries=[])]"
      ]
     },
     "execution_count": 6,
     "metadata": {},
     "output_type": "execute_result"
    }
   ],
   "source": [
    "test_labels.skeletons"
   ]
  },
  {
   "cell_type": "code",
   "execution_count": 7,
   "metadata": {},
   "outputs": [
    {
     "data": {
      "text/plain": [
       "BottomUpPredictor(verbosity='rich', report_rate=2.0, model_paths=['D:/SLEAP/20250102_generalizability_experiment/primary/sorghum/train_test_split.v002/models/250106_211119.multi_instance.n=255\\\\training_config.json'], bottomup_config=TrainingJobConfig(data=DataConfig(labels=LabelsConfig(training_labels='D:\\\\SLEAP\\\\20250102_generalizability_experiment\\\\primary\\\\sorghum\\\\train_test_split.v002\\\\train.pkg.slp', validation_labels='D:\\\\SLEAP\\\\20250102_generalizability_experiment\\\\primary\\\\sorghum\\\\train_test_split.v002\\\\val.pkg.slp', validation_fraction=0.1, test_labels='D:\\\\SLEAP\\\\20250102_generalizability_experiment\\\\primary\\\\sorghum\\\\train_test_split.v002\\\\test.pkg.slp', split_by_inds=False, training_inds=None, validation_inds=None, test_inds=None, search_path_hints=[''], skeletons=[Skeleton(name='Skeleton-1', description='None', nodes=['r1', 'r2', 'r3', 'r4', 'r5', 'r6'], edges=[('r1', 'r2'), ('r2', 'r3'), ('r3', 'r4'), ('r4', 'r5'), ('r5', 'r6')], symmetries=[])]), preprocessing=PreprocessingConfig(ensure_rgb=False, ensure_grayscale=False, imagenet_mode=None, input_scaling=1.0, pad_to_stride=64, resize_and_pad_to_target=True, target_height=1080, target_width=2048), instance_cropping=InstanceCroppingConfig(center_on_part=None, crop_size=None, crop_size_detection_padding=16)), model=ModelConfig(backbone=BackboneConfig(leap=None, unet=UNetConfig(stem_stride=None, max_stride=64, output_stride=2, filters=24, filters_rate=1.5, middle_block=True, up_interpolate=True, stacks=1), hourglass=None, resnet=None, pretrained_encoder=None), heads=HeadsConfig(single_instance=None, centroid=None, centered_instance=None, multi_instance=MultiInstanceConfig(confmaps=MultiInstanceConfmapsHeadConfig(part_names=['r1', 'r2', 'r3', 'r4', 'r5', 'r6'], sigma=2.5, output_stride=2, loss_weight=1.0, offset_refinement=False), pafs=PartAffinityFieldsHeadConfig(edges=[('r1', 'r2'), ('r2', 'r3'), ('r3', 'r4'), ('r4', 'r5'), ('r5', 'r6')], sigma=75.0, output_stride=8, loss_weight=1.0)), multi_class_bottomup=None, multi_class_topdown=None), base_checkpoint=None), optimization=OptimizationConfig(preload_data=True, augmentation_config=AugmentationConfig(rotate=True, rotation_min_angle=-5.0, rotation_max_angle=5.0, translate=False, translate_min=-5, translate_max=5, scale=False, scale_min=0.9, scale_max=1.1, uniform_noise=False, uniform_noise_min_val=0.0, uniform_noise_max_val=10.0, gaussian_noise=False, gaussian_noise_mean=5.0, gaussian_noise_stddev=1.0, contrast=True, contrast_min_gamma=0.5, contrast_max_gamma=2.0, brightness=False, brightness_min_val=0.0, brightness_max_val=10.0, random_crop=False, random_crop_height=256, random_crop_width=256, random_flip=False, flip_horizontal=True), online_shuffling=True, shuffle_buffer_size=128, prefetch=True, batch_size=4, batches_per_epoch=200, min_batches_per_epoch=200, val_batches_per_epoch=11, min_val_batches_per_epoch=10, epochs=200, optimizer='adam', initial_learning_rate=0.0001, learning_rate_schedule=LearningRateScheduleConfig(reduce_on_plateau=True, reduction_factor=0.5, plateau_min_delta=1e-06, plateau_patience=5, plateau_cooldown=3, min_learning_rate=1e-08), hard_keypoint_mining=HardKeypointMiningConfig(online_mining=False, hard_to_easy_ratio=2.0, min_hard_keypoints=2, max_hard_keypoints=None, loss_scale=5.0), early_stopping=EarlyStoppingConfig(stop_training_on_plateau=True, plateau_min_delta=1e-06, plateau_patience=10)), outputs=OutputsConfig(save_outputs=True, run_name='250106_211119.multi_instance.n=255', run_name_prefix='', run_name_suffix='', runs_folder='D:\\\\SLEAP\\\\20250102_generalizability_experiment\\\\primary\\\\sorghum\\\\train_test_split.v002\\\\models', tags=[''], save_visualizations=True, delete_viz_images=True, zip_outputs=False, log_to_csv=True, checkpointing=CheckpointingConfig(initial_model=False, best_model=True, every_epoch=False, latest_model=False, final_model=False), tensorboard=TensorBoardConfig(write_logs=False, loss_frequency='epoch', architecture_graph=False, profile_graph=False, visualizations=True), zmq=ZMQConfig(subscribe_to_controller=False, controller_address='tcp://127.0.0.1:9000', controller_polling_timeout=10, publish_updates=False, publish_address='tcp://127.0.0.1:9001')), name='', description='', sleap_version='1.3.4', filename='D:/SLEAP/20250102_generalizability_experiment/primary/sorghum/train_test_split.v002/models/250106_211119.multi_instance.n=255\\\\training_config.json'), bottomup_model=Model(backbone=UNet(stacks=1, filters=24, filters_rate=1.5, kernel_size=3, stem_kernel_size=7, convs_per_block=2, stem_blocks=0, down_blocks=6, middle_block=True, up_blocks=5, up_interpolate=True, block_contraction=False), heads=[MultiInstanceConfmapsHead(part_names=['r1', 'r2', 'r3', 'r4', 'r5', 'r6'], sigma=2.5, output_stride=2, loss_weight=1.0), PartAffinityFieldsHead(edges=[('r1', 'r2'), ('r2', 'r3'), ('r3', 'r4'), ('r4', 'r5'), ('r5', 'r6')], sigma=75.0, output_stride=8, loss_weight=1.0)], keras_model=<keras.engine.functional.Functional object at 0x000001E4B1C66548>), inference_model=<sleap.nn.inference.BottomUpInferenceModel object at 0x000001E4B1C1A448>, pipeline=None, tracker=None, peak_threshold=0.2, batch_size=4, integral_refinement=True, integral_patch_size=5, max_edge_length_ratio=0.25, dist_penalty_weight=1.0, paf_line_points=10, min_line_scores=0.25, max_instances=None)"
      ]
     },
     "execution_count": 7,
     "metadata": {},
     "output_type": "execute_result"
    }
   ],
   "source": [
    "predictor = sleap.load_model(model_path)\n",
    "predictor"
   ]
  },
  {
   "cell_type": "code",
   "execution_count": 8,
   "metadata": {},
   "outputs": [],
   "source": [
    "best_model_path = Path(model_path) / \"best_model.h5\""
   ]
  },
  {
   "cell_type": "code",
   "execution_count": 12,
   "metadata": {},
   "outputs": [
    {
     "data": {
      "text/plain": [
       "<keras.engine.functional.Functional at 0x1e4ca41c588>"
      ]
     },
     "execution_count": 12,
     "metadata": {},
     "output_type": "execute_result"
    }
   ],
   "source": [
    "tf.keras.models.load_model(best_model_path, compile=False)"
   ]
  },
  {
   "cell_type": "code",
   "execution_count": 9,
   "metadata": {},
   "outputs": [
    {
     "data": {
      "text/plain": [
       "['D:/SLEAP/20250102_generalizability_experiment/primary/sorghum/train_test_split.v002/models/250106_211119.multi_instance.n=255\\\\training_config.json']"
      ]
     },
     "execution_count": 9,
     "metadata": {},
     "output_type": "execute_result"
    }
   ],
   "source": [
    "predictor.model_paths"
   ]
  },
  {
   "cell_type": "code",
   "execution_count": null,
   "metadata": {},
   "outputs": [],
   "source": []
  },
  {
   "cell_type": "code",
   "execution_count": 8,
   "metadata": {},
   "outputs": [
    {
     "data": {
      "application/vnd.jupyter.widget-view+json": {
       "model_id": "a9d023963e644c279973f72af8ccfbc1",
       "version_major": 2,
       "version_minor": 0
      },
      "text/plain": [
       "Output()"
      ]
     },
     "metadata": {},
     "output_type": "display_data"
    },
    {
     "data": {
      "text/html": [
       "<pre style=\"white-space:pre;overflow-x:auto;line-height:normal;font-family:Menlo,'DejaVu Sans Mono',consolas,'Courier New',monospace\"></pre>\n"
      ],
      "text/plain": []
     },
     "metadata": {},
     "output_type": "display_data"
    },
    {
     "data": {
      "text/plain": [
       "Labels(labeled_frames=45, videos=43, skeletons=0, tracks=0)"
      ]
     },
     "execution_count": 8,
     "metadata": {},
     "output_type": "execute_result"
    }
   ],
   "source": [
    "labels_pr = predictor.predict(test_labels)\n",
    "labels_pr"
   ]
  },
  {
   "cell_type": "code",
   "execution_count": 11,
   "metadata": {},
   "outputs": [],
   "source": [
    "labels_pr.save(\"test_predictions_00.slp\")"
   ]
  },
  {
   "cell_type": "code",
   "execution_count": 10,
   "metadata": {},
   "outputs": [
    {
     "data": {
      "text/plain": [
       "[(LabeledFrame(video=HDF5Video('D:\\SLEAP\\20250102_generalizability_experiment\\primary\\sorghum\\train_test_split.v002\\test.pkg.slp'), frame_idx=17, instances=1),\n",
       "  LabeledFrame(video=HDF5Video('D:\\SLEAP\\20250102_generalizability_experiment\\primary\\sorghum\\train_test_split.v002\\test.pkg.slp'), frame_idx=17, instances=0)),\n",
       " (LabeledFrame(video=HDF5Video('D:\\SLEAP\\20250102_generalizability_experiment\\primary\\sorghum\\train_test_split.v002\\test.pkg.slp'), frame_idx=45, instances=1),\n",
       "  LabeledFrame(video=HDF5Video('D:\\SLEAP\\20250102_generalizability_experiment\\primary\\sorghum\\train_test_split.v002\\test.pkg.slp'), frame_idx=45, instances=0)),\n",
       " (LabeledFrame(video=HDF5Video('D:\\SLEAP\\20250102_generalizability_experiment\\primary\\sorghum\\train_test_split.v002\\test.pkg.slp'), frame_idx=0, instances=1),\n",
       "  LabeledFrame(video=HDF5Video('D:\\SLEAP\\20250102_generalizability_experiment\\primary\\sorghum\\train_test_split.v002\\test.pkg.slp'), frame_idx=0, instances=0)),\n",
       " (LabeledFrame(video=HDF5Video('D:\\SLEAP\\20250102_generalizability_experiment\\primary\\sorghum\\train_test_split.v002\\test.pkg.slp'), frame_idx=48, instances=1),\n",
       "  LabeledFrame(video=HDF5Video('D:\\SLEAP\\20250102_generalizability_experiment\\primary\\sorghum\\train_test_split.v002\\test.pkg.slp'), frame_idx=48, instances=0)),\n",
       " (LabeledFrame(video=HDF5Video('D:\\SLEAP\\20250102_generalizability_experiment\\primary\\sorghum\\train_test_split.v002\\test.pkg.slp'), frame_idx=0, instances=1),\n",
       "  LabeledFrame(video=HDF5Video('D:\\SLEAP\\20250102_generalizability_experiment\\primary\\sorghum\\train_test_split.v002\\test.pkg.slp'), frame_idx=0, instances=0)),\n",
       " (LabeledFrame(video=HDF5Video('D:\\SLEAP\\20250102_generalizability_experiment\\primary\\sorghum\\train_test_split.v002\\test.pkg.slp'), frame_idx=48, instances=1),\n",
       "  LabeledFrame(video=HDF5Video('D:\\SLEAP\\20250102_generalizability_experiment\\primary\\sorghum\\train_test_split.v002\\test.pkg.slp'), frame_idx=48, instances=0)),\n",
       " (LabeledFrame(video=HDF5Video('D:\\SLEAP\\20250102_generalizability_experiment\\primary\\sorghum\\train_test_split.v002\\test.pkg.slp'), frame_idx=0, instances=1),\n",
       "  LabeledFrame(video=HDF5Video('D:\\SLEAP\\20250102_generalizability_experiment\\primary\\sorghum\\train_test_split.v002\\test.pkg.slp'), frame_idx=0, instances=0)),\n",
       " (LabeledFrame(video=HDF5Video('D:\\SLEAP\\20250102_generalizability_experiment\\primary\\sorghum\\train_test_split.v002\\test.pkg.slp'), frame_idx=0, instances=1),\n",
       "  LabeledFrame(video=HDF5Video('D:\\SLEAP\\20250102_generalizability_experiment\\primary\\sorghum\\train_test_split.v002\\test.pkg.slp'), frame_idx=0, instances=0)),\n",
       " (LabeledFrame(video=HDF5Video('D:\\SLEAP\\20250102_generalizability_experiment\\primary\\sorghum\\train_test_split.v002\\test.pkg.slp'), frame_idx=39, instances=1),\n",
       "  LabeledFrame(video=HDF5Video('D:\\SLEAP\\20250102_generalizability_experiment\\primary\\sorghum\\train_test_split.v002\\test.pkg.slp'), frame_idx=39, instances=0)),\n",
       " (LabeledFrame(video=HDF5Video('D:\\SLEAP\\20250102_generalizability_experiment\\primary\\sorghum\\train_test_split.v002\\test.pkg.slp'), frame_idx=40, instances=1),\n",
       "  LabeledFrame(video=HDF5Video('D:\\SLEAP\\20250102_generalizability_experiment\\primary\\sorghum\\train_test_split.v002\\test.pkg.slp'), frame_idx=40, instances=0)),\n",
       " (LabeledFrame(video=HDF5Video('D:\\SLEAP\\20250102_generalizability_experiment\\primary\\sorghum\\train_test_split.v002\\test.pkg.slp'), frame_idx=0, instances=1),\n",
       "  LabeledFrame(video=HDF5Video('D:\\SLEAP\\20250102_generalizability_experiment\\primary\\sorghum\\train_test_split.v002\\test.pkg.slp'), frame_idx=0, instances=0)),\n",
       " (LabeledFrame(video=HDF5Video('D:\\SLEAP\\20250102_generalizability_experiment\\primary\\sorghum\\train_test_split.v002\\test.pkg.slp'), frame_idx=38, instances=1),\n",
       "  LabeledFrame(video=HDF5Video('D:\\SLEAP\\20250102_generalizability_experiment\\primary\\sorghum\\train_test_split.v002\\test.pkg.slp'), frame_idx=38, instances=0)),\n",
       " (LabeledFrame(video=HDF5Video('D:\\SLEAP\\20250102_generalizability_experiment\\primary\\sorghum\\train_test_split.v002\\test.pkg.slp'), frame_idx=24, instances=1),\n",
       "  LabeledFrame(video=HDF5Video('D:\\SLEAP\\20250102_generalizability_experiment\\primary\\sorghum\\train_test_split.v002\\test.pkg.slp'), frame_idx=24, instances=0)),\n",
       " (LabeledFrame(video=HDF5Video('D:\\SLEAP\\20250102_generalizability_experiment\\primary\\sorghum\\train_test_split.v002\\test.pkg.slp'), frame_idx=27, instances=1),\n",
       "  LabeledFrame(video=HDF5Video('D:\\SLEAP\\20250102_generalizability_experiment\\primary\\sorghum\\train_test_split.v002\\test.pkg.slp'), frame_idx=27, instances=0)),\n",
       " (LabeledFrame(video=HDF5Video('D:\\SLEAP\\20250102_generalizability_experiment\\primary\\sorghum\\train_test_split.v002\\test.pkg.slp'), frame_idx=55, instances=1),\n",
       "  LabeledFrame(video=HDF5Video('D:\\SLEAP\\20250102_generalizability_experiment\\primary\\sorghum\\train_test_split.v002\\test.pkg.slp'), frame_idx=55, instances=0)),\n",
       " (LabeledFrame(video=HDF5Video('D:\\SLEAP\\20250102_generalizability_experiment\\primary\\sorghum\\train_test_split.v002\\test.pkg.slp'), frame_idx=63, instances=1),\n",
       "  LabeledFrame(video=HDF5Video('D:\\SLEAP\\20250102_generalizability_experiment\\primary\\sorghum\\train_test_split.v002\\test.pkg.slp'), frame_idx=63, instances=0)),\n",
       " (LabeledFrame(video=HDF5Video('D:\\SLEAP\\20250102_generalizability_experiment\\primary\\sorghum\\train_test_split.v002\\test.pkg.slp'), frame_idx=0, instances=1),\n",
       "  LabeledFrame(video=HDF5Video('D:\\SLEAP\\20250102_generalizability_experiment\\primary\\sorghum\\train_test_split.v002\\test.pkg.slp'), frame_idx=0, instances=0)),\n",
       " (LabeledFrame(video=HDF5Video('D:\\SLEAP\\20250102_generalizability_experiment\\primary\\sorghum\\train_test_split.v002\\test.pkg.slp'), frame_idx=22, instances=1),\n",
       "  LabeledFrame(video=HDF5Video('D:\\SLEAP\\20250102_generalizability_experiment\\primary\\sorghum\\train_test_split.v002\\test.pkg.slp'), frame_idx=22, instances=0)),\n",
       " (LabeledFrame(video=HDF5Video('D:\\SLEAP\\20250102_generalizability_experiment\\primary\\sorghum\\train_test_split.v002\\test.pkg.slp'), frame_idx=32, instances=1),\n",
       "  LabeledFrame(video=HDF5Video('D:\\SLEAP\\20250102_generalizability_experiment\\primary\\sorghum\\train_test_split.v002\\test.pkg.slp'), frame_idx=32, instances=0)),\n",
       " (LabeledFrame(video=HDF5Video('D:\\SLEAP\\20250102_generalizability_experiment\\primary\\sorghum\\train_test_split.v002\\test.pkg.slp'), frame_idx=60, instances=1),\n",
       "  LabeledFrame(video=HDF5Video('D:\\SLEAP\\20250102_generalizability_experiment\\primary\\sorghum\\train_test_split.v002\\test.pkg.slp'), frame_idx=60, instances=0)),\n",
       " (LabeledFrame(video=HDF5Video('D:\\SLEAP\\20250102_generalizability_experiment\\primary\\sorghum\\train_test_split.v002\\test.pkg.slp'), frame_idx=0, instances=1),\n",
       "  LabeledFrame(video=HDF5Video('D:\\SLEAP\\20250102_generalizability_experiment\\primary\\sorghum\\train_test_split.v002\\test.pkg.slp'), frame_idx=0, instances=0)),\n",
       " (LabeledFrame(video=HDF5Video('D:\\SLEAP\\20250102_generalizability_experiment\\primary\\sorghum\\train_test_split.v002\\test.pkg.slp'), frame_idx=0, instances=1),\n",
       "  LabeledFrame(video=HDF5Video('D:\\SLEAP\\20250102_generalizability_experiment\\primary\\sorghum\\train_test_split.v002\\test.pkg.slp'), frame_idx=0, instances=0)),\n",
       " (LabeledFrame(video=HDF5Video('D:\\SLEAP\\20250102_generalizability_experiment\\primary\\sorghum\\train_test_split.v002\\test.pkg.slp'), frame_idx=45, instances=1),\n",
       "  LabeledFrame(video=HDF5Video('D:\\SLEAP\\20250102_generalizability_experiment\\primary\\sorghum\\train_test_split.v002\\test.pkg.slp'), frame_idx=45, instances=0)),\n",
       " (LabeledFrame(video=HDF5Video('D:\\SLEAP\\20250102_generalizability_experiment\\primary\\sorghum\\train_test_split.v002\\test.pkg.slp'), frame_idx=0, instances=1),\n",
       "  LabeledFrame(video=HDF5Video('D:\\SLEAP\\20250102_generalizability_experiment\\primary\\sorghum\\train_test_split.v002\\test.pkg.slp'), frame_idx=0, instances=0)),\n",
       " (LabeledFrame(video=HDF5Video('D:\\SLEAP\\20250102_generalizability_experiment\\primary\\sorghum\\train_test_split.v002\\test.pkg.slp'), frame_idx=40, instances=1),\n",
       "  LabeledFrame(video=HDF5Video('D:\\SLEAP\\20250102_generalizability_experiment\\primary\\sorghum\\train_test_split.v002\\test.pkg.slp'), frame_idx=40, instances=0)),\n",
       " (LabeledFrame(video=HDF5Video('D:\\SLEAP\\20250102_generalizability_experiment\\primary\\sorghum\\train_test_split.v002\\test.pkg.slp'), frame_idx=53, instances=1),\n",
       "  LabeledFrame(video=HDF5Video('D:\\SLEAP\\20250102_generalizability_experiment\\primary\\sorghum\\train_test_split.v002\\test.pkg.slp'), frame_idx=53, instances=0)),\n",
       " (LabeledFrame(video=HDF5Video('D:\\SLEAP\\20250102_generalizability_experiment\\primary\\sorghum\\train_test_split.v002\\test.pkg.slp'), frame_idx=0, instances=1),\n",
       "  LabeledFrame(video=HDF5Video('D:\\SLEAP\\20250102_generalizability_experiment\\primary\\sorghum\\train_test_split.v002\\test.pkg.slp'), frame_idx=0, instances=0)),\n",
       " (LabeledFrame(video=HDF5Video('D:\\SLEAP\\20250102_generalizability_experiment\\primary\\sorghum\\train_test_split.v002\\test.pkg.slp'), frame_idx=17, instances=1),\n",
       "  LabeledFrame(video=HDF5Video('D:\\SLEAP\\20250102_generalizability_experiment\\primary\\sorghum\\train_test_split.v002\\test.pkg.slp'), frame_idx=17, instances=0)),\n",
       " (LabeledFrame(video=HDF5Video('D:\\SLEAP\\20250102_generalizability_experiment\\primary\\sorghum\\train_test_split.v002\\test.pkg.slp'), frame_idx=31, instances=1),\n",
       "  LabeledFrame(video=HDF5Video('D:\\SLEAP\\20250102_generalizability_experiment\\primary\\sorghum\\train_test_split.v002\\test.pkg.slp'), frame_idx=31, instances=0)),\n",
       " (LabeledFrame(video=HDF5Video('D:\\SLEAP\\20250102_generalizability_experiment\\primary\\sorghum\\train_test_split.v002\\test.pkg.slp'), frame_idx=16, instances=1),\n",
       "  LabeledFrame(video=HDF5Video('D:\\SLEAP\\20250102_generalizability_experiment\\primary\\sorghum\\train_test_split.v002\\test.pkg.slp'), frame_idx=16, instances=0)),\n",
       " (LabeledFrame(video=HDF5Video('D:\\SLEAP\\20250102_generalizability_experiment\\primary\\sorghum\\train_test_split.v002\\test.pkg.slp'), frame_idx=38, instances=1),\n",
       "  LabeledFrame(video=HDF5Video('D:\\SLEAP\\20250102_generalizability_experiment\\primary\\sorghum\\train_test_split.v002\\test.pkg.slp'), frame_idx=38, instances=0)),\n",
       " (LabeledFrame(video=HDF5Video('D:\\SLEAP\\20250102_generalizability_experiment\\primary\\sorghum\\train_test_split.v002\\test.pkg.slp'), frame_idx=21, instances=1),\n",
       "  LabeledFrame(video=HDF5Video('D:\\SLEAP\\20250102_generalizability_experiment\\primary\\sorghum\\train_test_split.v002\\test.pkg.slp'), frame_idx=21, instances=0)),\n",
       " (LabeledFrame(video=HDF5Video('D:\\SLEAP\\20250102_generalizability_experiment\\primary\\sorghum\\train_test_split.v002\\test.pkg.slp'), frame_idx=26, instances=1),\n",
       "  LabeledFrame(video=HDF5Video('D:\\SLEAP\\20250102_generalizability_experiment\\primary\\sorghum\\train_test_split.v002\\test.pkg.slp'), frame_idx=26, instances=0)),\n",
       " (LabeledFrame(video=HDF5Video('D:\\SLEAP\\20250102_generalizability_experiment\\primary\\sorghum\\train_test_split.v002\\test.pkg.slp'), frame_idx=45, instances=1),\n",
       "  LabeledFrame(video=HDF5Video('D:\\SLEAP\\20250102_generalizability_experiment\\primary\\sorghum\\train_test_split.v002\\test.pkg.slp'), frame_idx=45, instances=0)),\n",
       " (LabeledFrame(video=HDF5Video('D:\\SLEAP\\20250102_generalizability_experiment\\primary\\sorghum\\train_test_split.v002\\test.pkg.slp'), frame_idx=43, instances=1),\n",
       "  LabeledFrame(video=HDF5Video('D:\\SLEAP\\20250102_generalizability_experiment\\primary\\sorghum\\train_test_split.v002\\test.pkg.slp'), frame_idx=43, instances=0)),\n",
       " (LabeledFrame(video=HDF5Video('D:\\SLEAP\\20250102_generalizability_experiment\\primary\\sorghum\\train_test_split.v002\\test.pkg.slp'), frame_idx=27, instances=1),\n",
       "  LabeledFrame(video=HDF5Video('D:\\SLEAP\\20250102_generalizability_experiment\\primary\\sorghum\\train_test_split.v002\\test.pkg.slp'), frame_idx=27, instances=0)),\n",
       " (LabeledFrame(video=HDF5Video('D:\\SLEAP\\20250102_generalizability_experiment\\primary\\sorghum\\train_test_split.v002\\test.pkg.slp'), frame_idx=36, instances=1),\n",
       "  LabeledFrame(video=HDF5Video('D:\\SLEAP\\20250102_generalizability_experiment\\primary\\sorghum\\train_test_split.v002\\test.pkg.slp'), frame_idx=36, instances=0)),\n",
       " (LabeledFrame(video=HDF5Video('D:\\SLEAP\\20250102_generalizability_experiment\\primary\\sorghum\\train_test_split.v002\\test.pkg.slp'), frame_idx=4, instances=1),\n",
       "  LabeledFrame(video=HDF5Video('D:\\SLEAP\\20250102_generalizability_experiment\\primary\\sorghum\\train_test_split.v002\\test.pkg.slp'), frame_idx=4, instances=0)),\n",
       " (LabeledFrame(video=HDF5Video('D:\\SLEAP\\20250102_generalizability_experiment\\primary\\sorghum\\train_test_split.v002\\test.pkg.slp'), frame_idx=48, instances=1),\n",
       "  LabeledFrame(video=HDF5Video('D:\\SLEAP\\20250102_generalizability_experiment\\primary\\sorghum\\train_test_split.v002\\test.pkg.slp'), frame_idx=48, instances=0)),\n",
       " (LabeledFrame(video=HDF5Video('D:\\SLEAP\\20250102_generalizability_experiment\\primary\\sorghum\\train_test_split.v002\\test.pkg.slp'), frame_idx=40, instances=1),\n",
       "  LabeledFrame(video=HDF5Video('D:\\SLEAP\\20250102_generalizability_experiment\\primary\\sorghum\\train_test_split.v002\\test.pkg.slp'), frame_idx=40, instances=0)),\n",
       " (LabeledFrame(video=HDF5Video('D:\\SLEAP\\20250102_generalizability_experiment\\primary\\sorghum\\train_test_split.v002\\test.pkg.slp'), frame_idx=6, instances=1),\n",
       "  LabeledFrame(video=HDF5Video('D:\\SLEAP\\20250102_generalizability_experiment\\primary\\sorghum\\train_test_split.v002\\test.pkg.slp'), frame_idx=6, instances=0)),\n",
       " (LabeledFrame(video=HDF5Video('D:\\SLEAP\\20250102_generalizability_experiment\\primary\\sorghum\\train_test_split.v002\\test.pkg.slp'), frame_idx=41, instances=1),\n",
       "  LabeledFrame(video=HDF5Video('D:\\SLEAP\\20250102_generalizability_experiment\\primary\\sorghum\\train_test_split.v002\\test.pkg.slp'), frame_idx=41, instances=0)),\n",
       " (LabeledFrame(video=HDF5Video('D:\\SLEAP\\20250102_generalizability_experiment\\primary\\sorghum\\train_test_split.v002\\test.pkg.slp'), frame_idx=54, instances=1),\n",
       "  LabeledFrame(video=HDF5Video('D:\\SLEAP\\20250102_generalizability_experiment\\primary\\sorghum\\train_test_split.v002\\test.pkg.slp'), frame_idx=54, instances=0)),\n",
       " (LabeledFrame(video=HDF5Video('D:\\SLEAP\\20250102_generalizability_experiment\\primary\\sorghum\\train_test_split.v002\\test.pkg.slp'), frame_idx=12, instances=1),\n",
       "  LabeledFrame(video=HDF5Video('D:\\SLEAP\\20250102_generalizability_experiment\\primary\\sorghum\\train_test_split.v002\\test.pkg.slp'), frame_idx=12, instances=0)),\n",
       " (LabeledFrame(video=HDF5Video('D:\\SLEAP\\20250102_generalizability_experiment\\primary\\sorghum\\train_test_split.v002\\test.pkg.slp'), frame_idx=57, instances=1),\n",
       "  LabeledFrame(video=HDF5Video('D:\\SLEAP\\20250102_generalizability_experiment\\primary\\sorghum\\train_test_split.v002\\test.pkg.slp'), frame_idx=57, instances=0))]"
      ]
     },
     "execution_count": 10,
     "metadata": {},
     "output_type": "execute_result"
    }
   ],
   "source": [
    "frame_pairs = sleap.nn.evals.find_frame_pairs(test_labels, labels_pr)\n",
    "frame_pairs"
   ]
  },
  {
   "cell_type": "code",
   "execution_count": null,
   "metadata": {},
   "outputs": [],
   "source": []
  }
 ],
 "metadata": {
  "kernelspec": {
   "display_name": "sleap_v1.3.4",
   "language": "python",
   "name": "python3"
  },
  "language_info": {
   "codemirror_mode": {
    "name": "ipython",
    "version": 3
   },
   "file_extension": ".py",
   "mimetype": "text/x-python",
   "name": "python",
   "nbconvert_exporter": "python",
   "pygments_lexer": "ipython3",
   "version": "3.7.12"
  }
 },
 "nbformat": 4,
 "nbformat_minor": 2
}
