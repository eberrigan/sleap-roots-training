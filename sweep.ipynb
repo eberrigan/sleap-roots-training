{
 "cells": [
  {
   "cell_type": "code",
   "execution_count": 1,
   "metadata": {},
   "outputs": [],
   "source": [
    "import wandb\n",
    "import sleap_roots_training\n",
    "\n",
    "from pathlib import Path\n",
    "\n",
    "from sleap_roots_training.train import main"
   ]
  },
  {
   "cell_type": "code",
   "execution_count": 2,
   "metadata": {},
   "outputs": [],
   "source": [
    "# Constants for W&B initialization\n",
    "ENTITY_NAME = \"eberrigan-salk-institute-for-biological-studies\"\n",
    "PROJECT_NAME = \"sleap-roots\"\n",
    "REGISTRY = \"sleap-roots-models\"\n",
    "JOB_TYPE = \"sweep\"\n",
    "EXPERIMENT_NAME = \"sorghum-soybean-primary-2025-01-07-hp-sweep-2025-02-07\"\n",
    "\n",
    "# Constants for artifact creation\n",
    "DESCRIPTION = \"5-12 DAG sorghum labels for primary root with 6 nodes with varying input scaling\"\n",
    "TAGS = [\"sorghum\", \"5-12DAG\", \"primary\", \"6nodes\", \"sorghum5-12DAG\", \"input_scaling\"]\n",
    "MODEL_TAGS = [\"sorghum\", \"5-12DAG\", \"primary\", \"6nodes\", \"sorghum5-12DAG\"]\n",
    "COLLECTION_NAME = EXPERIMENT_NAME\n",
    "CSV_PATH = \"D:/SLEAP/20250102_generalizability_experiment/primary/sorghum_soybean/train_test_splits.csv\""
   ]
  },
  {
   "cell_type": "code",
   "execution_count": 3,
   "metadata": {},
   "outputs": [
    {
     "name": "stdout",
     "output_type": "stream",
     "text": [
      "None\n"
     ]
    }
   ],
   "source": [
    "print(wandb.run)"
   ]
  },
  {
   "cell_type": "code",
   "execution_count": 4,
   "metadata": {},
   "outputs": [
    {
     "name": "stdout",
     "output_type": "stream",
     "text": [
      "Configuration updated successfully at e:\\repositories\\sleap-roots-training\\sleap_roots_training\\config.yaml.\n",
      "Configuration has been reset to default values.\n"
     ]
    }
   ],
   "source": [
    "sleap_roots_training.reset_config()"
   ]
  },
  {
   "cell_type": "code",
   "execution_count": 5,
   "metadata": {},
   "outputs": [
    {
     "name": "stdout",
     "output_type": "stream",
     "text": [
      "Configuration updated successfully at e:\\repositories\\sleap-roots-training\\sleap_roots_training\\config.yaml.\n",
      "CONFIG updated to {'project_name': 'sleap-roots', 'entity_name': 'eberrigan-salk-institute-for-biological-studies', 'experiment_name': 'sorghum-soybean-primary-2025-01-07-hp-sweep-2025-02-07', 'registry': 'sleap-roots-models', 'collection_name': 'sorghum-soybean-primary-2025-01-07-hp-sweep-2025-02-07', 'job_type': 'sweep'}.\n"
     ]
    }
   ],
   "source": [
    "sleap_roots_training.update_config(entity_name=ENTITY_NAME, project_name=PROJECT_NAME, registry=REGISTRY, job_type=JOB_TYPE, experiment_name=EXPERIMENT_NAME, collection_name=COLLECTION_NAME)"
   ]
  },
  {
   "cell_type": "code",
   "execution_count": 6,
   "metadata": {},
   "outputs": [],
   "source": [
    "# Define the sweep configuration\n",
    "sweep_config = {\n",
    "    \"method\": \"grid\",  # Ensures both values are tested\n",
    "    \"parameters\": {\n",
    "        \"input_scaling\": {\n",
    "            \"values\": [0.5, 0.75]\n",
    "        }\n",
    "    }\n",
    "}"
   ]
  },
  {
   "cell_type": "code",
   "execution_count": null,
   "metadata": {},
   "outputs": [
    {
     "name": "stdout",
     "output_type": "stream",
     "text": [
      "INFO:root:Starting main function with CSV: D:/SLEAP/20250102_generalizability_experiment/primary/sorghum_soybean/train_test_splits.csv\n",
      "INFO:root:Creating W&B sweep...\n"
     ]
    },
    {
     "name": "stderr",
     "output_type": "stream",
     "text": [
      "\u001b[34m\u001b[1mwandb\u001b[0m: Using wandb-core as the SDK backend.  Please refer to https://wandb.me/wandb-core for more information.\n"
     ]
    },
    {
     "name": "stdout",
     "output_type": "stream",
     "text": [
      "Create sweep with ID: ik546bgo\n",
      "Sweep URL: https://wandb.ai/eberrigan-salk-institute-for-biological-studies/sleap-roots/sweeps/ik546bgo\n",
      "INFO:root:Sweep created with ID: ik546bgo\n",
      "INFO:root:Running W&B sweep with 2 experiments...\n",
      "INFO:wandb.agents.pyagent:Starting sweep agent: entity=None, project=None, count=2\n"
     ]
    },
    {
     "name": "stderr",
     "output_type": "stream",
     "text": [
      "\u001b[34m\u001b[1mwandb\u001b[0m: Agent Starting Run: x3ky3o1m with config:\n",
      "\u001b[34m\u001b[1mwandb\u001b[0m: \tinput_scaling: 0.5\n"
     ]
    },
    {
     "name": "stdout",
     "output_type": "stream",
     "text": [
      "INFO:root:Processing version 0 with W&B config: <wandb.sdk.lib.preinit.PreInitObject object at 0x00000299D499AD08>\n",
      "INFO:root:Directory path for version 0: D:\\SLEAP\\20250102_generalizability_experiment\\primary\\sorghum_soybean\\train_test_split.v000\n"
     ]
    },
    {
     "name": "stderr",
     "output_type": "stream",
     "text": [
      "\u001b[34m\u001b[1mwandb\u001b[0m: Currently logged in as: \u001b[33meberrigan\u001b[0m (\u001b[33meberrigan-salk-institute-for-biological-studies\u001b[0m). Use \u001b[1m`wandb login --relogin`\u001b[0m to force relogin\n",
      "\u001b[34m\u001b[1mwandb\u001b[0m: \u001b[33mWARNING\u001b[0m Ignored wandb.init() arg project when running a sweep.\n",
      "\u001b[34m\u001b[1mwandb\u001b[0m: \u001b[33mWARNING\u001b[0m Ignored wandb.init() arg entity when running a sweep.\n"
     ]
    },
    {
     "data": {
      "text/html": [
       "Tracking run with wandb version 0.18.6"
      ],
      "text/plain": [
       "<IPython.core.display.HTML object>"
      ]
     },
     "metadata": {},
     "output_type": "display_data"
    },
    {
     "data": {
      "text/html": [
       "Run data is saved locally in <code>e:\\repositories\\sleap-roots-training\\wandb\\run-20250207_101258-x3ky3o1m</code>"
      ],
      "text/plain": [
       "<IPython.core.display.HTML object>"
      ]
     },
     "metadata": {},
     "output_type": "display_data"
    },
    {
     "data": {
      "text/html": [
       "Syncing run <strong><a href='https://wandb.ai/eberrigan-salk-institute-for-biological-studies/sleap-roots/runs/x3ky3o1m' target=\"_blank\">sorghum-soybean-primary-2025-01-07-hp-sweep-2025-02-07_training_v000</a></strong> to <a href='https://wandb.ai/eberrigan-salk-institute-for-biological-studies/sleap-roots' target=\"_blank\">Weights & Biases</a> (<a href='https://wandb.me/developer-guide' target=\"_blank\">docs</a>)<br/>Sweep page: <a href='https://wandb.ai/eberrigan-salk-institute-for-biological-studies/sleap-roots/sweeps/ik546bgo' target=\"_blank\">https://wandb.ai/eberrigan-salk-institute-for-biological-studies/sleap-roots/sweeps/ik546bgo</a>"
      ],
      "text/plain": [
       "<IPython.core.display.HTML object>"
      ]
     },
     "metadata": {},
     "output_type": "display_data"
    },
    {
     "data": {
      "text/html": [
       " View project at <a href='https://wandb.ai/eberrigan-salk-institute-for-biological-studies/sleap-roots' target=\"_blank\">https://wandb.ai/eberrigan-salk-institute-for-biological-studies/sleap-roots</a>"
      ],
      "text/plain": [
       "<IPython.core.display.HTML object>"
      ]
     },
     "metadata": {},
     "output_type": "display_data"
    },
    {
     "data": {
      "text/html": [
       " View sweep at <a href='https://wandb.ai/eberrigan-salk-institute-for-biological-studies/sleap-roots/sweeps/ik546bgo' target=\"_blank\">https://wandb.ai/eberrigan-salk-institute-for-biological-studies/sleap-roots/sweeps/ik546bgo</a>"
      ],
      "text/plain": [
       "<IPython.core.display.HTML object>"
      ]
     },
     "metadata": {},
     "output_type": "display_data"
    },
    {
     "data": {
      "text/html": [
       " View run at <a href='https://wandb.ai/eberrigan-salk-institute-for-biological-studies/sleap-roots/runs/x3ky3o1m' target=\"_blank\">https://wandb.ai/eberrigan-salk-institute-for-biological-studies/sleap-roots/runs/x3ky3o1m</a>"
      ],
      "text/plain": [
       "<IPython.core.display.HTML object>"
      ]
     },
     "metadata": {},
     "output_type": "display_data"
    },
    {
     "name": "stdout",
     "output_type": "stream",
     "text": [
      "INFO:root:Updating configuration with W&B sweep parameters.\n",
      "INFO:root:Updated parameter: data -> {'labels': {'training_labels': 'D:/SLEAP/20250102_generalizability_experiment/primary/sorghum_soybean/train_test_split.v000/train.pkg.slp', 'validation_labels': 'D:/SLEAP/20250102_generalizability_experiment/primary/sorghum_soybean/train_test_split.v000/val.pkg.slp', 'validation_fraction': 0.1, 'test_labels': 'D:/SLEAP/20250102_generalizability_experiment/primary/sorghum_soybean/train_test_split.v000/test.pkg.slp', 'split_by_inds': False, 'training_inds': None, 'validation_inds': None, 'test_inds': None, 'search_path_hints': [], 'skeletons': []}, 'preprocessing': {'ensure_rgb': False, 'ensure_grayscale': False, 'imagenet_mode': None, 'input_scaling': 1.0, 'pad_to_stride': None, 'resize_and_pad_to_target': True, 'target_height': None, 'target_width': None}, 'instance_cropping': {'center_on_part': None, 'crop_size': None, 'crop_size_detection_padding': 16}}\n",
      "INFO:root:Updated parameter: model -> {'backbone': {'leap': None, 'unet': {'stem_stride': None, 'max_stride': 64, 'output_stride': 2, 'filters': 24, 'filters_rate': 1.5, 'middle_block': True, 'up_interpolate': True, 'stacks': 1}, 'hourglass': None, 'resnet': None, 'pretrained_encoder': None}, 'heads': {'single_instance': None, 'centroid': None, 'centered_instance': None, 'multi_instance': {'confmaps': {'part_names': None, 'sigma': 2.5, 'output_stride': 2, 'loss_weight': 1.0, 'offset_refinement': False}, 'pafs': {'edges': None, 'sigma': 75.0, 'output_stride': 8, 'loss_weight': 1.0}}}}\n",
      "INFO:root:Updated parameter: optimization -> {'preload_data': True, 'augmentation_config': {'rotate': True, 'rotation_min_angle': -5.0, 'rotation_max_angle': 5.0, 'translate': False, 'translate_min': -5, 'translate_max': 5, 'scale': False, 'scale_min': 0.9, 'scale_max': 1.1, 'uniform_noise': False, 'uniform_noise_min_val': 0.0, 'uniform_noise_max_val': 10.0, 'gaussian_noise': False, 'gaussian_noise_mean': 5.0, 'gaussian_noise_stddev': 1.0, 'contrast': True, 'contrast_min_gamma': 0.5, 'contrast_max_gamma': 2.0, 'brightness': False, 'brightness_min_val': 0.0, 'brightness_max_val': 10.0, 'random_crop': False, 'random_crop_height': 256, 'random_crop_width': 256, 'random_flip': False, 'flip_horizontal': True}, 'online_shuffling': True, 'shuffle_buffer_size': 128, 'prefetch': True, 'batch_size': 4, 'batches_per_epoch': None, 'min_batches_per_epoch': 200, 'val_batches_per_epoch': None, 'min_val_batches_per_epoch': 10, 'epochs': 200, 'optimizer': 'adam', 'initial_learning_rate': 0.0001, 'learning_rate_schedule': {'reduce_on_plateau': True, 'reduction_factor': 0.5, 'plateau_min_delta': 1e-06, 'plateau_patience': 5, 'plateau_cooldown': 3, 'min_learning_rate': 1e-08}, 'hard_keypoint_mining': {'online_mining': False, 'hard_to_easy_ratio': 2.0, 'min_hard_keypoints': 2, 'max_hard_keypoints': None, 'loss_scale': 5.0}, 'early_stopping': {'stop_training_on_plateau': True, 'plateau_min_delta': 1e-06, 'plateau_patience': 10}}\n",
      "INFO:root:Updated parameter: outputs -> {'save_outputs': True, 'run_name': None, 'run_name_prefix': '', 'run_name_suffix': '', 'runs_folder': 'D:/SLEAP/20250102_generalizability_experiment/primary/sorghum_soybean/train_test_split.v000\\\\models', 'tags': [''], 'save_visualizations': True, 'delete_viz_images': True, 'zip_outputs': False, 'log_to_csv': True, 'checkpointing': {'initial_model': False, 'best_model': True, 'every_epoch': False, 'latest_model': False, 'final_model': False}, 'tensorboard': {'write_logs': False, 'loss_frequency': 'epoch', 'architecture_graph': False, 'profile_graph': False, 'visualizations': True}, 'zmq': {'subscribe_to_controller': False, 'controller_address': 'tcp://127.0.0.1:9000', 'controller_polling_timeout': 10, 'publish_updates': False, 'publish_address': 'tcp://127.0.0.1:9001'}}\n",
      "INFO:root:Updated parameter: name -> \n",
      "INFO:root:Updated parameter: description -> \n",
      "INFO:root:Updated parameter: sleap_version -> \n",
      "INFO:root:Updated parameter: filename -> \n",
      "INFO:root:Updated parameter: input_scaling -> 0.5\n",
      "INFO:root:Updated parameter: version -> 0\n",
      "INFO:root:Updated parameter: config_path -> D:/SLEAP/20250102_generalizability_experiment/primary/sorghum_soybean/train_test_split.v000/initial_config_modified_v000.json\n",
      "INFO:root:Final updated configuration:\n",
      "{\n",
      "    \"data\": {\n",
      "        \"labels\": {\n",
      "            \"training_labels\": \"D:/SLEAP/20250102_generalizability_experiment/primary/sorghum_soybean/train_test_split.v000/train.pkg.slp\",\n",
      "            \"validation_labels\": \"D:/SLEAP/20250102_generalizability_experiment/primary/sorghum_soybean/train_test_split.v000/val.pkg.slp\",\n",
      "            \"validation_fraction\": 0.1,\n",
      "            \"test_labels\": \"D:/SLEAP/20250102_generalizability_experiment/primary/sorghum_soybean/train_test_split.v000/test.pkg.slp\",\n",
      "            \"split_by_inds\": false,\n",
      "            \"training_inds\": null,\n",
      "            \"validation_inds\": null,\n",
      "            \"test_inds\": null,\n",
      "            \"search_path_hints\": [],\n",
      "            \"skeletons\": []\n",
      "        },\n",
      "        \"preprocessing\": {\n",
      "            \"ensure_rgb\": false,\n",
      "            \"ensure_grayscale\": false,\n",
      "            \"imagenet_mode\": null,\n",
      "            \"input_scaling\": 1.0,\n",
      "            \"pad_to_stride\": null,\n",
      "            \"resize_and_pad_to_target\": true,\n",
      "            \"target_height\": null,\n",
      "            \"target_width\": null\n",
      "        },\n",
      "        \"instance_cropping\": {\n",
      "            \"center_on_part\": null,\n",
      "            \"crop_size\": null,\n",
      "            \"crop_size_detection_padding\": 16\n",
      "        }\n",
      "    },\n",
      "    \"model\": {\n",
      "        \"backbone\": {\n",
      "            \"leap\": null,\n",
      "            \"unet\": {\n",
      "                \"stem_stride\": null,\n",
      "                \"max_stride\": 64,\n",
      "                \"output_stride\": 2,\n",
      "                \"filters\": 24,\n",
      "                \"filters_rate\": 1.5,\n",
      "                \"middle_block\": true,\n",
      "                \"up_interpolate\": true,\n",
      "                \"stacks\": 1\n",
      "            },\n",
      "            \"hourglass\": null,\n",
      "            \"resnet\": null,\n",
      "            \"pretrained_encoder\": null\n",
      "        },\n",
      "        \"heads\": {\n",
      "            \"single_instance\": null,\n",
      "            \"centroid\": null,\n",
      "            \"centered_instance\": null,\n",
      "            \"multi_instance\": {\n",
      "                \"confmaps\": {\n",
      "                    \"part_names\": null,\n",
      "                    \"sigma\": 2.5,\n",
      "                    \"output_stride\": 2,\n",
      "                    \"loss_weight\": 1.0,\n",
      "                    \"offset_refinement\": false\n",
      "                },\n",
      "                \"pafs\": {\n",
      "                    \"edges\": null,\n",
      "                    \"sigma\": 75.0,\n",
      "                    \"output_stride\": 8,\n",
      "                    \"loss_weight\": 1.0\n",
      "                }\n",
      "            }\n",
      "        }\n",
      "    },\n",
      "    \"optimization\": {\n",
      "        \"preload_data\": true,\n",
      "        \"augmentation_config\": {\n",
      "            \"rotate\": true,\n",
      "            \"rotation_min_angle\": -5.0,\n",
      "            \"rotation_max_angle\": 5.0,\n",
      "            \"translate\": false,\n",
      "            \"translate_min\": -5,\n",
      "            \"translate_max\": 5,\n",
      "            \"scale\": false,\n",
      "            \"scale_min\": 0.9,\n",
      "            \"scale_max\": 1.1,\n",
      "            \"uniform_noise\": false,\n",
      "            \"uniform_noise_min_val\": 0.0,\n",
      "            \"uniform_noise_max_val\": 10.0,\n",
      "            \"gaussian_noise\": false,\n",
      "            \"gaussian_noise_mean\": 5.0,\n",
      "            \"gaussian_noise_stddev\": 1.0,\n",
      "            \"contrast\": true,\n",
      "            \"contrast_min_gamma\": 0.5,\n",
      "            \"contrast_max_gamma\": 2.0,\n",
      "            \"brightness\": false,\n",
      "            \"brightness_min_val\": 0.0,\n",
      "            \"brightness_max_val\": 10.0,\n",
      "            \"random_crop\": false,\n",
      "            \"random_crop_height\": 256,\n",
      "            \"random_crop_width\": 256,\n",
      "            \"random_flip\": false,\n",
      "            \"flip_horizontal\": true\n",
      "        },\n",
      "        \"online_shuffling\": true,\n",
      "        \"shuffle_buffer_size\": 128,\n",
      "        \"prefetch\": true,\n",
      "        \"batch_size\": 4,\n",
      "        \"batches_per_epoch\": null,\n",
      "        \"min_batches_per_epoch\": 200,\n",
      "        \"val_batches_per_epoch\": null,\n",
      "        \"min_val_batches_per_epoch\": 10,\n",
      "        \"epochs\": 200,\n",
      "        \"optimizer\": \"adam\",\n",
      "        \"initial_learning_rate\": 0.0001,\n",
      "        \"learning_rate_schedule\": {\n",
      "            \"reduce_on_plateau\": true,\n",
      "            \"reduction_factor\": 0.5,\n",
      "            \"plateau_min_delta\": 1e-06,\n",
      "            \"plateau_patience\": 5,\n",
      "            \"plateau_cooldown\": 3,\n",
      "            \"min_learning_rate\": 1e-08\n",
      "        },\n",
      "        \"hard_keypoint_mining\": {\n",
      "            \"online_mining\": false,\n",
      "            \"hard_to_easy_ratio\": 2.0,\n",
      "            \"min_hard_keypoints\": 2,\n",
      "            \"max_hard_keypoints\": null,\n",
      "            \"loss_scale\": 5.0\n",
      "        },\n",
      "        \"early_stopping\": {\n",
      "            \"stop_training_on_plateau\": true,\n",
      "            \"plateau_min_delta\": 1e-06,\n",
      "            \"plateau_patience\": 10\n",
      "        }\n",
      "    },\n",
      "    \"outputs\": {\n",
      "        \"save_outputs\": true,\n",
      "        \"run_name\": null,\n",
      "        \"run_name_prefix\": \"\",\n",
      "        \"run_name_suffix\": \"\",\n",
      "        \"runs_folder\": \"D:/SLEAP/20250102_generalizability_experiment/primary/sorghum_soybean/train_test_split.v000\\\\models\",\n",
      "        \"tags\": [\n",
      "            \"\"\n",
      "        ],\n",
      "        \"save_visualizations\": true,\n",
      "        \"delete_viz_images\": true,\n",
      "        \"zip_outputs\": false,\n",
      "        \"log_to_csv\": true,\n",
      "        \"checkpointing\": {\n",
      "            \"initial_model\": false,\n",
      "            \"best_model\": true,\n",
      "            \"every_epoch\": false,\n",
      "            \"latest_model\": false,\n",
      "            \"final_model\": false\n",
      "        },\n",
      "        \"tensorboard\": {\n",
      "            \"write_logs\": false,\n",
      "            \"loss_frequency\": \"epoch\",\n",
      "            \"architecture_graph\": false,\n",
      "            \"profile_graph\": false,\n",
      "            \"visualizations\": true\n",
      "        },\n",
      "        \"zmq\": {\n",
      "            \"subscribe_to_controller\": false,\n",
      "            \"controller_address\": \"tcp://127.0.0.1:9000\",\n",
      "            \"controller_polling_timeout\": 10,\n",
      "            \"publish_updates\": false,\n",
      "            \"publish_address\": \"tcp://127.0.0.1:9001\"\n",
      "        }\n",
      "    },\n",
      "    \"name\": \"\",\n",
      "    \"description\": \"\",\n",
      "    \"sleap_version\": \"\",\n",
      "    \"filename\": \"\",\n",
      "    \"input_scaling\": 0.5,\n",
      "    \"version\": 0,\n",
      "    \"config_path\": \"D:/SLEAP/20250102_generalizability_experiment/primary/sorghum_soybean/train_test_split.v000/initial_config_modified_v000.json\"\n",
      "}\n",
      "INFO:root:Saved updated configuration to: D:\\SLEAP\\20250102_generalizability_experiment\\primary\\sorghum_soybean\\train_test_split.v000\\modified_config_v000_20250207_101300.json\n"
     ]
    },
    {
     "name": "stderr",
     "output_type": "stream",
     "text": [
      "\u001b[34m\u001b[1mwandb\u001b[0m: \u001b[33mWARNING\u001b[0m Config item 'input_scaling' was locked by 'sweep' (ignored update).\n"
     ]
    },
    {
     "name": "stdout",
     "output_type": "stream",
     "text": [
      "INFO:root:Training with updated config for version 0.\n",
      "INFO:root:Executing training command: sleap-train D:/SLEAP/20250102_generalizability_experiment/primary/sorghum_soybean/train_test_split.v000/modified_config_v000_20250207_101300.json\n",
      "Executing: sleap-train D:/SLEAP/20250102_generalizability_experiment/primary/sorghum_soybean/train_test_split.v000/modified_config_v000_20250207_101300.json\n"
     ]
    }
   ],
   "source": [
    "main(csv_path=CSV_PATH, tags=TAGS, model_tags=MODEL_TAGS, use_sweep=True, sweep_config=sweep_config)"
   ]
  },
  {
   "cell_type": "code",
   "execution_count": null,
   "metadata": {},
   "outputs": [],
   "source": []
  }
 ],
 "metadata": {
  "kernelspec": {
   "display_name": "sleap_v1.3.4",
   "language": "python",
   "name": "python3"
  },
  "language_info": {
   "codemirror_mode": {
    "name": "ipython",
    "version": 3
   },
   "file_extension": ".py",
   "mimetype": "text/x-python",
   "name": "python",
   "nbconvert_exporter": "python",
   "pygments_lexer": "ipython3",
   "version": "3.7.12"
  }
 },
 "nbformat": 4,
 "nbformat_minor": 2
}
