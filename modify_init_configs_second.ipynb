{
 "cells": [
  {
   "cell_type": "code",
   "execution_count": 1,
   "id": "13f1e8d7-acdd-4ec7-9d51-bf4f23a14dd4",
   "metadata": {
    "tags": []
   },
   "outputs": [],
   "source": [
    "import json\n",
    "import pandas as pd\n",
    "import numpy as np\n",
    "import os\n",
    "\n",
    "from pathlib import Path"
   ]
  },
  {
   "cell_type": "markdown",
   "id": "9d92a63f",
   "metadata": {},
   "source": [
    "# Step 2\n",
    "\n",
    "## Overview\n",
    "This Jupyter Notebook modifies configuration files for training SLEAP models. It reads a CSV file containing train, validation, and test splits, updates the initial configuration file with the appropriate paths for each split, and saves the modified configuration files.\n",
    "\n",
    "## Prerequisites\n",
    "Ensure the working directory contains the following files from the first Jupyter Notebook:\n",
    "- `train_test_splits.csv`: A CSV file with columns `path`, `version`, `labeled_frames`, and `split_type`.\n",
    "- `initial_config.json`: A JSON configuration file to be modified based on the splits.\n",
    "\n",
    "## User-Defined Inputs\n",
    "- `working_dir`: The directory where the CSV and JSON files are located.\n",
    "\n",
    "## Steps\n",
    "1. **Import Libraries**: Import necessary libraries.\n",
    "2. **Define Working Directory**: Set the `working_dir` variable.\n",
    "3. **Load CSV File**: Read the `train_test_splits.csv` file into a DataFrame (`splits`).\n",
    "4. **Load JSON File**: Read the `initial_config.json` file into a dictionary (`data`).\n",
    "5. **Modify Configuration**: Update the JSON data with the appropriate paths for each split type (train, val, test).\n",
    "6. **Save Modified Configurations**: Save the modified JSON data to new files in the corresponding directories.\n",
    "\n",
    "## Output\n",
    "The final output is a set of modified configuration files saved in the directories specified in the `path` column of the CSV file. Each modified configuration file is named `initial_config_modified_v00X.json`, where `X` is the version number from the CSV file.\n",
    "\n",
    "## Usage\n",
    "1. Ensure the working directory contains the required `train_test_splits.csv` and `initial_config.json` files. These are the outputs from step 1.\n",
    "2. Update the `working_dir` variable with the path to your working directory. This should be the `output_path` from step 1.\n",
    "3. Use `Run All` to process the data and generate the modified configuration files."
   ]
  },
  {
   "cell_type": "code",
   "execution_count": 2,
   "id": "35a54bd3",
   "metadata": {},
   "outputs": [],
   "source": [
    "# This should be the output path from the previous step\n",
    "working_dir = \"D:/SLEAP/20250102_generalizability_experiment/primary/sorghum\""
   ]
  },
  {
   "cell_type": "code",
   "execution_count": 3,
   "id": "f23fd073-a29f-4b40-8513-f00797ea6116",
   "metadata": {
    "tags": []
   },
   "outputs": [
    {
     "data": {
      "text/html": [
       "<div>\n",
       "<style scoped>\n",
       "    .dataframe tbody tr th:only-of-type {\n",
       "        vertical-align: middle;\n",
       "    }\n",
       "\n",
       "    .dataframe tbody tr th {\n",
       "        vertical-align: top;\n",
       "    }\n",
       "\n",
       "    .dataframe thead th {\n",
       "        text-align: right;\n",
       "    }\n",
       "</style>\n",
       "<table border=\"1\" class=\"dataframe\">\n",
       "  <thead>\n",
       "    <tr style=\"text-align: right;\">\n",
       "      <th></th>\n",
       "      <th>path</th>\n",
       "      <th>version</th>\n",
       "      <th>labeled_frames</th>\n",
       "      <th>split_type</th>\n",
       "    </tr>\n",
       "  </thead>\n",
       "  <tbody>\n",
       "    <tr>\n",
       "      <th>0</th>\n",
       "      <td>D:\\SLEAP\\20250102_generalizability_experiment\\...</td>\n",
       "      <td>0</td>\n",
       "      <td>210</td>\n",
       "      <td>train</td>\n",
       "    </tr>\n",
       "    <tr>\n",
       "      <th>1</th>\n",
       "      <td>D:\\SLEAP\\20250102_generalizability_experiment\\...</td>\n",
       "      <td>0</td>\n",
       "      <td>45</td>\n",
       "      <td>val</td>\n",
       "    </tr>\n",
       "    <tr>\n",
       "      <th>2</th>\n",
       "      <td>D:\\SLEAP\\20250102_generalizability_experiment\\...</td>\n",
       "      <td>0</td>\n",
       "      <td>45</td>\n",
       "      <td>test</td>\n",
       "    </tr>\n",
       "    <tr>\n",
       "      <th>3</th>\n",
       "      <td>D:\\SLEAP\\20250102_generalizability_experiment\\...</td>\n",
       "      <td>1</td>\n",
       "      <td>210</td>\n",
       "      <td>train</td>\n",
       "    </tr>\n",
       "    <tr>\n",
       "      <th>4</th>\n",
       "      <td>D:\\SLEAP\\20250102_generalizability_experiment\\...</td>\n",
       "      <td>1</td>\n",
       "      <td>45</td>\n",
       "      <td>val</td>\n",
       "    </tr>\n",
       "    <tr>\n",
       "      <th>5</th>\n",
       "      <td>D:\\SLEAP\\20250102_generalizability_experiment\\...</td>\n",
       "      <td>1</td>\n",
       "      <td>45</td>\n",
       "      <td>test</td>\n",
       "    </tr>\n",
       "    <tr>\n",
       "      <th>6</th>\n",
       "      <td>D:\\SLEAP\\20250102_generalizability_experiment\\...</td>\n",
       "      <td>2</td>\n",
       "      <td>210</td>\n",
       "      <td>train</td>\n",
       "    </tr>\n",
       "    <tr>\n",
       "      <th>7</th>\n",
       "      <td>D:\\SLEAP\\20250102_generalizability_experiment\\...</td>\n",
       "      <td>2</td>\n",
       "      <td>45</td>\n",
       "      <td>val</td>\n",
       "    </tr>\n",
       "    <tr>\n",
       "      <th>8</th>\n",
       "      <td>D:\\SLEAP\\20250102_generalizability_experiment\\...</td>\n",
       "      <td>2</td>\n",
       "      <td>45</td>\n",
       "      <td>test</td>\n",
       "    </tr>\n",
       "  </tbody>\n",
       "</table>\n",
       "</div>"
      ],
      "text/plain": [
       "                                                path  version  labeled_frames  \\\n",
       "0  D:\\SLEAP\\20250102_generalizability_experiment\\...        0             210   \n",
       "1  D:\\SLEAP\\20250102_generalizability_experiment\\...        0              45   \n",
       "2  D:\\SLEAP\\20250102_generalizability_experiment\\...        0              45   \n",
       "3  D:\\SLEAP\\20250102_generalizability_experiment\\...        1             210   \n",
       "4  D:\\SLEAP\\20250102_generalizability_experiment\\...        1              45   \n",
       "5  D:\\SLEAP\\20250102_generalizability_experiment\\...        1              45   \n",
       "6  D:\\SLEAP\\20250102_generalizability_experiment\\...        2             210   \n",
       "7  D:\\SLEAP\\20250102_generalizability_experiment\\...        2              45   \n",
       "8  D:\\SLEAP\\20250102_generalizability_experiment\\...        2              45   \n",
       "\n",
       "  split_type  \n",
       "0      train  \n",
       "1        val  \n",
       "2       test  \n",
       "3      train  \n",
       "4        val  \n",
       "5       test  \n",
       "6      train  \n",
       "7        val  \n",
       "8       test  "
      ]
     },
     "execution_count": 3,
     "metadata": {},
     "output_type": "execute_result"
    }
   ],
   "source": [
    "# Load the CSV file\n",
    "csv_path = Path(working_dir) / \"train_test_splits.csv\"\n",
    "splits = pd.read_csv(csv_path )\n",
    "splits"
   ]
  },
  {
   "cell_type": "code",
   "execution_count": 4,
   "id": "f0ab6624",
   "metadata": {},
   "outputs": [],
   "source": [
    "# Path to the initial configuration file for the models\n",
    "init_config_path = Path(working_dir) / \"initial_config.json\""
   ]
  },
  {
   "cell_type": "code",
   "execution_count": 5,
   "id": "9d98eebc-41be-4953-8b6c-ee0327e47301",
   "metadata": {
    "tags": []
   },
   "outputs": [
    {
     "name": "stdout",
     "output_type": "stream",
     "text": [
      "Saved modified config for split train version 0 to D:\\SLEAP\\20250102_generalizability_experiment\\primary\\sorghum\\train_test_split.v000\n",
      "Saved modified config for split val version 0 to D:\\SLEAP\\20250102_generalizability_experiment\\primary\\sorghum\\train_test_split.v000\n",
      "Saved modified config for split test version 0 to D:\\SLEAP\\20250102_generalizability_experiment\\primary\\sorghum\\train_test_split.v000\n",
      "Saved modified config for split train version 1 to D:\\SLEAP\\20250102_generalizability_experiment\\primary\\sorghum\\train_test_split.v001\n",
      "Saved modified config for split val version 1 to D:\\SLEAP\\20250102_generalizability_experiment\\primary\\sorghum\\train_test_split.v001\n",
      "Saved modified config for split test version 1 to D:\\SLEAP\\20250102_generalizability_experiment\\primary\\sorghum\\train_test_split.v001\n",
      "Saved modified config for split train version 2 to D:\\SLEAP\\20250102_generalizability_experiment\\primary\\sorghum\\train_test_split.v002\n",
      "Saved modified config for split val version 2 to D:\\SLEAP\\20250102_generalizability_experiment\\primary\\sorghum\\train_test_split.v002\n",
      "Saved modified config for split test version 2 to D:\\SLEAP\\20250102_generalizability_experiment\\primary\\sorghum\\train_test_split.v002\n"
     ]
    }
   ],
   "source": [
    "# Open the JSON file\n",
    "with open(init_config_path, 'r') as file:\n",
    "    # Load the data from the file\n",
    "    data = json.load(file)\n",
    "\n",
    "# Iterate over the rows of the DataFrame\n",
    "for index, row in splits.iterrows():\n",
    "    # Ensure the path corresponds to the correct split type\n",
    "    if row['split_type'] == 'train':\n",
    "        data['data']['labels']['training_labels'] = row['path']\n",
    "    elif row['split_type'] == 'val':\n",
    "        data['data']['labels']['validation_labels'] = row['path']\n",
    "    elif row['split_type'] == 'test':\n",
    "        data['data']['labels']['test_labels'] = row['path']\n",
    "\n",
    "    # Derive the directory for saving the modified config\n",
    "    config_dir = os.path.dirname(row['path'])\n",
    "    data['outputs']['runs_folder'] = os.path.join(config_dir, 'models')\n",
    "\n",
    "    # Save the changes to a new JSON file\n",
    "    with open(os.path.join(config_dir, f'initial_config_modified_v00{row[\"version\"]}.json'), 'w') as new_file:\n",
    "        # Write the updated data to the file\n",
    "        json.dump(data, new_file)\n",
    "        print(f\"Saved modified config for split {row['split_type']} version {row['version']} to {config_dir}\")"
   ]
  }
 ],
 "metadata": {
  "kernelspec": {
   "display_name": "sleap_v1.3.4",
   "language": "python",
   "name": "python3"
  },
  "language_info": {
   "codemirror_mode": {
    "name": "ipython",
    "version": 3
   },
   "file_extension": ".py",
   "mimetype": "text/x-python",
   "name": "python",
   "nbconvert_exporter": "python",
   "pygments_lexer": "ipython3",
   "version": "3.7.12"
  }
 },
 "nbformat": 4,
 "nbformat_minor": 5
}
