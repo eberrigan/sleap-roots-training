{
 "cells": [
  {
   "cell_type": "code",
   "execution_count": 1,
   "id": "0a6a57c3-e31b-4800-8ce9-7c1750a9df68",
   "metadata": {
    "tags": []
   },
   "outputs": [],
   "source": [
    "import os\n",
    "import pandas as pd\n",
    "import sleap\n",
    "import numpy as np\n",
    "import random\n",
    "import re\n",
    "import matplotlib.pyplot as plt\n",
    "\n",
    "from pathlib import Path"
   ]
  },
  {
   "cell_type": "markdown",
   "id": "325dc3b9",
   "metadata": {},
   "source": [
    "# Step 1\n",
    "\n",
    "This notebook processes labeled data to extract video age information and prepare datasets for model development. It outputs a CSV file summarizing video ages, a CSV detailing train-test splits, and a bar plot visualizing the age distribution.\n",
    "\n",
    "### User-Defined Inputs\n",
    "- **Labels Path**: Path to the input labeled data (`user_labels`), which must be specified before running the notebook.\n",
    "- **Fractions for Data Splitting**:  \n",
    "  - `fraction_train`: Proportion of data to be allocated to the training set.  \n",
    "  - `val_test_fraction`: Proportion of the remaining data to be allocated to the test set.\n",
    "\n",
    "### Key Functionalities\n",
    "1. **Extracting Video Age Information**:  \n",
    "   - Extracts the age (in days) from video filenames of labeled data.  \n",
    "   - Saves the results to a CSV file (`video_ages.csv`).  \n",
    "   - Generates a bar plot visualizing the age distribution.\n",
    "\n",
    "2. **Splitting Data for Training**:  \n",
    "   - Divides the labeled data into training, validation, and test sets using specified fractions.  \n",
    "   - Repeats the split three times, saving datasets to directories (`train.pkg.slp`, `val.pkg.slp`, `test.pkg.slp`) with associated images.  \n",
    "   - Records metadata for each split, including file path, version, labeled frames, and split type, in a CSV file (`train_test_splits_info.csv`).\n",
    "\n",
    "### Outputs\n",
    "- A CSV file (`video_ages.csv`) with video filenames and corresponding age information.  \n",
    "- A CSV file (`train_test_splits_info.csv`) summarizing train-test splits.  \n",
    "- A bar plot visualizing the age distribution.  "
   ]
  },
  {
   "cell_type": "code",
   "execution_count": 2,
   "id": "2b1a7356-46e7-404a-be9d-c7b76e1d03f3",
   "metadata": {
    "tags": []
   },
   "outputs": [],
   "source": [
    "# labels path\n",
    "labels_path = \"D:/SLEAP/20250102_generalizability_experiment/primary/sorghum/labels_sorghum_5-12DAG_primary_6nodes.v008.slp\"\n",
    "\n",
    "# train, val and test fractions\n",
    "fraction_train = 0.7 # fraction of total user labels to be used for training\n",
    "val_test_fraction = 0.5 # 1-`fraction_train` allocated for validation and testing\n",
    "\n",
    "# Directory output path\n",
    "output_path = \"D:/SLEAP/20250102_generalizability_experiment/primary/sorghum\""
   ]
  },
  {
   "cell_type": "code",
   "execution_count": 3,
   "id": "ed13724a-898b-4856-aafa-59fb3aef0be2",
   "metadata": {
    "tags": []
   },
   "outputs": [],
   "source": [
    "# Function to extract the age from the filename\n",
    "def extract_age(filename):\n",
    "    match = re.search(r'Day(\\d+)_', filename)\n",
    "    return match.group(1) if match else 'NA'"
   ]
  },
  {
   "cell_type": "code",
   "execution_count": 4,
   "id": "3744579e-99df-4a78-a006-866e1c136bb0",
   "metadata": {
    "tags": []
   },
   "outputs": [],
   "source": [
    "base_labels = sleap.load_file(Path(labels_path).as_posix()) # load labels file\n",
    "user_labels = base_labels.with_user_labels_only() # user instances only"
   ]
  },
  {
   "cell_type": "code",
   "execution_count": 5,
   "id": "155639d0",
   "metadata": {},
   "outputs": [],
   "source": [
    "# Make the output directory if it doesn't exist\n",
    "Path(output_path).mkdir(parents=True, exist_ok=True)"
   ]
  },
  {
   "cell_type": "code",
   "execution_count": 6,
   "id": "467508f4-0836-403b-974f-97268d592559",
   "metadata": {
    "tags": []
   },
   "outputs": [
    {
     "name": "stdout",
     "output_type": "stream",
     "text": [
      "LabeledFrame(video=HDF5Video('D:/SLEAP/SLEAP_sorghum/h5/W1/Day12_7-30-2024SlowScanner/VUC0VIWW2C.h5'), frame_idx=12, instances=1)\n",
      "LabeledFrame(video=HDF5Video('D:/SLEAP/SLEAP_sorghum/h5/W1/Day12_7-30-2024SlowScanner/XROS01VRHZ.h5'), frame_idx=0, instances=1)\n",
      "LabeledFrame(video=HDF5Video('D:/SLEAP/SLEAP_sorghum/h5/W1/Day12_7-30-2024SlowScanner/TATPMWUC5U.h5'), frame_idx=7, instances=1)\n",
      "LabeledFrame(video=HDF5Video('D:/SLEAP/SLEAP_sorghum/h5/W1/Day12_7-30-2024SlowScanner/TATPMWUC5U.h5'), frame_idx=45, instances=1)\n",
      "LabeledFrame(video=HDF5Video('D:/SLEAP/SLEAP_sorghum/h5/W1/Day12_7-30-2024FastScanner/3OP8BOG5AP.h5'), frame_idx=65, instances=1)\n"
     ]
    }
   ],
   "source": [
    "# Print the first few items to check their structure\n",
    "for label in user_labels[:5]:\n",
    "    print(label)"
   ]
  },
  {
   "cell_type": "code",
   "execution_count": 7,
   "id": "49a0c94e-1bf4-4d5b-87ef-7ee01807578b",
   "metadata": {
    "tags": []
   },
   "outputs": [
    {
     "name": "stdout",
     "output_type": "stream",
     "text": [
      "There are 300 labels total.\n",
      "Details saved to D:\\SLEAP\\20250102_generalizability_experiment\\primary\\sorghum\\video_ages.csv\n",
      "Number of labeled frames with age found: 300\n",
      "Number of labeled frames with age not found: 0\n"
     ]
    }
   ],
   "source": [
    "print(f\"There are {len(user_labels)} labels total.\")\n",
    "\n",
    "# Variables to keep count of matches and non-matches\n",
    "match_count = 0\n",
    "no_match_count = 0\n",
    "\n",
    "# Create a DataFrame from the user labels\n",
    "data = []\n",
    "for label in user_labels:\n",
    "    age = extract_age(label.video.filename)\n",
    "    if age != 'NA':\n",
    "        match_count += 1\n",
    "    else:\n",
    "        no_match_count += 1\n",
    "    data.append({'video_filename': label.video.filename, 'days_old': age})\n",
    "\n",
    "df = pd.DataFrame(data)\n",
    "\n",
    "# Save the DataFrame to a CSV file\n",
    "csv_file = Path(output_path) / 'video_ages.csv'\n",
    "df.to_csv(csv_file, index=False)\n",
    "\n",
    "print(f\"Details saved to {csv_file}\")\n",
    "print(f\"Number of labeled frames with age found: {match_count}\")\n",
    "print(f\"Number of labeled frames with age not found: {no_match_count}\")\n"
   ]
  },
  {
   "cell_type": "code",
   "execution_count": 8,
   "id": "e4cc32d5-cc66-4cfa-8faf-f878639ee0f4",
   "metadata": {
    "tags": []
   },
   "outputs": [
    {
     "data": {
      "image/png": "[encoded data removed]",
      "text/plain": [
       "<Figure size 500x600 with 1 Axes>"
      ]
     },
     "metadata": {},
     "output_type": "display_data"
    },
    {
     "name": "stdout",
     "output_type": "stream",
     "text": [
      "Plot saved to D:\\SLEAP\\20250102_generalizability_experiment\\primary\\sorghum\\age_distribution.png\n"
     ]
    }
   ],
   "source": [
    "# Ensure the ages are treated as integers\n",
    "df['days_old'] = df['days_old'].astype(int)\n",
    "\n",
    "# Plotting the bar graph\n",
    "age_counts = df['days_old'].value_counts().sort_index()\n",
    "plt.figure(figsize=(5, 6), facecolor='white') \n",
    "age_counts.plot(kind='bar', color='blue')  # Set color to blue\n",
    "plt.title('Count of Ages in Labels')\n",
    "plt.xlabel('Age (Days)')\n",
    "plt.ylabel('Count')\n",
    "plt.xticks(rotation=0)  # Rotate the x-axis labels\n",
    "plt.tight_layout()  # Adjusts the plot to ensure a tight fit\n",
    "\n",
    "# Save the figure\n",
    "plot_path = Path(output_path) / 'age_distribution.png'\n",
    "plt.savefig(plot_path, facecolor='white', bbox_inches='tight')\n",
    "plt.show()\n",
    "\n",
    "print(f\"Plot saved to {plot_path}\")"
   ]
  },
  {
   "cell_type": "code",
   "execution_count": 9,
   "id": "902909c0-18d7-4c66-9d18-28592edd769f",
   "metadata": {
    "tags": []
   },
   "outputs": [
    {
     "name": "stdout",
     "output_type": "stream",
     "text": [
      "Number of labels for training set should be 210.\n",
      "Number of labels for validation set should be 45.\n",
      "Number of labels for validation set should be 45.\n"
     ]
    }
   ],
   "source": [
    "n_train = int(fraction_train*len(user_labels))\n",
    "print(f\"Number of labels for training set should be {n_train}.\")\n",
    "n_val = int((1-fraction_train)*val_test_fraction*len(user_labels))\n",
    "print(f\"Number of labels for validation set should be {n_val}.\")\n",
    "n_test = int((1-fraction_train)*val_test_fraction*len(user_labels))\n",
    "print(f\"Number of labels for validation set should be {n_test}.\")"
   ]
  },
  {
   "cell_type": "code",
   "execution_count": 10,
   "id": "ece9d5a1-d1be-46e6-9cee-10c425c7eb07",
   "metadata": {
    "tags": []
   },
   "outputs": [],
   "source": [
    "# Initialize a list to store information for the CSV file\n",
    "csv_data = []\n",
    "\n",
    "for i in range(3):\n",
    "    # Split the training and validation sets\n",
    "    labels_train, _, labels_val, _ = sleap.nn.data.training.split_labels_train_val(user_labels, 1-fraction_train) # 1-`fraction_train` allocated for validation and testing\n",
    "    labels_val, _, labels_test, _ = sleap.nn.data.training.split_labels_train_val(labels_val, val_test_fraction) # `val_test_fraction` of `labels_val` made into a test set\n",
    "\n",
    "    # Make a directory for this split\n",
    "    split_dir = Path(output_path) / f\"train_test_split.v00{i}\"\n",
    "    os.makedirs(split_dir, exist_ok=True)\n",
    "\n",
    "    # Save the train, val and test sets\n",
    "    train_path = Path(split_dir) / \"train.pkg.slp\"\n",
    "    val_path = Path(split_dir) / \"val.pkg.slp\"\n",
    "    test_path = Path(split_dir) / \"test.pkg.slp\"\n",
    "    labels_train.save(train_path, with_images=True)\n",
    "    labels_val.save(val_path, with_images=True)\n",
    "    labels_test.save(test_path, with_images=True)\n",
    "\n",
    "    # Store the information in the list for train, val and test splits\n",
    "    csv_data.append({'path': train_path, 'version': i, 'labeled_frames': len(labels_train), 'split_type': 'train'})\n",
    "    csv_data.append({'path': val_path, 'version': i, 'labeled_frames': len(labels_val), 'split_type': 'val'})\n",
    "    csv_data.append({'path': test_path, 'version': i, 'labeled_frames': len(labels_test), 'split_type': 'test'})"
   ]
  },
  {
   "cell_type": "code",
   "execution_count": 11,
   "id": "a05855c0-91ef-49b3-863c-89d55edbe1a8",
   "metadata": {
    "tags": []
   },
   "outputs": [
    {
     "name": "stdout",
     "output_type": "stream",
     "text": [
      "Train, val and test splits information saved to D:\\SLEAP\\20250102_generalizability_experiment\\primary\\sorghum\\train_test_splits.csv\n"
     ]
    }
   ],
   "source": [
    "# Convert the list to a DataFrame and save as CSV\n",
    "df = pd.DataFrame(csv_data)\n",
    "csv_path = Path(output_path) / 'train_test_splits.csv'\n",
    "df.to_csv(csv_path, index=False)\n",
    "\n",
    "print(f\"Train, val and test splits information saved to {csv_path}\")"
   ]
  },
  {
   "cell_type": "code",
   "execution_count": 12,
   "id": "68a08dcc-7231-4b2b-af51-cb6c5e748d5a",
   "metadata": {
    "tags": []
   },
   "outputs": [
    {
     "data": {
      "text/html": [
       "<div>\n",
       "<style scoped>\n",
       "    .dataframe tbody tr th:only-of-type {\n",
       "        vertical-align: middle;\n",
       "    }\n",
       "\n",
       "    .dataframe tbody tr th {\n",
       "        vertical-align: top;\n",
       "    }\n",
       "\n",
       "    .dataframe thead th {\n",
       "        text-align: right;\n",
       "    }\n",
       "</style>\n",
       "<table border=\"1\" class=\"dataframe\">\n",
       "  <thead>\n",
       "    <tr style=\"text-align: right;\">\n",
       "      <th></th>\n",
       "      <th>path</th>\n",
       "      <th>version</th>\n",
       "      <th>labeled_frames</th>\n",
       "      <th>split_type</th>\n",
       "    </tr>\n",
       "  </thead>\n",
       "  <tbody>\n",
       "    <tr>\n",
       "      <th>0</th>\n",
       "      <td>D:\\SLEAP\\20250102_generalizability_experiment\\...</td>\n",
       "      <td>0</td>\n",
       "      <td>210</td>\n",
       "      <td>train</td>\n",
       "    </tr>\n",
       "    <tr>\n",
       "      <th>1</th>\n",
       "      <td>D:\\SLEAP\\20250102_generalizability_experiment\\...</td>\n",
       "      <td>0</td>\n",
       "      <td>45</td>\n",
       "      <td>val</td>\n",
       "    </tr>\n",
       "    <tr>\n",
       "      <th>2</th>\n",
       "      <td>D:\\SLEAP\\20250102_generalizability_experiment\\...</td>\n",
       "      <td>0</td>\n",
       "      <td>45</td>\n",
       "      <td>test</td>\n",
       "    </tr>\n",
       "    <tr>\n",
       "      <th>3</th>\n",
       "      <td>D:\\SLEAP\\20250102_generalizability_experiment\\...</td>\n",
       "      <td>1</td>\n",
       "      <td>210</td>\n",
       "      <td>train</td>\n",
       "    </tr>\n",
       "    <tr>\n",
       "      <th>4</th>\n",
       "      <td>D:\\SLEAP\\20250102_generalizability_experiment\\...</td>\n",
       "      <td>1</td>\n",
       "      <td>45</td>\n",
       "      <td>val</td>\n",
       "    </tr>\n",
       "    <tr>\n",
       "      <th>5</th>\n",
       "      <td>D:\\SLEAP\\20250102_generalizability_experiment\\...</td>\n",
       "      <td>1</td>\n",
       "      <td>45</td>\n",
       "      <td>test</td>\n",
       "    </tr>\n",
       "    <tr>\n",
       "      <th>6</th>\n",
       "      <td>D:\\SLEAP\\20250102_generalizability_experiment\\...</td>\n",
       "      <td>2</td>\n",
       "      <td>210</td>\n",
       "      <td>train</td>\n",
       "    </tr>\n",
       "    <tr>\n",
       "      <th>7</th>\n",
       "      <td>D:\\SLEAP\\20250102_generalizability_experiment\\...</td>\n",
       "      <td>2</td>\n",
       "      <td>45</td>\n",
       "      <td>val</td>\n",
       "    </tr>\n",
       "    <tr>\n",
       "      <th>8</th>\n",
       "      <td>D:\\SLEAP\\20250102_generalizability_experiment\\...</td>\n",
       "      <td>2</td>\n",
       "      <td>45</td>\n",
       "      <td>test</td>\n",
       "    </tr>\n",
       "  </tbody>\n",
       "</table>\n",
       "</div>"
      ],
      "text/plain": [
       "                                                path  version  labeled_frames  \\\n",
       "0  D:\\SLEAP\\20250102_generalizability_experiment\\...        0             210   \n",
       "1  D:\\SLEAP\\20250102_generalizability_experiment\\...        0              45   \n",
       "2  D:\\SLEAP\\20250102_generalizability_experiment\\...        0              45   \n",
       "3  D:\\SLEAP\\20250102_generalizability_experiment\\...        1             210   \n",
       "4  D:\\SLEAP\\20250102_generalizability_experiment\\...        1              45   \n",
       "5  D:\\SLEAP\\20250102_generalizability_experiment\\...        1              45   \n",
       "6  D:\\SLEAP\\20250102_generalizability_experiment\\...        2             210   \n",
       "7  D:\\SLEAP\\20250102_generalizability_experiment\\...        2              45   \n",
       "8  D:\\SLEAP\\20250102_generalizability_experiment\\...        2              45   \n",
       "\n",
       "  split_type  \n",
       "0      train  \n",
       "1        val  \n",
       "2       test  \n",
       "3      train  \n",
       "4        val  \n",
       "5       test  \n",
       "6      train  \n",
       "7        val  \n",
       "8       test  "
      ]
     },
     "execution_count": 12,
     "metadata": {},
     "output_type": "execute_result"
    }
   ],
   "source": [
    "df"
   ]
  }
 ],
 "metadata": {
  "kernelspec": {
   "display_name": "sleap_v1.3.4",
   "language": "python",
   "name": "python3"
  },
  "language_info": {
   "codemirror_mode": {
    "name": "ipython",
    "version": 3
   },
   "file_extension": ".py",
   "mimetype": "text/x-python",
   "name": "python",
   "nbconvert_exporter": "python",
   "pygments_lexer": "ipython3",
   "version": "3.7.12"
  }
 },
 "nbformat": 4,
 "nbformat_minor": 5
}
