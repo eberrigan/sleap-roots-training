{
 "cells": [
  {
   "cell_type": "code",
   "execution_count": 1,
   "metadata": {},
   "outputs": [],
   "source": [
    "import wandb\n",
    "import pandas as pd\n",
    "import seaborn as sns\n",
    "import matplotlib.pyplot as plt\n",
    "import sleap\n",
    "import numpy as np\n",
    "\n",
    "from matplotlib.patches import ConnectionPatch\n",
    "from pathlib import Path"
   ]
  },
  {
   "cell_type": "code",
   "execution_count": 2,
   "metadata": {},
   "outputs": [],
   "source": [
    "import sleap_roots_training"
   ]
  },
  {
   "cell_type": "code",
   "execution_count": 3,
   "metadata": {},
   "outputs": [],
   "source": [
    "# Constants for W&B initialization\n",
    "ENTITY_NAME = \"eberrigan-salk-institute-for-biological-studies\"\n",
    "PROJECT_NAME = \"sleap-roots\"\n",
    "REGISTRY = \"sleap-roots-models\"\n",
    "EXPERIMENT_NAME = \"sorghum-primary-2025-01-06_eval_2025-01-29\""
   ]
  },
  {
   "cell_type": "code",
   "execution_count": 4,
   "metadata": {},
   "outputs": [],
   "source": [
    "GROUPS = [\"sorghum-soybean-canola-pennycress-rice-arabidopsis-primary-2025-01-20\", \"canola-pennycress-arabidopsis-primary-2025-01-20\", \"soybean-primary-2025-01-05\", \"rice-primary-2025-01-19\", \"canola-primary-2025-01-19\", \"pennycress-primary-2025-01-19\", \"arabidopsis-primary-2025-01-19\", \"sorghum-soybean-primary-2025-01-07\", \"sorghum-primary-2025-01-06\"]\n",
    "VERSIONS = [\"000\", \"001\", \"002\"]\n",
    "TEST_GROUP_NAME = \"sorghum-primary-2025-01-06\""
   ]
  },
  {
   "cell_type": "code",
   "execution_count": 5,
   "metadata": {},
   "outputs": [
    {
     "name": "stdout",
     "output_type": "stream",
     "text": [
      "Configuration updated successfully at e:\\repositories\\sleap-roots-training\\sleap_roots_training\\config.yaml.\n",
      "Configuration has been reset to default values.\n"
     ]
    }
   ],
   "source": [
    "sleap_roots_training.reset_config()"
   ]
  },
  {
   "cell_type": "code",
   "execution_count": 6,
   "metadata": {},
   "outputs": [
    {
     "name": "stdout",
     "output_type": "stream",
     "text": [
      "Configuration updated successfully at e:\\repositories\\sleap-roots-training\\sleap_roots_training\\config.yaml.\n",
      "CONFIG updated to {'project_name': 'sleap-roots', 'entity_name': 'eberrigan-salk-institute-for-biological-studies', 'experiment_name': 'sorghum-primary-2025-01-06_eval_2025-01-29', 'registry': 'sleap-roots-models'}.\n"
     ]
    }
   ],
   "source": [
    "sleap_roots_training.update_config(entity_name=ENTITY_NAME, project_name=PROJECT_NAME, registry=REGISTRY, experiment_name=EXPERIMENT_NAME)"
   ]
  },
  {
   "cell_type": "code",
   "execution_count": 7,
   "metadata": {},
   "outputs": [
    {
     "name": "stderr",
     "output_type": "stream",
     "text": [
      "\u001b[34m\u001b[1mwandb\u001b[0m: Using wandb-core as the SDK backend.  Please refer to https://wandb.me/wandb-core for more information.\n",
      "\u001b[34m\u001b[1mwandb\u001b[0m: Currently logged in as: \u001b[33meberrigan\u001b[0m (\u001b[33meberrigan-salk-institute-for-biological-studies\u001b[0m). Use \u001b[1m`wandb login --relogin`\u001b[0m to force relogin\n"
     ]
    },
    {
     "data": {
      "text/html": [
       "Tracking run with wandb version 0.18.6"
      ],
      "text/plain": [
       "<IPython.core.display.HTML object>"
      ]
     },
     "metadata": {},
     "output_type": "display_data"
    },
    {
     "data": {
      "text/html": [
       "Run data is saved locally in <code>e:\\repositories\\sleap-roots-training\\wandb\\run-20250129_192929-0iiaqoer</code>"
      ],
      "text/plain": [
       "<IPython.core.display.HTML object>"
      ]
     },
     "metadata": {},
     "output_type": "display_data"
    },
    {
     "data": {
      "text/html": [
       "Syncing run <strong><a href='https://wandb.ai/eberrigan-salk-institute-for-biological-studies/sleap-roots/runs/0iiaqoer' target=\"_blank\">evaluate_sorghum-primary-2025-01-06_v001_on_sorghum-primary-2025-01-06_v001</a></strong> to <a href='https://wandb.ai/eberrigan-salk-institute-for-biological-studies/sleap-roots' target=\"_blank\">Weights & Biases</a> (<a href='https://wandb.me/developer-guide' target=\"_blank\">docs</a>)<br/>"
      ],
      "text/plain": [
       "<IPython.core.display.HTML object>"
      ]
     },
     "metadata": {},
     "output_type": "display_data"
    },
    {
     "data": {
      "text/html": [
       " View project at <a href='https://wandb.ai/eberrigan-salk-institute-for-biological-studies/sleap-roots' target=\"_blank\">https://wandb.ai/eberrigan-salk-institute-for-biological-studies/sleap-roots</a>"
      ],
      "text/plain": [
       "<IPython.core.display.HTML object>"
      ]
     },
     "metadata": {},
     "output_type": "display_data"
    },
    {
     "data": {
      "text/html": [
       " View run at <a href='https://wandb.ai/eberrigan-salk-institute-for-biological-studies/sleap-roots/runs/0iiaqoer' target=\"_blank\">https://wandb.ai/eberrigan-salk-institute-for-biological-studies/sleap-roots/runs/0iiaqoer</a>"
      ],
      "text/plain": [
       "<IPython.core.display.HTML object>"
      ]
     },
     "metadata": {},
     "output_type": "display_data"
    },
    {
     "name": "stdout",
     "output_type": "stream",
     "text": [
      "Fetching artifact: eberrigan-salk-institute-for-biological-studies-org/wandb-registry-sleap-roots-models/sorghum-primary-2025-01-06_v001:latest\n"
     ]
    },
    {
     "name": "stderr",
     "output_type": "stream",
     "text": [
      "\u001b[34m\u001b[1mwandb\u001b[0m: \u001b[33mWARNING\u001b[0m Registries can be linked/fetched using a shorthand form without specifying the organization name. Try using shorthand path format: <my_registry_name>/<artifact_name> or just <my_registry_name> if fetching just the project.\n"
     ]
    },
    {
     "name": "stdout",
     "output_type": "stream",
     "text": [
      "Fetching artifact: eberrigan-salk-institute-for-biological-studies-org/wandb-registry-sleap-roots-models/sorghum-primary-2025-01-06_v001:latest\n"
     ]
    },
    {
     "name": "stderr",
     "output_type": "stream",
     "text": [
      "\u001b[34m\u001b[1mwandb\u001b[0m: \u001b[33mWARNING\u001b[0m Registries can be linked/fetched using a shorthand form without specifying the organization name. Try using shorthand path format: <my_registry_name>/<artifact_name> or just <my_registry_name> if fetching just the project.\n",
      "\u001b[34m\u001b[1mwandb\u001b[0m: Downloading large artifact sorghum-primary-2025-01-06_v001:latest, 59.48MB. 16 files... \n"
     ]
    },
    {
     "name": "stdout",
     "output_type": "stream",
     "text": [
      "Loaded test data from D:\\SLEAP\\20250102_generalizability_experiment\\primary\\sorghum\\train_test_split.v001\\test.pkg.slp.\n",
      "Test data saved to sorghum-primary-2025-01-06_v001_test/sorghum-primary-2025-01-06_v001_test_labels.slp\n"
     ]
    },
    {
     "name": "stderr",
     "output_type": "stream",
     "text": [
      "\u001b[34m\u001b[1mwandb\u001b[0m:   16 of 16 files downloaded.  \n",
      "Done. 0:0:0.3\n"
     ]
    },
    {
     "data": {
      "application/vnd.jupyter.widget-view+json": {
       "model_id": "7ff047e89a984ec685e109d581778332",
       "version_major": 2,
       "version_minor": 0
      },
      "text/plain": [
       "Output()"
      ]
     },
     "metadata": {},
     "output_type": "display_data"
    },
    {
     "name": "stdout",
     "output_type": "stream",
     "text": [
      "Model loaded successfully from e:\\repositories\\sleap-roots-training\\artifacts\\sorghum-primary-2025-01-06_v001-v0.\n"
     ]
    },
    {
     "data": {
      "text/html": [
       "<pre style=\"white-space:pre;overflow-x:auto;line-height:normal;font-family:Menlo,'DejaVu Sans Mono',consolas,'Courier New',monospace\"></pre>\n"
      ],
      "text/plain": []
     },
     "metadata": {},
     "output_type": "display_data"
    },
    {
     "name": "stdout",
     "output_type": "stream",
     "text": [
      "INFO:sleap.nn.evals:OKS mAP: 0.032449\n",
      "Predictions saved to sorghum-primary-2025-01-06_v001_test/sorghum-primary-2025-01-06_v001_on_sorghum-primary-2025-01-06_v001_test_predictions.slp\n",
      "Metrics saved to sorghum-primary-2025-01-06_v001_test/sorghum-primary-2025-01-06_v001_on_sorghum-primary-2025-01-06_v001_metrics.csv\n",
      "Distances saved to sorghum-primary-2025-01-06_v001_test/sorghum-primary-2025-01-06_v001_on_sorghum-primary-2025-01-06_v001_distances.csv\n",
      "Distance histogram saved to sorghum-primary-2025-01-06_v001_test\\sorghum-primary-2025-01-06_v001_on_sorghum-primary-2025-01-06_v001_distance_histogram.png\n"
     ]
    },
    {
     "data": {
      "application/vnd.jupyter.widget-view+json": {
       "model_id": "5e776b440c5745ccbb2a88891e96895b",
       "version_major": 2,
       "version_minor": 0
      },
      "text/plain": [
       "VBox(children=(Label(value='0.324 MB of 0.324 MB uploaded\\r'), FloatProgress(value=1.0, max=1.0)))"
      ]
     },
     "metadata": {},
     "output_type": "display_data"
    },
    {
     "data": {
      "text/html": [
       "\n",
       "    <style>\n",
       "        .wandb-row {\n",
       "            display: flex;\n",
       "            flex-direction: row;\n",
       "            flex-wrap: wrap;\n",
       "            justify-content: flex-start;\n",
       "            width: 100%;\n",
       "        }\n",
       "        .wandb-col {\n",
       "            display: flex;\n",
       "            flex-direction: column;\n",
       "            flex-basis: 100%;\n",
       "            flex: 1;\n",
       "            padding: 10px;\n",
       "        }\n",
       "    </style>\n",
       "<div class=\"wandb-row\"><div class=\"wandb-col\"><h3>Run summary:</h3><br/><table class=\"wandb\"><tr><td>dist_avg</td><td>1.99907</td></tr><tr><td>dist_p50</td><td>0.99889</td></tr><tr><td>dist_p90</td><td>4.64859</td></tr><tr><td>dist_p95</td><td>6.59902</td></tr><tr><td>dist_p99</td><td>10.75691</td></tr><tr><td>dist_std</td><td>2.30036</td></tr><tr><td>model_name</td><td>sorghum-primary-2025...</td></tr><tr><td>model_path</td><td>e:\\repositories\\slea...</td></tr><tr><td>oks_map</td><td>0.03245</td></tr><tr><td>oks_mar</td><td>0.05333</td></tr><tr><td>vis_prec</td><td>1</td></tr><tr><td>vis_recall</td><td>0.6553</td></tr></table><br/></div></div>"
      ],
      "text/plain": [
       "<IPython.core.display.HTML object>"
      ]
     },
     "metadata": {},
     "output_type": "display_data"
    },
    {
     "data": {
      "text/html": [
       " View run <strong style=\"color:#cdcd00\">evaluate_sorghum-primary-2025-01-06_v001_on_sorghum-primary-2025-01-06_v001</strong> at: <a href='https://wandb.ai/eberrigan-salk-institute-for-biological-studies/sleap-roots/runs/0iiaqoer' target=\"_blank\">https://wandb.ai/eberrigan-salk-institute-for-biological-studies/sleap-roots/runs/0iiaqoer</a><br/> View project at: <a href='https://wandb.ai/eberrigan-salk-institute-for-biological-studies/sleap-roots' target=\"_blank\">https://wandb.ai/eberrigan-salk-institute-for-biological-studies/sleap-roots</a><br/>Synced 6 W&B file(s), 0 media file(s), 8 artifact file(s) and 0 other file(s)"
      ],
      "text/plain": [
       "<IPython.core.display.HTML object>"
      ]
     },
     "metadata": {},
     "output_type": "display_data"
    },
    {
     "data": {
      "text/html": [
       "Find logs at: <code>.\\wandb\\run-20250129_192929-0iiaqoer\\logs</code>"
      ],
      "text/plain": [
       "<IPython.core.display.HTML object>"
      ]
     },
     "metadata": {},
     "output_type": "display_data"
    },
    {
     "data": {
      "text/plain": [
       "(Labels(labeled_frames=45, videos=42, skeletons=1, tracks=0),\n",
       " {'vis.tp': rec.array(173,\n",
       "            dtype=int32),\n",
       "  'vis.fp': rec.array(0,\n",
       "            dtype=int32),\n",
       "  'vis.tn': rec.array(0,\n",
       "            dtype=int32),\n",
       "  'vis.fn': rec.array(91,\n",
       "            dtype=int32),\n",
       "  'vis.precision': rec.array(1.,\n",
       "            dtype=float64),\n",
       "  'vis.recall': rec.array(0.65530303,\n",
       "            dtype=float64),\n",
       "  'dist.frame_idxs': [0,\n",
       "   41,\n",
       "   0,\n",
       "   0,\n",
       "   0,\n",
       "   39,\n",
       "   38,\n",
       "   46,\n",
       "   0,\n",
       "   43,\n",
       "   36,\n",
       "   27,\n",
       "   19,\n",
       "   53,\n",
       "   33,\n",
       "   63,\n",
       "   35,\n",
       "   28,\n",
       "   43,\n",
       "   25,\n",
       "   24,\n",
       "   67,\n",
       "   43,\n",
       "   71,\n",
       "   16,\n",
       "   0,\n",
       "   43,\n",
       "   0,\n",
       "   0,\n",
       "   31,\n",
       "   51,\n",
       "   57,\n",
       "   48,\n",
       "   18,\n",
       "   43,\n",
       "   15,\n",
       "   36,\n",
       "   9,\n",
       "   41,\n",
       "   39,\n",
       "   54,\n",
       "   48,\n",
       "   39,\n",
       "   0],\n",
       "  'dist.video_paths': ['D:\\\\SLEAP\\\\20250102_generalizability_experiment\\\\primary\\\\sorghum\\\\train_test_split.v001\\\\test.pkg.slp',\n",
       "   'D:\\\\SLEAP\\\\20250102_generalizability_experiment\\\\primary\\\\sorghum\\\\train_test_split.v001\\\\test.pkg.slp',\n",
       "   'D:\\\\SLEAP\\\\20250102_generalizability_experiment\\\\primary\\\\sorghum\\\\train_test_split.v001\\\\test.pkg.slp',\n",
       "   'D:\\\\SLEAP\\\\20250102_generalizability_experiment\\\\primary\\\\sorghum\\\\train_test_split.v001\\\\test.pkg.slp',\n",
       "   'D:\\\\SLEAP\\\\20250102_generalizability_experiment\\\\primary\\\\sorghum\\\\train_test_split.v001\\\\test.pkg.slp',\n",
       "   'D:\\\\SLEAP\\\\20250102_generalizability_experiment\\\\primary\\\\sorghum\\\\train_test_split.v001\\\\test.pkg.slp',\n",
       "   'D:\\\\SLEAP\\\\20250102_generalizability_experiment\\\\primary\\\\sorghum\\\\train_test_split.v001\\\\test.pkg.slp',\n",
       "   'D:\\\\SLEAP\\\\20250102_generalizability_experiment\\\\primary\\\\sorghum\\\\train_test_split.v001\\\\test.pkg.slp',\n",
       "   'D:\\\\SLEAP\\\\20250102_generalizability_experiment\\\\primary\\\\sorghum\\\\train_test_split.v001\\\\test.pkg.slp',\n",
       "   'D:\\\\SLEAP\\\\20250102_generalizability_experiment\\\\primary\\\\sorghum\\\\train_test_split.v001\\\\test.pkg.slp',\n",
       "   'D:\\\\SLEAP\\\\20250102_generalizability_experiment\\\\primary\\\\sorghum\\\\train_test_split.v001\\\\test.pkg.slp',\n",
       "   'D:\\\\SLEAP\\\\20250102_generalizability_experiment\\\\primary\\\\sorghum\\\\train_test_split.v001\\\\test.pkg.slp',\n",
       "   'D:\\\\SLEAP\\\\20250102_generalizability_experiment\\\\primary\\\\sorghum\\\\train_test_split.v001\\\\test.pkg.slp',\n",
       "   'D:\\\\SLEAP\\\\20250102_generalizability_experiment\\\\primary\\\\sorghum\\\\train_test_split.v001\\\\test.pkg.slp',\n",
       "   'D:\\\\SLEAP\\\\20250102_generalizability_experiment\\\\primary\\\\sorghum\\\\train_test_split.v001\\\\test.pkg.slp',\n",
       "   'D:\\\\SLEAP\\\\20250102_generalizability_experiment\\\\primary\\\\sorghum\\\\train_test_split.v001\\\\test.pkg.slp',\n",
       "   'D:\\\\SLEAP\\\\20250102_generalizability_experiment\\\\primary\\\\sorghum\\\\train_test_split.v001\\\\test.pkg.slp',\n",
       "   'D:\\\\SLEAP\\\\20250102_generalizability_experiment\\\\primary\\\\sorghum\\\\train_test_split.v001\\\\test.pkg.slp',\n",
       "   'D:\\\\SLEAP\\\\20250102_generalizability_experiment\\\\primary\\\\sorghum\\\\train_test_split.v001\\\\test.pkg.slp',\n",
       "   'D:\\\\SLEAP\\\\20250102_generalizability_experiment\\\\primary\\\\sorghum\\\\train_test_split.v001\\\\test.pkg.slp',\n",
       "   'D:\\\\SLEAP\\\\20250102_generalizability_experiment\\\\primary\\\\sorghum\\\\train_test_split.v001\\\\test.pkg.slp',\n",
       "   'D:\\\\SLEAP\\\\20250102_generalizability_experiment\\\\primary\\\\sorghum\\\\train_test_split.v001\\\\test.pkg.slp',\n",
       "   'D:\\\\SLEAP\\\\20250102_generalizability_experiment\\\\primary\\\\sorghum\\\\train_test_split.v001\\\\test.pkg.slp',\n",
       "   'D:\\\\SLEAP\\\\20250102_generalizability_experiment\\\\primary\\\\sorghum\\\\train_test_split.v001\\\\test.pkg.slp',\n",
       "   'D:\\\\SLEAP\\\\20250102_generalizability_experiment\\\\primary\\\\sorghum\\\\train_test_split.v001\\\\test.pkg.slp',\n",
       "   'D:\\\\SLEAP\\\\20250102_generalizability_experiment\\\\primary\\\\sorghum\\\\train_test_split.v001\\\\test.pkg.slp',\n",
       "   'D:\\\\SLEAP\\\\20250102_generalizability_experiment\\\\primary\\\\sorghum\\\\train_test_split.v001\\\\test.pkg.slp',\n",
       "   'D:\\\\SLEAP\\\\20250102_generalizability_experiment\\\\primary\\\\sorghum\\\\train_test_split.v001\\\\test.pkg.slp',\n",
       "   'D:\\\\SLEAP\\\\20250102_generalizability_experiment\\\\primary\\\\sorghum\\\\train_test_split.v001\\\\test.pkg.slp',\n",
       "   'D:\\\\SLEAP\\\\20250102_generalizability_experiment\\\\primary\\\\sorghum\\\\train_test_split.v001\\\\test.pkg.slp',\n",
       "   'D:\\\\SLEAP\\\\20250102_generalizability_experiment\\\\primary\\\\sorghum\\\\train_test_split.v001\\\\test.pkg.slp',\n",
       "   'D:\\\\SLEAP\\\\20250102_generalizability_experiment\\\\primary\\\\sorghum\\\\train_test_split.v001\\\\test.pkg.slp',\n",
       "   'D:\\\\SLEAP\\\\20250102_generalizability_experiment\\\\primary\\\\sorghum\\\\train_test_split.v001\\\\test.pkg.slp',\n",
       "   'D:\\\\SLEAP\\\\20250102_generalizability_experiment\\\\primary\\\\sorghum\\\\train_test_split.v001\\\\test.pkg.slp',\n",
       "   'D:\\\\SLEAP\\\\20250102_generalizability_experiment\\\\primary\\\\sorghum\\\\train_test_split.v001\\\\test.pkg.slp',\n",
       "   'D:\\\\SLEAP\\\\20250102_generalizability_experiment\\\\primary\\\\sorghum\\\\train_test_split.v001\\\\test.pkg.slp',\n",
       "   'D:\\\\SLEAP\\\\20250102_generalizability_experiment\\\\primary\\\\sorghum\\\\train_test_split.v001\\\\test.pkg.slp',\n",
       "   'D:\\\\SLEAP\\\\20250102_generalizability_experiment\\\\primary\\\\sorghum\\\\train_test_split.v001\\\\test.pkg.slp',\n",
       "   'D:\\\\SLEAP\\\\20250102_generalizability_experiment\\\\primary\\\\sorghum\\\\train_test_split.v001\\\\test.pkg.slp',\n",
       "   'D:\\\\SLEAP\\\\20250102_generalizability_experiment\\\\primary\\\\sorghum\\\\train_test_split.v001\\\\test.pkg.slp',\n",
       "   'D:\\\\SLEAP\\\\20250102_generalizability_experiment\\\\primary\\\\sorghum\\\\train_test_split.v001\\\\test.pkg.slp',\n",
       "   'D:\\\\SLEAP\\\\20250102_generalizability_experiment\\\\primary\\\\sorghum\\\\train_test_split.v001\\\\test.pkg.slp',\n",
       "   'D:\\\\SLEAP\\\\20250102_generalizability_experiment\\\\primary\\\\sorghum\\\\train_test_split.v001\\\\test.pkg.slp',\n",
       "   'D:\\\\SLEAP\\\\20250102_generalizability_experiment\\\\primary\\\\sorghum\\\\train_test_split.v001\\\\test.pkg.slp'],\n",
       "  'dist.dists': array([[ 47.34664841,  15.98548177, 128.39904248,  23.78917912,\n",
       "                   nan,          nan],\n",
       "         [  4.97516149,  81.35399228, 230.67851446,          nan,\n",
       "                   nan,          nan],\n",
       "         [  3.64175434,  58.00544099,  39.54843789,  30.71150318,\n",
       "            2.09704753,          nan],\n",
       "         [  2.69517391,  98.34552965, 180.23396488, 189.63916714,\n",
       "                   nan,          nan],\n",
       "         [         nan,  87.56731028,  79.03698069, 142.82457525,\n",
       "                   nan,          nan],\n",
       "         [  7.41511844,  56.92912123,          nan,          nan,\n",
       "                   nan,          nan],\n",
       "         [  1.41838041,  61.37828267,          nan,          nan,\n",
       "                   nan,          nan],\n",
       "         [  4.10384698,  40.70751541,  49.17901785,          nan,\n",
       "                   nan,          nan],\n",
       "         [  3.43626416,  58.58488437, 103.97645623,  50.72340894,\n",
       "           78.98212183, 122.66216143],\n",
       "         [  1.95621277,  17.93941465,  30.9860478 ,          nan,\n",
       "                   nan,          nan],\n",
       "         [         nan,          nan,  18.55835001,  42.67870232,\n",
       "           30.72019655,          nan],\n",
       "         [         nan,          nan,          nan,  65.67850298,\n",
       "           70.7109701 ,   1.38671141],\n",
       "         [  5.79179123,  18.43612478, 101.09732682,  70.45899157,\n",
       "           78.12916539,   5.55044162],\n",
       "         [  3.92138739,  27.22367251,          nan,          nan,\n",
       "                   nan,          nan],\n",
       "         [ 10.7243905 ,  30.91427773,   8.13574643,          nan,\n",
       "                   nan,          nan],\n",
       "         [ 14.98044916,  61.85402718,  55.50229332,  25.95930828,\n",
       "           21.63080419,          nan],\n",
       "         [  2.71708634,  16.86673142,   9.66881111,          nan,\n",
       "                   nan,          nan],\n",
       "         [ 16.89059054,  17.53624122,  16.97087228,  15.44445412,\n",
       "            2.42244311,   8.80630187],\n",
       "         [         nan,          nan, 124.49750487,  15.47273972,\n",
       "            9.14265115,   0.69002361],\n",
       "         [  5.6538688 ,   4.42393792,   4.06553756,  11.84549902,\n",
       "                   nan,          nan],\n",
       "         [ 38.13560917,  25.51197964,  66.28154503,          nan,\n",
       "                   nan,          nan],\n",
       "         [ 11.08057045,  13.16036692,  80.78770516,          nan,\n",
       "                   nan,          nan],\n",
       "         [         nan,          nan,          nan,  63.18493359,\n",
       "           69.47688629,   3.43223597],\n",
       "         [         nan,          nan,          nan,  25.02821257,\n",
       "           42.32179862,   6.23109648],\n",
       "         [  5.27746587,   6.33922131,  15.46229602,   3.82487756,\n",
       "           24.06447194,   4.0687404 ],\n",
       "         [ 15.74241981,  49.6608636 ,  55.62670927,   8.90931514,\n",
       "            9.80743173,   3.96581955],\n",
       "         [  2.41408084,  10.26484332,  15.71379248,          nan,\n",
       "                   nan,          nan],\n",
       "         [  5.46688311,   3.37769638,  14.00281017,  23.05732553,\n",
       "           25.2041272 ,   0.56694001],\n",
       "         [  2.75124309,  32.29771511,  39.84537148,   2.10313593,\n",
       "           28.86158869,   1.32433149],\n",
       "         [  6.22412616,  13.0894059 ,   9.98348675,  37.88754481,\n",
       "           14.69372034,   0.8454948 ],\n",
       "         [  7.19149771,   1.33397577,   9.45351406,  21.98645584,\n",
       "           22.27471908,   1.1189657 ],\n",
       "         [         nan,          nan,  83.41025524,   2.95591874,\n",
       "           11.41956714,   5.29934752],\n",
       "         [  7.55811497,  21.96605245,  38.44912829, 126.13700238,\n",
       "           76.48965068,  15.76127865],\n",
       "         [  2.57645512,  68.02831957,  10.82238646,  40.17778315,\n",
       "                   nan,          nan],\n",
       "         [         nan,   1.76123627, 143.63245787,  64.45209522,\n",
       "                   nan,          nan],\n",
       "         [  2.00716494,   5.89675652,  12.37271778,   2.22527788,\n",
       "                   nan,          nan],\n",
       "         [         nan,          nan,          nan,          nan,\n",
       "           51.23242412,   6.0934891 ],\n",
       "         [  0.53487422,  56.73457543,  57.23405458,          nan,\n",
       "                   nan,          nan],\n",
       "         [ 22.54807366,  60.4056232 ,  67.60759047,  52.13394827,\n",
       "                   nan,          nan],\n",
       "         [  3.56371823,   6.44021884,  16.98114894,          nan,\n",
       "                   nan,          nan],\n",
       "         [  6.87730232,  30.1844536 ,  16.37372504,          nan,\n",
       "                   nan,          nan],\n",
       "         [  1.46675067,  47.33505954,  41.98998237,  42.34849854,\n",
       "                   nan,          nan],\n",
       "         [  9.66756075,  48.46087305,  72.75049383, 105.19753654,\n",
       "           55.49615077,   8.03388557],\n",
       "         [ 16.75921725,  40.28334391,          nan,          nan,\n",
       "                   nan,          nan]]),\n",
       "  'dist.avg': 33.984179135925096,\n",
       "  'dist.p50': 16.981148942372197,\n",
       "  'dist.p75': 51.23242412152517,\n",
       "  'dist.p90': 79.02600891764266,\n",
       "  'dist.p95': 112.18338649462729,\n",
       "  'dist.p99': 182.86742151604253,\n",
       "  'pck.thresholds': array([ 1.,  2.,  3.,  4.,  5.,  6.,  7.,  8.,  9., 10.]),\n",
       "  'pck.pcks': array([[[False, False, False, ..., False, False, False],\n",
       "          [False, False, False, ..., False, False, False],\n",
       "          [False, False, False, ..., False, False, False],\n",
       "          [False, False, False, ..., False, False, False],\n",
       "          [False, False, False, ..., False, False, False],\n",
       "          [False, False, False, ..., False, False, False]],\n",
       "  \n",
       "         [[False, False, False, ...,  True,  True,  True],\n",
       "          [False, False, False, ..., False, False, False],\n",
       "          [False, False, False, ..., False, False, False],\n",
       "          [False, False, False, ..., False, False, False],\n",
       "          [False, False, False, ..., False, False, False],\n",
       "          [False, False, False, ..., False, False, False]],\n",
       "  \n",
       "         [[False, False, False, ...,  True,  True,  True],\n",
       "          [False, False, False, ..., False, False, False],\n",
       "          [False, False, False, ..., False, False, False],\n",
       "          [False, False, False, ..., False, False, False],\n",
       "          [False, False,  True, ...,  True,  True,  True],\n",
       "          [False, False, False, ..., False, False, False]],\n",
       "  \n",
       "         ...,\n",
       "  \n",
       "         [[False,  True,  True, ...,  True,  True,  True],\n",
       "          [False, False, False, ..., False, False, False],\n",
       "          [False, False, False, ..., False, False, False],\n",
       "          [False, False, False, ..., False, False, False],\n",
       "          [False, False, False, ..., False, False, False],\n",
       "          [False, False, False, ..., False, False, False]],\n",
       "  \n",
       "         [[False, False, False, ..., False, False,  True],\n",
       "          [False, False, False, ..., False, False, False],\n",
       "          [False, False, False, ..., False, False, False],\n",
       "          [False, False, False, ..., False, False, False],\n",
       "          [False, False, False, ..., False, False, False],\n",
       "          [False, False, False, ..., False,  True,  True]],\n",
       "  \n",
       "         [[False, False, False, ..., False, False, False],\n",
       "          [False, False, False, ..., False, False, False],\n",
       "          [False, False, False, ..., False, False, False],\n",
       "          [False, False, False, ..., False, False, False],\n",
       "          [False, False, False, ..., False, False, False],\n",
       "          [False, False, False, ..., False, False, False]]]),\n",
       "  'pck.mPCK_parts': array([0.37045455, 0.1       , 0.025     , 0.075     , 0.04090909,\n",
       "         0.225     ]),\n",
       "  'pck.mPCK': 0.13939393939393938,\n",
       "  'oks.mOKS': 0.28330566000612,\n",
       "  'oks_voc.match_score_thresholds': array([0.5 , 0.55, 0.6 , 0.65, 0.7 , 0.75, 0.8 , 0.85, 0.9 , 0.95]),\n",
       "  'oks_voc.recall_thresholds': array([0.  , 0.01, 0.02, 0.03, 0.04, 0.05, 0.06, 0.07, 0.08, 0.09, 0.1 ,\n",
       "         0.11, 0.12, 0.13, 0.14, 0.15, 0.16, 0.17, 0.18, 0.19, 0.2 , 0.21,\n",
       "         0.22, 0.23, 0.24, 0.25, 0.26, 0.27, 0.28, 0.29, 0.3 , 0.31, 0.32,\n",
       "         0.33, 0.34, 0.35, 0.36, 0.37, 0.38, 0.39, 0.4 , 0.41, 0.42, 0.43,\n",
       "         0.44, 0.45, 0.46, 0.47, 0.48, 0.49, 0.5 , 0.51, 0.52, 0.53, 0.54,\n",
       "         0.55, 0.56, 0.57, 0.58, 0.59, 0.6 , 0.61, 0.62, 0.63, 0.64, 0.65,\n",
       "         0.66, 0.67, 0.68, 0.69, 0.7 , 0.71, 0.72, 0.73, 0.74, 0.75, 0.76,\n",
       "         0.77, 0.78, 0.79, 0.8 , 0.81, 0.82, 0.83, 0.84, 0.85, 0.86, 0.87,\n",
       "         0.88, 0.89, 0.9 , 0.91, 0.92, 0.93, 0.94, 0.95, 0.96, 0.97, 0.98,\n",
       "         0.99, 1.  ]),\n",
       "  'oks_voc.match_scores': array([3.57606113e-01, 6.89698125e-01, 7.35894743e-01, 1.68442578e-01,\n",
       "         5.58966375e-01, 6.54983045e-01, 5.05513974e-01, 7.78757091e-01,\n",
       "         3.30068394e-01, 1.09511058e-01, 3.03861176e-01, 1.94082219e-01,\n",
       "         4.26687205e-01, 5.54498027e-01, 3.96028989e-01, 1.67174928e-01,\n",
       "         3.20257344e-01, 3.88794576e-02, 2.59347971e-01, 1.66426376e-01,\n",
       "         2.15692711e-01, 4.35011542e-01, 1.72600242e-01, 4.05134189e-01,\n",
       "         1.63414677e-01, 4.44086647e-01, 2.83947121e-01, 2.14655105e-01,\n",
       "         2.25808464e-01, 2.64155270e-01, 1.93733324e-01, 1.65331937e-01,\n",
       "         1.66061411e-01, 4.37240203e-03, 2.79735208e-01, 2.75802912e-01,\n",
       "         5.71234687e-07, 4.92871306e-03, 1.73736193e-01, 1.74311430e-01,\n",
       "         6.44079724e-10, 1.72461758e-01, 1.49421668e-01, 1.64360354e-01]),\n",
       "  'oks_voc.precisions': array([[0.75      , 0.75      , 0.75      , ..., 0.        , 0.        ,\n",
       "          0.        ],\n",
       "         [0.66666667, 0.66666667, 0.66666667, ..., 0.        , 0.        ,\n",
       "          0.        ],\n",
       "         [0.66666667, 0.66666667, 0.66666667, ..., 0.        , 0.        ,\n",
       "          0.        ],\n",
       "         ...,\n",
       "         [0.        , 0.        , 0.        , ..., 0.        , 0.        ,\n",
       "          0.        ],\n",
       "         [0.        , 0.        , 0.        , ..., 0.        , 0.        ,\n",
       "          0.        ],\n",
       "         [0.        , 0.        , 0.        , ..., 0.        , 0.        ,\n",
       "          0.        ]]),\n",
       "  'oks_voc.recalls': array([0.15555556, 0.13333333, 0.08888889, 0.08888889, 0.04444444,\n",
       "         0.02222222, 0.        , 0.        , 0.        , 0.        ]),\n",
       "  'oks_voc.AP': array([0.11386139, 0.08645686, 0.05280528, 0.05280528, 0.01485149,\n",
       "         0.00371287, 0.        , 0.        , 0.        , 0.        ]),\n",
       "  'oks_voc.AR': array([0.15555556, 0.13333333, 0.08888889, 0.08888889, 0.04444444,\n",
       "         0.02222222, 0.        , 0.        , 0.        , 0.        ]),\n",
       "  'oks_voc.mAP': 0.032449316360207446,\n",
       "  'oks_voc.mAR': 0.05333333333333333,\n",
       "  'pck_voc.match_score_thresholds': array([0.5 , 0.55, 0.6 , 0.65, 0.7 , 0.75, 0.8 , 0.85, 0.9 , 0.95]),\n",
       "  'pck_voc.recall_thresholds': array([0.  , 0.01, 0.02, 0.03, 0.04, 0.05, 0.06, 0.07, 0.08, 0.09, 0.1 ,\n",
       "         0.11, 0.12, 0.13, 0.14, 0.15, 0.16, 0.17, 0.18, 0.19, 0.2 , 0.21,\n",
       "         0.22, 0.23, 0.24, 0.25, 0.26, 0.27, 0.28, 0.29, 0.3 , 0.31, 0.32,\n",
       "         0.33, 0.34, 0.35, 0.36, 0.37, 0.38, 0.39, 0.4 , 0.41, 0.42, 0.43,\n",
       "         0.44, 0.45, 0.46, 0.47, 0.48, 0.49, 0.5 , 0.51, 0.52, 0.53, 0.54,\n",
       "         0.55, 0.56, 0.57, 0.58, 0.59, 0.6 , 0.61, 0.62, 0.63, 0.64, 0.65,\n",
       "         0.66, 0.67, 0.68, 0.69, 0.7 , 0.71, 0.72, 0.73, 0.74, 0.75, 0.76,\n",
       "         0.77, 0.78, 0.79, 0.8 , 0.81, 0.82, 0.83, 0.84, 0.85, 0.86, 0.87,\n",
       "         0.88, 0.89, 0.9 , 0.91, 0.92, 0.93, 0.94, 0.95, 0.96, 0.97, 0.98,\n",
       "         0.99, 1.  ]),\n",
       "  'pck_voc.match_scores': array([0.36666667, 0.36666667, 0.25      , 0.11666667, 0.41666667,\n",
       "         0.36666667, 0.16666667, 0.16666667, 0.05      , 0.        ,\n",
       "         0.25      , 0.05      , 0.16666667, 0.28333333, 0.13333333,\n",
       "         0.13333333, 0.35      , 0.        , 0.18333333, 0.15      ,\n",
       "         0.        , 0.21666667, 0.1       , 0.06666667, 0.11666667,\n",
       "         0.13333333, 0.15      , 0.06666667, 0.16666667, 0.15      ,\n",
       "         0.18333333, 0.15      , 0.15      , 0.        , 0.03333333,\n",
       "         0.        , 0.        , 0.        , 0.1       , 0.11666667,\n",
       "         0.        , 0.06666667, 0.05      , 0.15      ]),\n",
       "  'pck_voc.precisions': array([[0., 0., 0., ..., 0., 0., 0.],\n",
       "         [0., 0., 0., ..., 0., 0., 0.],\n",
       "         [0., 0., 0., ..., 0., 0., 0.],\n",
       "         ...,\n",
       "         [0., 0., 0., ..., 0., 0., 0.],\n",
       "         [0., 0., 0., ..., 0., 0., 0.],\n",
       "         [0., 0., 0., ..., 0., 0., 0.]]),\n",
       "  'pck_voc.recalls': array([0., 0., 0., 0., 0., 0., 0., 0., 0., 0.]),\n",
       "  'pck_voc.AP': array([0., 0., 0., 0., 0., 0., 0., 0., 0., 0.]),\n",
       "  'pck_voc.AR': array([0., 0., 0., 0., 0., 0., 0., 0., 0., 0.]),\n",
       "  'pck_voc.mAP': 0.0,\n",
       "  'pck_voc.mAR': 0.0})"
      ]
     },
     "execution_count": 7,
     "metadata": {},
     "output_type": "execute_result"
    }
   ],
   "source": [
    "sleap_roots_training.evaluate_model(\"sorghum-primary-2025-01-06_v001\", \"sorghum-primary-2025-01-06_v001\", \"sorghum-primary-2025-01-06_v001_test\")"
   ]
  },
  {
   "cell_type": "code",
   "execution_count": 9,
   "metadata": {},
   "outputs": [
    {
     "data": {
      "text/html": [
       "Tracking run with wandb version 0.18.6"
      ],
      "text/plain": [
       "<IPython.core.display.HTML object>"
      ]
     },
     "metadata": {},
     "output_type": "display_data"
    },
    {
     "data": {
      "text/html": [
       "Run data is saved locally in <code>e:\\repositories\\sleap-roots-training\\wandb\\run-20250129_193027-0ey1eg9m</code>"
      ],
      "text/plain": [
       "<IPython.core.display.HTML object>"
      ]
     },
     "metadata": {},
     "output_type": "display_data"
    },
    {
     "data": {
      "text/html": [
       "Syncing run <strong><a href='https://wandb.ai/eberrigan-salk-institute-for-biological-studies/sleap-roots/runs/0ey1eg9m' target=\"_blank\">evaluate_sorghum-primary-2025-01-06_v002_on_sorghum-primary-2025-01-06_v002</a></strong> to <a href='https://wandb.ai/eberrigan-salk-institute-for-biological-studies/sleap-roots' target=\"_blank\">Weights & Biases</a> (<a href='https://wandb.me/developer-guide' target=\"_blank\">docs</a>)<br/>"
      ],
      "text/plain": [
       "<IPython.core.display.HTML object>"
      ]
     },
     "metadata": {},
     "output_type": "display_data"
    },
    {
     "data": {
      "text/html": [
       " View project at <a href='https://wandb.ai/eberrigan-salk-institute-for-biological-studies/sleap-roots' target=\"_blank\">https://wandb.ai/eberrigan-salk-institute-for-biological-studies/sleap-roots</a>"
      ],
      "text/plain": [
       "<IPython.core.display.HTML object>"
      ]
     },
     "metadata": {},
     "output_type": "display_data"
    },
    {
     "data": {
      "text/html": [
       " View run at <a href='https://wandb.ai/eberrigan-salk-institute-for-biological-studies/sleap-roots/runs/0ey1eg9m' target=\"_blank\">https://wandb.ai/eberrigan-salk-institute-for-biological-studies/sleap-roots/runs/0ey1eg9m</a>"
      ],
      "text/plain": [
       "<IPython.core.display.HTML object>"
      ]
     },
     "metadata": {},
     "output_type": "display_data"
    },
    {
     "name": "stdout",
     "output_type": "stream",
     "text": [
      "Fetching artifact: eberrigan-salk-institute-for-biological-studies-org/wandb-registry-sleap-roots-models/sorghum-primary-2025-01-06_v002:latest\n"
     ]
    },
    {
     "name": "stderr",
     "output_type": "stream",
     "text": [
      "\u001b[34m\u001b[1mwandb\u001b[0m: \u001b[33mWARNING\u001b[0m Registries can be linked/fetched using a shorthand form without specifying the organization name. Try using shorthand path format: <my_registry_name>/<artifact_name> or just <my_registry_name> if fetching just the project.\n"
     ]
    },
    {
     "name": "stdout",
     "output_type": "stream",
     "text": [
      "Fetching artifact: eberrigan-salk-institute-for-biological-studies-org/wandb-registry-sleap-roots-models/sorghum-primary-2025-01-06_v002:latest\n"
     ]
    },
    {
     "name": "stderr",
     "output_type": "stream",
     "text": [
      "\u001b[34m\u001b[1mwandb\u001b[0m: \u001b[33mWARNING\u001b[0m Registries can be linked/fetched using a shorthand form without specifying the organization name. Try using shorthand path format: <my_registry_name>/<artifact_name> or just <my_registry_name> if fetching just the project.\n",
      "\u001b[34m\u001b[1mwandb\u001b[0m: Downloading large artifact sorghum-primary-2025-01-06_v002:latest, 59.48MB. 16 files... \n"
     ]
    },
    {
     "name": "stdout",
     "output_type": "stream",
     "text": [
      "Loaded test data from D:\\SLEAP\\20250102_generalizability_experiment\\primary\\sorghum\\train_test_split.v002\\test.pkg.slp.\n",
      "Test data saved to sorghum-primary-2025-01-06_v002_test/sorghum-primary-2025-01-06_v002_test_labels.slp\n"
     ]
    },
    {
     "name": "stderr",
     "output_type": "stream",
     "text": [
      "\u001b[34m\u001b[1mwandb\u001b[0m:   16 of 16 files downloaded.  \n",
      "Done. 0:0:0.3\n"
     ]
    },
    {
     "data": {
      "application/vnd.jupyter.widget-view+json": {
       "model_id": "570f4215a2014365b0d12d49a09a412d",
       "version_major": 2,
       "version_minor": 0
      },
      "text/plain": [
       "Output()"
      ]
     },
     "metadata": {},
     "output_type": "display_data"
    },
    {
     "name": "stdout",
     "output_type": "stream",
     "text": [
      "Model loaded successfully from e:\\repositories\\sleap-roots-training\\artifacts\\sorghum-primary-2025-01-06_v002-v0.\n"
     ]
    },
    {
     "data": {
      "text/html": [
       "<pre style=\"white-space:pre;overflow-x:auto;line-height:normal;font-family:Menlo,'DejaVu Sans Mono',consolas,'Courier New',monospace\"></pre>\n"
      ],
      "text/plain": []
     },
     "metadata": {},
     "output_type": "display_data"
    },
    {
     "name": "stdout",
     "output_type": "stream",
     "text": [
      "WARNING:sleap.nn.evals:Failed to compute metrics.\n"
     ]
    },
    {
     "name": "stderr",
     "output_type": "stream",
     "text": [
      "c:\\Users\\pbiobgh\\.conda\\envs\\sleap_v1.3.4\\lib\\site-packages\\sleap\\nn\\evals.py:539: RuntimeWarning: Mean of empty slice\n",
      "  \"dist.avg\": np.nanmean(dists),\n",
      "c:\\Users\\pbiobgh\\.conda\\envs\\sleap_v1.3.4\\lib\\site-packages\\sleap\\nn\\evals.py:572: RuntimeWarning: Mean of empty slice.\n",
      "  mPCK = mPCK_parts.mean()\n",
      "c:\\Users\\pbiobgh\\.conda\\envs\\sleap_v1.3.4\\lib\\site-packages\\numpy\\core\\_methods.py:189: RuntimeWarning: invalid value encountered in double_scalars\n",
      "  ret = ret.dtype.type(ret / rcount)\n",
      "c:\\Users\\pbiobgh\\.conda\\envs\\sleap_v1.3.4\\lib\\site-packages\\sleap\\nn\\evals.py:666: RuntimeWarning: Mean of empty slice.\n",
      "  pair_pck = metrics[\"pck.pcks\"].mean(axis=-1).mean(axis=-1)\n",
      "c:\\Users\\pbiobgh\\.conda\\envs\\sleap_v1.3.4\\lib\\site-packages\\numpy\\core\\_methods.py:182: RuntimeWarning: invalid value encountered in true_divide\n",
      "  ret, rcount, out=ret, casting='unsafe', subok=False)\n",
      "c:\\Users\\pbiobgh\\.conda\\envs\\sleap_v1.3.4\\lib\\site-packages\\sleap\\nn\\evals.py:668: RuntimeWarning: Mean of empty slice.\n",
      "  metrics[\"oks.mOKS\"] = pair_oks.mean()\n"
     ]
    },
    {
     "name": "stdout",
     "output_type": "stream",
     "text": [
      "Predictions saved to sorghum-primary-2025-01-06_v002_test/sorghum-primary-2025-01-06_v002_on_sorghum-primary-2025-01-06_v002_test_predictions.slp\n",
      "Error during model evaluation: 'NoneType' object is not subscriptable. Skipping this model...\n"
     ]
    },
    {
     "data": {
      "text/html": [
       " View run <strong style=\"color:#cdcd00\">evaluate_sorghum-primary-2025-01-06_v002_on_sorghum-primary-2025-01-06_v002</strong> at: <a href='https://wandb.ai/eberrigan-salk-institute-for-biological-studies/sleap-roots/runs/0ey1eg9m' target=\"_blank\">https://wandb.ai/eberrigan-salk-institute-for-biological-studies/sleap-roots/runs/0ey1eg9m</a><br/> View project at: <a href='https://wandb.ai/eberrigan-salk-institute-for-biological-studies/sleap-roots' target=\"_blank\">https://wandb.ai/eberrigan-salk-institute-for-biological-studies/sleap-roots</a><br/>Synced 7 W&B file(s), 0 media file(s), 2 artifact file(s) and 0 other file(s)"
      ],
      "text/plain": [
       "<IPython.core.display.HTML object>"
      ]
     },
     "metadata": {},
     "output_type": "display_data"
    },
    {
     "data": {
      "text/html": [
       "Find logs at: <code>.\\wandb\\run-20250129_193027-0ey1eg9m\\logs</code>"
      ],
      "text/plain": [
       "<IPython.core.display.HTML object>"
      ]
     },
     "metadata": {},
     "output_type": "display_data"
    },
    {
     "data": {
      "text/plain": [
       "(Labels(labeled_frames=0, videos=0, skeletons=0, tracks=0), {})"
      ]
     },
     "execution_count": 9,
     "metadata": {},
     "output_type": "execute_result"
    }
   ],
   "source": [
    "sleap_roots_training.evaluate_model(\"sorghum-primary-2025-01-06_v002\", \"sorghum-primary-2025-01-06_v002\", \"sorghum-primary-2025-01-06_v002_test\")"
   ]
  },
  {
   "cell_type": "code",
   "execution_count": 7,
   "metadata": {},
   "outputs": [
    {
     "name": "stderr",
     "output_type": "stream",
     "text": [
      "\u001b[34m\u001b[1mwandb\u001b[0m: Using wandb-core as the SDK backend.  Please refer to https://wandb.me/wandb-core for more information.\n",
      "\u001b[34m\u001b[1mwandb\u001b[0m: Currently logged in as: \u001b[33meberrigan\u001b[0m (\u001b[33meberrigan-salk-institute-for-biological-studies\u001b[0m). Use \u001b[1m`wandb login --relogin`\u001b[0m to force relogin\n"
     ]
    },
    {
     "data": {
      "text/html": [
       "Tracking run with wandb version 0.18.6"
      ],
      "text/plain": [
       "<IPython.core.display.HTML object>"
      ]
     },
     "metadata": {},
     "output_type": "display_data"
    },
    {
     "data": {
      "text/html": [
       "Run data is saved locally in <code>e:\\repositories\\sleap-roots-training\\wandb\\run-20250129_171520-6lbxwcly</code>"
      ],
      "text/plain": [
       "<IPython.core.display.HTML object>"
      ]
     },
     "metadata": {},
     "output_type": "display_data"
    },
    {
     "data": {
      "text/html": [
       "Syncing run <strong><a href='https://wandb.ai/eberrigan-salk-institute-for-biological-studies/sleap-roots/runs/6lbxwcly' target=\"_blank\">evaluate_sorghum-soybean-canola-pennycress-rice-arabidopsis-primary-2025-01-20_v000_on_sorghum-primary-2025-01-06_v000</a></strong> to <a href='https://wandb.ai/eberrigan-salk-institute-for-biological-studies/sleap-roots' target=\"_blank\">Weights & Biases</a> (<a href='https://wandb.me/developer-guide' target=\"_blank\">docs</a>)<br/>"
      ],
      "text/plain": [
       "<IPython.core.display.HTML object>"
      ]
     },
     "metadata": {},
     "output_type": "display_data"
    },
    {
     "data": {
      "text/html": [
       " View project at <a href='https://wandb.ai/eberrigan-salk-institute-for-biological-studies/sleap-roots' target=\"_blank\">https://wandb.ai/eberrigan-salk-institute-for-biological-studies/sleap-roots</a>"
      ],
      "text/plain": [
       "<IPython.core.display.HTML object>"
      ]
     },
     "metadata": {},
     "output_type": "display_data"
    },
    {
     "data": {
      "text/html": [
       " View run at <a href='https://wandb.ai/eberrigan-salk-institute-for-biological-studies/sleap-roots/runs/6lbxwcly' target=\"_blank\">https://wandb.ai/eberrigan-salk-institute-for-biological-studies/sleap-roots/runs/6lbxwcly</a>"
      ],
      "text/plain": [
       "<IPython.core.display.HTML object>"
      ]
     },
     "metadata": {},
     "output_type": "display_data"
    },
    {
     "name": "stdout",
     "output_type": "stream",
     "text": [
      "Fetching artifact: eberrigan-salk-institute-for-biological-studies-org/wandb-registry-sleap-roots-models/sorghum-soybean-canola-pennycress-rice-arabidopsis-primary-2025-01-20_v000:latest\n"
     ]
    },
    {
     "name": "stderr",
     "output_type": "stream",
     "text": [
      "\u001b[34m\u001b[1mwandb\u001b[0m: \u001b[33mWARNING\u001b[0m Registries can be linked/fetched using a shorthand form without specifying the organization name. Try using shorthand path format: <my_registry_name>/<artifact_name> or just <my_registry_name> if fetching just the project.\n"
     ]
    },
    {
     "name": "stdout",
     "output_type": "stream",
     "text": [
      "Fetching artifact: eberrigan-salk-institute-for-biological-studies-org/wandb-registry-sleap-roots-models/sorghum-primary-2025-01-06_v000:latest\n"
     ]
    },
    {
     "name": "stderr",
     "output_type": "stream",
     "text": [
      "\u001b[34m\u001b[1mwandb\u001b[0m: \u001b[33mWARNING\u001b[0m Registries can be linked/fetched using a shorthand form without specifying the organization name. Try using shorthand path format: <my_registry_name>/<artifact_name> or just <my_registry_name> if fetching just the project.\n",
      "\u001b[34m\u001b[1mwandb\u001b[0m: Downloading large artifact sorghum-soybean-canola-pennycress-rice-arabidopsis-primary-2025-01-20_v000:latest, 282.33MB. 212 files... \n"
     ]
    },
    {
     "name": "stdout",
     "output_type": "stream",
     "text": [
      "Test data saved to sorghum-primary-2025-01-06_eval_2025-01-29/sorghum-primary-2025-01-06_v000_test_labels.slp\n"
     ]
    },
    {
     "name": "stderr",
     "output_type": "stream",
     "text": [
      "\u001b[34m\u001b[1mwandb\u001b[0m:   212 of 212 files downloaded.  \n",
      "Done. 0:0:0.7\n"
     ]
    },
    {
     "data": {
      "application/vnd.jupyter.widget-view+json": {
       "model_id": "ac3779f55a1143ac95f4aa34751b8697",
       "version_major": 2,
       "version_minor": 0
      },
      "text/plain": [
       "Output()"
      ]
     },
     "metadata": {},
     "output_type": "display_data"
    },
    {
     "name": "stdout",
     "output_type": "stream",
     "text": [
      "Model loaded successfully from e:\\repositories\\sleap-roots-training\\artifacts\\sorghum-soybean-canola-pennycress-rice-arabidopsis-primary-2025-01-20_v000-v0.\n"
     ]
    },
    {
     "data": {
      "text/html": [
       "<pre style=\"white-space:pre;overflow-x:auto;line-height:normal;font-family:Menlo,'DejaVu Sans Mono',consolas,'Courier New',monospace\"></pre>\n"
      ],
      "text/plain": []
     },
     "metadata": {},
     "output_type": "display_data"
    },
    {
     "name": "stdout",
     "output_type": "stream",
     "text": [
      "INFO:sleap.nn.evals:OKS mAP: 0.061786\n",
      "Predictions saved to sorghum-primary-2025-01-06_eval_2025-01-29/sorghum-soybean-canola-pennycress-rice-arabidopsis-primary-2025-01-20_v000_on_sorghum-primary-2025-01-06_v000_test_predictions.slp\n",
      "Metrics saved to sorghum-primary-2025-01-06_eval_2025-01-29/sorghum-soybean-canola-pennycress-rice-arabidopsis-primary-2025-01-20_v000_on_sorghum-primary-2025-01-06_v000_metrics.csv\n",
      "Distances saved to sorghum-primary-2025-01-06_eval_2025-01-29/sorghum-soybean-canola-pennycress-rice-arabidopsis-primary-2025-01-20_v000_on_sorghum-primary-2025-01-06_v000_distances.csv\n",
      "Distance histogram saved to sorghum-primary-2025-01-06_eval_2025-01-29\\sorghum-soybean-canola-pennycress-rice-arabidopsis-primary-2025-01-20_v000_on_sorghum-primary-2025-01-06_v000_distance_histogram.png\n"
     ]
    },
    {
     "data": {
      "application/vnd.jupyter.widget-view+json": {
       "model_id": "9ab34aa9de834714be0acc435a7b216b",
       "version_major": 2,
       "version_minor": 0
      },
      "text/plain": [
       "VBox(children=(Label(value='0.249 MB of 0.249 MB uploaded\\r'), FloatProgress(value=1.0, max=1.0)))"
      ]
     },
     "metadata": {},
     "output_type": "display_data"
    },
    {
     "data": {
      "text/html": [
       "\n",
       "    <style>\n",
       "        .wandb-row {\n",
       "            display: flex;\n",
       "            flex-direction: row;\n",
       "            flex-wrap: wrap;\n",
       "            justify-content: flex-start;\n",
       "            width: 100%;\n",
       "        }\n",
       "        .wandb-col {\n",
       "            display: flex;\n",
       "            flex-direction: column;\n",
       "            flex-basis: 100%;\n",
       "            flex: 1;\n",
       "            padding: 10px;\n",
       "        }\n",
       "    </style>\n",
       "<div class=\"wandb-row\"><div class=\"wandb-col\"><h3>Run summary:</h3><br/><table class=\"wandb\"><tr><td>dist_avg</td><td>3.23969</td></tr><tr><td>dist_p50</td><td>1.26091</td></tr><tr><td>dist_p90</td><td>7.85776</td></tr><tr><td>dist_p95</td><td>13.96989</td></tr><tr><td>dist_p99</td><td>28.86693</td></tr><tr><td>dist_std</td><td>5.28839</td></tr><tr><td>model_name</td><td>sorghum-soybean-cano...</td></tr><tr><td>model_path</td><td>e:\\repositories\\slea...</td></tr><tr><td>oks_map</td><td>0.06179</td></tr><tr><td>oks_mar</td><td>0.09778</td></tr><tr><td>vis_prec</td><td>1</td></tr><tr><td>vis_recall</td><td>0.7197</td></tr></table><br/></div></div>"
      ],
      "text/plain": [
       "<IPython.core.display.HTML object>"
      ]
     },
     "metadata": {},
     "output_type": "display_data"
    },
    {
     "data": {
      "text/html": [
       " View run <strong style=\"color:#cdcd00\">evaluate_sorghum-soybean-canola-pennycress-rice-arabidopsis-primary-2025-01-20_v000_on_sorghum-primary-2025-01-06_v000</strong> at: <a href='https://wandb.ai/eberrigan-salk-institute-for-biological-studies/sleap-roots/runs/6lbxwcly' target=\"_blank\">https://wandb.ai/eberrigan-salk-institute-for-biological-studies/sleap-roots/runs/6lbxwcly</a><br/> View project at: <a href='https://wandb.ai/eberrigan-salk-institute-for-biological-studies/sleap-roots' target=\"_blank\">https://wandb.ai/eberrigan-salk-institute-for-biological-studies/sleap-roots</a><br/>Synced 7 W&B file(s), 0 media file(s), 9 artifact file(s) and 0 other file(s)"
      ],
      "text/plain": [
       "<IPython.core.display.HTML object>"
      ]
     },
     "metadata": {},
     "output_type": "display_data"
    },
    {
     "data": {
      "text/html": [
       "Find logs at: <code>.\\wandb\\run-20250129_171520-6lbxwcly\\logs</code>"
      ],
      "text/plain": [
       "<IPython.core.display.HTML object>"
      ]
     },
     "metadata": {},
     "output_type": "display_data"
    },
    {
     "data": {
      "text/html": [
       "Tracking run with wandb version 0.18.6"
      ],
      "text/plain": [
       "<IPython.core.display.HTML object>"
      ]
     },
     "metadata": {},
     "output_type": "display_data"
    },
    {
     "data": {
      "text/html": [
       "Run data is saved locally in <code>e:\\repositories\\sleap-roots-training\\wandb\\run-20250129_171547-qael6r0g</code>"
      ],
      "text/plain": [
       "<IPython.core.display.HTML object>"
      ]
     },
     "metadata": {},
     "output_type": "display_data"
    },
    {
     "data": {
      "text/html": [
       "Syncing run <strong><a href='https://wandb.ai/eberrigan-salk-institute-for-biological-studies/sleap-roots/runs/qael6r0g' target=\"_blank\">evaluate_sorghum-soybean-canola-pennycress-rice-arabidopsis-primary-2025-01-20_v001_on_sorghum-primary-2025-01-06_v001</a></strong> to <a href='https://wandb.ai/eberrigan-salk-institute-for-biological-studies/sleap-roots' target=\"_blank\">Weights & Biases</a> (<a href='https://wandb.me/developer-guide' target=\"_blank\">docs</a>)<br/>"
      ],
      "text/plain": [
       "<IPython.core.display.HTML object>"
      ]
     },
     "metadata": {},
     "output_type": "display_data"
    },
    {
     "data": {
      "text/html": [
       " View project at <a href='https://wandb.ai/eberrigan-salk-institute-for-biological-studies/sleap-roots' target=\"_blank\">https://wandb.ai/eberrigan-salk-institute-for-biological-studies/sleap-roots</a>"
      ],
      "text/plain": [
       "<IPython.core.display.HTML object>"
      ]
     },
     "metadata": {},
     "output_type": "display_data"
    },
    {
     "data": {
      "text/html": [
       " View run at <a href='https://wandb.ai/eberrigan-salk-institute-for-biological-studies/sleap-roots/runs/qael6r0g' target=\"_blank\">https://wandb.ai/eberrigan-salk-institute-for-biological-studies/sleap-roots/runs/qael6r0g</a>"
      ],
      "text/plain": [
       "<IPython.core.display.HTML object>"
      ]
     },
     "metadata": {},
     "output_type": "display_data"
    },
    {
     "name": "stdout",
     "output_type": "stream",
     "text": [
      "Fetching artifact: eberrigan-salk-institute-for-biological-studies-org/wandb-registry-sleap-roots-models/sorghum-soybean-canola-pennycress-rice-arabidopsis-primary-2025-01-20_v001:latest\n"
     ]
    },
    {
     "name": "stderr",
     "output_type": "stream",
     "text": [
      "\u001b[34m\u001b[1mwandb\u001b[0m: \u001b[33mWARNING\u001b[0m Registries can be linked/fetched using a shorthand form without specifying the organization name. Try using shorthand path format: <my_registry_name>/<artifact_name> or just <my_registry_name> if fetching just the project.\n"
     ]
    },
    {
     "name": "stdout",
     "output_type": "stream",
     "text": [
      "Fetching artifact: eberrigan-salk-institute-for-biological-studies-org/wandb-registry-sleap-roots-models/sorghum-primary-2025-01-06_v001:latest\n"
     ]
    },
    {
     "name": "stderr",
     "output_type": "stream",
     "text": [
      "\u001b[34m\u001b[1mwandb\u001b[0m: \u001b[33mWARNING\u001b[0m Registries can be linked/fetched using a shorthand form without specifying the organization name. Try using shorthand path format: <my_registry_name>/<artifact_name> or just <my_registry_name> if fetching just the project.\n",
      "\u001b[34m\u001b[1mwandb\u001b[0m: Downloading large artifact sorghum-soybean-canola-pennycress-rice-arabidopsis-primary-2025-01-20_v001:latest, 322.95MB. 252 files... \n"
     ]
    },
    {
     "name": "stdout",
     "output_type": "stream",
     "text": [
      "Test data saved to sorghum-primary-2025-01-06_eval_2025-01-29/sorghum-primary-2025-01-06_v001_test_labels.slp\n"
     ]
    },
    {
     "name": "stderr",
     "output_type": "stream",
     "text": [
      "\u001b[34m\u001b[1mwandb\u001b[0m:   252 of 252 files downloaded.  \n",
      "Done. 0:0:1.0\n"
     ]
    },
    {
     "data": {
      "application/vnd.jupyter.widget-view+json": {
       "model_id": "697c33846ca1407ba523d530676f8102",
       "version_major": 2,
       "version_minor": 0
      },
      "text/plain": [
       "Output()"
      ]
     },
     "metadata": {},
     "output_type": "display_data"
    },
    {
     "name": "stdout",
     "output_type": "stream",
     "text": [
      "Model loaded successfully from e:\\repositories\\sleap-roots-training\\artifacts\\sorghum-soybean-canola-pennycress-rice-arabidopsis-primary-2025-01-20_v001-v0.\n"
     ]
    },
    {
     "data": {
      "text/html": [
       "<pre style=\"white-space:pre;overflow-x:auto;line-height:normal;font-family:Menlo,'DejaVu Sans Mono',consolas,'Courier New',monospace\"></pre>\n"
      ],
      "text/plain": []
     },
     "metadata": {},
     "output_type": "display_data"
    },
    {
     "name": "stdout",
     "output_type": "stream",
     "text": [
      "INFO:sleap.nn.evals:OKS mAP: 0.085403\n",
      "Predictions saved to sorghum-primary-2025-01-06_eval_2025-01-29/sorghum-soybean-canola-pennycress-rice-arabidopsis-primary-2025-01-20_v001_on_sorghum-primary-2025-01-06_v001_test_predictions.slp\n",
      "Metrics saved to sorghum-primary-2025-01-06_eval_2025-01-29/sorghum-soybean-canola-pennycress-rice-arabidopsis-primary-2025-01-20_v001_on_sorghum-primary-2025-01-06_v001_metrics.csv\n",
      "Distances saved to sorghum-primary-2025-01-06_eval_2025-01-29/sorghum-soybean-canola-pennycress-rice-arabidopsis-primary-2025-01-20_v001_on_sorghum-primary-2025-01-06_v001_distances.csv\n",
      "Distance histogram saved to sorghum-primary-2025-01-06_eval_2025-01-29\\sorghum-soybean-canola-pennycress-rice-arabidopsis-primary-2025-01-20_v001_on_sorghum-primary-2025-01-06_v001_distance_histogram.png\n"
     ]
    },
    {
     "data": {
      "text/html": [
       "\n",
       "    <style>\n",
       "        .wandb-row {\n",
       "            display: flex;\n",
       "            flex-direction: row;\n",
       "            flex-wrap: wrap;\n",
       "            justify-content: flex-start;\n",
       "            width: 100%;\n",
       "        }\n",
       "        .wandb-col {\n",
       "            display: flex;\n",
       "            flex-direction: column;\n",
       "            flex-basis: 100%;\n",
       "            flex: 1;\n",
       "            padding: 10px;\n",
       "        }\n",
       "    </style>\n",
       "<div class=\"wandb-row\"><div class=\"wandb-col\"><h3>Run summary:</h3><br/><table class=\"wandb\"><tr><td>dist_avg</td><td>2.1655</td></tr><tr><td>dist_p50</td><td>0.82159</td></tr><tr><td>dist_p90</td><td>5.02543</td></tr><tr><td>dist_p95</td><td>8.13825</td></tr><tr><td>dist_p99</td><td>16.25184</td></tr><tr><td>dist_std</td><td>4.00989</td></tr><tr><td>model_name</td><td>sorghum-soybean-cano...</td></tr><tr><td>model_path</td><td>e:\\repositories\\slea...</td></tr><tr><td>oks_map</td><td>0.0854</td></tr><tr><td>oks_mar</td><td>0.16667</td></tr><tr><td>vis_prec</td><td>1</td></tr><tr><td>vis_recall</td><td>0.86742</td></tr></table><br/></div></div>"
      ],
      "text/plain": [
       "<IPython.core.display.HTML object>"
      ]
     },
     "metadata": {},
     "output_type": "display_data"
    },
    {
     "data": {
      "text/html": [
       " View run <strong style=\"color:#cdcd00\">evaluate_sorghum-soybean-canola-pennycress-rice-arabidopsis-primary-2025-01-20_v001_on_sorghum-primary-2025-01-06_v001</strong> at: <a href='https://wandb.ai/eberrigan-salk-institute-for-biological-studies/sleap-roots/runs/qael6r0g' target=\"_blank\">https://wandb.ai/eberrigan-salk-institute-for-biological-studies/sleap-roots/runs/qael6r0g</a><br/> View project at: <a href='https://wandb.ai/eberrigan-salk-institute-for-biological-studies/sleap-roots' target=\"_blank\">https://wandb.ai/eberrigan-salk-institute-for-biological-studies/sleap-roots</a><br/>Synced 7 W&B file(s), 0 media file(s), 8 artifact file(s) and 0 other file(s)"
      ],
      "text/plain": [
       "<IPython.core.display.HTML object>"
      ]
     },
     "metadata": {},
     "output_type": "display_data"
    },
    {
     "data": {
      "text/html": [
       "Find logs at: <code>.\\wandb\\run-20250129_171547-qael6r0g\\logs</code>"
      ],
      "text/plain": [
       "<IPython.core.display.HTML object>"
      ]
     },
     "metadata": {},
     "output_type": "display_data"
    },
    {
     "data": {
      "application/vnd.jupyter.widget-view+json": {
       "model_id": "c9a77dc472cd400ab4ec90935ea088cc",
       "version_major": 2,
       "version_minor": 0
      },
      "text/plain": [
       "VBox(children=(Label(value='Waiting for wandb.init()...\\r'), FloatProgress(value=0.011288888888278356, max=1.0…"
      ]
     },
     "metadata": {},
     "output_type": "display_data"
    },
    {
     "data": {
      "text/html": [
       "Tracking run with wandb version 0.18.6"
      ],
      "text/plain": [
       "<IPython.core.display.HTML object>"
      ]
     },
     "metadata": {},
     "output_type": "display_data"
    },
    {
     "data": {
      "text/html": [
       "Run data is saved locally in <code>e:\\repositories\\sleap-roots-training\\wandb\\run-20250129_171603-47893tw3</code>"
      ],
      "text/plain": [
       "<IPython.core.display.HTML object>"
      ]
     },
     "metadata": {},
     "output_type": "display_data"
    },
    {
     "data": {
      "text/html": [
       "Syncing run <strong><a href='https://wandb.ai/eberrigan-salk-institute-for-biological-studies/sleap-roots/runs/47893tw3' target=\"_blank\">evaluate_sorghum-soybean-canola-pennycress-rice-arabidopsis-primary-2025-01-20_v002_on_sorghum-primary-2025-01-06_v002</a></strong> to <a href='https://wandb.ai/eberrigan-salk-institute-for-biological-studies/sleap-roots' target=\"_blank\">Weights & Biases</a> (<a href='https://wandb.me/developer-guide' target=\"_blank\">docs</a>)<br/>"
      ],
      "text/plain": [
       "<IPython.core.display.HTML object>"
      ]
     },
     "metadata": {},
     "output_type": "display_data"
    },
    {
     "data": {
      "text/html": [
       " View project at <a href='https://wandb.ai/eberrigan-salk-institute-for-biological-studies/sleap-roots' target=\"_blank\">https://wandb.ai/eberrigan-salk-institute-for-biological-studies/sleap-roots</a>"
      ],
      "text/plain": [
       "<IPython.core.display.HTML object>"
      ]
     },
     "metadata": {},
     "output_type": "display_data"
    },
    {
     "data": {
      "text/html": [
       " View run at <a href='https://wandb.ai/eberrigan-salk-institute-for-biological-studies/sleap-roots/runs/47893tw3' target=\"_blank\">https://wandb.ai/eberrigan-salk-institute-for-biological-studies/sleap-roots/runs/47893tw3</a>"
      ],
      "text/plain": [
       "<IPython.core.display.HTML object>"
      ]
     },
     "metadata": {},
     "output_type": "display_data"
    },
    {
     "name": "stdout",
     "output_type": "stream",
     "text": [
      "Fetching artifact: eberrigan-salk-institute-for-biological-studies-org/wandb-registry-sleap-roots-models/sorghum-soybean-canola-pennycress-rice-arabidopsis-primary-2025-01-20_v002:latest\n"
     ]
    },
    {
     "name": "stderr",
     "output_type": "stream",
     "text": [
      "\u001b[34m\u001b[1mwandb\u001b[0m: \u001b[33mWARNING\u001b[0m Registries can be linked/fetched using a shorthand form without specifying the organization name. Try using shorthand path format: <my_registry_name>/<artifact_name> or just <my_registry_name> if fetching just the project.\n"
     ]
    },
    {
     "name": "stdout",
     "output_type": "stream",
     "text": [
      "Fetching artifact: eberrigan-salk-institute-for-biological-studies-org/wandb-registry-sleap-roots-models/sorghum-primary-2025-01-06_v002:latest\n"
     ]
    },
    {
     "name": "stderr",
     "output_type": "stream",
     "text": [
      "\u001b[34m\u001b[1mwandb\u001b[0m: \u001b[33mWARNING\u001b[0m Registries can be linked/fetched using a shorthand form without specifying the organization name. Try using shorthand path format: <my_registry_name>/<artifact_name> or just <my_registry_name> if fetching just the project.\n",
      "\u001b[34m\u001b[1mwandb\u001b[0m: Downloading large artifact sorghum-soybean-canola-pennycress-rice-arabidopsis-primary-2025-01-20_v002:latest, 331.10MB. 260 files... \n"
     ]
    },
    {
     "name": "stdout",
     "output_type": "stream",
     "text": [
      "Test data saved to sorghum-primary-2025-01-06_eval_2025-01-29/sorghum-primary-2025-01-06_v002_test_labels.slp\n"
     ]
    },
    {
     "name": "stderr",
     "output_type": "stream",
     "text": [
      "\u001b[34m\u001b[1mwandb\u001b[0m:   260 of 260 files downloaded.  \n",
      "Done. 0:0:1.0\n"
     ]
    },
    {
     "data": {
      "application/vnd.jupyter.widget-view+json": {
       "model_id": "899708799b64492ba7abe67d0d57337c",
       "version_major": 2,
       "version_minor": 0
      },
      "text/plain": [
       "Output()"
      ]
     },
     "metadata": {},
     "output_type": "display_data"
    },
    {
     "name": "stdout",
     "output_type": "stream",
     "text": [
      "Model loaded successfully from e:\\repositories\\sleap-roots-training\\artifacts\\sorghum-soybean-canola-pennycress-rice-arabidopsis-primary-2025-01-20_v002-v0.\n"
     ]
    },
    {
     "data": {
      "text/html": [
       "<pre style=\"white-space:pre;overflow-x:auto;line-height:normal;font-family:Menlo,'DejaVu Sans Mono',consolas,'Courier New',monospace\"></pre>\n"
      ],
      "text/plain": []
     },
     "metadata": {},
     "output_type": "display_data"
    },
    {
     "name": "stdout",
     "output_type": "stream",
     "text": [
      "INFO:sleap.nn.evals:OKS mAP: 0.062050\n",
      "Predictions saved to sorghum-primary-2025-01-06_eval_2025-01-29/sorghum-soybean-canola-pennycress-rice-arabidopsis-primary-2025-01-20_v002_on_sorghum-primary-2025-01-06_v002_test_predictions.slp\n",
      "Metrics saved to sorghum-primary-2025-01-06_eval_2025-01-29/sorghum-soybean-canola-pennycress-rice-arabidopsis-primary-2025-01-20_v002_on_sorghum-primary-2025-01-06_v002_metrics.csv\n",
      "Distances saved to sorghum-primary-2025-01-06_eval_2025-01-29/sorghum-soybean-canola-pennycress-rice-arabidopsis-primary-2025-01-20_v002_on_sorghum-primary-2025-01-06_v002_distances.csv\n",
      "Distance histogram saved to sorghum-primary-2025-01-06_eval_2025-01-29\\sorghum-soybean-canola-pennycress-rice-arabidopsis-primary-2025-01-20_v002_on_sorghum-primary-2025-01-06_v002_distance_histogram.png\n"
     ]
    },
    {
     "data": {
      "text/html": [
       "\n",
       "    <style>\n",
       "        .wandb-row {\n",
       "            display: flex;\n",
       "            flex-direction: row;\n",
       "            flex-wrap: wrap;\n",
       "            justify-content: flex-start;\n",
       "            width: 100%;\n",
       "        }\n",
       "        .wandb-col {\n",
       "            display: flex;\n",
       "            flex-direction: column;\n",
       "            flex-basis: 100%;\n",
       "            flex: 1;\n",
       "            padding: 10px;\n",
       "        }\n",
       "    </style>\n",
       "<div class=\"wandb-row\"><div class=\"wandb-col\"><h3>Run summary:</h3><br/><table class=\"wandb\"><tr><td>dist_avg</td><td>2.0818</td></tr><tr><td>dist_p50</td><td>1.37985</td></tr><tr><td>dist_p90</td><td>4.95472</td></tr><tr><td>dist_p95</td><td>5.81793</td></tr><tr><td>dist_p99</td><td>8.84551</td></tr><tr><td>dist_std</td><td>2.24544</td></tr><tr><td>model_name</td><td>sorghum-soybean-cano...</td></tr><tr><td>model_path</td><td>e:\\repositories\\slea...</td></tr><tr><td>oks_map</td><td>0.06205</td></tr><tr><td>oks_mar</td><td>0.08444</td></tr><tr><td>vis_prec</td><td>1</td></tr><tr><td>vis_recall</td><td>0.78049</td></tr></table><br/></div></div>"
      ],
      "text/plain": [
       "<IPython.core.display.HTML object>"
      ]
     },
     "metadata": {},
     "output_type": "display_data"
    },
    {
     "data": {
      "text/html": [
       " View run <strong style=\"color:#cdcd00\">evaluate_sorghum-soybean-canola-pennycress-rice-arabidopsis-primary-2025-01-20_v002_on_sorghum-primary-2025-01-06_v002</strong> at: <a href='https://wandb.ai/eberrigan-salk-institute-for-biological-studies/sleap-roots/runs/47893tw3' target=\"_blank\">https://wandb.ai/eberrigan-salk-institute-for-biological-studies/sleap-roots/runs/47893tw3</a><br/> View project at: <a href='https://wandb.ai/eberrigan-salk-institute-for-biological-studies/sleap-roots' target=\"_blank\">https://wandb.ai/eberrigan-salk-institute-for-biological-studies/sleap-roots</a><br/>Synced 7 W&B file(s), 0 media file(s), 8 artifact file(s) and 0 other file(s)"
      ],
      "text/plain": [
       "<IPython.core.display.HTML object>"
      ]
     },
     "metadata": {},
     "output_type": "display_data"
    },
    {
     "data": {
      "text/html": [
       "Find logs at: <code>.\\wandb\\run-20250129_171603-47893tw3\\logs</code>"
      ],
      "text/plain": [
       "<IPython.core.display.HTML object>"
      ]
     },
     "metadata": {},
     "output_type": "display_data"
    },
    {
     "data": {
      "text/html": [
       "Tracking run with wandb version 0.18.6"
      ],
      "text/plain": [
       "<IPython.core.display.HTML object>"
      ]
     },
     "metadata": {},
     "output_type": "display_data"
    },
    {
     "data": {
      "text/html": [
       "Run data is saved locally in <code>e:\\repositories\\sleap-roots-training\\wandb\\run-20250129_171620-55hf33ty</code>"
      ],
      "text/plain": [
       "<IPython.core.display.HTML object>"
      ]
     },
     "metadata": {},
     "output_type": "display_data"
    },
    {
     "data": {
      "text/html": [
       "Syncing run <strong><a href='https://wandb.ai/eberrigan-salk-institute-for-biological-studies/sleap-roots/runs/55hf33ty' target=\"_blank\">evaluate_canola-pennycress-arabidopsis-primary-2025-01-20_v000_on_sorghum-primary-2025-01-06_v000</a></strong> to <a href='https://wandb.ai/eberrigan-salk-institute-for-biological-studies/sleap-roots' target=\"_blank\">Weights & Biases</a> (<a href='https://wandb.me/developer-guide' target=\"_blank\">docs</a>)<br/>"
      ],
      "text/plain": [
       "<IPython.core.display.HTML object>"
      ]
     },
     "metadata": {},
     "output_type": "display_data"
    },
    {
     "data": {
      "text/html": [
       " View project at <a href='https://wandb.ai/eberrigan-salk-institute-for-biological-studies/sleap-roots' target=\"_blank\">https://wandb.ai/eberrigan-salk-institute-for-biological-studies/sleap-roots</a>"
      ],
      "text/plain": [
       "<IPython.core.display.HTML object>"
      ]
     },
     "metadata": {},
     "output_type": "display_data"
    },
    {
     "data": {
      "text/html": [
       " View run at <a href='https://wandb.ai/eberrigan-salk-institute-for-biological-studies/sleap-roots/runs/55hf33ty' target=\"_blank\">https://wandb.ai/eberrigan-salk-institute-for-biological-studies/sleap-roots/runs/55hf33ty</a>"
      ],
      "text/plain": [
       "<IPython.core.display.HTML object>"
      ]
     },
     "metadata": {},
     "output_type": "display_data"
    },
    {
     "name": "stdout",
     "output_type": "stream",
     "text": [
      "Fetching artifact: eberrigan-salk-institute-for-biological-studies-org/wandb-registry-sleap-roots-models/canola-pennycress-arabidopsis-primary-2025-01-20_v000:latest\n"
     ]
    },
    {
     "name": "stderr",
     "output_type": "stream",
     "text": [
      "\u001b[34m\u001b[1mwandb\u001b[0m: \u001b[33mWARNING\u001b[0m Registries can be linked/fetched using a shorthand form without specifying the organization name. Try using shorthand path format: <my_registry_name>/<artifact_name> or just <my_registry_name> if fetching just the project.\n"
     ]
    },
    {
     "name": "stdout",
     "output_type": "stream",
     "text": [
      "Fetching artifact: eberrigan-salk-institute-for-biological-studies-org/wandb-registry-sleap-roots-models/sorghum-primary-2025-01-06_v000:latest\n"
     ]
    },
    {
     "name": "stderr",
     "output_type": "stream",
     "text": [
      "\u001b[34m\u001b[1mwandb\u001b[0m: \u001b[33mWARNING\u001b[0m Registries can be linked/fetched using a shorthand form without specifying the organization name. Try using shorthand path format: <my_registry_name>/<artifact_name> or just <my_registry_name> if fetching just the project.\n",
      "\u001b[34m\u001b[1mwandb\u001b[0m: Downloading large artifact canola-pennycress-arabidopsis-primary-2025-01-20_v000:latest, 220.41MB. 180 files... \n"
     ]
    },
    {
     "name": "stdout",
     "output_type": "stream",
     "text": [
      "Test data saved to sorghum-primary-2025-01-06_eval_2025-01-29/sorghum-primary-2025-01-06_v000_test_labels.slp\n"
     ]
    },
    {
     "name": "stderr",
     "output_type": "stream",
     "text": [
      "\u001b[34m\u001b[1mwandb\u001b[0m:   180 of 180 files downloaded.  \n",
      "Done. 0:0:0.7\n"
     ]
    },
    {
     "data": {
      "application/vnd.jupyter.widget-view+json": {
       "model_id": "b0baef7b2fcd4335b103543624d31559",
       "version_major": 2,
       "version_minor": 0
      },
      "text/plain": [
       "Output()"
      ]
     },
     "metadata": {},
     "output_type": "display_data"
    },
    {
     "name": "stdout",
     "output_type": "stream",
     "text": [
      "Model loaded successfully from e:\\repositories\\sleap-roots-training\\artifacts\\canola-pennycress-arabidopsis-primary-2025-01-20_v000-v0.\n"
     ]
    },
    {
     "data": {
      "text/html": [
       "<pre style=\"white-space:pre;overflow-x:auto;line-height:normal;font-family:Menlo,'DejaVu Sans Mono',consolas,'Courier New',monospace\"></pre>\n"
      ],
      "text/plain": []
     },
     "metadata": {},
     "output_type": "display_data"
    },
    {
     "name": "stdout",
     "output_type": "stream",
     "text": [
      "INFO:sleap.nn.evals:OKS mAP: 0.002546\n",
      "Predictions saved to sorghum-primary-2025-01-06_eval_2025-01-29/canola-pennycress-arabidopsis-primary-2025-01-20_v000_on_sorghum-primary-2025-01-06_v000_test_predictions.slp\n",
      "Metrics saved to sorghum-primary-2025-01-06_eval_2025-01-29/canola-pennycress-arabidopsis-primary-2025-01-20_v000_on_sorghum-primary-2025-01-06_v000_metrics.csv\n",
      "Distances saved to sorghum-primary-2025-01-06_eval_2025-01-29/canola-pennycress-arabidopsis-primary-2025-01-20_v000_on_sorghum-primary-2025-01-06_v000_distances.csv\n",
      "Distance histogram saved to sorghum-primary-2025-01-06_eval_2025-01-29\\canola-pennycress-arabidopsis-primary-2025-01-20_v000_on_sorghum-primary-2025-01-06_v000_distance_histogram.png\n"
     ]
    },
    {
     "data": {
      "application/vnd.jupyter.widget-view+json": {
       "model_id": "2ea51239aad447fcb808b2494bffd722",
       "version_major": 2,
       "version_minor": 0
      },
      "text/plain": [
       "VBox(children=(Label(value='0.098 MB of 0.098 MB uploaded\\r'), FloatProgress(value=1.0, max=1.0)))"
      ]
     },
     "metadata": {},
     "output_type": "display_data"
    },
    {
     "data": {
      "text/html": [
       "\n",
       "    <style>\n",
       "        .wandb-row {\n",
       "            display: flex;\n",
       "            flex-direction: row;\n",
       "            flex-wrap: wrap;\n",
       "            justify-content: flex-start;\n",
       "            width: 100%;\n",
       "        }\n",
       "        .wandb-col {\n",
       "            display: flex;\n",
       "            flex-direction: column;\n",
       "            flex-basis: 100%;\n",
       "            flex: 1;\n",
       "            padding: 10px;\n",
       "        }\n",
       "    </style>\n",
       "<div class=\"wandb-row\"><div class=\"wandb-col\"><h3>Run summary:</h3><br/><table class=\"wandb\"><tr><td>dist_avg</td><td>7.28315</td></tr><tr><td>dist_p50</td><td>4.09653</td></tr><tr><td>dist_p90</td><td>16.64623</td></tr><tr><td>dist_p95</td><td>22.03431</td></tr><tr><td>dist_p99</td><td>36.33264</td></tr><tr><td>dist_std</td><td>8.26567</td></tr><tr><td>model_name</td><td>canola-pennycress-ar...</td></tr><tr><td>model_path</td><td>e:\\repositories\\slea...</td></tr><tr><td>oks_map</td><td>0.00255</td></tr><tr><td>oks_mar</td><td>0.00667</td></tr><tr><td>vis_prec</td><td>1</td></tr><tr><td>vis_recall</td><td>0.60185</td></tr></table><br/></div></div>"
      ],
      "text/plain": [
       "<IPython.core.display.HTML object>"
      ]
     },
     "metadata": {},
     "output_type": "display_data"
    },
    {
     "data": {
      "text/html": [
       " View run <strong style=\"color:#cdcd00\">evaluate_canola-pennycress-arabidopsis-primary-2025-01-20_v000_on_sorghum-primary-2025-01-06_v000</strong> at: <a href='https://wandb.ai/eberrigan-salk-institute-for-biological-studies/sleap-roots/runs/55hf33ty' target=\"_blank\">https://wandb.ai/eberrigan-salk-institute-for-biological-studies/sleap-roots/runs/55hf33ty</a><br/> View project at: <a href='https://wandb.ai/eberrigan-salk-institute-for-biological-studies/sleap-roots' target=\"_blank\">https://wandb.ai/eberrigan-salk-institute-for-biological-studies/sleap-roots</a><br/>Synced 7 W&B file(s), 0 media file(s), 8 artifact file(s) and 0 other file(s)"
      ],
      "text/plain": [
       "<IPython.core.display.HTML object>"
      ]
     },
     "metadata": {},
     "output_type": "display_data"
    },
    {
     "data": {
      "text/html": [
       "Find logs at: <code>.\\wandb\\run-20250129_171620-55hf33ty\\logs</code>"
      ],
      "text/plain": [
       "<IPython.core.display.HTML object>"
      ]
     },
     "metadata": {},
     "output_type": "display_data"
    },
    {
     "data": {
      "text/html": [
       "Tracking run with wandb version 0.18.6"
      ],
      "text/plain": [
       "<IPython.core.display.HTML object>"
      ]
     },
     "metadata": {},
     "output_type": "display_data"
    },
    {
     "data": {
      "text/html": [
       "Run data is saved locally in <code>e:\\repositories\\sleap-roots-training\\wandb\\run-20250129_171637-g0x244te</code>"
      ],
      "text/plain": [
       "<IPython.core.display.HTML object>"
      ]
     },
     "metadata": {},
     "output_type": "display_data"
    },
    {
     "data": {
      "text/html": [
       "Syncing run <strong><a href='https://wandb.ai/eberrigan-salk-institute-for-biological-studies/sleap-roots/runs/g0x244te' target=\"_blank\">evaluate_canola-pennycress-arabidopsis-primary-2025-01-20_v001_on_sorghum-primary-2025-01-06_v001</a></strong> to <a href='https://wandb.ai/eberrigan-salk-institute-for-biological-studies/sleap-roots' target=\"_blank\">Weights & Biases</a> (<a href='https://wandb.me/developer-guide' target=\"_blank\">docs</a>)<br/>"
      ],
      "text/plain": [
       "<IPython.core.display.HTML object>"
      ]
     },
     "metadata": {},
     "output_type": "display_data"
    },
    {
     "data": {
      "text/html": [
       " View project at <a href='https://wandb.ai/eberrigan-salk-institute-for-biological-studies/sleap-roots' target=\"_blank\">https://wandb.ai/eberrigan-salk-institute-for-biological-studies/sleap-roots</a>"
      ],
      "text/plain": [
       "<IPython.core.display.HTML object>"
      ]
     },
     "metadata": {},
     "output_type": "display_data"
    },
    {
     "data": {
      "text/html": [
       " View run at <a href='https://wandb.ai/eberrigan-salk-institute-for-biological-studies/sleap-roots/runs/g0x244te' target=\"_blank\">https://wandb.ai/eberrigan-salk-institute-for-biological-studies/sleap-roots/runs/g0x244te</a>"
      ],
      "text/plain": [
       "<IPython.core.display.HTML object>"
      ]
     },
     "metadata": {},
     "output_type": "display_data"
    },
    {
     "name": "stdout",
     "output_type": "stream",
     "text": [
      "Fetching artifact: eberrigan-salk-institute-for-biological-studies-org/wandb-registry-sleap-roots-models/canola-pennycress-arabidopsis-primary-2025-01-20_v001:latest\n"
     ]
    },
    {
     "name": "stderr",
     "output_type": "stream",
     "text": [
      "\u001b[34m\u001b[1mwandb\u001b[0m: \u001b[33mWARNING\u001b[0m Registries can be linked/fetched using a shorthand form without specifying the organization name. Try using shorthand path format: <my_registry_name>/<artifact_name> or just <my_registry_name> if fetching just the project.\n"
     ]
    },
    {
     "name": "stdout",
     "output_type": "stream",
     "text": [
      "Fetching artifact: eberrigan-salk-institute-for-biological-studies-org/wandb-registry-sleap-roots-models/sorghum-primary-2025-01-06_v001:latest\n"
     ]
    },
    {
     "name": "stderr",
     "output_type": "stream",
     "text": [
      "\u001b[34m\u001b[1mwandb\u001b[0m: \u001b[33mWARNING\u001b[0m Registries can be linked/fetched using a shorthand form without specifying the organization name. Try using shorthand path format: <my_registry_name>/<artifact_name> or just <my_registry_name> if fetching just the project.\n",
      "\u001b[34m\u001b[1mwandb\u001b[0m: Downloading large artifact canola-pennycress-arabidopsis-primary-2025-01-20_v001:latest, 237.14MB. 196 files... \n"
     ]
    },
    {
     "name": "stdout",
     "output_type": "stream",
     "text": [
      "Test data saved to sorghum-primary-2025-01-06_eval_2025-01-29/sorghum-primary-2025-01-06_v001_test_labels.slp\n"
     ]
    },
    {
     "name": "stderr",
     "output_type": "stream",
     "text": [
      "\u001b[34m\u001b[1mwandb\u001b[0m:   196 of 196 files downloaded.  \n",
      "Done. 0:0:0.8\n"
     ]
    },
    {
     "data": {
      "application/vnd.jupyter.widget-view+json": {
       "model_id": "761133e1f2444f6ea8e3b78a914bafa8",
       "version_major": 2,
       "version_minor": 0
      },
      "text/plain": [
       "Output()"
      ]
     },
     "metadata": {},
     "output_type": "display_data"
    },
    {
     "name": "stdout",
     "output_type": "stream",
     "text": [
      "Model loaded successfully from e:\\repositories\\sleap-roots-training\\artifacts\\canola-pennycress-arabidopsis-primary-2025-01-20_v001-v0.\n"
     ]
    },
    {
     "data": {
      "text/html": [
       "<pre style=\"white-space:pre;overflow-x:auto;line-height:normal;font-family:Menlo,'DejaVu Sans Mono',consolas,'Courier New',monospace\"></pre>\n"
      ],
      "text/plain": []
     },
     "metadata": {},
     "output_type": "display_data"
    },
    {
     "name": "stdout",
     "output_type": "stream",
     "text": [
      "INFO:sleap.nn.evals:OKS mAP: 0.016634\n",
      "Predictions saved to sorghum-primary-2025-01-06_eval_2025-01-29/canola-pennycress-arabidopsis-primary-2025-01-20_v001_on_sorghum-primary-2025-01-06_v001_test_predictions.slp\n",
      "Metrics saved to sorghum-primary-2025-01-06_eval_2025-01-29/canola-pennycress-arabidopsis-primary-2025-01-20_v001_on_sorghum-primary-2025-01-06_v001_metrics.csv\n",
      "Distances saved to sorghum-primary-2025-01-06_eval_2025-01-29/canola-pennycress-arabidopsis-primary-2025-01-20_v001_on_sorghum-primary-2025-01-06_v001_distances.csv\n",
      "Distance histogram saved to sorghum-primary-2025-01-06_eval_2025-01-29\\canola-pennycress-arabidopsis-primary-2025-01-20_v001_on_sorghum-primary-2025-01-06_v001_distance_histogram.png\n"
     ]
    },
    {
     "data": {
      "application/vnd.jupyter.widget-view+json": {
       "model_id": "a9f5d8d4c62845eca48896441447719d",
       "version_major": 2,
       "version_minor": 0
      },
      "text/plain": [
       "VBox(children=(Label(value='0.109 MB of 0.109 MB uploaded\\r'), FloatProgress(value=1.0, max=1.0)))"
      ]
     },
     "metadata": {},
     "output_type": "display_data"
    },
    {
     "data": {
      "text/html": [
       "\n",
       "    <style>\n",
       "        .wandb-row {\n",
       "            display: flex;\n",
       "            flex-direction: row;\n",
       "            flex-wrap: wrap;\n",
       "            justify-content: flex-start;\n",
       "            width: 100%;\n",
       "        }\n",
       "        .wandb-col {\n",
       "            display: flex;\n",
       "            flex-direction: column;\n",
       "            flex-basis: 100%;\n",
       "            flex: 1;\n",
       "            padding: 10px;\n",
       "        }\n",
       "    </style>\n",
       "<div class=\"wandb-row\"><div class=\"wandb-col\"><h3>Run summary:</h3><br/><table class=\"wandb\"><tr><td>dist_avg</td><td>3.90798</td></tr><tr><td>dist_p50</td><td>2.18342</td></tr><tr><td>dist_p90</td><td>8.39633</td></tr><tr><td>dist_p95</td><td>14.24326</td></tr><tr><td>dist_p99</td><td>27.60346</td></tr><tr><td>dist_std</td><td>5.70488</td></tr><tr><td>model_name</td><td>canola-pennycress-ar...</td></tr><tr><td>model_path</td><td>e:\\repositories\\slea...</td></tr><tr><td>oks_map</td><td>0.01663</td></tr><tr><td>oks_mar</td><td>0.02444</td></tr><tr><td>vis_prec</td><td>1</td></tr><tr><td>vis_recall</td><td>0.65686</td></tr></table><br/></div></div>"
      ],
      "text/plain": [
       "<IPython.core.display.HTML object>"
      ]
     },
     "metadata": {},
     "output_type": "display_data"
    },
    {
     "data": {
      "text/html": [
       " View run <strong style=\"color:#cdcd00\">evaluate_canola-pennycress-arabidopsis-primary-2025-01-20_v001_on_sorghum-primary-2025-01-06_v001</strong> at: <a href='https://wandb.ai/eberrigan-salk-institute-for-biological-studies/sleap-roots/runs/g0x244te' target=\"_blank\">https://wandb.ai/eberrigan-salk-institute-for-biological-studies/sleap-roots/runs/g0x244te</a><br/> View project at: <a href='https://wandb.ai/eberrigan-salk-institute-for-biological-studies/sleap-roots' target=\"_blank\">https://wandb.ai/eberrigan-salk-institute-for-biological-studies/sleap-roots</a><br/>Synced 7 W&B file(s), 0 media file(s), 10 artifact file(s) and 0 other file(s)"
      ],
      "text/plain": [
       "<IPython.core.display.HTML object>"
      ]
     },
     "metadata": {},
     "output_type": "display_data"
    },
    {
     "data": {
      "text/html": [
       "Find logs at: <code>.\\wandb\\run-20250129_171637-g0x244te\\logs</code>"
      ],
      "text/plain": [
       "<IPython.core.display.HTML object>"
      ]
     },
     "metadata": {},
     "output_type": "display_data"
    },
    {
     "data": {
      "text/html": [
       "Tracking run with wandb version 0.18.6"
      ],
      "text/plain": [
       "<IPython.core.display.HTML object>"
      ]
     },
     "metadata": {},
     "output_type": "display_data"
    },
    {
     "data": {
      "text/html": [
       "Run data is saved locally in <code>e:\\repositories\\sleap-roots-training\\wandb\\run-20250129_171653-f1f44e1w</code>"
      ],
      "text/plain": [
       "<IPython.core.display.HTML object>"
      ]
     },
     "metadata": {},
     "output_type": "display_data"
    },
    {
     "data": {
      "text/html": [
       "Syncing run <strong><a href='https://wandb.ai/eberrigan-salk-institute-for-biological-studies/sleap-roots/runs/f1f44e1w' target=\"_blank\">evaluate_canola-pennycress-arabidopsis-primary-2025-01-20_v002_on_sorghum-primary-2025-01-06_v002</a></strong> to <a href='https://wandb.ai/eberrigan-salk-institute-for-biological-studies/sleap-roots' target=\"_blank\">Weights & Biases</a> (<a href='https://wandb.me/developer-guide' target=\"_blank\">docs</a>)<br/>"
      ],
      "text/plain": [
       "<IPython.core.display.HTML object>"
      ]
     },
     "metadata": {},
     "output_type": "display_data"
    },
    {
     "data": {
      "text/html": [
       " View project at <a href='https://wandb.ai/eberrigan-salk-institute-for-biological-studies/sleap-roots' target=\"_blank\">https://wandb.ai/eberrigan-salk-institute-for-biological-studies/sleap-roots</a>"
      ],
      "text/plain": [
       "<IPython.core.display.HTML object>"
      ]
     },
     "metadata": {},
     "output_type": "display_data"
    },
    {
     "data": {
      "text/html": [
       " View run at <a href='https://wandb.ai/eberrigan-salk-institute-for-biological-studies/sleap-roots/runs/f1f44e1w' target=\"_blank\">https://wandb.ai/eberrigan-salk-institute-for-biological-studies/sleap-roots/runs/f1f44e1w</a>"
      ],
      "text/plain": [
       "<IPython.core.display.HTML object>"
      ]
     },
     "metadata": {},
     "output_type": "display_data"
    },
    {
     "name": "stdout",
     "output_type": "stream",
     "text": [
      "Fetching artifact: eberrigan-salk-institute-for-biological-studies-org/wandb-registry-sleap-roots-models/canola-pennycress-arabidopsis-primary-2025-01-20_v002:latest\n"
     ]
    },
    {
     "name": "stderr",
     "output_type": "stream",
     "text": [
      "\u001b[34m\u001b[1mwandb\u001b[0m: \u001b[33mWARNING\u001b[0m Registries can be linked/fetched using a shorthand form without specifying the organization name. Try using shorthand path format: <my_registry_name>/<artifact_name> or just <my_registry_name> if fetching just the project.\n"
     ]
    },
    {
     "name": "stdout",
     "output_type": "stream",
     "text": [
      "Fetching artifact: eberrigan-salk-institute-for-biological-studies-org/wandb-registry-sleap-roots-models/sorghum-primary-2025-01-06_v002:latest\n"
     ]
    },
    {
     "name": "stderr",
     "output_type": "stream",
     "text": [
      "\u001b[34m\u001b[1mwandb\u001b[0m: \u001b[33mWARNING\u001b[0m Registries can be linked/fetched using a shorthand form without specifying the organization name. Try using shorthand path format: <my_registry_name>/<artifact_name> or just <my_registry_name> if fetching just the project.\n",
      "\u001b[34m\u001b[1mwandb\u001b[0m: Downloading large artifact canola-pennycress-arabidopsis-primary-2025-01-20_v002:latest, 220.13MB. 172 files... \n"
     ]
    },
    {
     "name": "stdout",
     "output_type": "stream",
     "text": [
      "Test data saved to sorghum-primary-2025-01-06_eval_2025-01-29/sorghum-primary-2025-01-06_v002_test_labels.slp\n"
     ]
    },
    {
     "name": "stderr",
     "output_type": "stream",
     "text": [
      "\u001b[34m\u001b[1mwandb\u001b[0m:   172 of 172 files downloaded.  \n",
      "Done. 0:0:1.2\n"
     ]
    },
    {
     "data": {
      "application/vnd.jupyter.widget-view+json": {
       "model_id": "b41fdeb5a83946e09087003573f64e8e",
       "version_major": 2,
       "version_minor": 0
      },
      "text/plain": [
       "Output()"
      ]
     },
     "metadata": {},
     "output_type": "display_data"
    },
    {
     "name": "stdout",
     "output_type": "stream",
     "text": [
      "Model loaded successfully from e:\\repositories\\sleap-roots-training\\artifacts\\canola-pennycress-arabidopsis-primary-2025-01-20_v002-v0.\n"
     ]
    },
    {
     "data": {
      "text/html": [
       "<pre style=\"white-space:pre;overflow-x:auto;line-height:normal;font-family:Menlo,'DejaVu Sans Mono',consolas,'Courier New',monospace\"></pre>\n"
      ],
      "text/plain": []
     },
     "metadata": {},
     "output_type": "display_data"
    },
    {
     "name": "stdout",
     "output_type": "stream",
     "text": [
      "INFO:sleap.nn.evals:OKS mAP: 0.025545\n",
      "Predictions saved to sorghum-primary-2025-01-06_eval_2025-01-29/canola-pennycress-arabidopsis-primary-2025-01-20_v002_on_sorghum-primary-2025-01-06_v002_test_predictions.slp\n",
      "Metrics saved to sorghum-primary-2025-01-06_eval_2025-01-29/canola-pennycress-arabidopsis-primary-2025-01-20_v002_on_sorghum-primary-2025-01-06_v002_metrics.csv\n",
      "Distances saved to sorghum-primary-2025-01-06_eval_2025-01-29/canola-pennycress-arabidopsis-primary-2025-01-20_v002_on_sorghum-primary-2025-01-06_v002_distances.csv\n",
      "Distance histogram saved to sorghum-primary-2025-01-06_eval_2025-01-29\\canola-pennycress-arabidopsis-primary-2025-01-20_v002_on_sorghum-primary-2025-01-06_v002_distance_histogram.png\n"
     ]
    },
    {
     "data": {
      "text/html": [
       "\n",
       "    <style>\n",
       "        .wandb-row {\n",
       "            display: flex;\n",
       "            flex-direction: row;\n",
       "            flex-wrap: wrap;\n",
       "            justify-content: flex-start;\n",
       "            width: 100%;\n",
       "        }\n",
       "        .wandb-col {\n",
       "            display: flex;\n",
       "            flex-direction: column;\n",
       "            flex-basis: 100%;\n",
       "            flex: 1;\n",
       "            padding: 10px;\n",
       "        }\n",
       "    </style>\n",
       "<div class=\"wandb-row\"><div class=\"wandb-col\"><h3>Run summary:</h3><br/><table class=\"wandb\"><tr><td>dist_avg</td><td>4.32459</td></tr><tr><td>dist_p50</td><td>2.02865</td></tr><tr><td>dist_p90</td><td>10.43502</td></tr><tr><td>dist_p95</td><td>16.31235</td></tr><tr><td>dist_p99</td><td>33.6384</td></tr><tr><td>dist_std</td><td>6.52493</td></tr><tr><td>model_name</td><td>canola-pennycress-ar...</td></tr><tr><td>model_path</td><td>e:\\repositories\\slea...</td></tr><tr><td>oks_map</td><td>0.02554</td></tr><tr><td>oks_mar</td><td>0.03111</td></tr><tr><td>vis_prec</td><td>1</td></tr><tr><td>vis_recall</td><td>0.59375</td></tr></table><br/></div></div>"
      ],
      "text/plain": [
       "<IPython.core.display.HTML object>"
      ]
     },
     "metadata": {},
     "output_type": "display_data"
    },
    {
     "data": {
      "text/html": [
       " View run <strong style=\"color:#cdcd00\">evaluate_canola-pennycress-arabidopsis-primary-2025-01-20_v002_on_sorghum-primary-2025-01-06_v002</strong> at: <a href='https://wandb.ai/eberrigan-salk-institute-for-biological-studies/sleap-roots/runs/f1f44e1w' target=\"_blank\">https://wandb.ai/eberrigan-salk-institute-for-biological-studies/sleap-roots/runs/f1f44e1w</a><br/> View project at: <a href='https://wandb.ai/eberrigan-salk-institute-for-biological-studies/sleap-roots' target=\"_blank\">https://wandb.ai/eberrigan-salk-institute-for-biological-studies/sleap-roots</a><br/>Synced 7 W&B file(s), 0 media file(s), 8 artifact file(s) and 0 other file(s)"
      ],
      "text/plain": [
       "<IPython.core.display.HTML object>"
      ]
     },
     "metadata": {},
     "output_type": "display_data"
    },
    {
     "data": {
      "text/html": [
       "Find logs at: <code>.\\wandb\\run-20250129_171653-f1f44e1w\\logs</code>"
      ],
      "text/plain": [
       "<IPython.core.display.HTML object>"
      ]
     },
     "metadata": {},
     "output_type": "display_data"
    },
    {
     "data": {
      "text/html": [
       "Tracking run with wandb version 0.18.6"
      ],
      "text/plain": [
       "<IPython.core.display.HTML object>"
      ]
     },
     "metadata": {},
     "output_type": "display_data"
    },
    {
     "data": {
      "text/html": [
       "Run data is saved locally in <code>e:\\repositories\\sleap-roots-training\\wandb\\run-20250129_171709-u7naan9o</code>"
      ],
      "text/plain": [
       "<IPython.core.display.HTML object>"
      ]
     },
     "metadata": {},
     "output_type": "display_data"
    },
    {
     "data": {
      "text/html": [
       "Syncing run <strong><a href='https://wandb.ai/eberrigan-salk-institute-for-biological-studies/sleap-roots/runs/u7naan9o' target=\"_blank\">evaluate_soybean-primary-2025-01-05_v000_on_sorghum-primary-2025-01-06_v000</a></strong> to <a href='https://wandb.ai/eberrigan-salk-institute-for-biological-studies/sleap-roots' target=\"_blank\">Weights & Biases</a> (<a href='https://wandb.me/developer-guide' target=\"_blank\">docs</a>)<br/>"
      ],
      "text/plain": [
       "<IPython.core.display.HTML object>"
      ]
     },
     "metadata": {},
     "output_type": "display_data"
    },
    {
     "data": {
      "text/html": [
       " View project at <a href='https://wandb.ai/eberrigan-salk-institute-for-biological-studies/sleap-roots' target=\"_blank\">https://wandb.ai/eberrigan-salk-institute-for-biological-studies/sleap-roots</a>"
      ],
      "text/plain": [
       "<IPython.core.display.HTML object>"
      ]
     },
     "metadata": {},
     "output_type": "display_data"
    },
    {
     "data": {
      "text/html": [
       " View run at <a href='https://wandb.ai/eberrigan-salk-institute-for-biological-studies/sleap-roots/runs/u7naan9o' target=\"_blank\">https://wandb.ai/eberrigan-salk-institute-for-biological-studies/sleap-roots/runs/u7naan9o</a>"
      ],
      "text/plain": [
       "<IPython.core.display.HTML object>"
      ]
     },
     "metadata": {},
     "output_type": "display_data"
    },
    {
     "name": "stdout",
     "output_type": "stream",
     "text": [
      "Fetching artifact: eberrigan-salk-institute-for-biological-studies-org/wandb-registry-sleap-roots-models/soybean-primary-2025-01-05_v000:latest\n"
     ]
    },
    {
     "name": "stderr",
     "output_type": "stream",
     "text": [
      "\u001b[34m\u001b[1mwandb\u001b[0m: \u001b[33mWARNING\u001b[0m Registries can be linked/fetched using a shorthand form without specifying the organization name. Try using shorthand path format: <my_registry_name>/<artifact_name> or just <my_registry_name> if fetching just the project.\n"
     ]
    },
    {
     "name": "stdout",
     "output_type": "stream",
     "text": [
      "Fetching artifact: eberrigan-salk-institute-for-biological-studies-org/wandb-registry-sleap-roots-models/sorghum-primary-2025-01-06_v000:latest\n"
     ]
    },
    {
     "name": "stderr",
     "output_type": "stream",
     "text": [
      "\u001b[34m\u001b[1mwandb\u001b[0m: \u001b[33mWARNING\u001b[0m Registries can be linked/fetched using a shorthand form without specifying the organization name. Try using shorthand path format: <my_registry_name>/<artifact_name> or just <my_registry_name> if fetching just the project.\n",
      "\u001b[34m\u001b[1mwandb\u001b[0m: Downloading large artifact soybean-primary-2025-01-05_v000:latest, 63.42MB. 16 files... \n"
     ]
    },
    {
     "name": "stdout",
     "output_type": "stream",
     "text": [
      "Test data saved to sorghum-primary-2025-01-06_eval_2025-01-29/sorghum-primary-2025-01-06_v000_test_labels.slp\n"
     ]
    },
    {
     "name": "stderr",
     "output_type": "stream",
     "text": [
      "\u001b[34m\u001b[1mwandb\u001b[0m:   16 of 16 files downloaded.  \n",
      "Done. 0:0:0.3\n"
     ]
    },
    {
     "data": {
      "application/vnd.jupyter.widget-view+json": {
       "model_id": "cc9e7e458e81458a828a0a9f7adad38a",
       "version_major": 2,
       "version_minor": 0
      },
      "text/plain": [
       "Output()"
      ]
     },
     "metadata": {},
     "output_type": "display_data"
    },
    {
     "name": "stdout",
     "output_type": "stream",
     "text": [
      "Model loaded successfully from e:\\repositories\\sleap-roots-training\\artifacts\\soybean-primary-2025-01-05_v000-v0.\n"
     ]
    },
    {
     "data": {
      "text/html": [
       "<pre style=\"white-space:pre;overflow-x:auto;line-height:normal;font-family:Menlo,'DejaVu Sans Mono',consolas,'Courier New',monospace\"></pre>\n"
      ],
      "text/plain": []
     },
     "metadata": {},
     "output_type": "display_data"
    },
    {
     "name": "stdout",
     "output_type": "stream",
     "text": [
      "INFO:sleap.nn.evals:OKS mAP: 0.000000\n",
      "Predictions saved to sorghum-primary-2025-01-06_eval_2025-01-29/soybean-primary-2025-01-05_v000_on_sorghum-primary-2025-01-06_v000_test_predictions.slp\n",
      "Metrics saved to sorghum-primary-2025-01-06_eval_2025-01-29/soybean-primary-2025-01-05_v000_on_sorghum-primary-2025-01-06_v000_metrics.csv\n",
      "Distances saved to sorghum-primary-2025-01-06_eval_2025-01-29/soybean-primary-2025-01-05_v000_on_sorghum-primary-2025-01-06_v000_distances.csv\n",
      "Distance histogram saved to sorghum-primary-2025-01-06_eval_2025-01-29\\soybean-primary-2025-01-05_v000_on_sorghum-primary-2025-01-06_v000_distance_histogram.png\n"
     ]
    },
    {
     "data": {
      "text/html": [
       "\n",
       "    <style>\n",
       "        .wandb-row {\n",
       "            display: flex;\n",
       "            flex-direction: row;\n",
       "            flex-wrap: wrap;\n",
       "            justify-content: flex-start;\n",
       "            width: 100%;\n",
       "        }\n",
       "        .wandb-col {\n",
       "            display: flex;\n",
       "            flex-direction: column;\n",
       "            flex-basis: 100%;\n",
       "            flex: 1;\n",
       "            padding: 10px;\n",
       "        }\n",
       "    </style>\n",
       "<div class=\"wandb-row\"><div class=\"wandb-col\"><h3>Run summary:</h3><br/><table class=\"wandb\"><tr><td>dist_avg</td><td>3.06522</td></tr><tr><td>dist_p50</td><td>3.08122</td></tr><tr><td>dist_p90</td><td>4.57556</td></tr><tr><td>dist_p95</td><td>6.44669</td></tr><tr><td>dist_p99</td><td>8.65856</td></tr><tr><td>dist_std</td><td>2.14288</td></tr><tr><td>model_name</td><td>soybean-primary-2025...</td></tr><tr><td>model_path</td><td>e:\\repositories\\slea...</td></tr><tr><td>oks_map</td><td>0</td></tr><tr><td>oks_mar</td><td>0</td></tr><tr><td>vis_prec</td><td>1</td></tr><tr><td>vis_recall</td><td>0.33333</td></tr></table><br/></div></div>"
      ],
      "text/plain": [
       "<IPython.core.display.HTML object>"
      ]
     },
     "metadata": {},
     "output_type": "display_data"
    },
    {
     "data": {
      "text/html": [
       " View run <strong style=\"color:#cdcd00\">evaluate_soybean-primary-2025-01-05_v000_on_sorghum-primary-2025-01-06_v000</strong> at: <a href='https://wandb.ai/eberrigan-salk-institute-for-biological-studies/sleap-roots/runs/u7naan9o' target=\"_blank\">https://wandb.ai/eberrigan-salk-institute-for-biological-studies/sleap-roots/runs/u7naan9o</a><br/> View project at: <a href='https://wandb.ai/eberrigan-salk-institute-for-biological-studies/sleap-roots' target=\"_blank\">https://wandb.ai/eberrigan-salk-institute-for-biological-studies/sleap-roots</a><br/>Synced 7 W&B file(s), 0 media file(s), 4 artifact file(s) and 0 other file(s)"
      ],
      "text/plain": [
       "<IPython.core.display.HTML object>"
      ]
     },
     "metadata": {},
     "output_type": "display_data"
    },
    {
     "data": {
      "text/html": [
       "Find logs at: <code>.\\wandb\\run-20250129_171709-u7naan9o\\logs</code>"
      ],
      "text/plain": [
       "<IPython.core.display.HTML object>"
      ]
     },
     "metadata": {},
     "output_type": "display_data"
    },
    {
     "data": {
      "text/html": [
       "Tracking run with wandb version 0.18.6"
      ],
      "text/plain": [
       "<IPython.core.display.HTML object>"
      ]
     },
     "metadata": {},
     "output_type": "display_data"
    },
    {
     "data": {
      "text/html": [
       "Run data is saved locally in <code>e:\\repositories\\sleap-roots-training\\wandb\\run-20250129_171724-zbmuik0j</code>"
      ],
      "text/plain": [
       "<IPython.core.display.HTML object>"
      ]
     },
     "metadata": {},
     "output_type": "display_data"
    },
    {
     "data": {
      "text/html": [
       "Syncing run <strong><a href='https://wandb.ai/eberrigan-salk-institute-for-biological-studies/sleap-roots/runs/zbmuik0j' target=\"_blank\">evaluate_soybean-primary-2025-01-05_v001_on_sorghum-primary-2025-01-06_v001</a></strong> to <a href='https://wandb.ai/eberrigan-salk-institute-for-biological-studies/sleap-roots' target=\"_blank\">Weights & Biases</a> (<a href='https://wandb.me/developer-guide' target=\"_blank\">docs</a>)<br/>"
      ],
      "text/plain": [
       "<IPython.core.display.HTML object>"
      ]
     },
     "metadata": {},
     "output_type": "display_data"
    },
    {
     "data": {
      "text/html": [
       " View project at <a href='https://wandb.ai/eberrigan-salk-institute-for-biological-studies/sleap-roots' target=\"_blank\">https://wandb.ai/eberrigan-salk-institute-for-biological-studies/sleap-roots</a>"
      ],
      "text/plain": [
       "<IPython.core.display.HTML object>"
      ]
     },
     "metadata": {},
     "output_type": "display_data"
    },
    {
     "data": {
      "text/html": [
       " View run at <a href='https://wandb.ai/eberrigan-salk-institute-for-biological-studies/sleap-roots/runs/zbmuik0j' target=\"_blank\">https://wandb.ai/eberrigan-salk-institute-for-biological-studies/sleap-roots/runs/zbmuik0j</a>"
      ],
      "text/plain": [
       "<IPython.core.display.HTML object>"
      ]
     },
     "metadata": {},
     "output_type": "display_data"
    },
    {
     "name": "stdout",
     "output_type": "stream",
     "text": [
      "Fetching artifact: eberrigan-salk-institute-for-biological-studies-org/wandb-registry-sleap-roots-models/soybean-primary-2025-01-05_v001:latest\n"
     ]
    },
    {
     "name": "stderr",
     "output_type": "stream",
     "text": [
      "\u001b[34m\u001b[1mwandb\u001b[0m: \u001b[33mWARNING\u001b[0m Registries can be linked/fetched using a shorthand form without specifying the organization name. Try using shorthand path format: <my_registry_name>/<artifact_name> or just <my_registry_name> if fetching just the project.\n"
     ]
    },
    {
     "name": "stdout",
     "output_type": "stream",
     "text": [
      "Fetching artifact: eberrigan-salk-institute-for-biological-studies-org/wandb-registry-sleap-roots-models/sorghum-primary-2025-01-06_v001:latest\n"
     ]
    },
    {
     "name": "stderr",
     "output_type": "stream",
     "text": [
      "\u001b[34m\u001b[1mwandb\u001b[0m: \u001b[33mWARNING\u001b[0m Registries can be linked/fetched using a shorthand form without specifying the organization name. Try using shorthand path format: <my_registry_name>/<artifact_name> or just <my_registry_name> if fetching just the project.\n",
      "\u001b[34m\u001b[1mwandb\u001b[0m: Downloading large artifact soybean-primary-2025-01-05_v001:latest, 63.42MB. 16 files... \n"
     ]
    },
    {
     "name": "stdout",
     "output_type": "stream",
     "text": [
      "Test data saved to sorghum-primary-2025-01-06_eval_2025-01-29/sorghum-primary-2025-01-06_v001_test_labels.slp\n"
     ]
    },
    {
     "name": "stderr",
     "output_type": "stream",
     "text": [
      "\u001b[34m\u001b[1mwandb\u001b[0m:   16 of 16 files downloaded.  \n",
      "Done. 0:0:0.3\n"
     ]
    },
    {
     "data": {
      "application/vnd.jupyter.widget-view+json": {
       "model_id": "e39e1bc05ec848a4b3784eb8de191f87",
       "version_major": 2,
       "version_minor": 0
      },
      "text/plain": [
       "Output()"
      ]
     },
     "metadata": {},
     "output_type": "display_data"
    },
    {
     "name": "stdout",
     "output_type": "stream",
     "text": [
      "Model loaded successfully from e:\\repositories\\sleap-roots-training\\artifacts\\soybean-primary-2025-01-05_v001-v0.\n"
     ]
    },
    {
     "data": {
      "text/html": [
       "<pre style=\"white-space:pre;overflow-x:auto;line-height:normal;font-family:Menlo,'DejaVu Sans Mono',consolas,'Courier New',monospace\"></pre>\n"
      ],
      "text/plain": []
     },
     "metadata": {},
     "output_type": "display_data"
    },
    {
     "name": "stdout",
     "output_type": "stream",
     "text": [
      "INFO:sleap.nn.evals:OKS mAP: 0.004703\n",
      "Predictions saved to sorghum-primary-2025-01-06_eval_2025-01-29/soybean-primary-2025-01-05_v001_on_sorghum-primary-2025-01-06_v001_test_predictions.slp\n",
      "Metrics saved to sorghum-primary-2025-01-06_eval_2025-01-29/soybean-primary-2025-01-05_v001_on_sorghum-primary-2025-01-06_v001_metrics.csv\n",
      "Distances saved to sorghum-primary-2025-01-06_eval_2025-01-29/soybean-primary-2025-01-05_v001_on_sorghum-primary-2025-01-06_v001_distances.csv\n",
      "Distance histogram saved to sorghum-primary-2025-01-06_eval_2025-01-29\\soybean-primary-2025-01-05_v001_on_sorghum-primary-2025-01-06_v001_distance_histogram.png\n"
     ]
    },
    {
     "data": {
      "text/html": [
       "\n",
       "    <style>\n",
       "        .wandb-row {\n",
       "            display: flex;\n",
       "            flex-direction: row;\n",
       "            flex-wrap: wrap;\n",
       "            justify-content: flex-start;\n",
       "            width: 100%;\n",
       "        }\n",
       "        .wandb-col {\n",
       "            display: flex;\n",
       "            flex-direction: column;\n",
       "            flex-basis: 100%;\n",
       "            flex: 1;\n",
       "            padding: 10px;\n",
       "        }\n",
       "    </style>\n",
       "<div class=\"wandb-row\"><div class=\"wandb-col\"><h3>Run summary:</h3><br/><table class=\"wandb\"><tr><td>dist_avg</td><td>3.04684</td></tr><tr><td>dist_p50</td><td>2.6742</td></tr><tr><td>dist_p90</td><td>6.39035</td></tr><tr><td>dist_p95</td><td>8.25493</td></tr><tr><td>dist_p99</td><td>10.43366</td></tr><tr><td>dist_std</td><td>2.48859</td></tr><tr><td>model_name</td><td>soybean-primary-2025...</td></tr><tr><td>model_path</td><td>e:\\repositories\\slea...</td></tr><tr><td>oks_map</td><td>0.0047</td></tr><tr><td>oks_mar</td><td>0.01111</td></tr><tr><td>vis_prec</td><td>1</td></tr><tr><td>vis_recall</td><td>0.50758</td></tr></table><br/></div></div>"
      ],
      "text/plain": [
       "<IPython.core.display.HTML object>"
      ]
     },
     "metadata": {},
     "output_type": "display_data"
    },
    {
     "data": {
      "text/html": [
       " View run <strong style=\"color:#cdcd00\">evaluate_soybean-primary-2025-01-05_v001_on_sorghum-primary-2025-01-06_v001</strong> at: <a href='https://wandb.ai/eberrigan-salk-institute-for-biological-studies/sleap-roots/runs/zbmuik0j' target=\"_blank\">https://wandb.ai/eberrigan-salk-institute-for-biological-studies/sleap-roots/runs/zbmuik0j</a><br/> View project at: <a href='https://wandb.ai/eberrigan-salk-institute-for-biological-studies/sleap-roots' target=\"_blank\">https://wandb.ai/eberrigan-salk-institute-for-biological-studies/sleap-roots</a><br/>Synced 7 W&B file(s), 0 media file(s), 8 artifact file(s) and 0 other file(s)"
      ],
      "text/plain": [
       "<IPython.core.display.HTML object>"
      ]
     },
     "metadata": {},
     "output_type": "display_data"
    },
    {
     "data": {
      "text/html": [
       "Find logs at: <code>.\\wandb\\run-20250129_171724-zbmuik0j\\logs</code>"
      ],
      "text/plain": [
       "<IPython.core.display.HTML object>"
      ]
     },
     "metadata": {},
     "output_type": "display_data"
    },
    {
     "data": {
      "text/html": [
       "Tracking run with wandb version 0.18.6"
      ],
      "text/plain": [
       "<IPython.core.display.HTML object>"
      ]
     },
     "metadata": {},
     "output_type": "display_data"
    },
    {
     "data": {
      "text/html": [
       "Run data is saved locally in <code>e:\\repositories\\sleap-roots-training\\wandb\\run-20250129_171739-8thmbwbq</code>"
      ],
      "text/plain": [
       "<IPython.core.display.HTML object>"
      ]
     },
     "metadata": {},
     "output_type": "display_data"
    },
    {
     "data": {
      "text/html": [
       "Syncing run <strong><a href='https://wandb.ai/eberrigan-salk-institute-for-biological-studies/sleap-roots/runs/8thmbwbq' target=\"_blank\">evaluate_soybean-primary-2025-01-05_v002_on_sorghum-primary-2025-01-06_v002</a></strong> to <a href='https://wandb.ai/eberrigan-salk-institute-for-biological-studies/sleap-roots' target=\"_blank\">Weights & Biases</a> (<a href='https://wandb.me/developer-guide' target=\"_blank\">docs</a>)<br/>"
      ],
      "text/plain": [
       "<IPython.core.display.HTML object>"
      ]
     },
     "metadata": {},
     "output_type": "display_data"
    },
    {
     "data": {
      "text/html": [
       " View project at <a href='https://wandb.ai/eberrigan-salk-institute-for-biological-studies/sleap-roots' target=\"_blank\">https://wandb.ai/eberrigan-salk-institute-for-biological-studies/sleap-roots</a>"
      ],
      "text/plain": [
       "<IPython.core.display.HTML object>"
      ]
     },
     "metadata": {},
     "output_type": "display_data"
    },
    {
     "data": {
      "text/html": [
       " View run at <a href='https://wandb.ai/eberrigan-salk-institute-for-biological-studies/sleap-roots/runs/8thmbwbq' target=\"_blank\">https://wandb.ai/eberrigan-salk-institute-for-biological-studies/sleap-roots/runs/8thmbwbq</a>"
      ],
      "text/plain": [
       "<IPython.core.display.HTML object>"
      ]
     },
     "metadata": {},
     "output_type": "display_data"
    },
    {
     "name": "stdout",
     "output_type": "stream",
     "text": [
      "Fetching artifact: eberrigan-salk-institute-for-biological-studies-org/wandb-registry-sleap-roots-models/soybean-primary-2025-01-05_v002:latest\n"
     ]
    },
    {
     "name": "stderr",
     "output_type": "stream",
     "text": [
      "\u001b[34m\u001b[1mwandb\u001b[0m: \u001b[33mWARNING\u001b[0m Registries can be linked/fetched using a shorthand form without specifying the organization name. Try using shorthand path format: <my_registry_name>/<artifact_name> or just <my_registry_name> if fetching just the project.\n"
     ]
    },
    {
     "name": "stdout",
     "output_type": "stream",
     "text": [
      "Fetching artifact: eberrigan-salk-institute-for-biological-studies-org/wandb-registry-sleap-roots-models/sorghum-primary-2025-01-06_v002:latest\n"
     ]
    },
    {
     "name": "stderr",
     "output_type": "stream",
     "text": [
      "\u001b[34m\u001b[1mwandb\u001b[0m: \u001b[33mWARNING\u001b[0m Registries can be linked/fetched using a shorthand form without specifying the organization name. Try using shorthand path format: <my_registry_name>/<artifact_name> or just <my_registry_name> if fetching just the project.\n",
      "\u001b[34m\u001b[1mwandb\u001b[0m: Downloading large artifact soybean-primary-2025-01-05_v002:latest, 63.41MB. 16 files... \n"
     ]
    },
    {
     "name": "stdout",
     "output_type": "stream",
     "text": [
      "Test data saved to sorghum-primary-2025-01-06_eval_2025-01-29/sorghum-primary-2025-01-06_v002_test_labels.slp\n"
     ]
    },
    {
     "name": "stderr",
     "output_type": "stream",
     "text": [
      "\u001b[34m\u001b[1mwandb\u001b[0m:   16 of 16 files downloaded.  \n",
      "Done. 0:0:0.3\n"
     ]
    },
    {
     "data": {
      "application/vnd.jupyter.widget-view+json": {
       "model_id": "d59b4797ab284356852cc0676ef39cc3",
       "version_major": 2,
       "version_minor": 0
      },
      "text/plain": [
       "Output()"
      ]
     },
     "metadata": {},
     "output_type": "display_data"
    },
    {
     "name": "stdout",
     "output_type": "stream",
     "text": [
      "Model loaded successfully from e:\\repositories\\sleap-roots-training\\artifacts\\soybean-primary-2025-01-05_v002-v0.\n"
     ]
    },
    {
     "data": {
      "text/html": [
       "<pre style=\"white-space:pre;overflow-x:auto;line-height:normal;font-family:Menlo,'DejaVu Sans Mono',consolas,'Courier New',monospace\"></pre>\n"
      ],
      "text/plain": []
     },
     "metadata": {},
     "output_type": "display_data"
    },
    {
     "name": "stdout",
     "output_type": "stream",
     "text": [
      "INFO:sleap.nn.evals:OKS mAP: 0.000000\n",
      "Predictions saved to sorghum-primary-2025-01-06_eval_2025-01-29/soybean-primary-2025-01-05_v002_on_sorghum-primary-2025-01-06_v002_test_predictions.slp\n",
      "Metrics saved to sorghum-primary-2025-01-06_eval_2025-01-29/soybean-primary-2025-01-05_v002_on_sorghum-primary-2025-01-06_v002_metrics.csv\n",
      "Distances saved to sorghum-primary-2025-01-06_eval_2025-01-29/soybean-primary-2025-01-05_v002_on_sorghum-primary-2025-01-06_v002_distances.csv\n",
      "Distance histogram saved to sorghum-primary-2025-01-06_eval_2025-01-29\\soybean-primary-2025-01-05_v002_on_sorghum-primary-2025-01-06_v002_distance_histogram.png\n"
     ]
    },
    {
     "data": {
      "text/html": [
       "\n",
       "    <style>\n",
       "        .wandb-row {\n",
       "            display: flex;\n",
       "            flex-direction: row;\n",
       "            flex-wrap: wrap;\n",
       "            justify-content: flex-start;\n",
       "            width: 100%;\n",
       "        }\n",
       "        .wandb-col {\n",
       "            display: flex;\n",
       "            flex-direction: column;\n",
       "            flex-basis: 100%;\n",
       "            flex: 1;\n",
       "            padding: 10px;\n",
       "        }\n",
       "    </style>\n",
       "<div class=\"wandb-row\"><div class=\"wandb-col\"><h3>Run summary:</h3><br/><table class=\"wandb\"><tr><td>dist_avg</td><td>2.64788</td></tr><tr><td>dist_p50</td><td>2.19331</td></tr><tr><td>dist_p90</td><td>6.4496</td></tr><tr><td>dist_p95</td><td>7.53679</td></tr><tr><td>dist_p99</td><td>8.66844</td></tr><tr><td>dist_std</td><td>2.42524</td></tr><tr><td>model_name</td><td>soybean-primary-2025...</td></tr><tr><td>model_path</td><td>e:\\repositories\\slea...</td></tr><tr><td>oks_map</td><td>0</td></tr><tr><td>oks_mar</td><td>0</td></tr><tr><td>vis_prec</td><td>1</td></tr><tr><td>vis_recall</td><td>0.34848</td></tr></table><br/></div></div>"
      ],
      "text/plain": [
       "<IPython.core.display.HTML object>"
      ]
     },
     "metadata": {},
     "output_type": "display_data"
    },
    {
     "data": {
      "text/html": [
       " View run <strong style=\"color:#cdcd00\">evaluate_soybean-primary-2025-01-05_v002_on_sorghum-primary-2025-01-06_v002</strong> at: <a href='https://wandb.ai/eberrigan-salk-institute-for-biological-studies/sleap-roots/runs/8thmbwbq' target=\"_blank\">https://wandb.ai/eberrigan-salk-institute-for-biological-studies/sleap-roots/runs/8thmbwbq</a><br/> View project at: <a href='https://wandb.ai/eberrigan-salk-institute-for-biological-studies/sleap-roots' target=\"_blank\">https://wandb.ai/eberrigan-salk-institute-for-biological-studies/sleap-roots</a><br/>Synced 7 W&B file(s), 0 media file(s), 4 artifact file(s) and 0 other file(s)"
      ],
      "text/plain": [
       "<IPython.core.display.HTML object>"
      ]
     },
     "metadata": {},
     "output_type": "display_data"
    },
    {
     "data": {
      "text/html": [
       "Find logs at: <code>.\\wandb\\run-20250129_171739-8thmbwbq\\logs</code>"
      ],
      "text/plain": [
       "<IPython.core.display.HTML object>"
      ]
     },
     "metadata": {},
     "output_type": "display_data"
    },
    {
     "data": {
      "text/html": [
       "Tracking run with wandb version 0.18.6"
      ],
      "text/plain": [
       "<IPython.core.display.HTML object>"
      ]
     },
     "metadata": {},
     "output_type": "display_data"
    },
    {
     "data": {
      "text/html": [
       "Run data is saved locally in <code>e:\\repositories\\sleap-roots-training\\wandb\\run-20250129_171754-gn009m9j</code>"
      ],
      "text/plain": [
       "<IPython.core.display.HTML object>"
      ]
     },
     "metadata": {},
     "output_type": "display_data"
    },
    {
     "data": {
      "text/html": [
       "Syncing run <strong><a href='https://wandb.ai/eberrigan-salk-institute-for-biological-studies/sleap-roots/runs/gn009m9j' target=\"_blank\">evaluate_rice-primary-2025-01-19_v000_on_sorghum-primary-2025-01-06_v000</a></strong> to <a href='https://wandb.ai/eberrigan-salk-institute-for-biological-studies/sleap-roots' target=\"_blank\">Weights & Biases</a> (<a href='https://wandb.me/developer-guide' target=\"_blank\">docs</a>)<br/>"
      ],
      "text/plain": [
       "<IPython.core.display.HTML object>"
      ]
     },
     "metadata": {},
     "output_type": "display_data"
    },
    {
     "data": {
      "text/html": [
       " View project at <a href='https://wandb.ai/eberrigan-salk-institute-for-biological-studies/sleap-roots' target=\"_blank\">https://wandb.ai/eberrigan-salk-institute-for-biological-studies/sleap-roots</a>"
      ],
      "text/plain": [
       "<IPython.core.display.HTML object>"
      ]
     },
     "metadata": {},
     "output_type": "display_data"
    },
    {
     "data": {
      "text/html": [
       " View run at <a href='https://wandb.ai/eberrigan-salk-institute-for-biological-studies/sleap-roots/runs/gn009m9j' target=\"_blank\">https://wandb.ai/eberrigan-salk-institute-for-biological-studies/sleap-roots/runs/gn009m9j</a>"
      ],
      "text/plain": [
       "<IPython.core.display.HTML object>"
      ]
     },
     "metadata": {},
     "output_type": "display_data"
    },
    {
     "name": "stdout",
     "output_type": "stream",
     "text": [
      "Fetching artifact: eberrigan-salk-institute-for-biological-studies-org/wandb-registry-sleap-roots-models/rice-primary-2025-01-19_v000:latest\n"
     ]
    },
    {
     "name": "stderr",
     "output_type": "stream",
     "text": [
      "\u001b[34m\u001b[1mwandb\u001b[0m: \u001b[33mWARNING\u001b[0m Registries can be linked/fetched using a shorthand form without specifying the organization name. Try using shorthand path format: <my_registry_name>/<artifact_name> or just <my_registry_name> if fetching just the project.\n"
     ]
    },
    {
     "name": "stdout",
     "output_type": "stream",
     "text": [
      "Fetching artifact: eberrigan-salk-institute-for-biological-studies-org/wandb-registry-sleap-roots-models/sorghum-primary-2025-01-06_v000:latest\n"
     ]
    },
    {
     "name": "stderr",
     "output_type": "stream",
     "text": [
      "\u001b[34m\u001b[1mwandb\u001b[0m: \u001b[33mWARNING\u001b[0m Registries can be linked/fetched using a shorthand form without specifying the organization name. Try using shorthand path format: <my_registry_name>/<artifact_name> or just <my_registry_name> if fetching just the project.\n",
      "\u001b[34m\u001b[1mwandb\u001b[0m: Downloading large artifact rice-primary-2025-01-19_v000:latest, 248.76MB. 204 files... \n"
     ]
    },
    {
     "name": "stdout",
     "output_type": "stream",
     "text": [
      "Test data saved to sorghum-primary-2025-01-06_eval_2025-01-29/sorghum-primary-2025-01-06_v000_test_labels.slp\n"
     ]
    },
    {
     "name": "stderr",
     "output_type": "stream",
     "text": [
      "\u001b[34m\u001b[1mwandb\u001b[0m:   204 of 204 files downloaded.  \n",
      "Done. 0:0:0.8\n"
     ]
    },
    {
     "data": {
      "application/vnd.jupyter.widget-view+json": {
       "model_id": "10e80de1f73244459112a2f743e20e30",
       "version_major": 2,
       "version_minor": 0
      },
      "text/plain": [
       "Output()"
      ]
     },
     "metadata": {},
     "output_type": "display_data"
    },
    {
     "name": "stdout",
     "output_type": "stream",
     "text": [
      "Model loaded successfully from e:\\repositories\\sleap-roots-training\\artifacts\\rice-primary-2025-01-19_v000-v0.\n"
     ]
    },
    {
     "data": {
      "text/html": [
       "<pre style=\"white-space:pre;overflow-x:auto;line-height:normal;font-family:Menlo,'DejaVu Sans Mono',consolas,'Courier New',monospace\"></pre>\n"
      ],
      "text/plain": []
     },
     "metadata": {},
     "output_type": "display_data"
    },
    {
     "name": "stdout",
     "output_type": "stream",
     "text": [
      "INFO:sleap.nn.evals:OKS mAP: 0.000743\n",
      "Predictions saved to sorghum-primary-2025-01-06_eval_2025-01-29/rice-primary-2025-01-19_v000_on_sorghum-primary-2025-01-06_v000_test_predictions.slp\n",
      "Metrics saved to sorghum-primary-2025-01-06_eval_2025-01-29/rice-primary-2025-01-19_v000_on_sorghum-primary-2025-01-06_v000_metrics.csv\n",
      "Distances saved to sorghum-primary-2025-01-06_eval_2025-01-29/rice-primary-2025-01-19_v000_on_sorghum-primary-2025-01-06_v000_distances.csv\n",
      "Distance histogram saved to sorghum-primary-2025-01-06_eval_2025-01-29\\rice-primary-2025-01-19_v000_on_sorghum-primary-2025-01-06_v000_distance_histogram.png\n"
     ]
    },
    {
     "data": {
      "text/html": [
       "\n",
       "    <style>\n",
       "        .wandb-row {\n",
       "            display: flex;\n",
       "            flex-direction: row;\n",
       "            flex-wrap: wrap;\n",
       "            justify-content: flex-start;\n",
       "            width: 100%;\n",
       "        }\n",
       "        .wandb-col {\n",
       "            display: flex;\n",
       "            flex-direction: column;\n",
       "            flex-basis: 100%;\n",
       "            flex: 1;\n",
       "            padding: 10px;\n",
       "        }\n",
       "    </style>\n",
       "<div class=\"wandb-row\"><div class=\"wandb-col\"><h3>Run summary:</h3><br/><table class=\"wandb\"><tr><td>dist_avg</td><td>7.48148</td></tr><tr><td>dist_p50</td><td>3.0719</td></tr><tr><td>dist_p90</td><td>20.87057</td></tr><tr><td>dist_p95</td><td>31.12629</td></tr><tr><td>dist_p99</td><td>47.9229</td></tr><tr><td>dist_std</td><td>10.50299</td></tr><tr><td>model_name</td><td>rice-primary-2025-01...</td></tr><tr><td>model_path</td><td>e:\\repositories\\slea...</td></tr><tr><td>oks_map</td><td>0.00074</td></tr><tr><td>oks_mar</td><td>0.00222</td></tr><tr><td>vis_prec</td><td>1</td></tr><tr><td>vis_recall</td><td>0.56667</td></tr></table><br/></div></div>"
      ],
      "text/plain": [
       "<IPython.core.display.HTML object>"
      ]
     },
     "metadata": {},
     "output_type": "display_data"
    },
    {
     "data": {
      "text/html": [
       " View run <strong style=\"color:#cdcd00\">evaluate_rice-primary-2025-01-19_v000_on_sorghum-primary-2025-01-06_v000</strong> at: <a href='https://wandb.ai/eberrigan-salk-institute-for-biological-studies/sleap-roots/runs/gn009m9j' target=\"_blank\">https://wandb.ai/eberrigan-salk-institute-for-biological-studies/sleap-roots/runs/gn009m9j</a><br/> View project at: <a href='https://wandb.ai/eberrigan-salk-institute-for-biological-studies/sleap-roots' target=\"_blank\">https://wandb.ai/eberrigan-salk-institute-for-biological-studies/sleap-roots</a><br/>Synced 7 W&B file(s), 0 media file(s), 10 artifact file(s) and 0 other file(s)"
      ],
      "text/plain": [
       "<IPython.core.display.HTML object>"
      ]
     },
     "metadata": {},
     "output_type": "display_data"
    },
    {
     "data": {
      "text/html": [
       "Find logs at: <code>.\\wandb\\run-20250129_171754-gn009m9j\\logs</code>"
      ],
      "text/plain": [
       "<IPython.core.display.HTML object>"
      ]
     },
     "metadata": {},
     "output_type": "display_data"
    },
    {
     "data": {
      "text/html": [
       "Tracking run with wandb version 0.18.6"
      ],
      "text/plain": [
       "<IPython.core.display.HTML object>"
      ]
     },
     "metadata": {},
     "output_type": "display_data"
    },
    {
     "data": {
      "text/html": [
       "Run data is saved locally in <code>e:\\repositories\\sleap-roots-training\\wandb\\run-20250129_171810-hhmi9bjv</code>"
      ],
      "text/plain": [
       "<IPython.core.display.HTML object>"
      ]
     },
     "metadata": {},
     "output_type": "display_data"
    },
    {
     "data": {
      "text/html": [
       "Syncing run <strong><a href='https://wandb.ai/eberrigan-salk-institute-for-biological-studies/sleap-roots/runs/hhmi9bjv' target=\"_blank\">evaluate_rice-primary-2025-01-19_v001_on_sorghum-primary-2025-01-06_v001</a></strong> to <a href='https://wandb.ai/eberrigan-salk-institute-for-biological-studies/sleap-roots' target=\"_blank\">Weights & Biases</a> (<a href='https://wandb.me/developer-guide' target=\"_blank\">docs</a>)<br/>"
      ],
      "text/plain": [
       "<IPython.core.display.HTML object>"
      ]
     },
     "metadata": {},
     "output_type": "display_data"
    },
    {
     "data": {
      "text/html": [
       " View project at <a href='https://wandb.ai/eberrigan-salk-institute-for-biological-studies/sleap-roots' target=\"_blank\">https://wandb.ai/eberrigan-salk-institute-for-biological-studies/sleap-roots</a>"
      ],
      "text/plain": [
       "<IPython.core.display.HTML object>"
      ]
     },
     "metadata": {},
     "output_type": "display_data"
    },
    {
     "data": {
      "text/html": [
       " View run at <a href='https://wandb.ai/eberrigan-salk-institute-for-biological-studies/sleap-roots/runs/hhmi9bjv' target=\"_blank\">https://wandb.ai/eberrigan-salk-institute-for-biological-studies/sleap-roots/runs/hhmi9bjv</a>"
      ],
      "text/plain": [
       "<IPython.core.display.HTML object>"
      ]
     },
     "metadata": {},
     "output_type": "display_data"
    },
    {
     "name": "stdout",
     "output_type": "stream",
     "text": [
      "Fetching artifact: eberrigan-salk-institute-for-biological-studies-org/wandb-registry-sleap-roots-models/rice-primary-2025-01-19_v001:latest\n"
     ]
    },
    {
     "name": "stderr",
     "output_type": "stream",
     "text": [
      "\u001b[34m\u001b[1mwandb\u001b[0m: \u001b[33mWARNING\u001b[0m Registries can be linked/fetched using a shorthand form without specifying the organization name. Try using shorthand path format: <my_registry_name>/<artifact_name> or just <my_registry_name> if fetching just the project.\n"
     ]
    },
    {
     "name": "stdout",
     "output_type": "stream",
     "text": [
      "Fetching artifact: eberrigan-salk-institute-for-biological-studies-org/wandb-registry-sleap-roots-models/sorghum-primary-2025-01-06_v001:latest\n"
     ]
    },
    {
     "name": "stderr",
     "output_type": "stream",
     "text": [
      "\u001b[34m\u001b[1mwandb\u001b[0m: \u001b[33mWARNING\u001b[0m Registries can be linked/fetched using a shorthand form without specifying the organization name. Try using shorthand path format: <my_registry_name>/<artifact_name> or just <my_registry_name> if fetching just the project.\n",
      "\u001b[34m\u001b[1mwandb\u001b[0m: Downloading large artifact rice-primary-2025-01-19_v001:latest, 273.89MB. 232 files... \n"
     ]
    },
    {
     "name": "stdout",
     "output_type": "stream",
     "text": [
      "Test data saved to sorghum-primary-2025-01-06_eval_2025-01-29/sorghum-primary-2025-01-06_v001_test_labels.slp\n"
     ]
    },
    {
     "name": "stderr",
     "output_type": "stream",
     "text": [
      "\u001b[34m\u001b[1mwandb\u001b[0m:   232 of 232 files downloaded.  \n",
      "Done. 0:0:0.9\n"
     ]
    },
    {
     "data": {
      "application/vnd.jupyter.widget-view+json": {
       "model_id": "98555129538b41c4a1328460a7908f20",
       "version_major": 2,
       "version_minor": 0
      },
      "text/plain": [
       "Output()"
      ]
     },
     "metadata": {},
     "output_type": "display_data"
    },
    {
     "name": "stdout",
     "output_type": "stream",
     "text": [
      "Model loaded successfully from e:\\repositories\\sleap-roots-training\\artifacts\\rice-primary-2025-01-19_v001-v0.\n"
     ]
    },
    {
     "data": {
      "text/html": [
       "<pre style=\"white-space:pre;overflow-x:auto;line-height:normal;font-family:Menlo,'DejaVu Sans Mono',consolas,'Courier New',monospace\"></pre>\n"
      ],
      "text/plain": []
     },
     "metadata": {},
     "output_type": "display_data"
    },
    {
     "name": "stdout",
     "output_type": "stream",
     "text": [
      "INFO:sleap.nn.evals:OKS mAP: 0.001718\n",
      "Predictions saved to sorghum-primary-2025-01-06_eval_2025-01-29/rice-primary-2025-01-19_v001_on_sorghum-primary-2025-01-06_v001_test_predictions.slp\n",
      "Metrics saved to sorghum-primary-2025-01-06_eval_2025-01-29/rice-primary-2025-01-19_v001_on_sorghum-primary-2025-01-06_v001_metrics.csv\n",
      "Distances saved to sorghum-primary-2025-01-06_eval_2025-01-29/rice-primary-2025-01-19_v001_on_sorghum-primary-2025-01-06_v001_distances.csv\n",
      "Distance histogram saved to sorghum-primary-2025-01-06_eval_2025-01-29\\rice-primary-2025-01-19_v001_on_sorghum-primary-2025-01-06_v001_distance_histogram.png\n"
     ]
    },
    {
     "data": {
      "application/vnd.jupyter.widget-view+json": {
       "model_id": "af8daa95ecbd4e339a4eaf22acb76a1e",
       "version_major": 2,
       "version_minor": 0
      },
      "text/plain": [
       "VBox(children=(Label(value='0.098 MB of 0.098 MB uploaded\\r'), FloatProgress(value=1.0, max=1.0)))"
      ]
     },
     "metadata": {},
     "output_type": "display_data"
    },
    {
     "data": {
      "text/html": [
       "\n",
       "    <style>\n",
       "        .wandb-row {\n",
       "            display: flex;\n",
       "            flex-direction: row;\n",
       "            flex-wrap: wrap;\n",
       "            justify-content: flex-start;\n",
       "            width: 100%;\n",
       "        }\n",
       "        .wandb-col {\n",
       "            display: flex;\n",
       "            flex-direction: column;\n",
       "            flex-basis: 100%;\n",
       "            flex: 1;\n",
       "            padding: 10px;\n",
       "        }\n",
       "    </style>\n",
       "<div class=\"wandb-row\"><div class=\"wandb-col\"><h3>Run summary:</h3><br/><table class=\"wandb\"><tr><td>dist_avg</td><td>5.64329</td></tr><tr><td>dist_p50</td><td>1.99042</td></tr><tr><td>dist_p90</td><td>17.30812</td></tr><tr><td>dist_p95</td><td>28.98295</td></tr><tr><td>dist_p99</td><td>41.55582</td></tr><tr><td>dist_std</td><td>9.43182</td></tr><tr><td>model_name</td><td>rice-primary-2025-01...</td></tr><tr><td>model_path</td><td>e:\\repositories\\slea...</td></tr><tr><td>oks_map</td><td>0.00172</td></tr><tr><td>oks_mar</td><td>0.00667</td></tr><tr><td>vis_prec</td><td>1</td></tr><tr><td>vis_recall</td><td>0.60965</td></tr></table><br/></div></div>"
      ],
      "text/plain": [
       "<IPython.core.display.HTML object>"
      ]
     },
     "metadata": {},
     "output_type": "display_data"
    },
    {
     "data": {
      "text/html": [
       " View run <strong style=\"color:#cdcd00\">evaluate_rice-primary-2025-01-19_v001_on_sorghum-primary-2025-01-06_v001</strong> at: <a href='https://wandb.ai/eberrigan-salk-institute-for-biological-studies/sleap-roots/runs/hhmi9bjv' target=\"_blank\">https://wandb.ai/eberrigan-salk-institute-for-biological-studies/sleap-roots/runs/hhmi9bjv</a><br/> View project at: <a href='https://wandb.ai/eberrigan-salk-institute-for-biological-studies/sleap-roots' target=\"_blank\">https://wandb.ai/eberrigan-salk-institute-for-biological-studies/sleap-roots</a><br/>Synced 7 W&B file(s), 0 media file(s), 8 artifact file(s) and 0 other file(s)"
      ],
      "text/plain": [
       "<IPython.core.display.HTML object>"
      ]
     },
     "metadata": {},
     "output_type": "display_data"
    },
    {
     "data": {
      "text/html": [
       "Find logs at: <code>.\\wandb\\run-20250129_171810-hhmi9bjv\\logs</code>"
      ],
      "text/plain": [
       "<IPython.core.display.HTML object>"
      ]
     },
     "metadata": {},
     "output_type": "display_data"
    },
    {
     "data": {
      "text/html": [
       "Tracking run with wandb version 0.18.6"
      ],
      "text/plain": [
       "<IPython.core.display.HTML object>"
      ]
     },
     "metadata": {},
     "output_type": "display_data"
    },
    {
     "data": {
      "text/html": [
       "Run data is saved locally in <code>e:\\repositories\\sleap-roots-training\\wandb\\run-20250129_171826-lspxwl8c</code>"
      ],
      "text/plain": [
       "<IPython.core.display.HTML object>"
      ]
     },
     "metadata": {},
     "output_type": "display_data"
    },
    {
     "data": {
      "text/html": [
       "Syncing run <strong><a href='https://wandb.ai/eberrigan-salk-institute-for-biological-studies/sleap-roots/runs/lspxwl8c' target=\"_blank\">evaluate_rice-primary-2025-01-19_v002_on_sorghum-primary-2025-01-06_v002</a></strong> to <a href='https://wandb.ai/eberrigan-salk-institute-for-biological-studies/sleap-roots' target=\"_blank\">Weights & Biases</a> (<a href='https://wandb.me/developer-guide' target=\"_blank\">docs</a>)<br/>"
      ],
      "text/plain": [
       "<IPython.core.display.HTML object>"
      ]
     },
     "metadata": {},
     "output_type": "display_data"
    },
    {
     "data": {
      "text/html": [
       " View project at <a href='https://wandb.ai/eberrigan-salk-institute-for-biological-studies/sleap-roots' target=\"_blank\">https://wandb.ai/eberrigan-salk-institute-for-biological-studies/sleap-roots</a>"
      ],
      "text/plain": [
       "<IPython.core.display.HTML object>"
      ]
     },
     "metadata": {},
     "output_type": "display_data"
    },
    {
     "data": {
      "text/html": [
       " View run at <a href='https://wandb.ai/eberrigan-salk-institute-for-biological-studies/sleap-roots/runs/lspxwl8c' target=\"_blank\">https://wandb.ai/eberrigan-salk-institute-for-biological-studies/sleap-roots/runs/lspxwl8c</a>"
      ],
      "text/plain": [
       "<IPython.core.display.HTML object>"
      ]
     },
     "metadata": {},
     "output_type": "display_data"
    },
    {
     "name": "stdout",
     "output_type": "stream",
     "text": [
      "Fetching artifact: eberrigan-salk-institute-for-biological-studies-org/wandb-registry-sleap-roots-models/rice-primary-2025-01-19_v002:latest\n"
     ]
    },
    {
     "name": "stderr",
     "output_type": "stream",
     "text": [
      "\u001b[34m\u001b[1mwandb\u001b[0m: \u001b[33mWARNING\u001b[0m Registries can be linked/fetched using a shorthand form without specifying the organization name. Try using shorthand path format: <my_registry_name>/<artifact_name> or just <my_registry_name> if fetching just the project.\n"
     ]
    },
    {
     "name": "stdout",
     "output_type": "stream",
     "text": [
      "Fetching artifact: eberrigan-salk-institute-for-biological-studies-org/wandb-registry-sleap-roots-models/sorghum-primary-2025-01-06_v002:latest\n"
     ]
    },
    {
     "name": "stderr",
     "output_type": "stream",
     "text": [
      "\u001b[34m\u001b[1mwandb\u001b[0m: \u001b[33mWARNING\u001b[0m Registries can be linked/fetched using a shorthand form without specifying the organization name. Try using shorthand path format: <my_registry_name>/<artifact_name> or just <my_registry_name> if fetching just the project.\n",
      "\u001b[34m\u001b[1mwandb\u001b[0m: Downloading large artifact rice-primary-2025-01-19_v002:latest, 274.83MB. 236 files... \n"
     ]
    },
    {
     "name": "stdout",
     "output_type": "stream",
     "text": [
      "Test data saved to sorghum-primary-2025-01-06_eval_2025-01-29/sorghum-primary-2025-01-06_v002_test_labels.slp\n"
     ]
    },
    {
     "name": "stderr",
     "output_type": "stream",
     "text": [
      "\u001b[34m\u001b[1mwandb\u001b[0m:   236 of 236 files downloaded.  \n",
      "Done. 0:0:0.8\n"
     ]
    },
    {
     "data": {
      "application/vnd.jupyter.widget-view+json": {
       "model_id": "13c1ecd68c0c4247807e122f1a8a79e5",
       "version_major": 2,
       "version_minor": 0
      },
      "text/plain": [
       "Output()"
      ]
     },
     "metadata": {},
     "output_type": "display_data"
    },
    {
     "name": "stdout",
     "output_type": "stream",
     "text": [
      "Model loaded successfully from e:\\repositories\\sleap-roots-training\\artifacts\\rice-primary-2025-01-19_v002-v0.\n"
     ]
    },
    {
     "data": {
      "text/html": [
       "<pre style=\"white-space:pre;overflow-x:auto;line-height:normal;font-family:Menlo,'DejaVu Sans Mono',consolas,'Courier New',monospace\"></pre>\n"
      ],
      "text/plain": []
     },
     "metadata": {},
     "output_type": "display_data"
    },
    {
     "name": "stdout",
     "output_type": "stream",
     "text": [
      "INFO:sleap.nn.evals:OKS mAP: 0.008267\n",
      "Predictions saved to sorghum-primary-2025-01-06_eval_2025-01-29/rice-primary-2025-01-19_v002_on_sorghum-primary-2025-01-06_v002_test_predictions.slp\n",
      "Metrics saved to sorghum-primary-2025-01-06_eval_2025-01-29/rice-primary-2025-01-19_v002_on_sorghum-primary-2025-01-06_v002_metrics.csv\n",
      "Distances saved to sorghum-primary-2025-01-06_eval_2025-01-29/rice-primary-2025-01-19_v002_on_sorghum-primary-2025-01-06_v002_distances.csv\n",
      "Distance histogram saved to sorghum-primary-2025-01-06_eval_2025-01-29\\rice-primary-2025-01-19_v002_on_sorghum-primary-2025-01-06_v002_distance_histogram.png\n"
     ]
    },
    {
     "data": {
      "text/html": [
       "\n",
       "    <style>\n",
       "        .wandb-row {\n",
       "            display: flex;\n",
       "            flex-direction: row;\n",
       "            flex-wrap: wrap;\n",
       "            justify-content: flex-start;\n",
       "            width: 100%;\n",
       "        }\n",
       "        .wandb-col {\n",
       "            display: flex;\n",
       "            flex-direction: column;\n",
       "            flex-basis: 100%;\n",
       "            flex: 1;\n",
       "            padding: 10px;\n",
       "        }\n",
       "    </style>\n",
       "<div class=\"wandb-row\"><div class=\"wandb-col\"><h3>Run summary:</h3><br/><table class=\"wandb\"><tr><td>dist_avg</td><td>4.31877</td></tr><tr><td>dist_p50</td><td>2.62247</td></tr><tr><td>dist_p90</td><td>9.11062</td></tr><tr><td>dist_p95</td><td>12.80708</td></tr><tr><td>dist_p99</td><td>30.70498</td></tr><tr><td>dist_std</td><td>5.9174</td></tr><tr><td>model_name</td><td>rice-primary-2025-01...</td></tr><tr><td>model_path</td><td>e:\\repositories\\slea...</td></tr><tr><td>oks_map</td><td>0.00827</td></tr><tr><td>oks_mar</td><td>0.01111</td></tr><tr><td>vis_prec</td><td>1</td></tr><tr><td>vis_recall</td><td>0.58333</td></tr></table><br/></div></div>"
      ],
      "text/plain": [
       "<IPython.core.display.HTML object>"
      ]
     },
     "metadata": {},
     "output_type": "display_data"
    },
    {
     "data": {
      "text/html": [
       " View run <strong style=\"color:#cdcd00\">evaluate_rice-primary-2025-01-19_v002_on_sorghum-primary-2025-01-06_v002</strong> at: <a href='https://wandb.ai/eberrigan-salk-institute-for-biological-studies/sleap-roots/runs/lspxwl8c' target=\"_blank\">https://wandb.ai/eberrigan-salk-institute-for-biological-studies/sleap-roots/runs/lspxwl8c</a><br/> View project at: <a href='https://wandb.ai/eberrigan-salk-institute-for-biological-studies/sleap-roots' target=\"_blank\">https://wandb.ai/eberrigan-salk-institute-for-biological-studies/sleap-roots</a><br/>Synced 7 W&B file(s), 0 media file(s), 8 artifact file(s) and 0 other file(s)"
      ],
      "text/plain": [
       "<IPython.core.display.HTML object>"
      ]
     },
     "metadata": {},
     "output_type": "display_data"
    },
    {
     "data": {
      "text/html": [
       "Find logs at: <code>.\\wandb\\run-20250129_171826-lspxwl8c\\logs</code>"
      ],
      "text/plain": [
       "<IPython.core.display.HTML object>"
      ]
     },
     "metadata": {},
     "output_type": "display_data"
    },
    {
     "data": {
      "text/html": [
       "Tracking run with wandb version 0.18.6"
      ],
      "text/plain": [
       "<IPython.core.display.HTML object>"
      ]
     },
     "metadata": {},
     "output_type": "display_data"
    },
    {
     "data": {
      "text/html": [
       "Run data is saved locally in <code>e:\\repositories\\sleap-roots-training\\wandb\\run-20250129_171841-jda1vh74</code>"
      ],
      "text/plain": [
       "<IPython.core.display.HTML object>"
      ]
     },
     "metadata": {},
     "output_type": "display_data"
    },
    {
     "data": {
      "text/html": [
       "Syncing run <strong><a href='https://wandb.ai/eberrigan-salk-institute-for-biological-studies/sleap-roots/runs/jda1vh74' target=\"_blank\">evaluate_canola-primary-2025-01-19_v000_on_sorghum-primary-2025-01-06_v000</a></strong> to <a href='https://wandb.ai/eberrigan-salk-institute-for-biological-studies/sleap-roots' target=\"_blank\">Weights & Biases</a> (<a href='https://wandb.me/developer-guide' target=\"_blank\">docs</a>)<br/>"
      ],
      "text/plain": [
       "<IPython.core.display.HTML object>"
      ]
     },
     "metadata": {},
     "output_type": "display_data"
    },
    {
     "data": {
      "text/html": [
       " View project at <a href='https://wandb.ai/eberrigan-salk-institute-for-biological-studies/sleap-roots' target=\"_blank\">https://wandb.ai/eberrigan-salk-institute-for-biological-studies/sleap-roots</a>"
      ],
      "text/plain": [
       "<IPython.core.display.HTML object>"
      ]
     },
     "metadata": {},
     "output_type": "display_data"
    },
    {
     "data": {
      "text/html": [
       " View run at <a href='https://wandb.ai/eberrigan-salk-institute-for-biological-studies/sleap-roots/runs/jda1vh74' target=\"_blank\">https://wandb.ai/eberrigan-salk-institute-for-biological-studies/sleap-roots/runs/jda1vh74</a>"
      ],
      "text/plain": [
       "<IPython.core.display.HTML object>"
      ]
     },
     "metadata": {},
     "output_type": "display_data"
    },
    {
     "name": "stdout",
     "output_type": "stream",
     "text": [
      "Fetching artifact: eberrigan-salk-institute-for-biological-studies-org/wandb-registry-sleap-roots-models/canola-primary-2025-01-19_v000:latest\n"
     ]
    },
    {
     "name": "stderr",
     "output_type": "stream",
     "text": [
      "\u001b[34m\u001b[1mwandb\u001b[0m: \u001b[33mWARNING\u001b[0m Registries can be linked/fetched using a shorthand form without specifying the organization name. Try using shorthand path format: <my_registry_name>/<artifact_name> or just <my_registry_name> if fetching just the project.\n"
     ]
    },
    {
     "name": "stdout",
     "output_type": "stream",
     "text": [
      "Fetching artifact: eberrigan-salk-institute-for-biological-studies-org/wandb-registry-sleap-roots-models/sorghum-primary-2025-01-06_v000:latest\n"
     ]
    },
    {
     "name": "stderr",
     "output_type": "stream",
     "text": [
      "\u001b[34m\u001b[1mwandb\u001b[0m: \u001b[33mWARNING\u001b[0m Registries can be linked/fetched using a shorthand form without specifying the organization name. Try using shorthand path format: <my_registry_name>/<artifact_name> or just <my_registry_name> if fetching just the project.\n",
      "\u001b[34m\u001b[1mwandb\u001b[0m: Downloading large artifact canola-primary-2025-01-19_v000:latest, 59.55MB. 16 files... \n"
     ]
    },
    {
     "name": "stdout",
     "output_type": "stream",
     "text": [
      "Test data saved to sorghum-primary-2025-01-06_eval_2025-01-29/sorghum-primary-2025-01-06_v000_test_labels.slp\n"
     ]
    },
    {
     "name": "stderr",
     "output_type": "stream",
     "text": [
      "\u001b[34m\u001b[1mwandb\u001b[0m:   16 of 16 files downloaded.  \n",
      "Done. 0:0:0.3\n"
     ]
    },
    {
     "data": {
      "application/vnd.jupyter.widget-view+json": {
       "model_id": "87579b8ffa4541dab7d8d73741cbb324",
       "version_major": 2,
       "version_minor": 0
      },
      "text/plain": [
       "Output()"
      ]
     },
     "metadata": {},
     "output_type": "display_data"
    },
    {
     "name": "stdout",
     "output_type": "stream",
     "text": [
      "Model loaded successfully from e:\\repositories\\sleap-roots-training\\artifacts\\canola-primary-2025-01-19_v000-v0.\n"
     ]
    },
    {
     "data": {
      "text/html": [
       "<pre style=\"white-space:pre;overflow-x:auto;line-height:normal;font-family:Menlo,'DejaVu Sans Mono',consolas,'Courier New',monospace\"></pre>\n"
      ],
      "text/plain": []
     },
     "metadata": {},
     "output_type": "display_data"
    },
    {
     "name": "stdout",
     "output_type": "stream",
     "text": [
      "INFO:sleap.nn.evals:OKS mAP: 0.007850\n",
      "Predictions saved to sorghum-primary-2025-01-06_eval_2025-01-29/canola-primary-2025-01-19_v000_on_sorghum-primary-2025-01-06_v000_test_predictions.slp\n",
      "Metrics saved to sorghum-primary-2025-01-06_eval_2025-01-29/canola-primary-2025-01-19_v000_on_sorghum-primary-2025-01-06_v000_metrics.csv\n",
      "Distances saved to sorghum-primary-2025-01-06_eval_2025-01-29/canola-primary-2025-01-19_v000_on_sorghum-primary-2025-01-06_v000_distances.csv\n",
      "Distance histogram saved to sorghum-primary-2025-01-06_eval_2025-01-29\\canola-primary-2025-01-19_v000_on_sorghum-primary-2025-01-06_v000_distance_histogram.png\n"
     ]
    },
    {
     "data": {
      "text/html": [
       "\n",
       "    <style>\n",
       "        .wandb-row {\n",
       "            display: flex;\n",
       "            flex-direction: row;\n",
       "            flex-wrap: wrap;\n",
       "            justify-content: flex-start;\n",
       "            width: 100%;\n",
       "        }\n",
       "        .wandb-col {\n",
       "            display: flex;\n",
       "            flex-direction: column;\n",
       "            flex-basis: 100%;\n",
       "            flex: 1;\n",
       "            padding: 10px;\n",
       "        }\n",
       "    </style>\n",
       "<div class=\"wandb-row\"><div class=\"wandb-col\"><h3>Run summary:</h3><br/><table class=\"wandb\"><tr><td>dist_avg</td><td>4.56004</td></tr><tr><td>dist_p50</td><td>2.89563</td></tr><tr><td>dist_p90</td><td>10.54466</td></tr><tr><td>dist_p95</td><td>15.89047</td></tr><tr><td>dist_p99</td><td>21.8647</td></tr><tr><td>dist_std</td><td>4.98259</td></tr><tr><td>model_name</td><td>canola-primary-2025-...</td></tr><tr><td>model_path</td><td>e:\\repositories\\slea...</td></tr><tr><td>oks_map</td><td>0.00785</td></tr><tr><td>oks_mar</td><td>0.01556</td></tr><tr><td>vis_prec</td><td>1</td></tr><tr><td>vis_recall</td><td>0.6</td></tr></table><br/></div></div>"
      ],
      "text/plain": [
       "<IPython.core.display.HTML object>"
      ]
     },
     "metadata": {},
     "output_type": "display_data"
    },
    {
     "data": {
      "text/html": [
       " View run <strong style=\"color:#cdcd00\">evaluate_canola-primary-2025-01-19_v000_on_sorghum-primary-2025-01-06_v000</strong> at: <a href='https://wandb.ai/eberrigan-salk-institute-for-biological-studies/sleap-roots/runs/jda1vh74' target=\"_blank\">https://wandb.ai/eberrigan-salk-institute-for-biological-studies/sleap-roots/runs/jda1vh74</a><br/> View project at: <a href='https://wandb.ai/eberrigan-salk-institute-for-biological-studies/sleap-roots' target=\"_blank\">https://wandb.ai/eberrigan-salk-institute-for-biological-studies/sleap-roots</a><br/>Synced 7 W&B file(s), 0 media file(s), 8 artifact file(s) and 0 other file(s)"
      ],
      "text/plain": [
       "<IPython.core.display.HTML object>"
      ]
     },
     "metadata": {},
     "output_type": "display_data"
    },
    {
     "data": {
      "text/html": [
       "Find logs at: <code>.\\wandb\\run-20250129_171841-jda1vh74\\logs</code>"
      ],
      "text/plain": [
       "<IPython.core.display.HTML object>"
      ]
     },
     "metadata": {},
     "output_type": "display_data"
    },
    {
     "data": {
      "text/html": [
       "Tracking run with wandb version 0.18.6"
      ],
      "text/plain": [
       "<IPython.core.display.HTML object>"
      ]
     },
     "metadata": {},
     "output_type": "display_data"
    },
    {
     "data": {
      "text/html": [
       "Run data is saved locally in <code>e:\\repositories\\sleap-roots-training\\wandb\\run-20250129_171856-s3qo7bn6</code>"
      ],
      "text/plain": [
       "<IPython.core.display.HTML object>"
      ]
     },
     "metadata": {},
     "output_type": "display_data"
    },
    {
     "data": {
      "text/html": [
       "Syncing run <strong><a href='https://wandb.ai/eberrigan-salk-institute-for-biological-studies/sleap-roots/runs/s3qo7bn6' target=\"_blank\">evaluate_canola-primary-2025-01-19_v001_on_sorghum-primary-2025-01-06_v001</a></strong> to <a href='https://wandb.ai/eberrigan-salk-institute-for-biological-studies/sleap-roots' target=\"_blank\">Weights & Biases</a> (<a href='https://wandb.me/developer-guide' target=\"_blank\">docs</a>)<br/>"
      ],
      "text/plain": [
       "<IPython.core.display.HTML object>"
      ]
     },
     "metadata": {},
     "output_type": "display_data"
    },
    {
     "data": {
      "text/html": [
       " View project at <a href='https://wandb.ai/eberrigan-salk-institute-for-biological-studies/sleap-roots' target=\"_blank\">https://wandb.ai/eberrigan-salk-institute-for-biological-studies/sleap-roots</a>"
      ],
      "text/plain": [
       "<IPython.core.display.HTML object>"
      ]
     },
     "metadata": {},
     "output_type": "display_data"
    },
    {
     "data": {
      "text/html": [
       " View run at <a href='https://wandb.ai/eberrigan-salk-institute-for-biological-studies/sleap-roots/runs/s3qo7bn6' target=\"_blank\">https://wandb.ai/eberrigan-salk-institute-for-biological-studies/sleap-roots/runs/s3qo7bn6</a>"
      ],
      "text/plain": [
       "<IPython.core.display.HTML object>"
      ]
     },
     "metadata": {},
     "output_type": "display_data"
    },
    {
     "name": "stdout",
     "output_type": "stream",
     "text": [
      "Fetching artifact: eberrigan-salk-institute-for-biological-studies-org/wandb-registry-sleap-roots-models/canola-primary-2025-01-19_v001:latest\n"
     ]
    },
    {
     "name": "stderr",
     "output_type": "stream",
     "text": [
      "\u001b[34m\u001b[1mwandb\u001b[0m: \u001b[33mWARNING\u001b[0m Registries can be linked/fetched using a shorthand form without specifying the organization name. Try using shorthand path format: <my_registry_name>/<artifact_name> or just <my_registry_name> if fetching just the project.\n"
     ]
    },
    {
     "name": "stdout",
     "output_type": "stream",
     "text": [
      "Fetching artifact: eberrigan-salk-institute-for-biological-studies-org/wandb-registry-sleap-roots-models/sorghum-primary-2025-01-06_v001:latest\n"
     ]
    },
    {
     "name": "stderr",
     "output_type": "stream",
     "text": [
      "\u001b[34m\u001b[1mwandb\u001b[0m: \u001b[33mWARNING\u001b[0m Registries can be linked/fetched using a shorthand form without specifying the organization name. Try using shorthand path format: <my_registry_name>/<artifact_name> or just <my_registry_name> if fetching just the project.\n",
      "\u001b[34m\u001b[1mwandb\u001b[0m: Downloading large artifact canola-primary-2025-01-19_v001:latest, 59.55MB. 16 files... \n"
     ]
    },
    {
     "name": "stdout",
     "output_type": "stream",
     "text": [
      "Test data saved to sorghum-primary-2025-01-06_eval_2025-01-29/sorghum-primary-2025-01-06_v001_test_labels.slp\n"
     ]
    },
    {
     "name": "stderr",
     "output_type": "stream",
     "text": [
      "\u001b[34m\u001b[1mwandb\u001b[0m:   16 of 16 files downloaded.  \n",
      "Done. 0:0:0.3\n"
     ]
    },
    {
     "data": {
      "application/vnd.jupyter.widget-view+json": {
       "model_id": "dd689c2e56b64b02b76bf20a4b238163",
       "version_major": 2,
       "version_minor": 0
      },
      "text/plain": [
       "Output()"
      ]
     },
     "metadata": {},
     "output_type": "display_data"
    },
    {
     "name": "stdout",
     "output_type": "stream",
     "text": [
      "Model loaded successfully from e:\\repositories\\sleap-roots-training\\artifacts\\canola-primary-2025-01-19_v001-v0.\n"
     ]
    },
    {
     "data": {
      "text/html": [
       "<pre style=\"white-space:pre;overflow-x:auto;line-height:normal;font-family:Menlo,'DejaVu Sans Mono',consolas,'Courier New',monospace\"></pre>\n"
      ],
      "text/plain": []
     },
     "metadata": {},
     "output_type": "display_data"
    },
    {
     "name": "stdout",
     "output_type": "stream",
     "text": [
      "INFO:sleap.nn.evals:OKS mAP: 0.010891\n",
      "Predictions saved to sorghum-primary-2025-01-06_eval_2025-01-29/canola-primary-2025-01-19_v001_on_sorghum-primary-2025-01-06_v001_test_predictions.slp\n",
      "Metrics saved to sorghum-primary-2025-01-06_eval_2025-01-29/canola-primary-2025-01-19_v001_on_sorghum-primary-2025-01-06_v001_metrics.csv\n",
      "Distances saved to sorghum-primary-2025-01-06_eval_2025-01-29/canola-primary-2025-01-19_v001_on_sorghum-primary-2025-01-06_v001_distances.csv\n",
      "Distance histogram saved to sorghum-primary-2025-01-06_eval_2025-01-29\\canola-primary-2025-01-19_v001_on_sorghum-primary-2025-01-06_v001_distance_histogram.png\n"
     ]
    },
    {
     "data": {
      "application/vnd.jupyter.widget-view+json": {
       "model_id": "a28cade6d86a4e6890cd3ae297a80e54",
       "version_major": 2,
       "version_minor": 0
      },
      "text/plain": [
       "VBox(children=(Label(value='0.098 MB of 0.098 MB uploaded\\r'), FloatProgress(value=1.0, max=1.0)))"
      ]
     },
     "metadata": {},
     "output_type": "display_data"
    },
    {
     "data": {
      "text/html": [
       "\n",
       "    <style>\n",
       "        .wandb-row {\n",
       "            display: flex;\n",
       "            flex-direction: row;\n",
       "            flex-wrap: wrap;\n",
       "            justify-content: flex-start;\n",
       "            width: 100%;\n",
       "        }\n",
       "        .wandb-col {\n",
       "            display: flex;\n",
       "            flex-direction: column;\n",
       "            flex-basis: 100%;\n",
       "            flex: 1;\n",
       "            padding: 10px;\n",
       "        }\n",
       "    </style>\n",
       "<div class=\"wandb-row\"><div class=\"wandb-col\"><h3>Run summary:</h3><br/><table class=\"wandb\"><tr><td>dist_avg</td><td>4.76639</td></tr><tr><td>dist_p50</td><td>1.75807</td></tr><tr><td>dist_p90</td><td>14.60728</td></tr><tr><td>dist_p95</td><td>20.33221</td></tr><tr><td>dist_p99</td><td>31.8376</td></tr><tr><td>dist_std</td><td>7.18419</td></tr><tr><td>model_name</td><td>canola-primary-2025-...</td></tr><tr><td>model_path</td><td>e:\\repositories\\slea...</td></tr><tr><td>oks_map</td><td>0.01089</td></tr><tr><td>oks_mar</td><td>0.02444</td></tr><tr><td>vis_prec</td><td>1</td></tr><tr><td>vis_recall</td><td>0.59402</td></tr></table><br/></div></div>"
      ],
      "text/plain": [
       "<IPython.core.display.HTML object>"
      ]
     },
     "metadata": {},
     "output_type": "display_data"
    },
    {
     "data": {
      "text/html": [
       " View run <strong style=\"color:#cdcd00\">evaluate_canola-primary-2025-01-19_v001_on_sorghum-primary-2025-01-06_v001</strong> at: <a href='https://wandb.ai/eberrigan-salk-institute-for-biological-studies/sleap-roots/runs/s3qo7bn6' target=\"_blank\">https://wandb.ai/eberrigan-salk-institute-for-biological-studies/sleap-roots/runs/s3qo7bn6</a><br/> View project at: <a href='https://wandb.ai/eberrigan-salk-institute-for-biological-studies/sleap-roots' target=\"_blank\">https://wandb.ai/eberrigan-salk-institute-for-biological-studies/sleap-roots</a><br/>Synced 7 W&B file(s), 0 media file(s), 8 artifact file(s) and 0 other file(s)"
      ],
      "text/plain": [
       "<IPython.core.display.HTML object>"
      ]
     },
     "metadata": {},
     "output_type": "display_data"
    },
    {
     "data": {
      "text/html": [
       "Find logs at: <code>.\\wandb\\run-20250129_171856-s3qo7bn6\\logs</code>"
      ],
      "text/plain": [
       "<IPython.core.display.HTML object>"
      ]
     },
     "metadata": {},
     "output_type": "display_data"
    },
    {
     "data": {
      "text/html": [
       "Tracking run with wandb version 0.18.6"
      ],
      "text/plain": [
       "<IPython.core.display.HTML object>"
      ]
     },
     "metadata": {},
     "output_type": "display_data"
    },
    {
     "data": {
      "text/html": [
       "Run data is saved locally in <code>e:\\repositories\\sleap-roots-training\\wandb\\run-20250129_171912-zoqlnve6</code>"
      ],
      "text/plain": [
       "<IPython.core.display.HTML object>"
      ]
     },
     "metadata": {},
     "output_type": "display_data"
    },
    {
     "data": {
      "text/html": [
       "Syncing run <strong><a href='https://wandb.ai/eberrigan-salk-institute-for-biological-studies/sleap-roots/runs/zoqlnve6' target=\"_blank\">evaluate_canola-primary-2025-01-19_v002_on_sorghum-primary-2025-01-06_v002</a></strong> to <a href='https://wandb.ai/eberrigan-salk-institute-for-biological-studies/sleap-roots' target=\"_blank\">Weights & Biases</a> (<a href='https://wandb.me/developer-guide' target=\"_blank\">docs</a>)<br/>"
      ],
      "text/plain": [
       "<IPython.core.display.HTML object>"
      ]
     },
     "metadata": {},
     "output_type": "display_data"
    },
    {
     "data": {
      "text/html": [
       " View project at <a href='https://wandb.ai/eberrigan-salk-institute-for-biological-studies/sleap-roots' target=\"_blank\">https://wandb.ai/eberrigan-salk-institute-for-biological-studies/sleap-roots</a>"
      ],
      "text/plain": [
       "<IPython.core.display.HTML object>"
      ]
     },
     "metadata": {},
     "output_type": "display_data"
    },
    {
     "data": {
      "text/html": [
       " View run at <a href='https://wandb.ai/eberrigan-salk-institute-for-biological-studies/sleap-roots/runs/zoqlnve6' target=\"_blank\">https://wandb.ai/eberrigan-salk-institute-for-biological-studies/sleap-roots/runs/zoqlnve6</a>"
      ],
      "text/plain": [
       "<IPython.core.display.HTML object>"
      ]
     },
     "metadata": {},
     "output_type": "display_data"
    },
    {
     "name": "stdout",
     "output_type": "stream",
     "text": [
      "Fetching artifact: eberrigan-salk-institute-for-biological-studies-org/wandb-registry-sleap-roots-models/canola-primary-2025-01-19_v002:latest\n"
     ]
    },
    {
     "name": "stderr",
     "output_type": "stream",
     "text": [
      "\u001b[34m\u001b[1mwandb\u001b[0m: \u001b[33mWARNING\u001b[0m Registries can be linked/fetched using a shorthand form without specifying the organization name. Try using shorthand path format: <my_registry_name>/<artifact_name> or just <my_registry_name> if fetching just the project.\n"
     ]
    },
    {
     "name": "stdout",
     "output_type": "stream",
     "text": [
      "Fetching artifact: eberrigan-salk-institute-for-biological-studies-org/wandb-registry-sleap-roots-models/sorghum-primary-2025-01-06_v002:latest\n"
     ]
    },
    {
     "name": "stderr",
     "output_type": "stream",
     "text": [
      "\u001b[34m\u001b[1mwandb\u001b[0m: \u001b[33mWARNING\u001b[0m Registries can be linked/fetched using a shorthand form without specifying the organization name. Try using shorthand path format: <my_registry_name>/<artifact_name> or just <my_registry_name> if fetching just the project.\n",
      "\u001b[34m\u001b[1mwandb\u001b[0m: Downloading large artifact canola-primary-2025-01-19_v002:latest, 59.55MB. 16 files... \n"
     ]
    },
    {
     "name": "stdout",
     "output_type": "stream",
     "text": [
      "Test data saved to sorghum-primary-2025-01-06_eval_2025-01-29/sorghum-primary-2025-01-06_v002_test_labels.slp\n"
     ]
    },
    {
     "name": "stderr",
     "output_type": "stream",
     "text": [
      "\u001b[34m\u001b[1mwandb\u001b[0m:   16 of 16 files downloaded.  \n",
      "Done. 0:0:0.3\n"
     ]
    },
    {
     "data": {
      "application/vnd.jupyter.widget-view+json": {
       "model_id": "8a21d22a69ca468080d05a3ed602831e",
       "version_major": 2,
       "version_minor": 0
      },
      "text/plain": [
       "Output()"
      ]
     },
     "metadata": {},
     "output_type": "display_data"
    },
    {
     "name": "stdout",
     "output_type": "stream",
     "text": [
      "Model loaded successfully from e:\\repositories\\sleap-roots-training\\artifacts\\canola-primary-2025-01-19_v002-v0.\n"
     ]
    },
    {
     "data": {
      "text/html": [
       "<pre style=\"white-space:pre;overflow-x:auto;line-height:normal;font-family:Menlo,'DejaVu Sans Mono',consolas,'Courier New',monospace\"></pre>\n"
      ],
      "text/plain": []
     },
     "metadata": {},
     "output_type": "display_data"
    },
    {
     "name": "stdout",
     "output_type": "stream",
     "text": [
      "INFO:sleap.nn.evals:OKS mAP: 0.027512\n",
      "Predictions saved to sorghum-primary-2025-01-06_eval_2025-01-29/canola-primary-2025-01-19_v002_on_sorghum-primary-2025-01-06_v002_test_predictions.slp\n",
      "Metrics saved to sorghum-primary-2025-01-06_eval_2025-01-29/canola-primary-2025-01-19_v002_on_sorghum-primary-2025-01-06_v002_metrics.csv\n",
      "Distances saved to sorghum-primary-2025-01-06_eval_2025-01-29/canola-primary-2025-01-19_v002_on_sorghum-primary-2025-01-06_v002_distances.csv\n",
      "Distance histogram saved to sorghum-primary-2025-01-06_eval_2025-01-29\\canola-primary-2025-01-19_v002_on_sorghum-primary-2025-01-06_v002_distance_histogram.png\n"
     ]
    },
    {
     "data": {
      "text/html": [
       "\n",
       "    <style>\n",
       "        .wandb-row {\n",
       "            display: flex;\n",
       "            flex-direction: row;\n",
       "            flex-wrap: wrap;\n",
       "            justify-content: flex-start;\n",
       "            width: 100%;\n",
       "        }\n",
       "        .wandb-col {\n",
       "            display: flex;\n",
       "            flex-direction: column;\n",
       "            flex-basis: 100%;\n",
       "            flex: 1;\n",
       "            padding: 10px;\n",
       "        }\n",
       "    </style>\n",
       "<div class=\"wandb-row\"><div class=\"wandb-col\"><h3>Run summary:</h3><br/><table class=\"wandb\"><tr><td>dist_avg</td><td>3.99725</td></tr><tr><td>dist_p50</td><td>1.89352</td></tr><tr><td>dist_p90</td><td>9.60461</td></tr><tr><td>dist_p95</td><td>17.13637</td></tr><tr><td>dist_p99</td><td>32.39597</td></tr><tr><td>dist_std</td><td>6.17394</td></tr><tr><td>model_name</td><td>canola-primary-2025-...</td></tr><tr><td>model_path</td><td>e:\\repositories\\slea...</td></tr><tr><td>oks_map</td><td>0.02751</td></tr><tr><td>oks_mar</td><td>0.03556</td></tr><tr><td>vis_prec</td><td>1</td></tr><tr><td>vis_recall</td><td>0.67593</td></tr></table><br/></div></div>"
      ],
      "text/plain": [
       "<IPython.core.display.HTML object>"
      ]
     },
     "metadata": {},
     "output_type": "display_data"
    },
    {
     "data": {
      "text/html": [
       " View run <strong style=\"color:#cdcd00\">evaluate_canola-primary-2025-01-19_v002_on_sorghum-primary-2025-01-06_v002</strong> at: <a href='https://wandb.ai/eberrigan-salk-institute-for-biological-studies/sleap-roots/runs/zoqlnve6' target=\"_blank\">https://wandb.ai/eberrigan-salk-institute-for-biological-studies/sleap-roots/runs/zoqlnve6</a><br/> View project at: <a href='https://wandb.ai/eberrigan-salk-institute-for-biological-studies/sleap-roots' target=\"_blank\">https://wandb.ai/eberrigan-salk-institute-for-biological-studies/sleap-roots</a><br/>Synced 7 W&B file(s), 0 media file(s), 8 artifact file(s) and 0 other file(s)"
      ],
      "text/plain": [
       "<IPython.core.display.HTML object>"
      ]
     },
     "metadata": {},
     "output_type": "display_data"
    },
    {
     "data": {
      "text/html": [
       "Find logs at: <code>.\\wandb\\run-20250129_171912-zoqlnve6\\logs</code>"
      ],
      "text/plain": [
       "<IPython.core.display.HTML object>"
      ]
     },
     "metadata": {},
     "output_type": "display_data"
    },
    {
     "data": {
      "text/html": [
       "Tracking run with wandb version 0.18.6"
      ],
      "text/plain": [
       "<IPython.core.display.HTML object>"
      ]
     },
     "metadata": {},
     "output_type": "display_data"
    },
    {
     "data": {
      "text/html": [
       "Run data is saved locally in <code>e:\\repositories\\sleap-roots-training\\wandb\\run-20250129_171926-fvn04pwe</code>"
      ],
      "text/plain": [
       "<IPython.core.display.HTML object>"
      ]
     },
     "metadata": {},
     "output_type": "display_data"
    },
    {
     "data": {
      "text/html": [
       "Syncing run <strong><a href='https://wandb.ai/eberrigan-salk-institute-for-biological-studies/sleap-roots/runs/fvn04pwe' target=\"_blank\">evaluate_pennycress-primary-2025-01-19_v000_on_sorghum-primary-2025-01-06_v000</a></strong> to <a href='https://wandb.ai/eberrigan-salk-institute-for-biological-studies/sleap-roots' target=\"_blank\">Weights & Biases</a> (<a href='https://wandb.me/developer-guide' target=\"_blank\">docs</a>)<br/>"
      ],
      "text/plain": [
       "<IPython.core.display.HTML object>"
      ]
     },
     "metadata": {},
     "output_type": "display_data"
    },
    {
     "data": {
      "text/html": [
       " View project at <a href='https://wandb.ai/eberrigan-salk-institute-for-biological-studies/sleap-roots' target=\"_blank\">https://wandb.ai/eberrigan-salk-institute-for-biological-studies/sleap-roots</a>"
      ],
      "text/plain": [
       "<IPython.core.display.HTML object>"
      ]
     },
     "metadata": {},
     "output_type": "display_data"
    },
    {
     "data": {
      "text/html": [
       " View run at <a href='https://wandb.ai/eberrigan-salk-institute-for-biological-studies/sleap-roots/runs/fvn04pwe' target=\"_blank\">https://wandb.ai/eberrigan-salk-institute-for-biological-studies/sleap-roots/runs/fvn04pwe</a>"
      ],
      "text/plain": [
       "<IPython.core.display.HTML object>"
      ]
     },
     "metadata": {},
     "output_type": "display_data"
    },
    {
     "name": "stdout",
     "output_type": "stream",
     "text": [
      "Fetching artifact: eberrigan-salk-institute-for-biological-studies-org/wandb-registry-sleap-roots-models/pennycress-primary-2025-01-19_v000:latest\n"
     ]
    },
    {
     "name": "stderr",
     "output_type": "stream",
     "text": [
      "\u001b[34m\u001b[1mwandb\u001b[0m: \u001b[33mWARNING\u001b[0m Registries can be linked/fetched using a shorthand form without specifying the organization name. Try using shorthand path format: <my_registry_name>/<artifact_name> or just <my_registry_name> if fetching just the project.\n"
     ]
    },
    {
     "name": "stdout",
     "output_type": "stream",
     "text": [
      "Fetching artifact: eberrigan-salk-institute-for-biological-studies-org/wandb-registry-sleap-roots-models/sorghum-primary-2025-01-06_v000:latest\n"
     ]
    },
    {
     "name": "stderr",
     "output_type": "stream",
     "text": [
      "\u001b[34m\u001b[1mwandb\u001b[0m: \u001b[33mWARNING\u001b[0m Registries can be linked/fetched using a shorthand form without specifying the organization name. Try using shorthand path format: <my_registry_name>/<artifact_name> or just <my_registry_name> if fetching just the project.\n",
      "\u001b[34m\u001b[1mwandb\u001b[0m: Downloading large artifact pennycress-primary-2025-01-19_v000:latest, 162.63MB. 120 files... \n"
     ]
    },
    {
     "name": "stdout",
     "output_type": "stream",
     "text": [
      "Test data saved to sorghum-primary-2025-01-06_eval_2025-01-29/sorghum-primary-2025-01-06_v000_test_labels.slp\n"
     ]
    },
    {
     "name": "stderr",
     "output_type": "stream",
     "text": [
      "\u001b[34m\u001b[1mwandb\u001b[0m:   120 of 120 files downloaded.  \n",
      "Done. 0:0:0.6\n"
     ]
    },
    {
     "data": {
      "application/vnd.jupyter.widget-view+json": {
       "model_id": "913eb5784a5a4791928c34be92e1c430",
       "version_major": 2,
       "version_minor": 0
      },
      "text/plain": [
       "Output()"
      ]
     },
     "metadata": {},
     "output_type": "display_data"
    },
    {
     "name": "stdout",
     "output_type": "stream",
     "text": [
      "Model loaded successfully from e:\\repositories\\sleap-roots-training\\artifacts\\pennycress-primary-2025-01-19_v000-v0.\n"
     ]
    },
    {
     "data": {
      "text/html": [
       "<pre style=\"white-space:pre;overflow-x:auto;line-height:normal;font-family:Menlo,'DejaVu Sans Mono',consolas,'Courier New',monospace\"></pre>\n"
      ],
      "text/plain": []
     },
     "metadata": {},
     "output_type": "display_data"
    },
    {
     "name": "stdout",
     "output_type": "stream",
     "text": [
      "INFO:sleap.nn.evals:OKS mAP: 0.000000\n",
      "Predictions saved to sorghum-primary-2025-01-06_eval_2025-01-29/pennycress-primary-2025-01-19_v000_on_sorghum-primary-2025-01-06_v000_test_predictions.slp\n",
      "Metrics saved to sorghum-primary-2025-01-06_eval_2025-01-29/pennycress-primary-2025-01-19_v000_on_sorghum-primary-2025-01-06_v000_metrics.csv\n",
      "Distances saved to sorghum-primary-2025-01-06_eval_2025-01-29/pennycress-primary-2025-01-19_v000_on_sorghum-primary-2025-01-06_v000_distances.csv\n",
      "Distance histogram saved to sorghum-primary-2025-01-06_eval_2025-01-29\\pennycress-primary-2025-01-19_v000_on_sorghum-primary-2025-01-06_v000_distance_histogram.png\n"
     ]
    },
    {
     "data": {
      "text/html": [
       "\n",
       "    <style>\n",
       "        .wandb-row {\n",
       "            display: flex;\n",
       "            flex-direction: row;\n",
       "            flex-wrap: wrap;\n",
       "            justify-content: flex-start;\n",
       "            width: 100%;\n",
       "        }\n",
       "        .wandb-col {\n",
       "            display: flex;\n",
       "            flex-direction: column;\n",
       "            flex-basis: 100%;\n",
       "            flex: 1;\n",
       "            padding: 10px;\n",
       "        }\n",
       "    </style>\n",
       "<div class=\"wandb-row\"><div class=\"wandb-col\"><h3>Run summary:</h3><br/><table class=\"wandb\"><tr><td>dist_avg</td><td>7.76429</td></tr><tr><td>dist_p50</td><td>5.74017</td></tr><tr><td>dist_p90</td><td>18.26721</td></tr><tr><td>dist_p95</td><td>22.9297</td></tr><tr><td>dist_p99</td><td>33.56395</td></tr><tr><td>dist_std</td><td>7.8015</td></tr><tr><td>model_name</td><td>pennycress-primary-2...</td></tr><tr><td>model_path</td><td>e:\\repositories\\slea...</td></tr><tr><td>oks_map</td><td>0</td></tr><tr><td>oks_mar</td><td>0</td></tr><tr><td>vis_prec</td><td>1</td></tr><tr><td>vis_recall</td><td>0.67391</td></tr></table><br/></div></div>"
      ],
      "text/plain": [
       "<IPython.core.display.HTML object>"
      ]
     },
     "metadata": {},
     "output_type": "display_data"
    },
    {
     "data": {
      "text/html": [
       " View run <strong style=\"color:#cdcd00\">evaluate_pennycress-primary-2025-01-19_v000_on_sorghum-primary-2025-01-06_v000</strong> at: <a href='https://wandb.ai/eberrigan-salk-institute-for-biological-studies/sleap-roots/runs/fvn04pwe' target=\"_blank\">https://wandb.ai/eberrigan-salk-institute-for-biological-studies/sleap-roots/runs/fvn04pwe</a><br/> View project at: <a href='https://wandb.ai/eberrigan-salk-institute-for-biological-studies/sleap-roots' target=\"_blank\">https://wandb.ai/eberrigan-salk-institute-for-biological-studies/sleap-roots</a><br/>Synced 7 W&B file(s), 0 media file(s), 10 artifact file(s) and 0 other file(s)"
      ],
      "text/plain": [
       "<IPython.core.display.HTML object>"
      ]
     },
     "metadata": {},
     "output_type": "display_data"
    },
    {
     "data": {
      "text/html": [
       "Find logs at: <code>.\\wandb\\run-20250129_171926-fvn04pwe\\logs</code>"
      ],
      "text/plain": [
       "<IPython.core.display.HTML object>"
      ]
     },
     "metadata": {},
     "output_type": "display_data"
    },
    {
     "data": {
      "text/html": [
       "Tracking run with wandb version 0.18.6"
      ],
      "text/plain": [
       "<IPython.core.display.HTML object>"
      ]
     },
     "metadata": {},
     "output_type": "display_data"
    },
    {
     "data": {
      "text/html": [
       "Run data is saved locally in <code>e:\\repositories\\sleap-roots-training\\wandb\\run-20250129_171942-v7f1chpe</code>"
      ],
      "text/plain": [
       "<IPython.core.display.HTML object>"
      ]
     },
     "metadata": {},
     "output_type": "display_data"
    },
    {
     "data": {
      "text/html": [
       "Syncing run <strong><a href='https://wandb.ai/eberrigan-salk-institute-for-biological-studies/sleap-roots/runs/v7f1chpe' target=\"_blank\">evaluate_pennycress-primary-2025-01-19_v001_on_sorghum-primary-2025-01-06_v001</a></strong> to <a href='https://wandb.ai/eberrigan-salk-institute-for-biological-studies/sleap-roots' target=\"_blank\">Weights & Biases</a> (<a href='https://wandb.me/developer-guide' target=\"_blank\">docs</a>)<br/>"
      ],
      "text/plain": [
       "<IPython.core.display.HTML object>"
      ]
     },
     "metadata": {},
     "output_type": "display_data"
    },
    {
     "data": {
      "text/html": [
       " View project at <a href='https://wandb.ai/eberrigan-salk-institute-for-biological-studies/sleap-roots' target=\"_blank\">https://wandb.ai/eberrigan-salk-institute-for-biological-studies/sleap-roots</a>"
      ],
      "text/plain": [
       "<IPython.core.display.HTML object>"
      ]
     },
     "metadata": {},
     "output_type": "display_data"
    },
    {
     "data": {
      "text/html": [
       " View run at <a href='https://wandb.ai/eberrigan-salk-institute-for-biological-studies/sleap-roots/runs/v7f1chpe' target=\"_blank\">https://wandb.ai/eberrigan-salk-institute-for-biological-studies/sleap-roots/runs/v7f1chpe</a>"
      ],
      "text/plain": [
       "<IPython.core.display.HTML object>"
      ]
     },
     "metadata": {},
     "output_type": "display_data"
    },
    {
     "name": "stdout",
     "output_type": "stream",
     "text": [
      "Fetching artifact: eberrigan-salk-institute-for-biological-studies-org/wandb-registry-sleap-roots-models/pennycress-primary-2025-01-19_v001:latest\n"
     ]
    },
    {
     "name": "stderr",
     "output_type": "stream",
     "text": [
      "\u001b[34m\u001b[1mwandb\u001b[0m: \u001b[33mWARNING\u001b[0m Registries can be linked/fetched using a shorthand form without specifying the organization name. Try using shorthand path format: <my_registry_name>/<artifact_name> or just <my_registry_name> if fetching just the project.\n"
     ]
    },
    {
     "name": "stdout",
     "output_type": "stream",
     "text": [
      "Fetching artifact: eberrigan-salk-institute-for-biological-studies-org/wandb-registry-sleap-roots-models/sorghum-primary-2025-01-06_v001:latest\n"
     ]
    },
    {
     "name": "stderr",
     "output_type": "stream",
     "text": [
      "\u001b[34m\u001b[1mwandb\u001b[0m: \u001b[33mWARNING\u001b[0m Registries can be linked/fetched using a shorthand form without specifying the organization name. Try using shorthand path format: <my_registry_name>/<artifact_name> or just <my_registry_name> if fetching just the project.\n",
      "\u001b[34m\u001b[1mwandb\u001b[0m: Downloading large artifact pennycress-primary-2025-01-19_v001:latest, 175.85MB. 136 files... \n"
     ]
    },
    {
     "name": "stdout",
     "output_type": "stream",
     "text": [
      "Test data saved to sorghum-primary-2025-01-06_eval_2025-01-29/sorghum-primary-2025-01-06_v001_test_labels.slp\n"
     ]
    },
    {
     "name": "stderr",
     "output_type": "stream",
     "text": [
      "\u001b[34m\u001b[1mwandb\u001b[0m:   136 of 136 files downloaded.  \n",
      "Done. 0:0:0.6\n"
     ]
    },
    {
     "data": {
      "application/vnd.jupyter.widget-view+json": {
       "model_id": "525790b697074991a32ce63881b24d0b",
       "version_major": 2,
       "version_minor": 0
      },
      "text/plain": [
       "Output()"
      ]
     },
     "metadata": {},
     "output_type": "display_data"
    },
    {
     "name": "stdout",
     "output_type": "stream",
     "text": [
      "Model loaded successfully from e:\\repositories\\sleap-roots-training\\artifacts\\pennycress-primary-2025-01-19_v001-v0.\n"
     ]
    },
    {
     "data": {
      "text/html": [
       "<pre style=\"white-space:pre;overflow-x:auto;line-height:normal;font-family:Menlo,'DejaVu Sans Mono',consolas,'Courier New',monospace\"></pre>\n"
      ],
      "text/plain": []
     },
     "metadata": {},
     "output_type": "display_data"
    },
    {
     "name": "stdout",
     "output_type": "stream",
     "text": [
      "INFO:sleap.nn.evals:OKS mAP: 0.002970\n",
      "Predictions saved to sorghum-primary-2025-01-06_eval_2025-01-29/pennycress-primary-2025-01-19_v001_on_sorghum-primary-2025-01-06_v001_test_predictions.slp\n",
      "Metrics saved to sorghum-primary-2025-01-06_eval_2025-01-29/pennycress-primary-2025-01-19_v001_on_sorghum-primary-2025-01-06_v001_metrics.csv\n",
      "Distances saved to sorghum-primary-2025-01-06_eval_2025-01-29/pennycress-primary-2025-01-19_v001_on_sorghum-primary-2025-01-06_v001_distances.csv\n",
      "Distance histogram saved to sorghum-primary-2025-01-06_eval_2025-01-29\\pennycress-primary-2025-01-19_v001_on_sorghum-primary-2025-01-06_v001_distance_histogram.png\n"
     ]
    },
    {
     "data": {
      "text/html": [
       "\n",
       "    <style>\n",
       "        .wandb-row {\n",
       "            display: flex;\n",
       "            flex-direction: row;\n",
       "            flex-wrap: wrap;\n",
       "            justify-content: flex-start;\n",
       "            width: 100%;\n",
       "        }\n",
       "        .wandb-col {\n",
       "            display: flex;\n",
       "            flex-direction: column;\n",
       "            flex-basis: 100%;\n",
       "            flex: 1;\n",
       "            padding: 10px;\n",
       "        }\n",
       "    </style>\n",
       "<div class=\"wandb-row\"><div class=\"wandb-col\"><h3>Run summary:</h3><br/><table class=\"wandb\"><tr><td>dist_avg</td><td>6.41001</td></tr><tr><td>dist_p50</td><td>1.95731</td></tr><tr><td>dist_p90</td><td>20.08362</td></tr><tr><td>dist_p95</td><td>27.48338</td></tr><tr><td>dist_p99</td><td>30.3731</td></tr><tr><td>dist_std</td><td>8.55923</td></tr><tr><td>model_name</td><td>pennycress-primary-2...</td></tr><tr><td>model_path</td><td>e:\\repositories\\slea...</td></tr><tr><td>oks_map</td><td>0.00297</td></tr><tr><td>oks_mar</td><td>0.00444</td></tr><tr><td>vis_prec</td><td>1</td></tr><tr><td>vis_recall</td><td>0.59722</td></tr></table><br/></div></div>"
      ],
      "text/plain": [
       "<IPython.core.display.HTML object>"
      ]
     },
     "metadata": {},
     "output_type": "display_data"
    },
    {
     "data": {
      "text/html": [
       " View run <strong style=\"color:#cdcd00\">evaluate_pennycress-primary-2025-01-19_v001_on_sorghum-primary-2025-01-06_v001</strong> at: <a href='https://wandb.ai/eberrigan-salk-institute-for-biological-studies/sleap-roots/runs/v7f1chpe' target=\"_blank\">https://wandb.ai/eberrigan-salk-institute-for-biological-studies/sleap-roots/runs/v7f1chpe</a><br/> View project at: <a href='https://wandb.ai/eberrigan-salk-institute-for-biological-studies/sleap-roots' target=\"_blank\">https://wandb.ai/eberrigan-salk-institute-for-biological-studies/sleap-roots</a><br/>Synced 7 W&B file(s), 0 media file(s), 8 artifact file(s) and 0 other file(s)"
      ],
      "text/plain": [
       "<IPython.core.display.HTML object>"
      ]
     },
     "metadata": {},
     "output_type": "display_data"
    },
    {
     "data": {
      "text/html": [
       "Find logs at: <code>.\\wandb\\run-20250129_171942-v7f1chpe\\logs</code>"
      ],
      "text/plain": [
       "<IPython.core.display.HTML object>"
      ]
     },
     "metadata": {},
     "output_type": "display_data"
    },
    {
     "data": {
      "text/html": [
       "Tracking run with wandb version 0.18.6"
      ],
      "text/plain": [
       "<IPython.core.display.HTML object>"
      ]
     },
     "metadata": {},
     "output_type": "display_data"
    },
    {
     "data": {
      "text/html": [
       "Run data is saved locally in <code>e:\\repositories\\sleap-roots-training\\wandb\\run-20250129_171957-2o1njn3d</code>"
      ],
      "text/plain": [
       "<IPython.core.display.HTML object>"
      ]
     },
     "metadata": {},
     "output_type": "display_data"
    },
    {
     "data": {
      "text/html": [
       "Syncing run <strong><a href='https://wandb.ai/eberrigan-salk-institute-for-biological-studies/sleap-roots/runs/2o1njn3d' target=\"_blank\">evaluate_pennycress-primary-2025-01-19_v002_on_sorghum-primary-2025-01-06_v002</a></strong> to <a href='https://wandb.ai/eberrigan-salk-institute-for-biological-studies/sleap-roots' target=\"_blank\">Weights & Biases</a> (<a href='https://wandb.me/developer-guide' target=\"_blank\">docs</a>)<br/>"
      ],
      "text/plain": [
       "<IPython.core.display.HTML object>"
      ]
     },
     "metadata": {},
     "output_type": "display_data"
    },
    {
     "data": {
      "text/html": [
       " View project at <a href='https://wandb.ai/eberrigan-salk-institute-for-biological-studies/sleap-roots' target=\"_blank\">https://wandb.ai/eberrigan-salk-institute-for-biological-studies/sleap-roots</a>"
      ],
      "text/plain": [
       "<IPython.core.display.HTML object>"
      ]
     },
     "metadata": {},
     "output_type": "display_data"
    },
    {
     "data": {
      "text/html": [
       " View run at <a href='https://wandb.ai/eberrigan-salk-institute-for-biological-studies/sleap-roots/runs/2o1njn3d' target=\"_blank\">https://wandb.ai/eberrigan-salk-institute-for-biological-studies/sleap-roots/runs/2o1njn3d</a>"
      ],
      "text/plain": [
       "<IPython.core.display.HTML object>"
      ]
     },
     "metadata": {},
     "output_type": "display_data"
    },
    {
     "name": "stdout",
     "output_type": "stream",
     "text": [
      "Fetching artifact: eberrigan-salk-institute-for-biological-studies-org/wandb-registry-sleap-roots-models/pennycress-primary-2025-01-19_v002:latest\n"
     ]
    },
    {
     "name": "stderr",
     "output_type": "stream",
     "text": [
      "\u001b[34m\u001b[1mwandb\u001b[0m: \u001b[33mWARNING\u001b[0m Registries can be linked/fetched using a shorthand form without specifying the organization name. Try using shorthand path format: <my_registry_name>/<artifact_name> or just <my_registry_name> if fetching just the project.\n"
     ]
    },
    {
     "name": "stdout",
     "output_type": "stream",
     "text": [
      "Fetching artifact: eberrigan-salk-institute-for-biological-studies-org/wandb-registry-sleap-roots-models/sorghum-primary-2025-01-06_v002:latest\n"
     ]
    },
    {
     "name": "stderr",
     "output_type": "stream",
     "text": [
      "\u001b[34m\u001b[1mwandb\u001b[0m: \u001b[33mWARNING\u001b[0m Registries can be linked/fetched using a shorthand form without specifying the organization name. Try using shorthand path format: <my_registry_name>/<artifact_name> or just <my_registry_name> if fetching just the project.\n",
      "\u001b[34m\u001b[1mwandb\u001b[0m: Downloading large artifact pennycress-primary-2025-01-19_v002:latest, 132.68MB. 92 files... \n"
     ]
    },
    {
     "name": "stdout",
     "output_type": "stream",
     "text": [
      "Test data saved to sorghum-primary-2025-01-06_eval_2025-01-29/sorghum-primary-2025-01-06_v002_test_labels.slp\n"
     ]
    },
    {
     "name": "stderr",
     "output_type": "stream",
     "text": [
      "\u001b[34m\u001b[1mwandb\u001b[0m:   92 of 92 files downloaded.  \n",
      "Done. 0:0:0.5\n"
     ]
    },
    {
     "data": {
      "application/vnd.jupyter.widget-view+json": {
       "model_id": "1356247c11f044bc8a26ff5ce7693a48",
       "version_major": 2,
       "version_minor": 0
      },
      "text/plain": [
       "Output()"
      ]
     },
     "metadata": {},
     "output_type": "display_data"
    },
    {
     "name": "stdout",
     "output_type": "stream",
     "text": [
      "Model loaded successfully from e:\\repositories\\sleap-roots-training\\artifacts\\pennycress-primary-2025-01-19_v002-v0.\n"
     ]
    },
    {
     "data": {
      "text/html": [
       "<pre style=\"white-space:pre;overflow-x:auto;line-height:normal;font-family:Menlo,'DejaVu Sans Mono',consolas,'Courier New',monospace\"></pre>\n"
      ],
      "text/plain": []
     },
     "metadata": {},
     "output_type": "display_data"
    },
    {
     "name": "stdout",
     "output_type": "stream",
     "text": [
      "WARNING:sleap.nn.evals:Failed to compute metrics.\n"
     ]
    },
    {
     "name": "stderr",
     "output_type": "stream",
     "text": [
      "c:\\Users\\pbiobgh\\.conda\\envs\\sleap_v1.3.4\\lib\\site-packages\\sleap\\nn\\evals.py:539: RuntimeWarning: Mean of empty slice\n",
      "  \"dist.avg\": np.nanmean(dists),\n",
      "c:\\Users\\pbiobgh\\.conda\\envs\\sleap_v1.3.4\\lib\\site-packages\\sleap\\nn\\evals.py:572: RuntimeWarning: Mean of empty slice.\n",
      "  mPCK = mPCK_parts.mean()\n",
      "c:\\Users\\pbiobgh\\.conda\\envs\\sleap_v1.3.4\\lib\\site-packages\\numpy\\core\\_methods.py:189: RuntimeWarning: invalid value encountered in double_scalars\n",
      "  ret = ret.dtype.type(ret / rcount)\n",
      "c:\\Users\\pbiobgh\\.conda\\envs\\sleap_v1.3.4\\lib\\site-packages\\sleap\\nn\\evals.py:666: RuntimeWarning: Mean of empty slice.\n",
      "  pair_pck = metrics[\"pck.pcks\"].mean(axis=-1).mean(axis=-1)\n",
      "c:\\Users\\pbiobgh\\.conda\\envs\\sleap_v1.3.4\\lib\\site-packages\\numpy\\core\\_methods.py:182: RuntimeWarning: invalid value encountered in true_divide\n",
      "  ret, rcount, out=ret, casting='unsafe', subok=False)\n",
      "c:\\Users\\pbiobgh\\.conda\\envs\\sleap_v1.3.4\\lib\\site-packages\\sleap\\nn\\evals.py:668: RuntimeWarning: Mean of empty slice.\n",
      "  metrics[\"oks.mOKS\"] = pair_oks.mean()\n"
     ]
    },
    {
     "name": "stdout",
     "output_type": "stream",
     "text": [
      "Predictions saved to sorghum-primary-2025-01-06_eval_2025-01-29/pennycress-primary-2025-01-19_v002_on_sorghum-primary-2025-01-06_v002_test_predictions.slp\n",
      "Error during model evaluation: 'NoneType' object is not subscriptable. Skipping this model...\n"
     ]
    },
    {
     "data": {
      "text/html": [
       " View run <strong style=\"color:#cdcd00\">evaluate_pennycress-primary-2025-01-19_v002_on_sorghum-primary-2025-01-06_v002</strong> at: <a href='https://wandb.ai/eberrigan-salk-institute-for-biological-studies/sleap-roots/runs/2o1njn3d' target=\"_blank\">https://wandb.ai/eberrigan-salk-institute-for-biological-studies/sleap-roots/runs/2o1njn3d</a><br/> View project at: <a href='https://wandb.ai/eberrigan-salk-institute-for-biological-studies/sleap-roots' target=\"_blank\">https://wandb.ai/eberrigan-salk-institute-for-biological-studies/sleap-roots</a><br/>Synced 7 W&B file(s), 0 media file(s), 2 artifact file(s) and 0 other file(s)"
      ],
      "text/plain": [
       "<IPython.core.display.HTML object>"
      ]
     },
     "metadata": {},
     "output_type": "display_data"
    },
    {
     "data": {
      "text/html": [
       "Find logs at: <code>.\\wandb\\run-20250129_171957-2o1njn3d\\logs</code>"
      ],
      "text/plain": [
       "<IPython.core.display.HTML object>"
      ]
     },
     "metadata": {},
     "output_type": "display_data"
    },
    {
     "name": "stdout",
     "output_type": "stream",
     "text": [
      "Skipping pennycress-primary-2025-01-19_v002 due to evaluation error.\n"
     ]
    },
    {
     "data": {
      "text/html": [
       "Tracking run with wandb version 0.18.6"
      ],
      "text/plain": [
       "<IPython.core.display.HTML object>"
      ]
     },
     "metadata": {},
     "output_type": "display_data"
    },
    {
     "data": {
      "text/html": [
       "Run data is saved locally in <code>e:\\repositories\\sleap-roots-training\\wandb\\run-20250129_172012-fojhf7ox</code>"
      ],
      "text/plain": [
       "<IPython.core.display.HTML object>"
      ]
     },
     "metadata": {},
     "output_type": "display_data"
    },
    {
     "data": {
      "text/html": [
       "Syncing run <strong><a href='https://wandb.ai/eberrigan-salk-institute-for-biological-studies/sleap-roots/runs/fojhf7ox' target=\"_blank\">evaluate_arabidopsis-primary-2025-01-19_v000_on_sorghum-primary-2025-01-06_v000</a></strong> to <a href='https://wandb.ai/eberrigan-salk-institute-for-biological-studies/sleap-roots' target=\"_blank\">Weights & Biases</a> (<a href='https://wandb.me/developer-guide' target=\"_blank\">docs</a>)<br/>"
      ],
      "text/plain": [
       "<IPython.core.display.HTML object>"
      ]
     },
     "metadata": {},
     "output_type": "display_data"
    },
    {
     "data": {
      "text/html": [
       " View project at <a href='https://wandb.ai/eberrigan-salk-institute-for-biological-studies/sleap-roots' target=\"_blank\">https://wandb.ai/eberrigan-salk-institute-for-biological-studies/sleap-roots</a>"
      ],
      "text/plain": [
       "<IPython.core.display.HTML object>"
      ]
     },
     "metadata": {},
     "output_type": "display_data"
    },
    {
     "data": {
      "text/html": [
       " View run at <a href='https://wandb.ai/eberrigan-salk-institute-for-biological-studies/sleap-roots/runs/fojhf7ox' target=\"_blank\">https://wandb.ai/eberrigan-salk-institute-for-biological-studies/sleap-roots/runs/fojhf7ox</a>"
      ],
      "text/plain": [
       "<IPython.core.display.HTML object>"
      ]
     },
     "metadata": {},
     "output_type": "display_data"
    },
    {
     "name": "stdout",
     "output_type": "stream",
     "text": [
      "Fetching artifact: eberrigan-salk-institute-for-biological-studies-org/wandb-registry-sleap-roots-models/arabidopsis-primary-2025-01-19_v000:latest\n"
     ]
    },
    {
     "name": "stderr",
     "output_type": "stream",
     "text": [
      "\u001b[34m\u001b[1mwandb\u001b[0m: \u001b[33mWARNING\u001b[0m Registries can be linked/fetched using a shorthand form without specifying the organization name. Try using shorthand path format: <my_registry_name>/<artifact_name> or just <my_registry_name> if fetching just the project.\n"
     ]
    },
    {
     "name": "stdout",
     "output_type": "stream",
     "text": [
      "Fetching artifact: eberrigan-salk-institute-for-biological-studies-org/wandb-registry-sleap-roots-models/sorghum-primary-2025-01-06_v000:latest\n"
     ]
    },
    {
     "name": "stderr",
     "output_type": "stream",
     "text": [
      "\u001b[34m\u001b[1mwandb\u001b[0m: \u001b[33mWARNING\u001b[0m Registries can be linked/fetched using a shorthand form without specifying the organization name. Try using shorthand path format: <my_registry_name>/<artifact_name> or just <my_registry_name> if fetching just the project.\n",
      "\u001b[34m\u001b[1mwandb\u001b[0m: Downloading large artifact arabidopsis-primary-2025-01-19_v000:latest, 59.36MB. 16 files... \n"
     ]
    },
    {
     "name": "stdout",
     "output_type": "stream",
     "text": [
      "Test data saved to sorghum-primary-2025-01-06_eval_2025-01-29/sorghum-primary-2025-01-06_v000_test_labels.slp\n"
     ]
    },
    {
     "name": "stderr",
     "output_type": "stream",
     "text": [
      "\u001b[34m\u001b[1mwandb\u001b[0m:   16 of 16 files downloaded.  \n",
      "Done. 0:0:2.2\n"
     ]
    },
    {
     "data": {
      "application/vnd.jupyter.widget-view+json": {
       "model_id": "01a3f54975ea40f2ba6c75d134b0e2f6",
       "version_major": 2,
       "version_minor": 0
      },
      "text/plain": [
       "Output()"
      ]
     },
     "metadata": {},
     "output_type": "display_data"
    },
    {
     "name": "stdout",
     "output_type": "stream",
     "text": [
      "Model loaded successfully from e:\\repositories\\sleap-roots-training\\artifacts\\arabidopsis-primary-2025-01-19_v000-v0.\n"
     ]
    },
    {
     "data": {
      "text/html": [
       "<pre style=\"white-space:pre;overflow-x:auto;line-height:normal;font-family:Menlo,'DejaVu Sans Mono',consolas,'Courier New',monospace\"></pre>\n"
      ],
      "text/plain": []
     },
     "metadata": {},
     "output_type": "display_data"
    },
    {
     "name": "stdout",
     "output_type": "stream",
     "text": [
      "INFO:sleap.nn.evals:OKS mAP: 0.000000\n",
      "Predictions saved to sorghum-primary-2025-01-06_eval_2025-01-29/arabidopsis-primary-2025-01-19_v000_on_sorghum-primary-2025-01-06_v000_test_predictions.slp\n",
      "Metrics saved to sorghum-primary-2025-01-06_eval_2025-01-29/arabidopsis-primary-2025-01-19_v000_on_sorghum-primary-2025-01-06_v000_metrics.csv\n",
      "Distances saved to sorghum-primary-2025-01-06_eval_2025-01-29/arabidopsis-primary-2025-01-19_v000_on_sorghum-primary-2025-01-06_v000_distances.csv\n",
      "Distance histogram saved to sorghum-primary-2025-01-06_eval_2025-01-29\\arabidopsis-primary-2025-01-19_v000_on_sorghum-primary-2025-01-06_v000_distance_histogram.png\n"
     ]
    },
    {
     "data": {
      "text/html": [
       "\n",
       "    <style>\n",
       "        .wandb-row {\n",
       "            display: flex;\n",
       "            flex-direction: row;\n",
       "            flex-wrap: wrap;\n",
       "            justify-content: flex-start;\n",
       "            width: 100%;\n",
       "        }\n",
       "        .wandb-col {\n",
       "            display: flex;\n",
       "            flex-direction: column;\n",
       "            flex-basis: 100%;\n",
       "            flex: 1;\n",
       "            padding: 10px;\n",
       "        }\n",
       "    </style>\n",
       "<div class=\"wandb-row\"><div class=\"wandb-col\"><h3>Run summary:</h3><br/><table class=\"wandb\"><tr><td>dist_avg</td><td>21.93751</td></tr><tr><td>dist_p50</td><td>22.42869</td></tr><tr><td>dist_p90</td><td>30.12425</td></tr><tr><td>dist_p95</td><td>31.64848</td></tr><tr><td>dist_p99</td><td>32.86786</td></tr><tr><td>dist_std</td><td>6.93323</td></tr><tr><td>model_name</td><td>arabidopsis-primary-...</td></tr><tr><td>model_path</td><td>e:\\repositories\\slea...</td></tr><tr><td>oks_map</td><td>0</td></tr><tr><td>oks_mar</td><td>0</td></tr><tr><td>vis_prec</td><td>1</td></tr><tr><td>vis_recall</td><td>0.58333</td></tr></table><br/></div></div>"
      ],
      "text/plain": [
       "<IPython.core.display.HTML object>"
      ]
     },
     "metadata": {},
     "output_type": "display_data"
    },
    {
     "data": {
      "text/html": [
       " View run <strong style=\"color:#cdcd00\">evaluate_arabidopsis-primary-2025-01-19_v000_on_sorghum-primary-2025-01-06_v000</strong> at: <a href='https://wandb.ai/eberrigan-salk-institute-for-biological-studies/sleap-roots/runs/fojhf7ox' target=\"_blank\">https://wandb.ai/eberrigan-salk-institute-for-biological-studies/sleap-roots/runs/fojhf7ox</a><br/> View project at: <a href='https://wandb.ai/eberrigan-salk-institute-for-biological-studies/sleap-roots' target=\"_blank\">https://wandb.ai/eberrigan-salk-institute-for-biological-studies/sleap-roots</a><br/>Synced 7 W&B file(s), 0 media file(s), 10 artifact file(s) and 0 other file(s)"
      ],
      "text/plain": [
       "<IPython.core.display.HTML object>"
      ]
     },
     "metadata": {},
     "output_type": "display_data"
    },
    {
     "data": {
      "text/html": [
       "Find logs at: <code>.\\wandb\\run-20250129_172012-fojhf7ox\\logs</code>"
      ],
      "text/plain": [
       "<IPython.core.display.HTML object>"
      ]
     },
     "metadata": {},
     "output_type": "display_data"
    },
    {
     "data": {
      "text/html": [
       "Tracking run with wandb version 0.18.6"
      ],
      "text/plain": [
       "<IPython.core.display.HTML object>"
      ]
     },
     "metadata": {},
     "output_type": "display_data"
    },
    {
     "data": {
      "text/html": [
       "Run data is saved locally in <code>e:\\repositories\\sleap-roots-training\\wandb\\run-20250129_172029-mdm5u8cq</code>"
      ],
      "text/plain": [
       "<IPython.core.display.HTML object>"
      ]
     },
     "metadata": {},
     "output_type": "display_data"
    },
    {
     "data": {
      "text/html": [
       "Syncing run <strong><a href='https://wandb.ai/eberrigan-salk-institute-for-biological-studies/sleap-roots/runs/mdm5u8cq' target=\"_blank\">evaluate_arabidopsis-primary-2025-01-19_v001_on_sorghum-primary-2025-01-06_v001</a></strong> to <a href='https://wandb.ai/eberrigan-salk-institute-for-biological-studies/sleap-roots' target=\"_blank\">Weights & Biases</a> (<a href='https://wandb.me/developer-guide' target=\"_blank\">docs</a>)<br/>"
      ],
      "text/plain": [
       "<IPython.core.display.HTML object>"
      ]
     },
     "metadata": {},
     "output_type": "display_data"
    },
    {
     "data": {
      "text/html": [
       " View project at <a href='https://wandb.ai/eberrigan-salk-institute-for-biological-studies/sleap-roots' target=\"_blank\">https://wandb.ai/eberrigan-salk-institute-for-biological-studies/sleap-roots</a>"
      ],
      "text/plain": [
       "<IPython.core.display.HTML object>"
      ]
     },
     "metadata": {},
     "output_type": "display_data"
    },
    {
     "data": {
      "text/html": [
       " View run at <a href='https://wandb.ai/eberrigan-salk-institute-for-biological-studies/sleap-roots/runs/mdm5u8cq' target=\"_blank\">https://wandb.ai/eberrigan-salk-institute-for-biological-studies/sleap-roots/runs/mdm5u8cq</a>"
      ],
      "text/plain": [
       "<IPython.core.display.HTML object>"
      ]
     },
     "metadata": {},
     "output_type": "display_data"
    },
    {
     "name": "stdout",
     "output_type": "stream",
     "text": [
      "Fetching artifact: eberrigan-salk-institute-for-biological-studies-org/wandb-registry-sleap-roots-models/arabidopsis-primary-2025-01-19_v001:latest\n"
     ]
    },
    {
     "name": "stderr",
     "output_type": "stream",
     "text": [
      "\u001b[34m\u001b[1mwandb\u001b[0m: \u001b[33mWARNING\u001b[0m Registries can be linked/fetched using a shorthand form without specifying the organization name. Try using shorthand path format: <my_registry_name>/<artifact_name> or just <my_registry_name> if fetching just the project.\n"
     ]
    },
    {
     "name": "stdout",
     "output_type": "stream",
     "text": [
      "Fetching artifact: eberrigan-salk-institute-for-biological-studies-org/wandb-registry-sleap-roots-models/sorghum-primary-2025-01-06_v001:latest\n"
     ]
    },
    {
     "name": "stderr",
     "output_type": "stream",
     "text": [
      "\u001b[34m\u001b[1mwandb\u001b[0m: \u001b[33mWARNING\u001b[0m Registries can be linked/fetched using a shorthand form without specifying the organization name. Try using shorthand path format: <my_registry_name>/<artifact_name> or just <my_registry_name> if fetching just the project.\n",
      "\u001b[34m\u001b[1mwandb\u001b[0m: Downloading large artifact arabidopsis-primary-2025-01-19_v001:latest, 59.36MB. 16 files... \n"
     ]
    },
    {
     "name": "stdout",
     "output_type": "stream",
     "text": [
      "Test data saved to sorghum-primary-2025-01-06_eval_2025-01-29/sorghum-primary-2025-01-06_v001_test_labels.slp\n"
     ]
    },
    {
     "name": "stderr",
     "output_type": "stream",
     "text": [
      "\u001b[34m\u001b[1mwandb\u001b[0m:   16 of 16 files downloaded.  \n",
      "Done. 0:0:2.0\n"
     ]
    },
    {
     "data": {
      "application/vnd.jupyter.widget-view+json": {
       "model_id": "2fd5547299204b65b8888ca4a8dbbacf",
       "version_major": 2,
       "version_minor": 0
      },
      "text/plain": [
       "Output()"
      ]
     },
     "metadata": {},
     "output_type": "display_data"
    },
    {
     "name": "stdout",
     "output_type": "stream",
     "text": [
      "Model loaded successfully from e:\\repositories\\sleap-roots-training\\artifacts\\arabidopsis-primary-2025-01-19_v001-v0.\n"
     ]
    },
    {
     "data": {
      "text/html": [
       "<pre style=\"white-space:pre;overflow-x:auto;line-height:normal;font-family:Menlo,'DejaVu Sans Mono',consolas,'Courier New',monospace\"></pre>\n"
      ],
      "text/plain": []
     },
     "metadata": {},
     "output_type": "display_data"
    },
    {
     "name": "stdout",
     "output_type": "stream",
     "text": [
      "INFO:sleap.nn.evals:OKS mAP: 0.000000\n",
      "Predictions saved to sorghum-primary-2025-01-06_eval_2025-01-29/arabidopsis-primary-2025-01-19_v001_on_sorghum-primary-2025-01-06_v001_test_predictions.slp\n",
      "Metrics saved to sorghum-primary-2025-01-06_eval_2025-01-29/arabidopsis-primary-2025-01-19_v001_on_sorghum-primary-2025-01-06_v001_metrics.csv\n",
      "Distances saved to sorghum-primary-2025-01-06_eval_2025-01-29/arabidopsis-primary-2025-01-19_v001_on_sorghum-primary-2025-01-06_v001_distances.csv\n",
      "Distance histogram saved to sorghum-primary-2025-01-06_eval_2025-01-29\\arabidopsis-primary-2025-01-19_v001_on_sorghum-primary-2025-01-06_v001_distance_histogram.png\n"
     ]
    },
    {
     "data": {
      "application/vnd.jupyter.widget-view+json": {
       "model_id": "3d48f73d01be4183b71309543c08a177",
       "version_major": 2,
       "version_minor": 0
      },
      "text/plain": [
       "VBox(children=(Label(value='0.123 MB of 0.123 MB uploaded\\r'), FloatProgress(value=1.0, max=1.0)))"
      ]
     },
     "metadata": {},
     "output_type": "display_data"
    },
    {
     "data": {
      "text/html": [
       "\n",
       "    <style>\n",
       "        .wandb-row {\n",
       "            display: flex;\n",
       "            flex-direction: row;\n",
       "            flex-wrap: wrap;\n",
       "            justify-content: flex-start;\n",
       "            width: 100%;\n",
       "        }\n",
       "        .wandb-col {\n",
       "            display: flex;\n",
       "            flex-direction: column;\n",
       "            flex-basis: 100%;\n",
       "            flex: 1;\n",
       "            padding: 10px;\n",
       "        }\n",
       "    </style>\n",
       "<div class=\"wandb-row\"><div class=\"wandb-col\"><h3>Run summary:</h3><br/><table class=\"wandb\"><tr><td>dist_avg</td><td>18.61098</td></tr><tr><td>dist_p50</td><td>14.34982</td></tr><tr><td>dist_p90</td><td>31.92489</td></tr><tr><td>dist_p95</td><td>34.51109</td></tr><tr><td>dist_p99</td><td>36.58006</td></tr><tr><td>dist_std</td><td>8.61585</td></tr><tr><td>model_name</td><td>arabidopsis-primary-...</td></tr><tr><td>model_path</td><td>e:\\repositories\\slea...</td></tr><tr><td>oks_map</td><td>0</td></tr><tr><td>oks_mar</td><td>0</td></tr><tr><td>vis_prec</td><td>1</td></tr><tr><td>vis_recall</td><td>0.55556</td></tr></table><br/></div></div>"
      ],
      "text/plain": [
       "<IPython.core.display.HTML object>"
      ]
     },
     "metadata": {},
     "output_type": "display_data"
    },
    {
     "data": {
      "text/html": [
       " View run <strong style=\"color:#cdcd00\">evaluate_arabidopsis-primary-2025-01-19_v001_on_sorghum-primary-2025-01-06_v001</strong> at: <a href='https://wandb.ai/eberrigan-salk-institute-for-biological-studies/sleap-roots/runs/mdm5u8cq' target=\"_blank\">https://wandb.ai/eberrigan-salk-institute-for-biological-studies/sleap-roots/runs/mdm5u8cq</a><br/> View project at: <a href='https://wandb.ai/eberrigan-salk-institute-for-biological-studies/sleap-roots' target=\"_blank\">https://wandb.ai/eberrigan-salk-institute-for-biological-studies/sleap-roots</a><br/>Synced 7 W&B file(s), 0 media file(s), 10 artifact file(s) and 0 other file(s)"
      ],
      "text/plain": [
       "<IPython.core.display.HTML object>"
      ]
     },
     "metadata": {},
     "output_type": "display_data"
    },
    {
     "data": {
      "text/html": [
       "Find logs at: <code>.\\wandb\\run-20250129_172029-mdm5u8cq\\logs</code>"
      ],
      "text/plain": [
       "<IPython.core.display.HTML object>"
      ]
     },
     "metadata": {},
     "output_type": "display_data"
    },
    {
     "data": {
      "text/html": [
       "Tracking run with wandb version 0.18.6"
      ],
      "text/plain": [
       "<IPython.core.display.HTML object>"
      ]
     },
     "metadata": {},
     "output_type": "display_data"
    },
    {
     "data": {
      "text/html": [
       "Run data is saved locally in <code>e:\\repositories\\sleap-roots-training\\wandb\\run-20250129_172046-dsmmwn8w</code>"
      ],
      "text/plain": [
       "<IPython.core.display.HTML object>"
      ]
     },
     "metadata": {},
     "output_type": "display_data"
    },
    {
     "data": {
      "text/html": [
       "Syncing run <strong><a href='https://wandb.ai/eberrigan-salk-institute-for-biological-studies/sleap-roots/runs/dsmmwn8w' target=\"_blank\">evaluate_arabidopsis-primary-2025-01-19_v002_on_sorghum-primary-2025-01-06_v002</a></strong> to <a href='https://wandb.ai/eberrigan-salk-institute-for-biological-studies/sleap-roots' target=\"_blank\">Weights & Biases</a> (<a href='https://wandb.me/developer-guide' target=\"_blank\">docs</a>)<br/>"
      ],
      "text/plain": [
       "<IPython.core.display.HTML object>"
      ]
     },
     "metadata": {},
     "output_type": "display_data"
    },
    {
     "data": {
      "text/html": [
       " View project at <a href='https://wandb.ai/eberrigan-salk-institute-for-biological-studies/sleap-roots' target=\"_blank\">https://wandb.ai/eberrigan-salk-institute-for-biological-studies/sleap-roots</a>"
      ],
      "text/plain": [
       "<IPython.core.display.HTML object>"
      ]
     },
     "metadata": {},
     "output_type": "display_data"
    },
    {
     "data": {
      "text/html": [
       " View run at <a href='https://wandb.ai/eberrigan-salk-institute-for-biological-studies/sleap-roots/runs/dsmmwn8w' target=\"_blank\">https://wandb.ai/eberrigan-salk-institute-for-biological-studies/sleap-roots/runs/dsmmwn8w</a>"
      ],
      "text/plain": [
       "<IPython.core.display.HTML object>"
      ]
     },
     "metadata": {},
     "output_type": "display_data"
    },
    {
     "name": "stdout",
     "output_type": "stream",
     "text": [
      "Fetching artifact: eberrigan-salk-institute-for-biological-studies-org/wandb-registry-sleap-roots-models/arabidopsis-primary-2025-01-19_v002:latest\n"
     ]
    },
    {
     "name": "stderr",
     "output_type": "stream",
     "text": [
      "\u001b[34m\u001b[1mwandb\u001b[0m: \u001b[33mWARNING\u001b[0m Registries can be linked/fetched using a shorthand form without specifying the organization name. Try using shorthand path format: <my_registry_name>/<artifact_name> or just <my_registry_name> if fetching just the project.\n"
     ]
    },
    {
     "name": "stdout",
     "output_type": "stream",
     "text": [
      "Fetching artifact: eberrigan-salk-institute-for-biological-studies-org/wandb-registry-sleap-roots-models/sorghum-primary-2025-01-06_v002:latest\n"
     ]
    },
    {
     "name": "stderr",
     "output_type": "stream",
     "text": [
      "\u001b[34m\u001b[1mwandb\u001b[0m: \u001b[33mWARNING\u001b[0m Registries can be linked/fetched using a shorthand form without specifying the organization name. Try using shorthand path format: <my_registry_name>/<artifact_name> or just <my_registry_name> if fetching just the project.\n",
      "\u001b[34m\u001b[1mwandb\u001b[0m: Downloading large artifact arabidopsis-primary-2025-01-19_v002:latest, 59.36MB. 16 files... \n"
     ]
    },
    {
     "name": "stdout",
     "output_type": "stream",
     "text": [
      "Test data saved to sorghum-primary-2025-01-06_eval_2025-01-29/sorghum-primary-2025-01-06_v002_test_labels.slp\n"
     ]
    },
    {
     "name": "stderr",
     "output_type": "stream",
     "text": [
      "\u001b[34m\u001b[1mwandb\u001b[0m:   16 of 16 files downloaded.  \n",
      "Done. 0:0:0.3\n"
     ]
    },
    {
     "data": {
      "application/vnd.jupyter.widget-view+json": {
       "model_id": "79bf14cf0f4a4b09a89eb0db04e026ab",
       "version_major": 2,
       "version_minor": 0
      },
      "text/plain": [
       "Output()"
      ]
     },
     "metadata": {},
     "output_type": "display_data"
    },
    {
     "name": "stdout",
     "output_type": "stream",
     "text": [
      "Model loaded successfully from e:\\repositories\\sleap-roots-training\\artifacts\\arabidopsis-primary-2025-01-19_v002-v0.\n"
     ]
    },
    {
     "data": {
      "text/html": [
       "<pre style=\"white-space:pre;overflow-x:auto;line-height:normal;font-family:Menlo,'DejaVu Sans Mono',consolas,'Courier New',monospace\"></pre>\n"
      ],
      "text/plain": []
     },
     "metadata": {},
     "output_type": "display_data"
    },
    {
     "name": "stdout",
     "output_type": "stream",
     "text": [
      "INFO:sleap.nn.evals:OKS mAP: 0.000000\n",
      "Predictions saved to sorghum-primary-2025-01-06_eval_2025-01-29/arabidopsis-primary-2025-01-19_v002_on_sorghum-primary-2025-01-06_v002_test_predictions.slp\n",
      "Metrics saved to sorghum-primary-2025-01-06_eval_2025-01-29/arabidopsis-primary-2025-01-19_v002_on_sorghum-primary-2025-01-06_v002_metrics.csv\n",
      "Distances saved to sorghum-primary-2025-01-06_eval_2025-01-29/arabidopsis-primary-2025-01-19_v002_on_sorghum-primary-2025-01-06_v002_distances.csv\n",
      "Distance histogram saved to sorghum-primary-2025-01-06_eval_2025-01-29\\arabidopsis-primary-2025-01-19_v002_on_sorghum-primary-2025-01-06_v002_distance_histogram.png\n"
     ]
    },
    {
     "data": {
      "application/vnd.jupyter.widget-view+json": {
       "model_id": "24727373f4b5498e99e0ea643fcbb460",
       "version_major": 2,
       "version_minor": 0
      },
      "text/plain": [
       "VBox(children=(Label(value='0.124 MB of 0.124 MB uploaded\\r'), FloatProgress(value=1.0, max=1.0)))"
      ]
     },
     "metadata": {},
     "output_type": "display_data"
    },
    {
     "data": {
      "text/html": [
       "\n",
       "    <style>\n",
       "        .wandb-row {\n",
       "            display: flex;\n",
       "            flex-direction: row;\n",
       "            flex-wrap: wrap;\n",
       "            justify-content: flex-start;\n",
       "            width: 100%;\n",
       "        }\n",
       "        .wandb-col {\n",
       "            display: flex;\n",
       "            flex-direction: column;\n",
       "            flex-basis: 100%;\n",
       "            flex: 1;\n",
       "            padding: 10px;\n",
       "        }\n",
       "    </style>\n",
       "<div class=\"wandb-row\"><div class=\"wandb-col\"><h3>Run summary:</h3><br/><table class=\"wandb\"><tr><td>dist_avg</td><td>28.69024</td></tr><tr><td>dist_p50</td><td>25.99761</td></tr><tr><td>dist_p90</td><td>45.26401</td></tr><tr><td>dist_p95</td><td>50.58355</td></tr><tr><td>dist_p99</td><td>54.83918</td></tr><tr><td>dist_std</td><td>12.27174</td></tr><tr><td>model_name</td><td>arabidopsis-primary-...</td></tr><tr><td>model_path</td><td>e:\\repositories\\slea...</td></tr><tr><td>oks_map</td><td>0</td></tr><tr><td>oks_mar</td><td>0</td></tr><tr><td>vis_prec</td><td>1</td></tr><tr><td>vis_recall</td><td>0.33333</td></tr></table><br/></div></div>"
      ],
      "text/plain": [
       "<IPython.core.display.HTML object>"
      ]
     },
     "metadata": {},
     "output_type": "display_data"
    },
    {
     "data": {
      "text/html": [
       " View run <strong style=\"color:#cdcd00\">evaluate_arabidopsis-primary-2025-01-19_v002_on_sorghum-primary-2025-01-06_v002</strong> at: <a href='https://wandb.ai/eberrigan-salk-institute-for-biological-studies/sleap-roots/runs/dsmmwn8w' target=\"_blank\">https://wandb.ai/eberrigan-salk-institute-for-biological-studies/sleap-roots/runs/dsmmwn8w</a><br/> View project at: <a href='https://wandb.ai/eberrigan-salk-institute-for-biological-studies/sleap-roots' target=\"_blank\">https://wandb.ai/eberrigan-salk-institute-for-biological-studies/sleap-roots</a><br/>Synced 7 W&B file(s), 0 media file(s), 10 artifact file(s) and 0 other file(s)"
      ],
      "text/plain": [
       "<IPython.core.display.HTML object>"
      ]
     },
     "metadata": {},
     "output_type": "display_data"
    },
    {
     "data": {
      "text/html": [
       "Find logs at: <code>.\\wandb\\run-20250129_172046-dsmmwn8w\\logs</code>"
      ],
      "text/plain": [
       "<IPython.core.display.HTML object>"
      ]
     },
     "metadata": {},
     "output_type": "display_data"
    },
    {
     "data": {
      "text/html": [
       "Tracking run with wandb version 0.18.6"
      ],
      "text/plain": [
       "<IPython.core.display.HTML object>"
      ]
     },
     "metadata": {},
     "output_type": "display_data"
    },
    {
     "data": {
      "text/html": [
       "Run data is saved locally in <code>e:\\repositories\\sleap-roots-training\\wandb\\run-20250129_172101-4ytoepgz</code>"
      ],
      "text/plain": [
       "<IPython.core.display.HTML object>"
      ]
     },
     "metadata": {},
     "output_type": "display_data"
    },
    {
     "data": {
      "text/html": [
       "Syncing run <strong><a href='https://wandb.ai/eberrigan-salk-institute-for-biological-studies/sleap-roots/runs/4ytoepgz' target=\"_blank\">evaluate_sorghum-soybean-primary-2025-01-07_v000_on_sorghum-primary-2025-01-06_v000</a></strong> to <a href='https://wandb.ai/eberrigan-salk-institute-for-biological-studies/sleap-roots' target=\"_blank\">Weights & Biases</a> (<a href='https://wandb.me/developer-guide' target=\"_blank\">docs</a>)<br/>"
      ],
      "text/plain": [
       "<IPython.core.display.HTML object>"
      ]
     },
     "metadata": {},
     "output_type": "display_data"
    },
    {
     "data": {
      "text/html": [
       " View project at <a href='https://wandb.ai/eberrigan-salk-institute-for-biological-studies/sleap-roots' target=\"_blank\">https://wandb.ai/eberrigan-salk-institute-for-biological-studies/sleap-roots</a>"
      ],
      "text/plain": [
       "<IPython.core.display.HTML object>"
      ]
     },
     "metadata": {},
     "output_type": "display_data"
    },
    {
     "data": {
      "text/html": [
       " View run at <a href='https://wandb.ai/eberrigan-salk-institute-for-biological-studies/sleap-roots/runs/4ytoepgz' target=\"_blank\">https://wandb.ai/eberrigan-salk-institute-for-biological-studies/sleap-roots/runs/4ytoepgz</a>"
      ],
      "text/plain": [
       "<IPython.core.display.HTML object>"
      ]
     },
     "metadata": {},
     "output_type": "display_data"
    },
    {
     "name": "stdout",
     "output_type": "stream",
     "text": [
      "Fetching artifact: eberrigan-salk-institute-for-biological-studies-org/wandb-registry-sleap-roots-models/sorghum-soybean-primary-2025-01-07_v000:latest\n"
     ]
    },
    {
     "name": "stderr",
     "output_type": "stream",
     "text": [
      "\u001b[34m\u001b[1mwandb\u001b[0m: \u001b[33mWARNING\u001b[0m Registries can be linked/fetched using a shorthand form without specifying the organization name. Try using shorthand path format: <my_registry_name>/<artifact_name> or just <my_registry_name> if fetching just the project.\n"
     ]
    },
    {
     "name": "stdout",
     "output_type": "stream",
     "text": [
      "Fetching artifact: eberrigan-salk-institute-for-biological-studies-org/wandb-registry-sleap-roots-models/sorghum-primary-2025-01-06_v000:latest\n"
     ]
    },
    {
     "name": "stderr",
     "output_type": "stream",
     "text": [
      "\u001b[34m\u001b[1mwandb\u001b[0m: \u001b[33mWARNING\u001b[0m Registries can be linked/fetched using a shorthand form without specifying the organization name. Try using shorthand path format: <my_registry_name>/<artifact_name> or just <my_registry_name> if fetching just the project.\n",
      "\u001b[34m\u001b[1mwandb\u001b[0m: Downloading large artifact sorghum-soybean-primary-2025-01-07_v000:latest, 60.42MB. 16 files... \n"
     ]
    },
    {
     "name": "stdout",
     "output_type": "stream",
     "text": [
      "Test data saved to sorghum-primary-2025-01-06_eval_2025-01-29/sorghum-primary-2025-01-06_v000_test_labels.slp\n"
     ]
    },
    {
     "name": "stderr",
     "output_type": "stream",
     "text": [
      "\u001b[34m\u001b[1mwandb\u001b[0m:   16 of 16 files downloaded.  \n",
      "Done. 0:0:2.5\n"
     ]
    },
    {
     "data": {
      "application/vnd.jupyter.widget-view+json": {
       "model_id": "231f2942afb94f3e847a8ee61ae0b9b8",
       "version_major": 2,
       "version_minor": 0
      },
      "text/plain": [
       "Output()"
      ]
     },
     "metadata": {},
     "output_type": "display_data"
    },
    {
     "name": "stdout",
     "output_type": "stream",
     "text": [
      "Model loaded successfully from e:\\repositories\\sleap-roots-training\\artifacts\\sorghum-soybean-primary-2025-01-07_v000-v0.\n"
     ]
    },
    {
     "data": {
      "text/html": [
       "<pre style=\"white-space:pre;overflow-x:auto;line-height:normal;font-family:Menlo,'DejaVu Sans Mono',consolas,'Courier New',monospace\"></pre>\n"
      ],
      "text/plain": []
     },
     "metadata": {},
     "output_type": "display_data"
    },
    {
     "name": "stdout",
     "output_type": "stream",
     "text": [
      "INFO:sleap.nn.evals:OKS mAP: 0.000000\n",
      "Predictions saved to sorghum-primary-2025-01-06_eval_2025-01-29/sorghum-soybean-primary-2025-01-07_v000_on_sorghum-primary-2025-01-06_v000_test_predictions.slp\n",
      "Metrics saved to sorghum-primary-2025-01-06_eval_2025-01-29/sorghum-soybean-primary-2025-01-07_v000_on_sorghum-primary-2025-01-06_v000_metrics.csv\n",
      "Distances saved to sorghum-primary-2025-01-06_eval_2025-01-29/sorghum-soybean-primary-2025-01-07_v000_on_sorghum-primary-2025-01-06_v000_distances.csv\n",
      "Distance histogram saved to sorghum-primary-2025-01-06_eval_2025-01-29\\sorghum-soybean-primary-2025-01-07_v000_on_sorghum-primary-2025-01-06_v000_distance_histogram.png\n"
     ]
    },
    {
     "data": {
      "text/html": [
       "\n",
       "    <style>\n",
       "        .wandb-row {\n",
       "            display: flex;\n",
       "            flex-direction: row;\n",
       "            flex-wrap: wrap;\n",
       "            justify-content: flex-start;\n",
       "            width: 100%;\n",
       "        }\n",
       "        .wandb-col {\n",
       "            display: flex;\n",
       "            flex-direction: column;\n",
       "            flex-basis: 100%;\n",
       "            flex: 1;\n",
       "            padding: 10px;\n",
       "        }\n",
       "    </style>\n",
       "<div class=\"wandb-row\"><div class=\"wandb-col\"><h3>Run summary:</h3><br/><table class=\"wandb\"><tr><td>dist_avg</td><td>2.20587</td></tr><tr><td>dist_p50</td><td>1.20287</td></tr><tr><td>dist_p90</td><td>4.69671</td></tr><tr><td>dist_p95</td><td>6.89858</td></tr><tr><td>dist_p99</td><td>15.48871</td></tr><tr><td>dist_std</td><td>2.92079</td></tr><tr><td>model_name</td><td>sorghum-soybean-prim...</td></tr><tr><td>model_path</td><td>e:\\repositories\\slea...</td></tr><tr><td>oks_map</td><td>0</td></tr><tr><td>oks_mar</td><td>0</td></tr><tr><td>vis_prec</td><td>1</td></tr><tr><td>vis_recall</td><td>0.45513</td></tr></table><br/></div></div>"
      ],
      "text/plain": [
       "<IPython.core.display.HTML object>"
      ]
     },
     "metadata": {},
     "output_type": "display_data"
    },
    {
     "data": {
      "text/html": [
       " View run <strong style=\"color:#cdcd00\">evaluate_sorghum-soybean-primary-2025-01-07_v000_on_sorghum-primary-2025-01-06_v000</strong> at: <a href='https://wandb.ai/eberrigan-salk-institute-for-biological-studies/sleap-roots/runs/4ytoepgz' target=\"_blank\">https://wandb.ai/eberrigan-salk-institute-for-biological-studies/sleap-roots/runs/4ytoepgz</a><br/> View project at: <a href='https://wandb.ai/eberrigan-salk-institute-for-biological-studies/sleap-roots' target=\"_blank\">https://wandb.ai/eberrigan-salk-institute-for-biological-studies/sleap-roots</a><br/>Synced 7 W&B file(s), 0 media file(s), 10 artifact file(s) and 0 other file(s)"
      ],
      "text/plain": [
       "<IPython.core.display.HTML object>"
      ]
     },
     "metadata": {},
     "output_type": "display_data"
    },
    {
     "data": {
      "text/html": [
       "Find logs at: <code>.\\wandb\\run-20250129_172101-4ytoepgz\\logs</code>"
      ],
      "text/plain": [
       "<IPython.core.display.HTML object>"
      ]
     },
     "metadata": {},
     "output_type": "display_data"
    },
    {
     "data": {
      "text/html": [
       "Tracking run with wandb version 0.18.6"
      ],
      "text/plain": [
       "<IPython.core.display.HTML object>"
      ]
     },
     "metadata": {},
     "output_type": "display_data"
    },
    {
     "data": {
      "text/html": [
       "Run data is saved locally in <code>e:\\repositories\\sleap-roots-training\\wandb\\run-20250129_172119-wvtf6chk</code>"
      ],
      "text/plain": [
       "<IPython.core.display.HTML object>"
      ]
     },
     "metadata": {},
     "output_type": "display_data"
    },
    {
     "data": {
      "text/html": [
       "Syncing run <strong><a href='https://wandb.ai/eberrigan-salk-institute-for-biological-studies/sleap-roots/runs/wvtf6chk' target=\"_blank\">evaluate_sorghum-soybean-primary-2025-01-07_v001_on_sorghum-primary-2025-01-06_v001</a></strong> to <a href='https://wandb.ai/eberrigan-salk-institute-for-biological-studies/sleap-roots' target=\"_blank\">Weights & Biases</a> (<a href='https://wandb.me/developer-guide' target=\"_blank\">docs</a>)<br/>"
      ],
      "text/plain": [
       "<IPython.core.display.HTML object>"
      ]
     },
     "metadata": {},
     "output_type": "display_data"
    },
    {
     "data": {
      "text/html": [
       " View project at <a href='https://wandb.ai/eberrigan-salk-institute-for-biological-studies/sleap-roots' target=\"_blank\">https://wandb.ai/eberrigan-salk-institute-for-biological-studies/sleap-roots</a>"
      ],
      "text/plain": [
       "<IPython.core.display.HTML object>"
      ]
     },
     "metadata": {},
     "output_type": "display_data"
    },
    {
     "data": {
      "text/html": [
       " View run at <a href='https://wandb.ai/eberrigan-salk-institute-for-biological-studies/sleap-roots/runs/wvtf6chk' target=\"_blank\">https://wandb.ai/eberrigan-salk-institute-for-biological-studies/sleap-roots/runs/wvtf6chk</a>"
      ],
      "text/plain": [
       "<IPython.core.display.HTML object>"
      ]
     },
     "metadata": {},
     "output_type": "display_data"
    },
    {
     "name": "stdout",
     "output_type": "stream",
     "text": [
      "Fetching artifact: eberrigan-salk-institute-for-biological-studies-org/wandb-registry-sleap-roots-models/sorghum-soybean-primary-2025-01-07_v001:latest\n"
     ]
    },
    {
     "name": "stderr",
     "output_type": "stream",
     "text": [
      "\u001b[34m\u001b[1mwandb\u001b[0m: \u001b[33mWARNING\u001b[0m Registries can be linked/fetched using a shorthand form without specifying the organization name. Try using shorthand path format: <my_registry_name>/<artifact_name> or just <my_registry_name> if fetching just the project.\n"
     ]
    },
    {
     "name": "stdout",
     "output_type": "stream",
     "text": [
      "Fetching artifact: eberrigan-salk-institute-for-biological-studies-org/wandb-registry-sleap-roots-models/sorghum-primary-2025-01-06_v001:latest\n"
     ]
    },
    {
     "name": "stderr",
     "output_type": "stream",
     "text": [
      "\u001b[34m\u001b[1mwandb\u001b[0m: \u001b[33mWARNING\u001b[0m Registries can be linked/fetched using a shorthand form without specifying the organization name. Try using shorthand path format: <my_registry_name>/<artifact_name> or just <my_registry_name> if fetching just the project.\n",
      "\u001b[34m\u001b[1mwandb\u001b[0m: Downloading large artifact sorghum-soybean-primary-2025-01-07_v001:latest, 60.41MB. 16 files... \n"
     ]
    },
    {
     "name": "stdout",
     "output_type": "stream",
     "text": [
      "Test data saved to sorghum-primary-2025-01-06_eval_2025-01-29/sorghum-primary-2025-01-06_v001_test_labels.slp\n"
     ]
    },
    {
     "name": "stderr",
     "output_type": "stream",
     "text": [
      "\u001b[34m\u001b[1mwandb\u001b[0m:   16 of 16 files downloaded.  \n",
      "Done. 0:0:2.6\n"
     ]
    },
    {
     "data": {
      "application/vnd.jupyter.widget-view+json": {
       "model_id": "9064e5ceace34c53adf2479f6e856931",
       "version_major": 2,
       "version_minor": 0
      },
      "text/plain": [
       "Output()"
      ]
     },
     "metadata": {},
     "output_type": "display_data"
    },
    {
     "name": "stdout",
     "output_type": "stream",
     "text": [
      "Model loaded successfully from e:\\repositories\\sleap-roots-training\\artifacts\\sorghum-soybean-primary-2025-01-07_v001-v0.\n"
     ]
    },
    {
     "data": {
      "text/html": [
       "<pre style=\"white-space:pre;overflow-x:auto;line-height:normal;font-family:Menlo,'DejaVu Sans Mono',consolas,'Courier New',monospace\"></pre>\n"
      ],
      "text/plain": []
     },
     "metadata": {},
     "output_type": "display_data"
    },
    {
     "name": "stdout",
     "output_type": "stream",
     "text": [
      "INFO:sleap.nn.evals:OKS mAP: 0.025798\n",
      "Predictions saved to sorghum-primary-2025-01-06_eval_2025-01-29/sorghum-soybean-primary-2025-01-07_v001_on_sorghum-primary-2025-01-06_v001_test_predictions.slp\n",
      "Metrics saved to sorghum-primary-2025-01-06_eval_2025-01-29/sorghum-soybean-primary-2025-01-07_v001_on_sorghum-primary-2025-01-06_v001_metrics.csv\n",
      "Distances saved to sorghum-primary-2025-01-06_eval_2025-01-29/sorghum-soybean-primary-2025-01-07_v001_on_sorghum-primary-2025-01-06_v001_distances.csv\n",
      "Distance histogram saved to sorghum-primary-2025-01-06_eval_2025-01-29\\sorghum-soybean-primary-2025-01-07_v001_on_sorghum-primary-2025-01-06_v001_distance_histogram.png\n"
     ]
    },
    {
     "data": {
      "text/html": [
       "\n",
       "    <style>\n",
       "        .wandb-row {\n",
       "            display: flex;\n",
       "            flex-direction: row;\n",
       "            flex-wrap: wrap;\n",
       "            justify-content: flex-start;\n",
       "            width: 100%;\n",
       "        }\n",
       "        .wandb-col {\n",
       "            display: flex;\n",
       "            flex-direction: column;\n",
       "            flex-basis: 100%;\n",
       "            flex: 1;\n",
       "            padding: 10px;\n",
       "        }\n",
       "    </style>\n",
       "<div class=\"wandb-row\"><div class=\"wandb-col\"><h3>Run summary:</h3><br/><table class=\"wandb\"><tr><td>dist_avg</td><td>2.08418</td></tr><tr><td>dist_p50</td><td>1.26046</td></tr><tr><td>dist_p90</td><td>5.03547</td></tr><tr><td>dist_p95</td><td>6.32496</td></tr><tr><td>dist_p99</td><td>10.67581</td></tr><tr><td>dist_std</td><td>2.26937</td></tr><tr><td>model_name</td><td>sorghum-soybean-prim...</td></tr><tr><td>model_path</td><td>e:\\repositories\\slea...</td></tr><tr><td>oks_map</td><td>0.0258</td></tr><tr><td>oks_mar</td><td>0.06444</td></tr><tr><td>vis_prec</td><td>1</td></tr><tr><td>vis_recall</td><td>0.72764</td></tr></table><br/></div></div>"
      ],
      "text/plain": [
       "<IPython.core.display.HTML object>"
      ]
     },
     "metadata": {},
     "output_type": "display_data"
    },
    {
     "data": {
      "text/html": [
       " View run <strong style=\"color:#cdcd00\">evaluate_sorghum-soybean-primary-2025-01-07_v001_on_sorghum-primary-2025-01-06_v001</strong> at: <a href='https://wandb.ai/eberrigan-salk-institute-for-biological-studies/sleap-roots/runs/wvtf6chk' target=\"_blank\">https://wandb.ai/eberrigan-salk-institute-for-biological-studies/sleap-roots/runs/wvtf6chk</a><br/> View project at: <a href='https://wandb.ai/eberrigan-salk-institute-for-biological-studies/sleap-roots' target=\"_blank\">https://wandb.ai/eberrigan-salk-institute-for-biological-studies/sleap-roots</a><br/>Synced 7 W&B file(s), 0 media file(s), 10 artifact file(s) and 0 other file(s)"
      ],
      "text/plain": [
       "<IPython.core.display.HTML object>"
      ]
     },
     "metadata": {},
     "output_type": "display_data"
    },
    {
     "data": {
      "text/html": [
       "Find logs at: <code>.\\wandb\\run-20250129_172119-wvtf6chk\\logs</code>"
      ],
      "text/plain": [
       "<IPython.core.display.HTML object>"
      ]
     },
     "metadata": {},
     "output_type": "display_data"
    },
    {
     "data": {
      "text/html": [
       "Tracking run with wandb version 0.18.6"
      ],
      "text/plain": [
       "<IPython.core.display.HTML object>"
      ]
     },
     "metadata": {},
     "output_type": "display_data"
    },
    {
     "data": {
      "text/html": [
       "Run data is saved locally in <code>e:\\repositories\\sleap-roots-training\\wandb\\run-20250129_172137-unq334uf</code>"
      ],
      "text/plain": [
       "<IPython.core.display.HTML object>"
      ]
     },
     "metadata": {},
     "output_type": "display_data"
    },
    {
     "data": {
      "text/html": [
       "Syncing run <strong><a href='https://wandb.ai/eberrigan-salk-institute-for-biological-studies/sleap-roots/runs/unq334uf' target=\"_blank\">evaluate_sorghum-soybean-primary-2025-01-07_v002_on_sorghum-primary-2025-01-06_v002</a></strong> to <a href='https://wandb.ai/eberrigan-salk-institute-for-biological-studies/sleap-roots' target=\"_blank\">Weights & Biases</a> (<a href='https://wandb.me/developer-guide' target=\"_blank\">docs</a>)<br/>"
      ],
      "text/plain": [
       "<IPython.core.display.HTML object>"
      ]
     },
     "metadata": {},
     "output_type": "display_data"
    },
    {
     "data": {
      "text/html": [
       " View project at <a href='https://wandb.ai/eberrigan-salk-institute-for-biological-studies/sleap-roots' target=\"_blank\">https://wandb.ai/eberrigan-salk-institute-for-biological-studies/sleap-roots</a>"
      ],
      "text/plain": [
       "<IPython.core.display.HTML object>"
      ]
     },
     "metadata": {},
     "output_type": "display_data"
    },
    {
     "data": {
      "text/html": [
       " View run at <a href='https://wandb.ai/eberrigan-salk-institute-for-biological-studies/sleap-roots/runs/unq334uf' target=\"_blank\">https://wandb.ai/eberrigan-salk-institute-for-biological-studies/sleap-roots/runs/unq334uf</a>"
      ],
      "text/plain": [
       "<IPython.core.display.HTML object>"
      ]
     },
     "metadata": {},
     "output_type": "display_data"
    },
    {
     "name": "stdout",
     "output_type": "stream",
     "text": [
      "Fetching artifact: eberrigan-salk-institute-for-biological-studies-org/wandb-registry-sleap-roots-models/sorghum-soybean-primary-2025-01-07_v002:latest\n"
     ]
    },
    {
     "name": "stderr",
     "output_type": "stream",
     "text": [
      "\u001b[34m\u001b[1mwandb\u001b[0m: \u001b[33mWARNING\u001b[0m Registries can be linked/fetched using a shorthand form without specifying the organization name. Try using shorthand path format: <my_registry_name>/<artifact_name> or just <my_registry_name> if fetching just the project.\n"
     ]
    },
    {
     "name": "stdout",
     "output_type": "stream",
     "text": [
      "Fetching artifact: eberrigan-salk-institute-for-biological-studies-org/wandb-registry-sleap-roots-models/sorghum-primary-2025-01-06_v002:latest\n"
     ]
    },
    {
     "name": "stderr",
     "output_type": "stream",
     "text": [
      "\u001b[34m\u001b[1mwandb\u001b[0m: \u001b[33mWARNING\u001b[0m Registries can be linked/fetched using a shorthand form without specifying the organization name. Try using shorthand path format: <my_registry_name>/<artifact_name> or just <my_registry_name> if fetching just the project.\n",
      "\u001b[34m\u001b[1mwandb\u001b[0m: Downloading large artifact sorghum-soybean-primary-2025-01-07_v002:latest, 60.40MB. 16 files... \n"
     ]
    },
    {
     "name": "stdout",
     "output_type": "stream",
     "text": [
      "Test data saved to sorghum-primary-2025-01-06_eval_2025-01-29/sorghum-primary-2025-01-06_v002_test_labels.slp\n"
     ]
    },
    {
     "name": "stderr",
     "output_type": "stream",
     "text": [
      "\u001b[34m\u001b[1mwandb\u001b[0m:   16 of 16 files downloaded.  \n",
      "Done. 0:0:0.3\n"
     ]
    },
    {
     "data": {
      "application/vnd.jupyter.widget-view+json": {
       "model_id": "7428313b3c214c0580231546f0274215",
       "version_major": 2,
       "version_minor": 0
      },
      "text/plain": [
       "Output()"
      ]
     },
     "metadata": {},
     "output_type": "display_data"
    },
    {
     "name": "stdout",
     "output_type": "stream",
     "text": [
      "Model loaded successfully from e:\\repositories\\sleap-roots-training\\artifacts\\sorghum-soybean-primary-2025-01-07_v002-v0.\n"
     ]
    },
    {
     "data": {
      "text/html": [
       "<pre style=\"white-space:pre;overflow-x:auto;line-height:normal;font-family:Menlo,'DejaVu Sans Mono',consolas,'Courier New',monospace\"></pre>\n"
      ],
      "text/plain": []
     },
     "metadata": {},
     "output_type": "display_data"
    },
    {
     "name": "stdout",
     "output_type": "stream",
     "text": [
      "INFO:sleap.nn.evals:OKS mAP: 0.050043\n",
      "Predictions saved to sorghum-primary-2025-01-06_eval_2025-01-29/sorghum-soybean-primary-2025-01-07_v002_on_sorghum-primary-2025-01-06_v002_test_predictions.slp\n",
      "Metrics saved to sorghum-primary-2025-01-06_eval_2025-01-29/sorghum-soybean-primary-2025-01-07_v002_on_sorghum-primary-2025-01-06_v002_metrics.csv\n",
      "Distances saved to sorghum-primary-2025-01-06_eval_2025-01-29/sorghum-soybean-primary-2025-01-07_v002_on_sorghum-primary-2025-01-06_v002_distances.csv\n",
      "Distance histogram saved to sorghum-primary-2025-01-06_eval_2025-01-29\\sorghum-soybean-primary-2025-01-07_v002_on_sorghum-primary-2025-01-06_v002_distance_histogram.png\n"
     ]
    },
    {
     "data": {
      "text/html": [
       "\n",
       "    <style>\n",
       "        .wandb-row {\n",
       "            display: flex;\n",
       "            flex-direction: row;\n",
       "            flex-wrap: wrap;\n",
       "            justify-content: flex-start;\n",
       "            width: 100%;\n",
       "        }\n",
       "        .wandb-col {\n",
       "            display: flex;\n",
       "            flex-direction: column;\n",
       "            flex-basis: 100%;\n",
       "            flex: 1;\n",
       "            padding: 10px;\n",
       "        }\n",
       "    </style>\n",
       "<div class=\"wandb-row\"><div class=\"wandb-col\"><h3>Run summary:</h3><br/><table class=\"wandb\"><tr><td>dist_avg</td><td>1.62802</td></tr><tr><td>dist_p50</td><td>1.06495</td></tr><tr><td>dist_p90</td><td>3.35472</td></tr><tr><td>dist_p95</td><td>4.81627</td></tr><tr><td>dist_p99</td><td>8.31326</td></tr><tr><td>dist_std</td><td>1.71952</td></tr><tr><td>model_name</td><td>sorghum-soybean-prim...</td></tr><tr><td>model_path</td><td>e:\\repositories\\slea...</td></tr><tr><td>oks_map</td><td>0.05004</td></tr><tr><td>oks_mar</td><td>0.05556</td></tr><tr><td>vis_prec</td><td>1</td></tr><tr><td>vis_recall</td><td>0.5914</td></tr></table><br/></div></div>"
      ],
      "text/plain": [
       "<IPython.core.display.HTML object>"
      ]
     },
     "metadata": {},
     "output_type": "display_data"
    },
    {
     "data": {
      "text/html": [
       " View run <strong style=\"color:#cdcd00\">evaluate_sorghum-soybean-primary-2025-01-07_v002_on_sorghum-primary-2025-01-06_v002</strong> at: <a href='https://wandb.ai/eberrigan-salk-institute-for-biological-studies/sleap-roots/runs/unq334uf' target=\"_blank\">https://wandb.ai/eberrigan-salk-institute-for-biological-studies/sleap-roots/runs/unq334uf</a><br/> View project at: <a href='https://wandb.ai/eberrigan-salk-institute-for-biological-studies/sleap-roots' target=\"_blank\">https://wandb.ai/eberrigan-salk-institute-for-biological-studies/sleap-roots</a><br/>Synced 7 W&B file(s), 0 media file(s), 8 artifact file(s) and 0 other file(s)"
      ],
      "text/plain": [
       "<IPython.core.display.HTML object>"
      ]
     },
     "metadata": {},
     "output_type": "display_data"
    },
    {
     "data": {
      "text/html": [
       "Find logs at: <code>.\\wandb\\run-20250129_172137-unq334uf\\logs</code>"
      ],
      "text/plain": [
       "<IPython.core.display.HTML object>"
      ]
     },
     "metadata": {},
     "output_type": "display_data"
    },
    {
     "data": {
      "text/html": [
       "Tracking run with wandb version 0.18.6"
      ],
      "text/plain": [
       "<IPython.core.display.HTML object>"
      ]
     },
     "metadata": {},
     "output_type": "display_data"
    },
    {
     "data": {
      "text/html": [
       "Run data is saved locally in <code>e:\\repositories\\sleap-roots-training\\wandb\\run-20250129_172151-dpwlw4z7</code>"
      ],
      "text/plain": [
       "<IPython.core.display.HTML object>"
      ]
     },
     "metadata": {},
     "output_type": "display_data"
    },
    {
     "data": {
      "text/html": [
       "Syncing run <strong><a href='https://wandb.ai/eberrigan-salk-institute-for-biological-studies/sleap-roots/runs/dpwlw4z7' target=\"_blank\">evaluate_sorghum-primary-2025-01-06_v000_on_sorghum-primary-2025-01-06_v000</a></strong> to <a href='https://wandb.ai/eberrigan-salk-institute-for-biological-studies/sleap-roots' target=\"_blank\">Weights & Biases</a> (<a href='https://wandb.me/developer-guide' target=\"_blank\">docs</a>)<br/>"
      ],
      "text/plain": [
       "<IPython.core.display.HTML object>"
      ]
     },
     "metadata": {},
     "output_type": "display_data"
    },
    {
     "data": {
      "text/html": [
       " View project at <a href='https://wandb.ai/eberrigan-salk-institute-for-biological-studies/sleap-roots' target=\"_blank\">https://wandb.ai/eberrigan-salk-institute-for-biological-studies/sleap-roots</a>"
      ],
      "text/plain": [
       "<IPython.core.display.HTML object>"
      ]
     },
     "metadata": {},
     "output_type": "display_data"
    },
    {
     "data": {
      "text/html": [
       " View run at <a href='https://wandb.ai/eberrigan-salk-institute-for-biological-studies/sleap-roots/runs/dpwlw4z7' target=\"_blank\">https://wandb.ai/eberrigan-salk-institute-for-biological-studies/sleap-roots/runs/dpwlw4z7</a>"
      ],
      "text/plain": [
       "<IPython.core.display.HTML object>"
      ]
     },
     "metadata": {},
     "output_type": "display_data"
    },
    {
     "name": "stdout",
     "output_type": "stream",
     "text": [
      "Fetching artifact: eberrigan-salk-institute-for-biological-studies-org/wandb-registry-sleap-roots-models/sorghum-primary-2025-01-06_v000:latest\n"
     ]
    },
    {
     "name": "stderr",
     "output_type": "stream",
     "text": [
      "\u001b[34m\u001b[1mwandb\u001b[0m: \u001b[33mWARNING\u001b[0m Registries can be linked/fetched using a shorthand form without specifying the organization name. Try using shorthand path format: <my_registry_name>/<artifact_name> or just <my_registry_name> if fetching just the project.\n"
     ]
    },
    {
     "name": "stdout",
     "output_type": "stream",
     "text": [
      "Fetching artifact: eberrigan-salk-institute-for-biological-studies-org/wandb-registry-sleap-roots-models/sorghum-primary-2025-01-06_v000:latest\n"
     ]
    },
    {
     "name": "stderr",
     "output_type": "stream",
     "text": [
      "\u001b[34m\u001b[1mwandb\u001b[0m: \u001b[33mWARNING\u001b[0m Registries can be linked/fetched using a shorthand form without specifying the organization name. Try using shorthand path format: <my_registry_name>/<artifact_name> or just <my_registry_name> if fetching just the project.\n",
      "\u001b[34m\u001b[1mwandb\u001b[0m: Downloading large artifact sorghum-primary-2025-01-06_v000:latest, 59.47MB. 16 files... \n"
     ]
    },
    {
     "name": "stdout",
     "output_type": "stream",
     "text": [
      "Test data saved to sorghum-primary-2025-01-06_eval_2025-01-29/sorghum-primary-2025-01-06_v000_test_labels.slp\n"
     ]
    },
    {
     "name": "stderr",
     "output_type": "stream",
     "text": [
      "\u001b[34m\u001b[1mwandb\u001b[0m:   16 of 16 files downloaded.  \n",
      "Done. 0:0:2.1\n"
     ]
    },
    {
     "data": {
      "application/vnd.jupyter.widget-view+json": {
       "model_id": "c8a22a98cc97459aaca9370146821d1f",
       "version_major": 2,
       "version_minor": 0
      },
      "text/plain": [
       "Output()"
      ]
     },
     "metadata": {},
     "output_type": "display_data"
    },
    {
     "name": "stdout",
     "output_type": "stream",
     "text": [
      "Model loaded successfully from e:\\repositories\\sleap-roots-training\\artifacts\\sorghum-primary-2025-01-06_v000-v0.\n"
     ]
    },
    {
     "data": {
      "text/html": [
       "<pre style=\"white-space:pre;overflow-x:auto;line-height:normal;font-family:Menlo,'DejaVu Sans Mono',consolas,'Courier New',monospace\"></pre>\n"
      ],
      "text/plain": []
     },
     "metadata": {},
     "output_type": "display_data"
    },
    {
     "name": "stdout",
     "output_type": "stream",
     "text": [
      "WARNING:sleap.nn.evals:Failed to compute metrics.\n"
     ]
    },
    {
     "name": "stderr",
     "output_type": "stream",
     "text": [
      "c:\\Users\\pbiobgh\\.conda\\envs\\sleap_v1.3.4\\lib\\site-packages\\sleap\\nn\\evals.py:539: RuntimeWarning: Mean of empty slice\n",
      "  \"dist.avg\": np.nanmean(dists),\n",
      "c:\\Users\\pbiobgh\\.conda\\envs\\sleap_v1.3.4\\lib\\site-packages\\sleap\\nn\\evals.py:572: RuntimeWarning: Mean of empty slice.\n",
      "  mPCK = mPCK_parts.mean()\n",
      "c:\\Users\\pbiobgh\\.conda\\envs\\sleap_v1.3.4\\lib\\site-packages\\numpy\\core\\_methods.py:189: RuntimeWarning: invalid value encountered in double_scalars\n",
      "  ret = ret.dtype.type(ret / rcount)\n",
      "c:\\Users\\pbiobgh\\.conda\\envs\\sleap_v1.3.4\\lib\\site-packages\\sleap\\nn\\evals.py:666: RuntimeWarning: Mean of empty slice.\n",
      "  pair_pck = metrics[\"pck.pcks\"].mean(axis=-1).mean(axis=-1)\n",
      "c:\\Users\\pbiobgh\\.conda\\envs\\sleap_v1.3.4\\lib\\site-packages\\numpy\\core\\_methods.py:182: RuntimeWarning: invalid value encountered in true_divide\n",
      "  ret, rcount, out=ret, casting='unsafe', subok=False)\n",
      "c:\\Users\\pbiobgh\\.conda\\envs\\sleap_v1.3.4\\lib\\site-packages\\sleap\\nn\\evals.py:668: RuntimeWarning: Mean of empty slice.\n",
      "  metrics[\"oks.mOKS\"] = pair_oks.mean()\n"
     ]
    },
    {
     "name": "stdout",
     "output_type": "stream",
     "text": [
      "Predictions saved to sorghum-primary-2025-01-06_eval_2025-01-29/sorghum-primary-2025-01-06_v000_on_sorghum-primary-2025-01-06_v000_test_predictions.slp\n",
      "Error during model evaluation: 'NoneType' object is not subscriptable. Skipping this model...\n"
     ]
    },
    {
     "data": {
      "text/html": [
       " View run <strong style=\"color:#cdcd00\">evaluate_sorghum-primary-2025-01-06_v000_on_sorghum-primary-2025-01-06_v000</strong> at: <a href='https://wandb.ai/eberrigan-salk-institute-for-biological-studies/sleap-roots/runs/dpwlw4z7' target=\"_blank\">https://wandb.ai/eberrigan-salk-institute-for-biological-studies/sleap-roots/runs/dpwlw4z7</a><br/> View project at: <a href='https://wandb.ai/eberrigan-salk-institute-for-biological-studies/sleap-roots' target=\"_blank\">https://wandb.ai/eberrigan-salk-institute-for-biological-studies/sleap-roots</a><br/>Synced 7 W&B file(s), 0 media file(s), 2 artifact file(s) and 0 other file(s)"
      ],
      "text/plain": [
       "<IPython.core.display.HTML object>"
      ]
     },
     "metadata": {},
     "output_type": "display_data"
    },
    {
     "data": {
      "text/html": [
       "Find logs at: <code>.\\wandb\\run-20250129_172151-dpwlw4z7\\logs</code>"
      ],
      "text/plain": [
       "<IPython.core.display.HTML object>"
      ]
     },
     "metadata": {},
     "output_type": "display_data"
    },
    {
     "name": "stdout",
     "output_type": "stream",
     "text": [
      "Skipping sorghum-primary-2025-01-06_v000 due to evaluation error.\n"
     ]
    },
    {
     "data": {
      "text/html": [
       "Tracking run with wandb version 0.18.6"
      ],
      "text/plain": [
       "<IPython.core.display.HTML object>"
      ]
     },
     "metadata": {},
     "output_type": "display_data"
    },
    {
     "data": {
      "text/html": [
       "Run data is saved locally in <code>e:\\repositories\\sleap-roots-training\\wandb\\run-20250129_172207-ydm4hrc1</code>"
      ],
      "text/plain": [
       "<IPython.core.display.HTML object>"
      ]
     },
     "metadata": {},
     "output_type": "display_data"
    },
    {
     "data": {
      "text/html": [
       "Syncing run <strong><a href='https://wandb.ai/eberrigan-salk-institute-for-biological-studies/sleap-roots/runs/ydm4hrc1' target=\"_blank\">evaluate_sorghum-primary-2025-01-06_v001_on_sorghum-primary-2025-01-06_v001</a></strong> to <a href='https://wandb.ai/eberrigan-salk-institute-for-biological-studies/sleap-roots' target=\"_blank\">Weights & Biases</a> (<a href='https://wandb.me/developer-guide' target=\"_blank\">docs</a>)<br/>"
      ],
      "text/plain": [
       "<IPython.core.display.HTML object>"
      ]
     },
     "metadata": {},
     "output_type": "display_data"
    },
    {
     "data": {
      "text/html": [
       " View project at <a href='https://wandb.ai/eberrigan-salk-institute-for-biological-studies/sleap-roots' target=\"_blank\">https://wandb.ai/eberrigan-salk-institute-for-biological-studies/sleap-roots</a>"
      ],
      "text/plain": [
       "<IPython.core.display.HTML object>"
      ]
     },
     "metadata": {},
     "output_type": "display_data"
    },
    {
     "data": {
      "text/html": [
       " View run at <a href='https://wandb.ai/eberrigan-salk-institute-for-biological-studies/sleap-roots/runs/ydm4hrc1' target=\"_blank\">https://wandb.ai/eberrigan-salk-institute-for-biological-studies/sleap-roots/runs/ydm4hrc1</a>"
      ],
      "text/plain": [
       "<IPython.core.display.HTML object>"
      ]
     },
     "metadata": {},
     "output_type": "display_data"
    },
    {
     "name": "stdout",
     "output_type": "stream",
     "text": [
      "Fetching artifact: eberrigan-salk-institute-for-biological-studies-org/wandb-registry-sleap-roots-models/sorghum-primary-2025-01-06_v001:latest\n"
     ]
    },
    {
     "name": "stderr",
     "output_type": "stream",
     "text": [
      "\u001b[34m\u001b[1mwandb\u001b[0m: \u001b[33mWARNING\u001b[0m Registries can be linked/fetched using a shorthand form without specifying the organization name. Try using shorthand path format: <my_registry_name>/<artifact_name> or just <my_registry_name> if fetching just the project.\n"
     ]
    },
    {
     "name": "stdout",
     "output_type": "stream",
     "text": [
      "Fetching artifact: eberrigan-salk-institute-for-biological-studies-org/wandb-registry-sleap-roots-models/sorghum-primary-2025-01-06_v001:latest\n"
     ]
    },
    {
     "name": "stderr",
     "output_type": "stream",
     "text": [
      "\u001b[34m\u001b[1mwandb\u001b[0m: \u001b[33mWARNING\u001b[0m Registries can be linked/fetched using a shorthand form without specifying the organization name. Try using shorthand path format: <my_registry_name>/<artifact_name> or just <my_registry_name> if fetching just the project.\n",
      "\u001b[34m\u001b[1mwandb\u001b[0m: Downloading large artifact sorghum-primary-2025-01-06_v001:latest, 59.48MB. 16 files... \n"
     ]
    },
    {
     "name": "stdout",
     "output_type": "stream",
     "text": [
      "Test data saved to sorghum-primary-2025-01-06_eval_2025-01-29/sorghum-primary-2025-01-06_v001_test_labels.slp\n"
     ]
    },
    {
     "name": "stderr",
     "output_type": "stream",
     "text": [
      "\u001b[34m\u001b[1mwandb\u001b[0m:   16 of 16 files downloaded.  \n",
      "Done. 0:0:1.7\n"
     ]
    },
    {
     "data": {
      "application/vnd.jupyter.widget-view+json": {
       "model_id": "23b8cdcb54d340d89e99e06765349f66",
       "version_major": 2,
       "version_minor": 0
      },
      "text/plain": [
       "Output()"
      ]
     },
     "metadata": {},
     "output_type": "display_data"
    },
    {
     "name": "stdout",
     "output_type": "stream",
     "text": [
      "Model loaded successfully from e:\\repositories\\sleap-roots-training\\artifacts\\sorghum-primary-2025-01-06_v001-v0.\n"
     ]
    },
    {
     "data": {
      "text/html": [
       "<pre style=\"white-space:pre;overflow-x:auto;line-height:normal;font-family:Menlo,'DejaVu Sans Mono',consolas,'Courier New',monospace\"></pre>\n"
      ],
      "text/plain": []
     },
     "metadata": {},
     "output_type": "display_data"
    },
    {
     "name": "stdout",
     "output_type": "stream",
     "text": [
      "INFO:sleap.nn.evals:OKS mAP: 0.032449\n",
      "Predictions saved to sorghum-primary-2025-01-06_eval_2025-01-29/sorghum-primary-2025-01-06_v001_on_sorghum-primary-2025-01-06_v001_test_predictions.slp\n",
      "Metrics saved to sorghum-primary-2025-01-06_eval_2025-01-29/sorghum-primary-2025-01-06_v001_on_sorghum-primary-2025-01-06_v001_metrics.csv\n",
      "Distances saved to sorghum-primary-2025-01-06_eval_2025-01-29/sorghum-primary-2025-01-06_v001_on_sorghum-primary-2025-01-06_v001_distances.csv\n",
      "Distance histogram saved to sorghum-primary-2025-01-06_eval_2025-01-29\\sorghum-primary-2025-01-06_v001_on_sorghum-primary-2025-01-06_v001_distance_histogram.png\n"
     ]
    },
    {
     "data": {
      "text/html": [
       "\n",
       "    <style>\n",
       "        .wandb-row {\n",
       "            display: flex;\n",
       "            flex-direction: row;\n",
       "            flex-wrap: wrap;\n",
       "            justify-content: flex-start;\n",
       "            width: 100%;\n",
       "        }\n",
       "        .wandb-col {\n",
       "            display: flex;\n",
       "            flex-direction: column;\n",
       "            flex-basis: 100%;\n",
       "            flex: 1;\n",
       "            padding: 10px;\n",
       "        }\n",
       "    </style>\n",
       "<div class=\"wandb-row\"><div class=\"wandb-col\"><h3>Run summary:</h3><br/><table class=\"wandb\"><tr><td>dist_avg</td><td>1.99907</td></tr><tr><td>dist_p50</td><td>0.99889</td></tr><tr><td>dist_p90</td><td>4.64859</td></tr><tr><td>dist_p95</td><td>6.59902</td></tr><tr><td>dist_p99</td><td>10.75691</td></tr><tr><td>dist_std</td><td>2.30036</td></tr><tr><td>model_name</td><td>sorghum-primary-2025...</td></tr><tr><td>model_path</td><td>e:\\repositories\\slea...</td></tr><tr><td>oks_map</td><td>0.03245</td></tr><tr><td>oks_mar</td><td>0.05333</td></tr><tr><td>vis_prec</td><td>1</td></tr><tr><td>vis_recall</td><td>0.6553</td></tr></table><br/></div></div>"
      ],
      "text/plain": [
       "<IPython.core.display.HTML object>"
      ]
     },
     "metadata": {},
     "output_type": "display_data"
    },
    {
     "data": {
      "text/html": [
       " View run <strong style=\"color:#cdcd00\">evaluate_sorghum-primary-2025-01-06_v001_on_sorghum-primary-2025-01-06_v001</strong> at: <a href='https://wandb.ai/eberrigan-salk-institute-for-biological-studies/sleap-roots/runs/ydm4hrc1' target=\"_blank\">https://wandb.ai/eberrigan-salk-institute-for-biological-studies/sleap-roots/runs/ydm4hrc1</a><br/> View project at: <a href='https://wandb.ai/eberrigan-salk-institute-for-biological-studies/sleap-roots' target=\"_blank\">https://wandb.ai/eberrigan-salk-institute-for-biological-studies/sleap-roots</a><br/>Synced 7 W&B file(s), 0 media file(s), 10 artifact file(s) and 0 other file(s)"
      ],
      "text/plain": [
       "<IPython.core.display.HTML object>"
      ]
     },
     "metadata": {},
     "output_type": "display_data"
    },
    {
     "data": {
      "text/html": [
       "Find logs at: <code>.\\wandb\\run-20250129_172207-ydm4hrc1\\logs</code>"
      ],
      "text/plain": [
       "<IPython.core.display.HTML object>"
      ]
     },
     "metadata": {},
     "output_type": "display_data"
    },
    {
     "data": {
      "text/html": [
       "Tracking run with wandb version 0.18.6"
      ],
      "text/plain": [
       "<IPython.core.display.HTML object>"
      ]
     },
     "metadata": {},
     "output_type": "display_data"
    },
    {
     "data": {
      "text/html": [
       "Run data is saved locally in <code>e:\\repositories\\sleap-roots-training\\wandb\\run-20250129_172224-99lw0qao</code>"
      ],
      "text/plain": [
       "<IPython.core.display.HTML object>"
      ]
     },
     "metadata": {},
     "output_type": "display_data"
    },
    {
     "data": {
      "text/html": [
       "Syncing run <strong><a href='https://wandb.ai/eberrigan-salk-institute-for-biological-studies/sleap-roots/runs/99lw0qao' target=\"_blank\">evaluate_sorghum-primary-2025-01-06_v002_on_sorghum-primary-2025-01-06_v002</a></strong> to <a href='https://wandb.ai/eberrigan-salk-institute-for-biological-studies/sleap-roots' target=\"_blank\">Weights & Biases</a> (<a href='https://wandb.me/developer-guide' target=\"_blank\">docs</a>)<br/>"
      ],
      "text/plain": [
       "<IPython.core.display.HTML object>"
      ]
     },
     "metadata": {},
     "output_type": "display_data"
    },
    {
     "data": {
      "text/html": [
       " View project at <a href='https://wandb.ai/eberrigan-salk-institute-for-biological-studies/sleap-roots' target=\"_blank\">https://wandb.ai/eberrigan-salk-institute-for-biological-studies/sleap-roots</a>"
      ],
      "text/plain": [
       "<IPython.core.display.HTML object>"
      ]
     },
     "metadata": {},
     "output_type": "display_data"
    },
    {
     "data": {
      "text/html": [
       " View run at <a href='https://wandb.ai/eberrigan-salk-institute-for-biological-studies/sleap-roots/runs/99lw0qao' target=\"_blank\">https://wandb.ai/eberrigan-salk-institute-for-biological-studies/sleap-roots/runs/99lw0qao</a>"
      ],
      "text/plain": [
       "<IPython.core.display.HTML object>"
      ]
     },
     "metadata": {},
     "output_type": "display_data"
    },
    {
     "name": "stdout",
     "output_type": "stream",
     "text": [
      "Fetching artifact: eberrigan-salk-institute-for-biological-studies-org/wandb-registry-sleap-roots-models/sorghum-primary-2025-01-06_v002:latest\n"
     ]
    },
    {
     "name": "stderr",
     "output_type": "stream",
     "text": [
      "\u001b[34m\u001b[1mwandb\u001b[0m: \u001b[33mWARNING\u001b[0m Registries can be linked/fetched using a shorthand form without specifying the organization name. Try using shorthand path format: <my_registry_name>/<artifact_name> or just <my_registry_name> if fetching just the project.\n"
     ]
    },
    {
     "name": "stdout",
     "output_type": "stream",
     "text": [
      "Fetching artifact: eberrigan-salk-institute-for-biological-studies-org/wandb-registry-sleap-roots-models/sorghum-primary-2025-01-06_v002:latest\n"
     ]
    },
    {
     "name": "stderr",
     "output_type": "stream",
     "text": [
      "\u001b[34m\u001b[1mwandb\u001b[0m: \u001b[33mWARNING\u001b[0m Registries can be linked/fetched using a shorthand form without specifying the organization name. Try using shorthand path format: <my_registry_name>/<artifact_name> or just <my_registry_name> if fetching just the project.\n",
      "\u001b[34m\u001b[1mwandb\u001b[0m: Downloading large artifact sorghum-primary-2025-01-06_v002:latest, 59.48MB. 16 files... \n"
     ]
    },
    {
     "name": "stdout",
     "output_type": "stream",
     "text": [
      "Test data saved to sorghum-primary-2025-01-06_eval_2025-01-29/sorghum-primary-2025-01-06_v002_test_labels.slp\n"
     ]
    },
    {
     "name": "stderr",
     "output_type": "stream",
     "text": [
      "\u001b[34m\u001b[1mwandb\u001b[0m:   16 of 16 files downloaded.  \n",
      "Done. 0:0:1.4\n"
     ]
    },
    {
     "data": {
      "application/vnd.jupyter.widget-view+json": {
       "model_id": "5284ea03a62449d1af2573eb6942164f",
       "version_major": 2,
       "version_minor": 0
      },
      "text/plain": [
       "Output()"
      ]
     },
     "metadata": {},
     "output_type": "display_data"
    },
    {
     "name": "stdout",
     "output_type": "stream",
     "text": [
      "Model loaded successfully from e:\\repositories\\sleap-roots-training\\artifacts\\sorghum-primary-2025-01-06_v002-v0.\n"
     ]
    },
    {
     "data": {
      "text/html": [
       "<pre style=\"white-space:pre;overflow-x:auto;line-height:normal;font-family:Menlo,'DejaVu Sans Mono',consolas,'Courier New',monospace\"></pre>\n"
      ],
      "text/plain": []
     },
     "metadata": {},
     "output_type": "display_data"
    },
    {
     "name": "stdout",
     "output_type": "stream",
     "text": [
      "WARNING:sleap.nn.evals:Failed to compute metrics.\n"
     ]
    },
    {
     "name": "stderr",
     "output_type": "stream",
     "text": [
      "c:\\Users\\pbiobgh\\.conda\\envs\\sleap_v1.3.4\\lib\\site-packages\\sleap\\nn\\evals.py:539: RuntimeWarning: Mean of empty slice\n",
      "  \"dist.avg\": np.nanmean(dists),\n",
      "c:\\Users\\pbiobgh\\.conda\\envs\\sleap_v1.3.4\\lib\\site-packages\\sleap\\nn\\evals.py:572: RuntimeWarning: Mean of empty slice.\n",
      "  mPCK = mPCK_parts.mean()\n",
      "c:\\Users\\pbiobgh\\.conda\\envs\\sleap_v1.3.4\\lib\\site-packages\\numpy\\core\\_methods.py:189: RuntimeWarning: invalid value encountered in double_scalars\n",
      "  ret = ret.dtype.type(ret / rcount)\n",
      "c:\\Users\\pbiobgh\\.conda\\envs\\sleap_v1.3.4\\lib\\site-packages\\sleap\\nn\\evals.py:666: RuntimeWarning: Mean of empty slice.\n",
      "  pair_pck = metrics[\"pck.pcks\"].mean(axis=-1).mean(axis=-1)\n",
      "c:\\Users\\pbiobgh\\.conda\\envs\\sleap_v1.3.4\\lib\\site-packages\\numpy\\core\\_methods.py:182: RuntimeWarning: invalid value encountered in true_divide\n",
      "  ret, rcount, out=ret, casting='unsafe', subok=False)\n",
      "c:\\Users\\pbiobgh\\.conda\\envs\\sleap_v1.3.4\\lib\\site-packages\\sleap\\nn\\evals.py:668: RuntimeWarning: Mean of empty slice.\n",
      "  metrics[\"oks.mOKS\"] = pair_oks.mean()\n"
     ]
    },
    {
     "name": "stdout",
     "output_type": "stream",
     "text": [
      "Predictions saved to sorghum-primary-2025-01-06_eval_2025-01-29/sorghum-primary-2025-01-06_v002_on_sorghum-primary-2025-01-06_v002_test_predictions.slp\n",
      "Error during model evaluation: 'NoneType' object is not subscriptable. Skipping this model...\n"
     ]
    },
    {
     "data": {
      "text/html": [
       " View run <strong style=\"color:#cdcd00\">evaluate_sorghum-primary-2025-01-06_v002_on_sorghum-primary-2025-01-06_v002</strong> at: <a href='https://wandb.ai/eberrigan-salk-institute-for-biological-studies/sleap-roots/runs/99lw0qao' target=\"_blank\">https://wandb.ai/eberrigan-salk-institute-for-biological-studies/sleap-roots/runs/99lw0qao</a><br/> View project at: <a href='https://wandb.ai/eberrigan-salk-institute-for-biological-studies/sleap-roots' target=\"_blank\">https://wandb.ai/eberrigan-salk-institute-for-biological-studies/sleap-roots</a><br/>Synced 7 W&B file(s), 0 media file(s), 2 artifact file(s) and 0 other file(s)"
      ],
      "text/plain": [
       "<IPython.core.display.HTML object>"
      ]
     },
     "metadata": {},
     "output_type": "display_data"
    },
    {
     "data": {
      "text/html": [
       "Find logs at: <code>.\\wandb\\run-20250129_172224-99lw0qao\\logs</code>"
      ],
      "text/plain": [
       "<IPython.core.display.HTML object>"
      ]
     },
     "metadata": {},
     "output_type": "display_data"
    },
    {
     "name": "stdout",
     "output_type": "stream",
     "text": [
      "Skipping sorghum-primary-2025-01-06_v002 due to evaluation error.\n"
     ]
    }
   ],
   "source": [
    "# Evaluate all models from groups and versions on corresponding test set\n",
    "predictions = {}\n",
    "metrics = {}\n",
    "\n",
    "for group in GROUPS:\n",
    "    for version in VERSIONS:\n",
    "        model_name = f\"{group}_v{version}\"\n",
    "        test_set = f\"{TEST_GROUP_NAME}_v{version}\"\n",
    "\n",
    "        # Function will return safe default values even if it fails\n",
    "        pred, metric = sleap_roots_training.evaluate_model(model_name, test_set, EXPERIMENT_NAME)\n",
    "\n",
    "        predictions[model_name] = pred\n",
    "        metrics[model_name] = metric\n",
    "\n",
    "        if not metric:  # Check if evaluation failed (empty dictionary)\n",
    "            print(f\"Skipping {model_name} due to evaluation error.\")"
   ]
  },
  {
   "cell_type": "code",
   "execution_count": null,
   "metadata": {},
   "outputs": [],
   "source": []
  }
 ],
 "metadata": {
  "kernelspec": {
   "display_name": "sleap_v1.3.4",
   "language": "python",
   "name": "python3"
  },
  "language_info": {
   "codemirror_mode": {
    "name": "ipython",
    "version": 3
   },
   "file_extension": ".py",
   "mimetype": "text/x-python",
   "name": "python",
   "nbconvert_exporter": "python",
   "pygments_lexer": "ipython3",
   "version": "3.7.12"
  }
 },
 "nbformat": 4,
 "nbformat_minor": 2
}
