{
 "cells": [
  {
   "cell_type": "code",
   "execution_count": 1,
   "metadata": {},
   "outputs": [],
   "source": [
    "import wandb\n",
    "import pandas as pd\n",
    "import seaborn as sns\n",
    "import matplotlib.pyplot as plt\n",
    "import sleap\n",
    "import numpy as np\n",
    "\n",
    "from matplotlib.patches import ConnectionPatch\n",
    "from pathlib import Path"
   ]
  },
  {
   "cell_type": "code",
   "execution_count": 2,
   "metadata": {},
   "outputs": [],
   "source": [
    "import sleap_roots_training"
   ]
  },
  {
   "cell_type": "code",
   "execution_count": 3,
   "metadata": {},
   "outputs": [],
   "source": [
    "# Constants for W&B initialization\n",
    "ENTITY_NAME = \"eberrigan-salk-institute-for-biological-studies\"\n",
    "PROJECT_NAME = \"sleap-roots\"\n",
    "REGISTRY = \"sleap-roots-models\"\n",
    "EXPERIMENT_NAME = \"sorghum-primary-2025-01-06_eval_2025-01-29\""
   ]
  },
  {
   "cell_type": "code",
   "execution_count": 4,
   "metadata": {},
   "outputs": [],
   "source": [
    "GROUPS = [\"sorghum-soybean-canola-pennycress-rice-arabidopsis-primary-2025-01-20\", \"canola-pennycress-arabidopsis-primary-2025-01-20\", \"soybean-primary-2025-01-05\", \"rice-primary-2025-01-19\", \"canola-primary-2025-01-19\", \"pennycress-primary-2025-01-19\", \"arabidopsis-primary-2025-01-19\", \"sorghum-soybean-primary-2025-01-07\", \"sorghum-primary-2025-01-06\"]\n",
    "VERSIONS = [\"000\", \"001\", \"002\"]\n",
    "TEST_GROUP_NAME = \"sorghum-primary-2025-01-06\""
   ]
  },
  {
   "cell_type": "code",
   "execution_count": 5,
   "metadata": {},
   "outputs": [
    {
     "name": "stdout",
     "output_type": "stream",
     "text": [
      "Configuration updated successfully at e:\\repositories\\sleap-roots-training\\sleap_roots_training\\config.yaml.\n",
      "Configuration has been reset to default values.\n"
     ]
    }
   ],
   "source": [
    "sleap_roots_training.reset_config()"
   ]
  },
  {
   "cell_type": "code",
   "execution_count": 6,
   "metadata": {},
   "outputs": [
    {
     "name": "stdout",
     "output_type": "stream",
     "text": [
      "Configuration updated successfully at e:\\repositories\\sleap-roots-training\\sleap_roots_training\\config.yaml.\n",
      "CONFIG updated to {'project_name': 'sleap-roots', 'entity_name': 'eberrigan-salk-institute-for-biological-studies', 'experiment_name': 'sorghum-primary-2025-01-06_eval_2025-01-29', 'registry': 'sleap-roots-models', 'collection_name': None, 'job_type': None}.\n"
     ]
    }
   ],
   "source": [
    "sleap_roots_training.update_config(entity_name=ENTITY_NAME, project_name=PROJECT_NAME, registry=REGISTRY, experiment_name=EXPERIMENT_NAME)"
   ]
  },
  {
   "cell_type": "code",
   "execution_count": 7,
   "metadata": {},
   "outputs": [],
   "source": [
    "# sleap_roots_training.evaluate_model(\"sorghum-primary-2025-01-06_v001\", \"sorghum-primary-2025-01-06_v001\", \"sorghum-primary-2025-01-06_v001_test-00\")"
   ]
  },
  {
   "cell_type": "code",
   "execution_count": 8,
   "metadata": {},
   "outputs": [],
   "source": [
    "# sleap_roots_training.evaluate_model(\"sorghum-primary-2025-01-06_v002\", \"sorghum-primary-2025-01-06_v002\", \"sorghum-primary-2025-01-06_v002_test-00\")"
   ]
  },
  {
   "cell_type": "code",
   "execution_count": 9,
   "metadata": {},
   "outputs": [],
   "source": [
    "# # Evaluate all models from groups and versions on corresponding test set\n",
    "# predictions = {}\n",
    "# metrics = {}\n",
    "\n",
    "# for group in GROUPS:\n",
    "#     for version in VERSIONS:\n",
    "#         model_name = f\"{group}_v{version}\"\n",
    "#         test_set = f\"{TEST_GROUP_NAME}_v{version}\"\n",
    "\n",
    "#         # Function will return safe default values even if it fails\n",
    "#         pred, metric = sleap_roots_training.evaluate_model(model_name, test_set, EXPERIMENT_NAME)\n",
    "\n",
    "#         predictions[model_name] = pred\n",
    "#         metrics[model_name] = metric\n",
    "\n",
    "#         if not metric:  # Check if evaluation failed (empty dictionary)\n",
    "#             print(f\"Skipping {model_name} due to evaluation error.\")"
   ]
  },
  {
   "cell_type": "code",
   "execution_count": 11,
   "metadata": {},
   "outputs": [
    {
     "name": "stderr",
     "output_type": "stream",
     "text": [
      "\u001b[34m\u001b[1mwandb\u001b[0m: Using wandb-core as the SDK backend.  Please refer to https://wandb.me/wandb-core for more information.\n",
      "\u001b[34m\u001b[1mwandb\u001b[0m: Currently logged in as: \u001b[33meberrigan\u001b[0m (\u001b[33meberrigan-salk-institute-for-biological-studies\u001b[0m). Use \u001b[1m`wandb login --relogin`\u001b[0m to force relogin\n"
     ]
    },
    {
     "data": {
      "text/html": [
       "Tracking run with wandb version 0.18.6"
      ],
      "text/plain": [
       "<IPython.core.display.HTML object>"
      ]
     },
     "metadata": {},
     "output_type": "display_data"
    },
    {
     "data": {
      "text/html": [
       "Run data is saved locally in <code>e:\\repositories\\sleap-roots-training\\wandb\\run-20250207_135856-b7sw53vf</code>"
      ],
      "text/plain": [
       "<IPython.core.display.HTML object>"
      ]
     },
     "metadata": {},
     "output_type": "display_data"
    },
    {
     "data": {
      "text/html": [
       "Syncing run <strong><a href='https://wandb.ai/eberrigan-salk-institute-for-biological-studies/sleap-roots/runs/b7sw53vf' target=\"_blank\">evaluate_sorghum-soybean-canola-pennycress-rice-arabidopsis-primary-2025-01-20_v000_on_sorghum-primary-2025-01-06_v000</a></strong> to <a href='https://wandb.ai/eberrigan-salk-institute-for-biological-studies/sleap-roots' target=\"_blank\">Weights & Biases</a> (<a href='https://wandb.me/developer-guide' target=\"_blank\">docs</a>)<br/>"
      ],
      "text/plain": [
       "<IPython.core.display.HTML object>"
      ]
     },
     "metadata": {},
     "output_type": "display_data"
    },
    {
     "data": {
      "text/html": [
       " View project at <a href='https://wandb.ai/eberrigan-salk-institute-for-biological-studies/sleap-roots' target=\"_blank\">https://wandb.ai/eberrigan-salk-institute-for-biological-studies/sleap-roots</a>"
      ],
      "text/plain": [
       "<IPython.core.display.HTML object>"
      ]
     },
     "metadata": {},
     "output_type": "display_data"
    },
    {
     "data": {
      "text/html": [
       " View run at <a href='https://wandb.ai/eberrigan-salk-institute-for-biological-studies/sleap-roots/runs/b7sw53vf' target=\"_blank\">https://wandb.ai/eberrigan-salk-institute-for-biological-studies/sleap-roots/runs/b7sw53vf</a>"
      ],
      "text/plain": [
       "<IPython.core.display.HTML object>"
      ]
     },
     "metadata": {},
     "output_type": "display_data"
    },
    {
     "name": "stdout",
     "output_type": "stream",
     "text": [
      "Fetching artifact: eberrigan-salk-institute-for-biological-studies-org/wandb-registry-sleap-roots-models/sorghum-soybean-canola-pennycress-rice-arabidopsis-primary-2025-01-20_v000:latest\n"
     ]
    },
    {
     "name": "stderr",
     "output_type": "stream",
     "text": [
      "\u001b[34m\u001b[1mwandb\u001b[0m: \u001b[33mWARNING\u001b[0m Registries can be linked/fetched using a shorthand form without specifying the organization name. Try using shorthand path format: <my_registry_name>/<artifact_name> or just <my_registry_name> if fetching just the project.\n"
     ]
    },
    {
     "name": "stdout",
     "output_type": "stream",
     "text": [
      "Fetching artifact: eberrigan-salk-institute-for-biological-studies-org/wandb-registry-sleap-roots-models/sorghum-primary-2025-01-06_v000:latest\n"
     ]
    },
    {
     "name": "stderr",
     "output_type": "stream",
     "text": [
      "\u001b[34m\u001b[1mwandb\u001b[0m: \u001b[33mWARNING\u001b[0m Registries can be linked/fetched using a shorthand form without specifying the organization name. Try using shorthand path format: <my_registry_name>/<artifact_name> or just <my_registry_name> if fetching just the project.\n",
      "\u001b[34m\u001b[1mwandb\u001b[0m: Downloading large artifact sorghum-soybean-canola-pennycress-rice-arabidopsis-primary-2025-01-20_v000:latest, 282.33MB. 212 files... \n"
     ]
    },
    {
     "name": "stdout",
     "output_type": "stream",
     "text": [
      "Loaded test data from D:\\SLEAP\\20250102_generalizability_experiment\\primary\\sorghum\\train_test_split.v000\\test.pkg.slp.\n",
      "Test data saved to output/sorghum-primary-2025-01-06_v000_test_labels.slp\n"
     ]
    },
    {
     "name": "stderr",
     "output_type": "stream",
     "text": [
      "\u001b[34m\u001b[1mwandb\u001b[0m:   212 of 212 files downloaded.  \n",
      "Done. 0:0:1.1\n"
     ]
    },
    {
     "data": {
      "application/vnd.jupyter.widget-view+json": {
       "model_id": "d9e232d17fc8431189cb90eceae615df",
       "version_major": 2,
       "version_minor": 0
      },
      "text/plain": [
       "Output()"
      ]
     },
     "metadata": {},
     "output_type": "display_data"
    },
    {
     "name": "stdout",
     "output_type": "stream",
     "text": [
      "Model loaded successfully from e:\\repositories\\sleap-roots-training\\artifacts\\sorghum-soybean-canola-pennycress-rice-arabidopsis-primary-2025-01-20_v000-v0.\n",
      "Bottom-up model loaded successfully: Model(backbone=UNet(stacks=1, filters=24, filters_rate=1.5, kernel_size=3, stem_kernel_size=7, convs_per_block=2, stem_blocks=0, down_blocks=6, middle_block=True, up_blocks=5, up_interpolate=True, block_contraction=False), heads=[MultiInstanceConfmapsHead(part_names=['r1', 'r2', 'r3', 'r4', 'r5', 'r6'], sigma=2.5, output_stride=2, loss_weight=1.0), PartAffinityFieldsHead(edges=[('r1', 'r2'), ('r2', 'r3'), ('r3', 'r4'), ('r4', 'r5'), ('r5', 'r6')], sigma=75.0, output_stride=8, loss_weight=1.0)], keras_model=<keras.engine.functional.Functional object at 0x00000205BED4C548>).\n"
     ]
    },
    {
     "data": {
      "text/html": [
       "<pre style=\"white-space:pre;overflow-x:auto;line-height:normal;font-family:Menlo,'DejaVu Sans Mono',consolas,'Courier New',monospace\"></pre>\n"
      ],
      "text/plain": []
     },
     "metadata": {},
     "output_type": "display_data"
    },
    {
     "name": "stdout",
     "output_type": "stream",
     "text": [
      "INFO:sleap.nn.evals:OKS mAP: 0.061786\n",
      "Predictions saved to output/sorghum-soybean-canola-pennycress-rice-arabidopsis-primary-2025-01-20_v000_on_sorghum-primary-2025-01-06_v000_test_predictions.slp\n",
      "Metrics saved to output/sorghum-soybean-canola-pennycress-rice-arabidopsis-primary-2025-01-20_v000_on_sorghum-primary-2025-01-06_v000_metrics.csv\n",
      "Distances saved to output/sorghum-soybean-canola-pennycress-rice-arabidopsis-primary-2025-01-20_v000_on_sorghum-primary-2025-01-06_v000_distances.csv\n",
      "Distance histogram saved to output\\sorghum-soybean-canola-pennycress-rice-arabidopsis-primary-2025-01-20_v000_on_sorghum-primary-2025-01-06_v000_distance_histogram.png\n"
     ]
    },
    {
     "data": {
      "application/vnd.jupyter.widget-view+json": {
       "model_id": "5e927aa6416340d7b5dc237ebdbf3618",
       "version_major": 2,
       "version_minor": 0
      },
      "text/plain": [
       "VBox(children=(Label(value='0.863 MB of 0.863 MB uploaded\\r'), FloatProgress(value=1.0, max=1.0)))"
      ]
     },
     "metadata": {},
     "output_type": "display_data"
    },
    {
     "data": {
      "text/html": [
       "\n",
       "    <style>\n",
       "        .wandb-row {\n",
       "            display: flex;\n",
       "            flex-direction: row;\n",
       "            flex-wrap: wrap;\n",
       "            justify-content: flex-start;\n",
       "            width: 100%;\n",
       "        }\n",
       "        .wandb-col {\n",
       "            display: flex;\n",
       "            flex-direction: column;\n",
       "            flex-basis: 100%;\n",
       "            flex: 1;\n",
       "            padding: 10px;\n",
       "        }\n",
       "    </style>\n",
       "<div class=\"wandb-row\"><div class=\"wandb-col\"><h3>Run summary:</h3><br/><table class=\"wandb\"><tr><td>dist_avg</td><td>3.23969</td></tr><tr><td>dist_p50</td><td>1.26091</td></tr><tr><td>dist_p90</td><td>7.85776</td></tr><tr><td>dist_p95</td><td>13.96989</td></tr><tr><td>dist_p99</td><td>28.86693</td></tr><tr><td>dist_std</td><td>5.28839</td></tr><tr><td>model_name</td><td>sorghum-soybean-cano...</td></tr><tr><td>model_path</td><td>e:\\repositories\\slea...</td></tr><tr><td>oks_map</td><td>0.06179</td></tr><tr><td>oks_mar</td><td>0.09778</td></tr><tr><td>vis_prec</td><td>1</td></tr><tr><td>vis_recall</td><td>0.7197</td></tr></table><br/></div></div>"
      ],
      "text/plain": [
       "<IPython.core.display.HTML object>"
      ]
     },
     "metadata": {},
     "output_type": "display_data"
    },
    {
     "data": {
      "text/html": [
       " View run <strong style=\"color:#cdcd00\">evaluate_sorghum-soybean-canola-pennycress-rice-arabidopsis-primary-2025-01-20_v000_on_sorghum-primary-2025-01-06_v000</strong> at: <a href='https://wandb.ai/eberrigan-salk-institute-for-biological-studies/sleap-roots/runs/b7sw53vf' target=\"_blank\">https://wandb.ai/eberrigan-salk-institute-for-biological-studies/sleap-roots/runs/b7sw53vf</a><br/> View project at: <a href='https://wandb.ai/eberrigan-salk-institute-for-biological-studies/sleap-roots' target=\"_blank\">https://wandb.ai/eberrigan-salk-institute-for-biological-studies/sleap-roots</a><br/>Synced 5 W&B file(s), 0 media file(s), 9 artifact file(s) and 0 other file(s)"
      ],
      "text/plain": [
       "<IPython.core.display.HTML object>"
      ]
     },
     "metadata": {},
     "output_type": "display_data"
    },
    {
     "data": {
      "text/html": [
       "Find logs at: <code>.\\wandb\\run-20250207_135856-b7sw53vf\\logs</code>"
      ],
      "text/plain": [
       "<IPython.core.display.HTML object>"
      ]
     },
     "metadata": {},
     "output_type": "display_data"
    },
    {
     "data": {
      "text/html": [
       "Tracking run with wandb version 0.18.6"
      ],
      "text/plain": [
       "<IPython.core.display.HTML object>"
      ]
     },
     "metadata": {},
     "output_type": "display_data"
    },
    {
     "data": {
      "text/html": [
       "Run data is saved locally in <code>e:\\repositories\\sleap-roots-training\\wandb\\run-20250207_135929-2fquqcv2</code>"
      ],
      "text/plain": [
       "<IPython.core.display.HTML object>"
      ]
     },
     "metadata": {},
     "output_type": "display_data"
    },
    {
     "data": {
      "text/html": [
       "Syncing run <strong><a href='https://wandb.ai/eberrigan-salk-institute-for-biological-studies/sleap-roots/runs/2fquqcv2' target=\"_blank\">evaluate_sorghum-soybean-canola-pennycress-rice-arabidopsis-primary-2025-01-20_v001_on_sorghum-primary-2025-01-06_v001</a></strong> to <a href='https://wandb.ai/eberrigan-salk-institute-for-biological-studies/sleap-roots' target=\"_blank\">Weights & Biases</a> (<a href='https://wandb.me/developer-guide' target=\"_blank\">docs</a>)<br/>"
      ],
      "text/plain": [
       "<IPython.core.display.HTML object>"
      ]
     },
     "metadata": {},
     "output_type": "display_data"
    },
    {
     "data": {
      "text/html": [
       " View project at <a href='https://wandb.ai/eberrigan-salk-institute-for-biological-studies/sleap-roots' target=\"_blank\">https://wandb.ai/eberrigan-salk-institute-for-biological-studies/sleap-roots</a>"
      ],
      "text/plain": [
       "<IPython.core.display.HTML object>"
      ]
     },
     "metadata": {},
     "output_type": "display_data"
    },
    {
     "data": {
      "text/html": [
       " View run at <a href='https://wandb.ai/eberrigan-salk-institute-for-biological-studies/sleap-roots/runs/2fquqcv2' target=\"_blank\">https://wandb.ai/eberrigan-salk-institute-for-biological-studies/sleap-roots/runs/2fquqcv2</a>"
      ],
      "text/plain": [
       "<IPython.core.display.HTML object>"
      ]
     },
     "metadata": {},
     "output_type": "display_data"
    },
    {
     "name": "stdout",
     "output_type": "stream",
     "text": [
      "Fetching artifact: eberrigan-salk-institute-for-biological-studies-org/wandb-registry-sleap-roots-models/sorghum-soybean-canola-pennycress-rice-arabidopsis-primary-2025-01-20_v001:latest\n"
     ]
    },
    {
     "name": "stderr",
     "output_type": "stream",
     "text": [
      "\u001b[34m\u001b[1mwandb\u001b[0m: \u001b[33mWARNING\u001b[0m Registries can be linked/fetched using a shorthand form without specifying the organization name. Try using shorthand path format: <my_registry_name>/<artifact_name> or just <my_registry_name> if fetching just the project.\n"
     ]
    },
    {
     "name": "stdout",
     "output_type": "stream",
     "text": [
      "Fetching artifact: eberrigan-salk-institute-for-biological-studies-org/wandb-registry-sleap-roots-models/sorghum-primary-2025-01-06_v001:latest\n"
     ]
    },
    {
     "name": "stderr",
     "output_type": "stream",
     "text": [
      "\u001b[34m\u001b[1mwandb\u001b[0m: \u001b[33mWARNING\u001b[0m Registries can be linked/fetched using a shorthand form without specifying the organization name. Try using shorthand path format: <my_registry_name>/<artifact_name> or just <my_registry_name> if fetching just the project.\n",
      "\u001b[34m\u001b[1mwandb\u001b[0m: Downloading large artifact sorghum-soybean-canola-pennycress-rice-arabidopsis-primary-2025-01-20_v001:latest, 322.95MB. 252 files... \n"
     ]
    },
    {
     "name": "stdout",
     "output_type": "stream",
     "text": [
      "Loaded test data from D:\\SLEAP\\20250102_generalizability_experiment\\primary\\sorghum\\train_test_split.v001\\test.pkg.slp.\n",
      "Test data saved to output/sorghum-primary-2025-01-06_v001_test_labels.slp\n"
     ]
    },
    {
     "name": "stderr",
     "output_type": "stream",
     "text": [
      "\u001b[34m\u001b[1mwandb\u001b[0m:   252 of 252 files downloaded.  \n",
      "Done. 0:0:1.0\n"
     ]
    },
    {
     "data": {
      "application/vnd.jupyter.widget-view+json": {
       "model_id": "13523a2d3e75460ba9e80a32bb33697b",
       "version_major": 2,
       "version_minor": 0
      },
      "text/plain": [
       "Output()"
      ]
     },
     "metadata": {},
     "output_type": "display_data"
    },
    {
     "name": "stdout",
     "output_type": "stream",
     "text": [
      "Model loaded successfully from e:\\repositories\\sleap-roots-training\\artifacts\\sorghum-soybean-canola-pennycress-rice-arabidopsis-primary-2025-01-20_v001-v0.\n",
      "Bottom-up model loaded successfully: Model(backbone=UNet(stacks=1, filters=24, filters_rate=1.5, kernel_size=3, stem_kernel_size=7, convs_per_block=2, stem_blocks=0, down_blocks=6, middle_block=True, up_blocks=5, up_interpolate=True, block_contraction=False), heads=[MultiInstanceConfmapsHead(part_names=['r1', 'r2', 'r3', 'r4', 'r5', 'r6'], sigma=2.5, output_stride=2, loss_weight=1.0), PartAffinityFieldsHead(edges=[('r1', 'r2'), ('r2', 'r3'), ('r3', 'r4'), ('r4', 'r5'), ('r5', 'r6')], sigma=75.0, output_stride=8, loss_weight=1.0)], keras_model=<keras.engine.functional.Functional object at 0x00000205895132C8>).\n"
     ]
    },
    {
     "data": {
      "text/html": [
       "<pre style=\"white-space:pre;overflow-x:auto;line-height:normal;font-family:Menlo,'DejaVu Sans Mono',consolas,'Courier New',monospace\"></pre>\n"
      ],
      "text/plain": []
     },
     "metadata": {},
     "output_type": "display_data"
    },
    {
     "name": "stdout",
     "output_type": "stream",
     "text": [
      "INFO:sleap.nn.evals:OKS mAP: 0.085403\n",
      "Predictions saved to output/sorghum-soybean-canola-pennycress-rice-arabidopsis-primary-2025-01-20_v001_on_sorghum-primary-2025-01-06_v001_test_predictions.slp\n",
      "Metrics saved to output/sorghum-soybean-canola-pennycress-rice-arabidopsis-primary-2025-01-20_v001_on_sorghum-primary-2025-01-06_v001_metrics.csv\n",
      "Distances saved to output/sorghum-soybean-canola-pennycress-rice-arabidopsis-primary-2025-01-20_v001_on_sorghum-primary-2025-01-06_v001_distances.csv\n",
      "Distance histogram saved to output\\sorghum-soybean-canola-pennycress-rice-arabidopsis-primary-2025-01-20_v001_on_sorghum-primary-2025-01-06_v001_distance_histogram.png\n"
     ]
    },
    {
     "data": {
      "text/html": [
       "\n",
       "    <style>\n",
       "        .wandb-row {\n",
       "            display: flex;\n",
       "            flex-direction: row;\n",
       "            flex-wrap: wrap;\n",
       "            justify-content: flex-start;\n",
       "            width: 100%;\n",
       "        }\n",
       "        .wandb-col {\n",
       "            display: flex;\n",
       "            flex-direction: column;\n",
       "            flex-basis: 100%;\n",
       "            flex: 1;\n",
       "            padding: 10px;\n",
       "        }\n",
       "    </style>\n",
       "<div class=\"wandb-row\"><div class=\"wandb-col\"><h3>Run summary:</h3><br/><table class=\"wandb\"><tr><td>dist_avg</td><td>2.1655</td></tr><tr><td>dist_p50</td><td>0.82159</td></tr><tr><td>dist_p90</td><td>5.02543</td></tr><tr><td>dist_p95</td><td>8.13825</td></tr><tr><td>dist_p99</td><td>16.25184</td></tr><tr><td>dist_std</td><td>4.00989</td></tr><tr><td>model_name</td><td>sorghum-soybean-cano...</td></tr><tr><td>model_path</td><td>e:\\repositories\\slea...</td></tr><tr><td>oks_map</td><td>0.0854</td></tr><tr><td>oks_mar</td><td>0.16667</td></tr><tr><td>vis_prec</td><td>1</td></tr><tr><td>vis_recall</td><td>0.86742</td></tr></table><br/></div></div>"
      ],
      "text/plain": [
       "<IPython.core.display.HTML object>"
      ]
     },
     "metadata": {},
     "output_type": "display_data"
    },
    {
     "data": {
      "text/html": [
       " View run <strong style=\"color:#cdcd00\">evaluate_sorghum-soybean-canola-pennycress-rice-arabidopsis-primary-2025-01-20_v001_on_sorghum-primary-2025-01-06_v001</strong> at: <a href='https://wandb.ai/eberrigan-salk-institute-for-biological-studies/sleap-roots/runs/2fquqcv2' target=\"_blank\">https://wandb.ai/eberrigan-salk-institute-for-biological-studies/sleap-roots/runs/2fquqcv2</a><br/> View project at: <a href='https://wandb.ai/eberrigan-salk-institute-for-biological-studies/sleap-roots' target=\"_blank\">https://wandb.ai/eberrigan-salk-institute-for-biological-studies/sleap-roots</a><br/>Synced 7 W&B file(s), 0 media file(s), 8 artifact file(s) and 0 other file(s)"
      ],
      "text/plain": [
       "<IPython.core.display.HTML object>"
      ]
     },
     "metadata": {},
     "output_type": "display_data"
    },
    {
     "data": {
      "text/html": [
       "Find logs at: <code>.\\wandb\\run-20250207_135929-2fquqcv2\\logs</code>"
      ],
      "text/plain": [
       "<IPython.core.display.HTML object>"
      ]
     },
     "metadata": {},
     "output_type": "display_data"
    },
    {
     "data": {
      "text/html": [
       "Tracking run with wandb version 0.18.6"
      ],
      "text/plain": [
       "<IPython.core.display.HTML object>"
      ]
     },
     "metadata": {},
     "output_type": "display_data"
    },
    {
     "data": {
      "text/html": [
       "Run data is saved locally in <code>e:\\repositories\\sleap-roots-training\\wandb\\run-20250207_135949-ii114sjd</code>"
      ],
      "text/plain": [
       "<IPython.core.display.HTML object>"
      ]
     },
     "metadata": {},
     "output_type": "display_data"
    },
    {
     "data": {
      "text/html": [
       "Syncing run <strong><a href='https://wandb.ai/eberrigan-salk-institute-for-biological-studies/sleap-roots/runs/ii114sjd' target=\"_blank\">evaluate_sorghum-soybean-canola-pennycress-rice-arabidopsis-primary-2025-01-20_v002_on_sorghum-primary-2025-01-06_v002</a></strong> to <a href='https://wandb.ai/eberrigan-salk-institute-for-biological-studies/sleap-roots' target=\"_blank\">Weights & Biases</a> (<a href='https://wandb.me/developer-guide' target=\"_blank\">docs</a>)<br/>"
      ],
      "text/plain": [
       "<IPython.core.display.HTML object>"
      ]
     },
     "metadata": {},
     "output_type": "display_data"
    },
    {
     "data": {
      "text/html": [
       " View project at <a href='https://wandb.ai/eberrigan-salk-institute-for-biological-studies/sleap-roots' target=\"_blank\">https://wandb.ai/eberrigan-salk-institute-for-biological-studies/sleap-roots</a>"
      ],
      "text/plain": [
       "<IPython.core.display.HTML object>"
      ]
     },
     "metadata": {},
     "output_type": "display_data"
    },
    {
     "data": {
      "text/html": [
       " View run at <a href='https://wandb.ai/eberrigan-salk-institute-for-biological-studies/sleap-roots/runs/ii114sjd' target=\"_blank\">https://wandb.ai/eberrigan-salk-institute-for-biological-studies/sleap-roots/runs/ii114sjd</a>"
      ],
      "text/plain": [
       "<IPython.core.display.HTML object>"
      ]
     },
     "metadata": {},
     "output_type": "display_data"
    },
    {
     "name": "stdout",
     "output_type": "stream",
     "text": [
      "Fetching artifact: eberrigan-salk-institute-for-biological-studies-org/wandb-registry-sleap-roots-models/sorghum-soybean-canola-pennycress-rice-arabidopsis-primary-2025-01-20_v002:latest\n"
     ]
    },
    {
     "name": "stderr",
     "output_type": "stream",
     "text": [
      "\u001b[34m\u001b[1mwandb\u001b[0m: \u001b[33mWARNING\u001b[0m Registries can be linked/fetched using a shorthand form without specifying the organization name. Try using shorthand path format: <my_registry_name>/<artifact_name> or just <my_registry_name> if fetching just the project.\n"
     ]
    },
    {
     "name": "stdout",
     "output_type": "stream",
     "text": [
      "Fetching artifact: eberrigan-salk-institute-for-biological-studies-org/wandb-registry-sleap-roots-models/sorghum-primary-2025-01-06_v002:latest\n"
     ]
    },
    {
     "name": "stderr",
     "output_type": "stream",
     "text": [
      "\u001b[34m\u001b[1mwandb\u001b[0m: \u001b[33mWARNING\u001b[0m Registries can be linked/fetched using a shorthand form without specifying the organization name. Try using shorthand path format: <my_registry_name>/<artifact_name> or just <my_registry_name> if fetching just the project.\n",
      "\u001b[34m\u001b[1mwandb\u001b[0m: Downloading large artifact sorghum-soybean-canola-pennycress-rice-arabidopsis-primary-2025-01-20_v002:latest, 331.10MB. 260 files... \n"
     ]
    },
    {
     "name": "stdout",
     "output_type": "stream",
     "text": [
      "Loaded test data from D:\\SLEAP\\20250102_generalizability_experiment\\primary\\sorghum\\train_test_split.v002\\test.pkg.slp.\n",
      "Test data saved to output/sorghum-primary-2025-01-06_v002_test_labels.slp\n"
     ]
    },
    {
     "name": "stderr",
     "output_type": "stream",
     "text": [
      "\u001b[34m\u001b[1mwandb\u001b[0m:   260 of 260 files downloaded.  \n",
      "Done. 0:0:1.1\n"
     ]
    },
    {
     "data": {
      "application/vnd.jupyter.widget-view+json": {
       "model_id": "5329f8cdbabc46829e3f69a38565edc0",
       "version_major": 2,
       "version_minor": 0
      },
      "text/plain": [
       "Output()"
      ]
     },
     "metadata": {},
     "output_type": "display_data"
    },
    {
     "name": "stdout",
     "output_type": "stream",
     "text": [
      "Model loaded successfully from e:\\repositories\\sleap-roots-training\\artifacts\\sorghum-soybean-canola-pennycress-rice-arabidopsis-primary-2025-01-20_v002-v0.\n",
      "Bottom-up model loaded successfully: Model(backbone=UNet(stacks=1, filters=24, filters_rate=1.5, kernel_size=3, stem_kernel_size=7, convs_per_block=2, stem_blocks=0, down_blocks=6, middle_block=True, up_blocks=5, up_interpolate=True, block_contraction=False), heads=[MultiInstanceConfmapsHead(part_names=['r1', 'r2', 'r3', 'r4', 'r5', 'r6'], sigma=2.5, output_stride=2, loss_weight=1.0), PartAffinityFieldsHead(edges=[('r1', 'r2'), ('r2', 'r3'), ('r3', 'r4'), ('r4', 'r5'), ('r5', 'r6')], sigma=75.0, output_stride=8, loss_weight=1.0)], keras_model=<keras.engine.functional.Functional object at 0x000002058ADEB288>).\n"
     ]
    },
    {
     "data": {
      "text/html": [
       "<pre style=\"white-space:pre;overflow-x:auto;line-height:normal;font-family:Menlo,'DejaVu Sans Mono',consolas,'Courier New',monospace\"></pre>\n"
      ],
      "text/plain": []
     },
     "metadata": {},
     "output_type": "display_data"
    },
    {
     "name": "stdout",
     "output_type": "stream",
     "text": [
      "INFO:sleap.nn.evals:OKS mAP: 0.062050\n",
      "Predictions saved to output/sorghum-soybean-canola-pennycress-rice-arabidopsis-primary-2025-01-20_v002_on_sorghum-primary-2025-01-06_v002_test_predictions.slp\n",
      "Metrics saved to output/sorghum-soybean-canola-pennycress-rice-arabidopsis-primary-2025-01-20_v002_on_sorghum-primary-2025-01-06_v002_metrics.csv\n",
      "Distances saved to output/sorghum-soybean-canola-pennycress-rice-arabidopsis-primary-2025-01-20_v002_on_sorghum-primary-2025-01-06_v002_distances.csv\n",
      "Distance histogram saved to output\\sorghum-soybean-canola-pennycress-rice-arabidopsis-primary-2025-01-20_v002_on_sorghum-primary-2025-01-06_v002_distance_histogram.png\n"
     ]
    },
    {
     "data": {
      "text/html": [
       "\n",
       "    <style>\n",
       "        .wandb-row {\n",
       "            display: flex;\n",
       "            flex-direction: row;\n",
       "            flex-wrap: wrap;\n",
       "            justify-content: flex-start;\n",
       "            width: 100%;\n",
       "        }\n",
       "        .wandb-col {\n",
       "            display: flex;\n",
       "            flex-direction: column;\n",
       "            flex-basis: 100%;\n",
       "            flex: 1;\n",
       "            padding: 10px;\n",
       "        }\n",
       "    </style>\n",
       "<div class=\"wandb-row\"><div class=\"wandb-col\"><h3>Run summary:</h3><br/><table class=\"wandb\"><tr><td>dist_avg</td><td>2.0818</td></tr><tr><td>dist_p50</td><td>1.37985</td></tr><tr><td>dist_p90</td><td>4.95472</td></tr><tr><td>dist_p95</td><td>5.81793</td></tr><tr><td>dist_p99</td><td>8.84551</td></tr><tr><td>dist_std</td><td>2.24544</td></tr><tr><td>model_name</td><td>sorghum-soybean-cano...</td></tr><tr><td>model_path</td><td>e:\\repositories\\slea...</td></tr><tr><td>oks_map</td><td>0.06205</td></tr><tr><td>oks_mar</td><td>0.08444</td></tr><tr><td>vis_prec</td><td>1</td></tr><tr><td>vis_recall</td><td>0.78049</td></tr></table><br/></div></div>"
      ],
      "text/plain": [
       "<IPython.core.display.HTML object>"
      ]
     },
     "metadata": {},
     "output_type": "display_data"
    },
    {
     "data": {
      "text/html": [
       " View run <strong style=\"color:#cdcd00\">evaluate_sorghum-soybean-canola-pennycress-rice-arabidopsis-primary-2025-01-20_v002_on_sorghum-primary-2025-01-06_v002</strong> at: <a href='https://wandb.ai/eberrigan-salk-institute-for-biological-studies/sleap-roots/runs/ii114sjd' target=\"_blank\">https://wandb.ai/eberrigan-salk-institute-for-biological-studies/sleap-roots/runs/ii114sjd</a><br/> View project at: <a href='https://wandb.ai/eberrigan-salk-institute-for-biological-studies/sleap-roots' target=\"_blank\">https://wandb.ai/eberrigan-salk-institute-for-biological-studies/sleap-roots</a><br/>Synced 7 W&B file(s), 0 media file(s), 8 artifact file(s) and 0 other file(s)"
      ],
      "text/plain": [
       "<IPython.core.display.HTML object>"
      ]
     },
     "metadata": {},
     "output_type": "display_data"
    },
    {
     "data": {
      "text/html": [
       "Find logs at: <code>.\\wandb\\run-20250207_135949-ii114sjd\\logs</code>"
      ],
      "text/plain": [
       "<IPython.core.display.HTML object>"
      ]
     },
     "metadata": {},
     "output_type": "display_data"
    },
    {
     "data": {
      "text/html": [
       "Tracking run with wandb version 0.18.6"
      ],
      "text/plain": [
       "<IPython.core.display.HTML object>"
      ]
     },
     "metadata": {},
     "output_type": "display_data"
    },
    {
     "data": {
      "text/html": [
       "Run data is saved locally in <code>e:\\repositories\\sleap-roots-training\\wandb\\run-20250207_140009-l738qrxm</code>"
      ],
      "text/plain": [
       "<IPython.core.display.HTML object>"
      ]
     },
     "metadata": {},
     "output_type": "display_data"
    },
    {
     "data": {
      "text/html": [
       "Syncing run <strong><a href='https://wandb.ai/eberrigan-salk-institute-for-biological-studies/sleap-roots/runs/l738qrxm' target=\"_blank\">evaluate_canola-pennycress-arabidopsis-primary-2025-01-20_v000_on_sorghum-primary-2025-01-06_v000</a></strong> to <a href='https://wandb.ai/eberrigan-salk-institute-for-biological-studies/sleap-roots' target=\"_blank\">Weights & Biases</a> (<a href='https://wandb.me/developer-guide' target=\"_blank\">docs</a>)<br/>"
      ],
      "text/plain": [
       "<IPython.core.display.HTML object>"
      ]
     },
     "metadata": {},
     "output_type": "display_data"
    },
    {
     "data": {
      "text/html": [
       " View project at <a href='https://wandb.ai/eberrigan-salk-institute-for-biological-studies/sleap-roots' target=\"_blank\">https://wandb.ai/eberrigan-salk-institute-for-biological-studies/sleap-roots</a>"
      ],
      "text/plain": [
       "<IPython.core.display.HTML object>"
      ]
     },
     "metadata": {},
     "output_type": "display_data"
    },
    {
     "data": {
      "text/html": [
       " View run at <a href='https://wandb.ai/eberrigan-salk-institute-for-biological-studies/sleap-roots/runs/l738qrxm' target=\"_blank\">https://wandb.ai/eberrigan-salk-institute-for-biological-studies/sleap-roots/runs/l738qrxm</a>"
      ],
      "text/plain": [
       "<IPython.core.display.HTML object>"
      ]
     },
     "metadata": {},
     "output_type": "display_data"
    },
    {
     "name": "stdout",
     "output_type": "stream",
     "text": [
      "Fetching artifact: eberrigan-salk-institute-for-biological-studies-org/wandb-registry-sleap-roots-models/canola-pennycress-arabidopsis-primary-2025-01-20_v000:latest\n"
     ]
    },
    {
     "name": "stderr",
     "output_type": "stream",
     "text": [
      "\u001b[34m\u001b[1mwandb\u001b[0m: \u001b[33mWARNING\u001b[0m Registries can be linked/fetched using a shorthand form without specifying the organization name. Try using shorthand path format: <my_registry_name>/<artifact_name> or just <my_registry_name> if fetching just the project.\n"
     ]
    },
    {
     "name": "stdout",
     "output_type": "stream",
     "text": [
      "Fetching artifact: eberrigan-salk-institute-for-biological-studies-org/wandb-registry-sleap-roots-models/sorghum-primary-2025-01-06_v000:latest\n"
     ]
    },
    {
     "name": "stderr",
     "output_type": "stream",
     "text": [
      "\u001b[34m\u001b[1mwandb\u001b[0m: \u001b[33mWARNING\u001b[0m Registries can be linked/fetched using a shorthand form without specifying the organization name. Try using shorthand path format: <my_registry_name>/<artifact_name> or just <my_registry_name> if fetching just the project.\n",
      "\u001b[34m\u001b[1mwandb\u001b[0m: Downloading large artifact canola-pennycress-arabidopsis-primary-2025-01-20_v000:latest, 220.41MB. 180 files... \n"
     ]
    },
    {
     "name": "stdout",
     "output_type": "stream",
     "text": [
      "Loaded test data from D:\\SLEAP\\20250102_generalizability_experiment\\primary\\sorghum\\train_test_split.v000\\test.pkg.slp.\n",
      "Test data saved to output/sorghum-primary-2025-01-06_v000_test_labels.slp\n"
     ]
    },
    {
     "name": "stderr",
     "output_type": "stream",
     "text": [
      "\u001b[34m\u001b[1mwandb\u001b[0m:   180 of 180 files downloaded.  \n",
      "Done. 0:0:0.9\n"
     ]
    },
    {
     "data": {
      "application/vnd.jupyter.widget-view+json": {
       "model_id": "03a3783afb8648ec876c8d8b4402367c",
       "version_major": 2,
       "version_minor": 0
      },
      "text/plain": [
       "Output()"
      ]
     },
     "metadata": {},
     "output_type": "display_data"
    },
    {
     "name": "stdout",
     "output_type": "stream",
     "text": [
      "Model loaded successfully from e:\\repositories\\sleap-roots-training\\artifacts\\canola-pennycress-arabidopsis-primary-2025-01-20_v000-v0.\n",
      "Bottom-up model loaded successfully: Model(backbone=UNet(stacks=1, filters=24, filters_rate=1.5, kernel_size=3, stem_kernel_size=7, convs_per_block=2, stem_blocks=0, down_blocks=6, middle_block=True, up_blocks=5, up_interpolate=True, block_contraction=False), heads=[MultiInstanceConfmapsHead(part_names=['r1', 'r2', 'r3', 'r4', 'r5', 'r6'], sigma=2.5, output_stride=2, loss_weight=1.0), PartAffinityFieldsHead(edges=[('r1', 'r2'), ('r2', 'r3'), ('r3', 'r4'), ('r4', 'r5'), ('r5', 'r6')], sigma=75.0, output_stride=8, loss_weight=1.0)], keras_model=<keras.engine.functional.Functional object at 0x00000205DB071F88>).\n"
     ]
    },
    {
     "data": {
      "text/html": [
       "<pre style=\"white-space:pre;overflow-x:auto;line-height:normal;font-family:Menlo,'DejaVu Sans Mono',consolas,'Courier New',monospace\"></pre>\n"
      ],
      "text/plain": []
     },
     "metadata": {},
     "output_type": "display_data"
    },
    {
     "name": "stdout",
     "output_type": "stream",
     "text": [
      "INFO:sleap.nn.evals:OKS mAP: 0.002546\n",
      "Predictions saved to output/canola-pennycress-arabidopsis-primary-2025-01-20_v000_on_sorghum-primary-2025-01-06_v000_test_predictions.slp\n",
      "Metrics saved to output/canola-pennycress-arabidopsis-primary-2025-01-20_v000_on_sorghum-primary-2025-01-06_v000_metrics.csv\n",
      "Distances saved to output/canola-pennycress-arabidopsis-primary-2025-01-20_v000_on_sorghum-primary-2025-01-06_v000_distances.csv\n",
      "Distance histogram saved to output\\canola-pennycress-arabidopsis-primary-2025-01-20_v000_on_sorghum-primary-2025-01-06_v000_distance_histogram.png\n"
     ]
    },
    {
     "data": {
      "application/vnd.jupyter.widget-view+json": {
       "model_id": "598628ffbfbf448d9332c2ea2068d31f",
       "version_major": 2,
       "version_minor": 0
      },
      "text/plain": [
       "VBox(children=(Label(value='0.609 MB of 0.609 MB uploaded\\r'), FloatProgress(value=1.0, max=1.0)))"
      ]
     },
     "metadata": {},
     "output_type": "display_data"
    },
    {
     "data": {
      "text/html": [
       "\n",
       "    <style>\n",
       "        .wandb-row {\n",
       "            display: flex;\n",
       "            flex-direction: row;\n",
       "            flex-wrap: wrap;\n",
       "            justify-content: flex-start;\n",
       "            width: 100%;\n",
       "        }\n",
       "        .wandb-col {\n",
       "            display: flex;\n",
       "            flex-direction: column;\n",
       "            flex-basis: 100%;\n",
       "            flex: 1;\n",
       "            padding: 10px;\n",
       "        }\n",
       "    </style>\n",
       "<div class=\"wandb-row\"><div class=\"wandb-col\"><h3>Run summary:</h3><br/><table class=\"wandb\"><tr><td>dist_avg</td><td>7.28315</td></tr><tr><td>dist_p50</td><td>4.09653</td></tr><tr><td>dist_p90</td><td>16.64623</td></tr><tr><td>dist_p95</td><td>22.03431</td></tr><tr><td>dist_p99</td><td>36.33264</td></tr><tr><td>dist_std</td><td>8.26567</td></tr><tr><td>model_name</td><td>canola-pennycress-ar...</td></tr><tr><td>model_path</td><td>e:\\repositories\\slea...</td></tr><tr><td>oks_map</td><td>0.00255</td></tr><tr><td>oks_mar</td><td>0.00667</td></tr><tr><td>vis_prec</td><td>1</td></tr><tr><td>vis_recall</td><td>0.60185</td></tr></table><br/></div></div>"
      ],
      "text/plain": [
       "<IPython.core.display.HTML object>"
      ]
     },
     "metadata": {},
     "output_type": "display_data"
    },
    {
     "data": {
      "text/html": [
       " View run <strong style=\"color:#cdcd00\">evaluate_canola-pennycress-arabidopsis-primary-2025-01-20_v000_on_sorghum-primary-2025-01-06_v000</strong> at: <a href='https://wandb.ai/eberrigan-salk-institute-for-biological-studies/sleap-roots/runs/l738qrxm' target=\"_blank\">https://wandb.ai/eberrigan-salk-institute-for-biological-studies/sleap-roots/runs/l738qrxm</a><br/> View project at: <a href='https://wandb.ai/eberrigan-salk-institute-for-biological-studies/sleap-roots' target=\"_blank\">https://wandb.ai/eberrigan-salk-institute-for-biological-studies/sleap-roots</a><br/>Synced 7 W&B file(s), 0 media file(s), 8 artifact file(s) and 0 other file(s)"
      ],
      "text/plain": [
       "<IPython.core.display.HTML object>"
      ]
     },
     "metadata": {},
     "output_type": "display_data"
    },
    {
     "data": {
      "text/html": [
       "Find logs at: <code>.\\wandb\\run-20250207_140009-l738qrxm\\logs</code>"
      ],
      "text/plain": [
       "<IPython.core.display.HTML object>"
      ]
     },
     "metadata": {},
     "output_type": "display_data"
    },
    {
     "data": {
      "text/html": [
       "Tracking run with wandb version 0.18.6"
      ],
      "text/plain": [
       "<IPython.core.display.HTML object>"
      ]
     },
     "metadata": {},
     "output_type": "display_data"
    },
    {
     "data": {
      "text/html": [
       "Run data is saved locally in <code>e:\\repositories\\sleap-roots-training\\wandb\\run-20250207_140031-7uheh3hj</code>"
      ],
      "text/plain": [
       "<IPython.core.display.HTML object>"
      ]
     },
     "metadata": {},
     "output_type": "display_data"
    },
    {
     "data": {
      "text/html": [
       "Syncing run <strong><a href='https://wandb.ai/eberrigan-salk-institute-for-biological-studies/sleap-roots/runs/7uheh3hj' target=\"_blank\">evaluate_canola-pennycress-arabidopsis-primary-2025-01-20_v001_on_sorghum-primary-2025-01-06_v001</a></strong> to <a href='https://wandb.ai/eberrigan-salk-institute-for-biological-studies/sleap-roots' target=\"_blank\">Weights & Biases</a> (<a href='https://wandb.me/developer-guide' target=\"_blank\">docs</a>)<br/>"
      ],
      "text/plain": [
       "<IPython.core.display.HTML object>"
      ]
     },
     "metadata": {},
     "output_type": "display_data"
    },
    {
     "data": {
      "text/html": [
       " View project at <a href='https://wandb.ai/eberrigan-salk-institute-for-biological-studies/sleap-roots' target=\"_blank\">https://wandb.ai/eberrigan-salk-institute-for-biological-studies/sleap-roots</a>"
      ],
      "text/plain": [
       "<IPython.core.display.HTML object>"
      ]
     },
     "metadata": {},
     "output_type": "display_data"
    },
    {
     "data": {
      "text/html": [
       " View run at <a href='https://wandb.ai/eberrigan-salk-institute-for-biological-studies/sleap-roots/runs/7uheh3hj' target=\"_blank\">https://wandb.ai/eberrigan-salk-institute-for-biological-studies/sleap-roots/runs/7uheh3hj</a>"
      ],
      "text/plain": [
       "<IPython.core.display.HTML object>"
      ]
     },
     "metadata": {},
     "output_type": "display_data"
    },
    {
     "name": "stdout",
     "output_type": "stream",
     "text": [
      "Fetching artifact: eberrigan-salk-institute-for-biological-studies-org/wandb-registry-sleap-roots-models/canola-pennycress-arabidopsis-primary-2025-01-20_v001:latest\n"
     ]
    },
    {
     "name": "stderr",
     "output_type": "stream",
     "text": [
      "\u001b[34m\u001b[1mwandb\u001b[0m: \u001b[33mWARNING\u001b[0m Registries can be linked/fetched using a shorthand form without specifying the organization name. Try using shorthand path format: <my_registry_name>/<artifact_name> or just <my_registry_name> if fetching just the project.\n"
     ]
    },
    {
     "name": "stdout",
     "output_type": "stream",
     "text": [
      "Fetching artifact: eberrigan-salk-institute-for-biological-studies-org/wandb-registry-sleap-roots-models/sorghum-primary-2025-01-06_v001:latest\n"
     ]
    },
    {
     "name": "stderr",
     "output_type": "stream",
     "text": [
      "\u001b[34m\u001b[1mwandb\u001b[0m: \u001b[33mWARNING\u001b[0m Registries can be linked/fetched using a shorthand form without specifying the organization name. Try using shorthand path format: <my_registry_name>/<artifact_name> or just <my_registry_name> if fetching just the project.\n",
      "\u001b[34m\u001b[1mwandb\u001b[0m: Downloading large artifact canola-pennycress-arabidopsis-primary-2025-01-20_v001:latest, 237.14MB. 196 files... \n"
     ]
    },
    {
     "name": "stdout",
     "output_type": "stream",
     "text": [
      "Loaded test data from D:\\SLEAP\\20250102_generalizability_experiment\\primary\\sorghum\\train_test_split.v001\\test.pkg.slp.\n",
      "Test data saved to output/sorghum-primary-2025-01-06_v001_test_labels.slp\n"
     ]
    },
    {
     "name": "stderr",
     "output_type": "stream",
     "text": [
      "\u001b[34m\u001b[1mwandb\u001b[0m:   196 of 196 files downloaded.  \n",
      "Done. 0:0:0.9\n"
     ]
    },
    {
     "data": {
      "application/vnd.jupyter.widget-view+json": {
       "model_id": "60d505acfd3c4da295b8e8edb2f65edc",
       "version_major": 2,
       "version_minor": 0
      },
      "text/plain": [
       "Output()"
      ]
     },
     "metadata": {},
     "output_type": "display_data"
    },
    {
     "name": "stdout",
     "output_type": "stream",
     "text": [
      "Model loaded successfully from e:\\repositories\\sleap-roots-training\\artifacts\\canola-pennycress-arabidopsis-primary-2025-01-20_v001-v0.\n",
      "Bottom-up model loaded successfully: Model(backbone=UNet(stacks=1, filters=24, filters_rate=1.5, kernel_size=3, stem_kernel_size=7, convs_per_block=2, stem_blocks=0, down_blocks=6, middle_block=True, up_blocks=5, up_interpolate=True, block_contraction=False), heads=[MultiInstanceConfmapsHead(part_names=['r1', 'r2', 'r3', 'r4', 'r5', 'r6'], sigma=2.5, output_stride=2, loss_weight=1.0), PartAffinityFieldsHead(edges=[('r1', 'r2'), ('r2', 'r3'), ('r3', 'r4'), ('r4', 'r5'), ('r5', 'r6')], sigma=75.0, output_stride=8, loss_weight=1.0)], keras_model=<keras.engine.functional.Functional object at 0x000002058C68AB08>).\n"
     ]
    },
    {
     "data": {
      "text/html": [
       "<pre style=\"white-space:pre;overflow-x:auto;line-height:normal;font-family:Menlo,'DejaVu Sans Mono',consolas,'Courier New',monospace\"></pre>\n"
      ],
      "text/plain": []
     },
     "metadata": {},
     "output_type": "display_data"
    },
    {
     "name": "stdout",
     "output_type": "stream",
     "text": [
      "INFO:sleap.nn.evals:OKS mAP: 0.016634\n",
      "Predictions saved to output/canola-pennycress-arabidopsis-primary-2025-01-20_v001_on_sorghum-primary-2025-01-06_v001_test_predictions.slp\n",
      "Metrics saved to output/canola-pennycress-arabidopsis-primary-2025-01-20_v001_on_sorghum-primary-2025-01-06_v001_metrics.csv\n",
      "Distances saved to output/canola-pennycress-arabidopsis-primary-2025-01-20_v001_on_sorghum-primary-2025-01-06_v001_distances.csv\n",
      "Distance histogram saved to output\\canola-pennycress-arabidopsis-primary-2025-01-20_v001_on_sorghum-primary-2025-01-06_v001_distance_histogram.png\n"
     ]
    },
    {
     "data": {
      "application/vnd.jupyter.widget-view+json": {
       "model_id": "5c5ca9459c244bd5a55ada5a3fd3cd69",
       "version_major": 2,
       "version_minor": 0
      },
      "text/plain": [
       "VBox(children=(Label(value='0.607 MB of 0.607 MB uploaded\\r'), FloatProgress(value=1.0, max=1.0)))"
      ]
     },
     "metadata": {},
     "output_type": "display_data"
    },
    {
     "data": {
      "text/html": [
       "\n",
       "    <style>\n",
       "        .wandb-row {\n",
       "            display: flex;\n",
       "            flex-direction: row;\n",
       "            flex-wrap: wrap;\n",
       "            justify-content: flex-start;\n",
       "            width: 100%;\n",
       "        }\n",
       "        .wandb-col {\n",
       "            display: flex;\n",
       "            flex-direction: column;\n",
       "            flex-basis: 100%;\n",
       "            flex: 1;\n",
       "            padding: 10px;\n",
       "        }\n",
       "    </style>\n",
       "<div class=\"wandb-row\"><div class=\"wandb-col\"><h3>Run summary:</h3><br/><table class=\"wandb\"><tr><td>dist_avg</td><td>3.90798</td></tr><tr><td>dist_p50</td><td>2.18342</td></tr><tr><td>dist_p90</td><td>8.39633</td></tr><tr><td>dist_p95</td><td>14.24326</td></tr><tr><td>dist_p99</td><td>27.60346</td></tr><tr><td>dist_std</td><td>5.70488</td></tr><tr><td>model_name</td><td>canola-pennycress-ar...</td></tr><tr><td>model_path</td><td>e:\\repositories\\slea...</td></tr><tr><td>oks_map</td><td>0.01663</td></tr><tr><td>oks_mar</td><td>0.02444</td></tr><tr><td>vis_prec</td><td>1</td></tr><tr><td>vis_recall</td><td>0.65686</td></tr></table><br/></div></div>"
      ],
      "text/plain": [
       "<IPython.core.display.HTML object>"
      ]
     },
     "metadata": {},
     "output_type": "display_data"
    },
    {
     "data": {
      "text/html": [
       " View run <strong style=\"color:#cdcd00\">evaluate_canola-pennycress-arabidopsis-primary-2025-01-20_v001_on_sorghum-primary-2025-01-06_v001</strong> at: <a href='https://wandb.ai/eberrigan-salk-institute-for-biological-studies/sleap-roots/runs/7uheh3hj' target=\"_blank\">https://wandb.ai/eberrigan-salk-institute-for-biological-studies/sleap-roots/runs/7uheh3hj</a><br/> View project at: <a href='https://wandb.ai/eberrigan-salk-institute-for-biological-studies/sleap-roots' target=\"_blank\">https://wandb.ai/eberrigan-salk-institute-for-biological-studies/sleap-roots</a><br/>Synced 7 W&B file(s), 0 media file(s), 8 artifact file(s) and 0 other file(s)"
      ],
      "text/plain": [
       "<IPython.core.display.HTML object>"
      ]
     },
     "metadata": {},
     "output_type": "display_data"
    },
    {
     "data": {
      "text/html": [
       "Find logs at: <code>.\\wandb\\run-20250207_140031-7uheh3hj\\logs</code>"
      ],
      "text/plain": [
       "<IPython.core.display.HTML object>"
      ]
     },
     "metadata": {},
     "output_type": "display_data"
    },
    {
     "data": {
      "text/html": [
       "Tracking run with wandb version 0.18.6"
      ],
      "text/plain": [
       "<IPython.core.display.HTML object>"
      ]
     },
     "metadata": {},
     "output_type": "display_data"
    },
    {
     "data": {
      "text/html": [
       "Run data is saved locally in <code>e:\\repositories\\sleap-roots-training\\wandb\\run-20250207_140051-k8ua56pg</code>"
      ],
      "text/plain": [
       "<IPython.core.display.HTML object>"
      ]
     },
     "metadata": {},
     "output_type": "display_data"
    },
    {
     "data": {
      "text/html": [
       "Syncing run <strong><a href='https://wandb.ai/eberrigan-salk-institute-for-biological-studies/sleap-roots/runs/k8ua56pg' target=\"_blank\">evaluate_canola-pennycress-arabidopsis-primary-2025-01-20_v002_on_sorghum-primary-2025-01-06_v002</a></strong> to <a href='https://wandb.ai/eberrigan-salk-institute-for-biological-studies/sleap-roots' target=\"_blank\">Weights & Biases</a> (<a href='https://wandb.me/developer-guide' target=\"_blank\">docs</a>)<br/>"
      ],
      "text/plain": [
       "<IPython.core.display.HTML object>"
      ]
     },
     "metadata": {},
     "output_type": "display_data"
    },
    {
     "data": {
      "text/html": [
       " View project at <a href='https://wandb.ai/eberrigan-salk-institute-for-biological-studies/sleap-roots' target=\"_blank\">https://wandb.ai/eberrigan-salk-institute-for-biological-studies/sleap-roots</a>"
      ],
      "text/plain": [
       "<IPython.core.display.HTML object>"
      ]
     },
     "metadata": {},
     "output_type": "display_data"
    },
    {
     "data": {
      "text/html": [
       " View run at <a href='https://wandb.ai/eberrigan-salk-institute-for-biological-studies/sleap-roots/runs/k8ua56pg' target=\"_blank\">https://wandb.ai/eberrigan-salk-institute-for-biological-studies/sleap-roots/runs/k8ua56pg</a>"
      ],
      "text/plain": [
       "<IPython.core.display.HTML object>"
      ]
     },
     "metadata": {},
     "output_type": "display_data"
    },
    {
     "name": "stdout",
     "output_type": "stream",
     "text": [
      "Fetching artifact: eberrigan-salk-institute-for-biological-studies-org/wandb-registry-sleap-roots-models/canola-pennycress-arabidopsis-primary-2025-01-20_v002:latest\n"
     ]
    },
    {
     "name": "stderr",
     "output_type": "stream",
     "text": [
      "\u001b[34m\u001b[1mwandb\u001b[0m: \u001b[33mWARNING\u001b[0m Registries can be linked/fetched using a shorthand form without specifying the organization name. Try using shorthand path format: <my_registry_name>/<artifact_name> or just <my_registry_name> if fetching just the project.\n"
     ]
    },
    {
     "name": "stdout",
     "output_type": "stream",
     "text": [
      "Fetching artifact: eberrigan-salk-institute-for-biological-studies-org/wandb-registry-sleap-roots-models/sorghum-primary-2025-01-06_v002:latest\n"
     ]
    },
    {
     "name": "stderr",
     "output_type": "stream",
     "text": [
      "\u001b[34m\u001b[1mwandb\u001b[0m: \u001b[33mWARNING\u001b[0m Registries can be linked/fetched using a shorthand form without specifying the organization name. Try using shorthand path format: <my_registry_name>/<artifact_name> or just <my_registry_name> if fetching just the project.\n",
      "\u001b[34m\u001b[1mwandb\u001b[0m: Downloading large artifact canola-pennycress-arabidopsis-primary-2025-01-20_v002:latest, 220.13MB. 172 files... \n"
     ]
    },
    {
     "name": "stdout",
     "output_type": "stream",
     "text": [
      "Loaded test data from D:\\SLEAP\\20250102_generalizability_experiment\\primary\\sorghum\\train_test_split.v002\\test.pkg.slp.\n",
      "Test data saved to output/sorghum-primary-2025-01-06_v002_test_labels.slp\n"
     ]
    },
    {
     "name": "stderr",
     "output_type": "stream",
     "text": [
      "\u001b[34m\u001b[1mwandb\u001b[0m:   172 of 172 files downloaded.  \n",
      "Done. 0:0:1.1\n"
     ]
    },
    {
     "data": {
      "application/vnd.jupyter.widget-view+json": {
       "model_id": "390a9d3997ce464f9fb8f405e4c458b1",
       "version_major": 2,
       "version_minor": 0
      },
      "text/plain": [
       "Output()"
      ]
     },
     "metadata": {},
     "output_type": "display_data"
    },
    {
     "name": "stdout",
     "output_type": "stream",
     "text": [
      "Model loaded successfully from e:\\repositories\\sleap-roots-training\\artifacts\\canola-pennycress-arabidopsis-primary-2025-01-20_v002-v0.\n",
      "Bottom-up model loaded successfully: Model(backbone=UNet(stacks=1, filters=24, filters_rate=1.5, kernel_size=3, stem_kernel_size=7, convs_per_block=2, stem_blocks=0, down_blocks=6, middle_block=True, up_blocks=5, up_interpolate=True, block_contraction=False), heads=[MultiInstanceConfmapsHead(part_names=['r1', 'r2', 'r3', 'r4', 'r5', 'r6'], sigma=2.5, output_stride=2, loss_weight=1.0), PartAffinityFieldsHead(edges=[('r1', 'r2'), ('r2', 'r3'), ('r3', 'r4'), ('r4', 'r5'), ('r5', 'r6')], sigma=75.0, output_stride=8, loss_weight=1.0)], keras_model=<keras.engine.functional.Functional object at 0x000002058778D408>).\n"
     ]
    },
    {
     "data": {
      "text/html": [
       "<pre style=\"white-space:pre;overflow-x:auto;line-height:normal;font-family:Menlo,'DejaVu Sans Mono',consolas,'Courier New',monospace\"></pre>\n"
      ],
      "text/plain": []
     },
     "metadata": {},
     "output_type": "display_data"
    },
    {
     "name": "stdout",
     "output_type": "stream",
     "text": [
      "INFO:sleap.nn.evals:OKS mAP: 0.025545\n",
      "Predictions saved to output/canola-pennycress-arabidopsis-primary-2025-01-20_v002_on_sorghum-primary-2025-01-06_v002_test_predictions.slp\n",
      "Metrics saved to output/canola-pennycress-arabidopsis-primary-2025-01-20_v002_on_sorghum-primary-2025-01-06_v002_metrics.csv\n",
      "Distances saved to output/canola-pennycress-arabidopsis-primary-2025-01-20_v002_on_sorghum-primary-2025-01-06_v002_distances.csv\n",
      "Distance histogram saved to output\\canola-pennycress-arabidopsis-primary-2025-01-20_v002_on_sorghum-primary-2025-01-06_v002_distance_histogram.png\n"
     ]
    },
    {
     "data": {
      "application/vnd.jupyter.widget-view+json": {
       "model_id": "b5e3d8da604e48b6a6823cf15c4da9fd",
       "version_major": 2,
       "version_minor": 0
      },
      "text/plain": [
       "VBox(children=(Label(value='0.607 MB of 0.607 MB uploaded\\r'), FloatProgress(value=1.0, max=1.0)))"
      ]
     },
     "metadata": {},
     "output_type": "display_data"
    },
    {
     "data": {
      "text/html": [
       "\n",
       "    <style>\n",
       "        .wandb-row {\n",
       "            display: flex;\n",
       "            flex-direction: row;\n",
       "            flex-wrap: wrap;\n",
       "            justify-content: flex-start;\n",
       "            width: 100%;\n",
       "        }\n",
       "        .wandb-col {\n",
       "            display: flex;\n",
       "            flex-direction: column;\n",
       "            flex-basis: 100%;\n",
       "            flex: 1;\n",
       "            padding: 10px;\n",
       "        }\n",
       "    </style>\n",
       "<div class=\"wandb-row\"><div class=\"wandb-col\"><h3>Run summary:</h3><br/><table class=\"wandb\"><tr><td>dist_avg</td><td>4.32459</td></tr><tr><td>dist_p50</td><td>2.02865</td></tr><tr><td>dist_p90</td><td>10.43502</td></tr><tr><td>dist_p95</td><td>16.31235</td></tr><tr><td>dist_p99</td><td>33.6384</td></tr><tr><td>dist_std</td><td>6.52493</td></tr><tr><td>model_name</td><td>canola-pennycress-ar...</td></tr><tr><td>model_path</td><td>e:\\repositories\\slea...</td></tr><tr><td>oks_map</td><td>0.02554</td></tr><tr><td>oks_mar</td><td>0.03111</td></tr><tr><td>vis_prec</td><td>1</td></tr><tr><td>vis_recall</td><td>0.59375</td></tr></table><br/></div></div>"
      ],
      "text/plain": [
       "<IPython.core.display.HTML object>"
      ]
     },
     "metadata": {},
     "output_type": "display_data"
    },
    {
     "data": {
      "text/html": [
       " View run <strong style=\"color:#cdcd00\">evaluate_canola-pennycress-arabidopsis-primary-2025-01-20_v002_on_sorghum-primary-2025-01-06_v002</strong> at: <a href='https://wandb.ai/eberrigan-salk-institute-for-biological-studies/sleap-roots/runs/k8ua56pg' target=\"_blank\">https://wandb.ai/eberrigan-salk-institute-for-biological-studies/sleap-roots/runs/k8ua56pg</a><br/> View project at: <a href='https://wandb.ai/eberrigan-salk-institute-for-biological-studies/sleap-roots' target=\"_blank\">https://wandb.ai/eberrigan-salk-institute-for-biological-studies/sleap-roots</a><br/>Synced 7 W&B file(s), 0 media file(s), 8 artifact file(s) and 0 other file(s)"
      ],
      "text/plain": [
       "<IPython.core.display.HTML object>"
      ]
     },
     "metadata": {},
     "output_type": "display_data"
    },
    {
     "data": {
      "text/html": [
       "Find logs at: <code>.\\wandb\\run-20250207_140051-k8ua56pg\\logs</code>"
      ],
      "text/plain": [
       "<IPython.core.display.HTML object>"
      ]
     },
     "metadata": {},
     "output_type": "display_data"
    },
    {
     "data": {
      "text/html": [
       "Tracking run with wandb version 0.18.6"
      ],
      "text/plain": [
       "<IPython.core.display.HTML object>"
      ]
     },
     "metadata": {},
     "output_type": "display_data"
    },
    {
     "data": {
      "text/html": [
       "Run data is saved locally in <code>e:\\repositories\\sleap-roots-training\\wandb\\run-20250207_140126-hu6cen9n</code>"
      ],
      "text/plain": [
       "<IPython.core.display.HTML object>"
      ]
     },
     "metadata": {},
     "output_type": "display_data"
    },
    {
     "data": {
      "text/html": [
       "Syncing run <strong><a href='https://wandb.ai/eberrigan-salk-institute-for-biological-studies/sleap-roots/runs/hu6cen9n' target=\"_blank\">evaluate_soybean-primary-2025-01-05_v000_on_sorghum-primary-2025-01-06_v000</a></strong> to <a href='https://wandb.ai/eberrigan-salk-institute-for-biological-studies/sleap-roots' target=\"_blank\">Weights & Biases</a> (<a href='https://wandb.me/developer-guide' target=\"_blank\">docs</a>)<br/>"
      ],
      "text/plain": [
       "<IPython.core.display.HTML object>"
      ]
     },
     "metadata": {},
     "output_type": "display_data"
    },
    {
     "data": {
      "text/html": [
       " View project at <a href='https://wandb.ai/eberrigan-salk-institute-for-biological-studies/sleap-roots' target=\"_blank\">https://wandb.ai/eberrigan-salk-institute-for-biological-studies/sleap-roots</a>"
      ],
      "text/plain": [
       "<IPython.core.display.HTML object>"
      ]
     },
     "metadata": {},
     "output_type": "display_data"
    },
    {
     "data": {
      "text/html": [
       " View run at <a href='https://wandb.ai/eberrigan-salk-institute-for-biological-studies/sleap-roots/runs/hu6cen9n' target=\"_blank\">https://wandb.ai/eberrigan-salk-institute-for-biological-studies/sleap-roots/runs/hu6cen9n</a>"
      ],
      "text/plain": [
       "<IPython.core.display.HTML object>"
      ]
     },
     "metadata": {},
     "output_type": "display_data"
    },
    {
     "name": "stdout",
     "output_type": "stream",
     "text": [
      "Fetching artifact: eberrigan-salk-institute-for-biological-studies-org/wandb-registry-sleap-roots-models/soybean-primary-2025-01-05_v000:latest\n"
     ]
    },
    {
     "name": "stderr",
     "output_type": "stream",
     "text": [
      "\u001b[34m\u001b[1mwandb\u001b[0m: \u001b[33mWARNING\u001b[0m Registries can be linked/fetched using a shorthand form without specifying the organization name. Try using shorthand path format: <my_registry_name>/<artifact_name> or just <my_registry_name> if fetching just the project.\n"
     ]
    },
    {
     "name": "stdout",
     "output_type": "stream",
     "text": [
      "Fetching artifact: eberrigan-salk-institute-for-biological-studies-org/wandb-registry-sleap-roots-models/sorghum-primary-2025-01-06_v000:latest\n"
     ]
    },
    {
     "name": "stderr",
     "output_type": "stream",
     "text": [
      "\u001b[34m\u001b[1mwandb\u001b[0m: \u001b[33mWARNING\u001b[0m Registries can be linked/fetched using a shorthand form without specifying the organization name. Try using shorthand path format: <my_registry_name>/<artifact_name> or just <my_registry_name> if fetching just the project.\n",
      "\u001b[34m\u001b[1mwandb\u001b[0m: Downloading large artifact soybean-primary-2025-01-05_v000:latest, 63.42MB. 16 files... \n"
     ]
    },
    {
     "name": "stdout",
     "output_type": "stream",
     "text": [
      "Loaded test data from D:\\SLEAP\\20250102_generalizability_experiment\\primary\\sorghum\\train_test_split.v000\\test.pkg.slp.\n",
      "Test data saved to output/sorghum-primary-2025-01-06_v000_test_labels.slp\n"
     ]
    },
    {
     "name": "stderr",
     "output_type": "stream",
     "text": [
      "\u001b[34m\u001b[1mwandb\u001b[0m:   16 of 16 files downloaded.  \n",
      "Done. 0:0:0.4\n"
     ]
    },
    {
     "data": {
      "application/vnd.jupyter.widget-view+json": {
       "model_id": "04918cbcdc974baaa3997d690218d5ff",
       "version_major": 2,
       "version_minor": 0
      },
      "text/plain": [
       "Output()"
      ]
     },
     "metadata": {},
     "output_type": "display_data"
    },
    {
     "name": "stdout",
     "output_type": "stream",
     "text": [
      "Model loaded successfully from e:\\repositories\\sleap-roots-training\\artifacts\\soybean-primary-2025-01-05_v000-v0.\n",
      "Bottom-up model loaded successfully: Model(backbone=UNet(stacks=1, filters=24, filters_rate=1.5, kernel_size=3, stem_kernel_size=7, convs_per_block=2, stem_blocks=0, down_blocks=6, middle_block=True, up_blocks=5, up_interpolate=True, block_contraction=False), heads=[MultiInstanceConfmapsHead(part_names=['r1', 'r2', 'r3', 'r4', 'r5', 'r6'], sigma=2.5, output_stride=2, loss_weight=1.0), PartAffinityFieldsHead(edges=[('r1', 'r2'), ('r2', 'r3'), ('r3', 'r4'), ('r4', 'r5'), ('r5', 'r6')], sigma=75.0, output_stride=8, loss_weight=1.0)], keras_model=<keras.engine.functional.Functional object at 0x0000020587674F88>).\n"
     ]
    },
    {
     "data": {
      "text/html": [
       "<pre style=\"white-space:pre;overflow-x:auto;line-height:normal;font-family:Menlo,'DejaVu Sans Mono',consolas,'Courier New',monospace\"></pre>\n"
      ],
      "text/plain": []
     },
     "metadata": {},
     "output_type": "display_data"
    },
    {
     "name": "stdout",
     "output_type": "stream",
     "text": [
      "INFO:sleap.nn.evals:OKS mAP: 0.000000\n",
      "Predictions saved to output/soybean-primary-2025-01-05_v000_on_sorghum-primary-2025-01-06_v000_test_predictions.slp\n",
      "Metrics saved to output/soybean-primary-2025-01-05_v000_on_sorghum-primary-2025-01-06_v000_metrics.csv\n",
      "Distances saved to output/soybean-primary-2025-01-05_v000_on_sorghum-primary-2025-01-06_v000_distances.csv\n",
      "Distance histogram saved to output\\soybean-primary-2025-01-05_v000_on_sorghum-primary-2025-01-06_v000_distance_histogram.png\n"
     ]
    },
    {
     "data": {
      "text/html": [
       "\n",
       "    <style>\n",
       "        .wandb-row {\n",
       "            display: flex;\n",
       "            flex-direction: row;\n",
       "            flex-wrap: wrap;\n",
       "            justify-content: flex-start;\n",
       "            width: 100%;\n",
       "        }\n",
       "        .wandb-col {\n",
       "            display: flex;\n",
       "            flex-direction: column;\n",
       "            flex-basis: 100%;\n",
       "            flex: 1;\n",
       "            padding: 10px;\n",
       "        }\n",
       "    </style>\n",
       "<div class=\"wandb-row\"><div class=\"wandb-col\"><h3>Run summary:</h3><br/><table class=\"wandb\"><tr><td>dist_avg</td><td>3.06522</td></tr><tr><td>dist_p50</td><td>3.08122</td></tr><tr><td>dist_p90</td><td>4.57556</td></tr><tr><td>dist_p95</td><td>6.44669</td></tr><tr><td>dist_p99</td><td>8.65856</td></tr><tr><td>dist_std</td><td>2.14288</td></tr><tr><td>model_name</td><td>soybean-primary-2025...</td></tr><tr><td>model_path</td><td>e:\\repositories\\slea...</td></tr><tr><td>oks_map</td><td>0</td></tr><tr><td>oks_mar</td><td>0</td></tr><tr><td>vis_prec</td><td>1</td></tr><tr><td>vis_recall</td><td>0.33333</td></tr></table><br/></div></div>"
      ],
      "text/plain": [
       "<IPython.core.display.HTML object>"
      ]
     },
     "metadata": {},
     "output_type": "display_data"
    },
    {
     "data": {
      "text/html": [
       " View run <strong style=\"color:#cdcd00\">evaluate_soybean-primary-2025-01-05_v000_on_sorghum-primary-2025-01-06_v000</strong> at: <a href='https://wandb.ai/eberrigan-salk-institute-for-biological-studies/sleap-roots/runs/hu6cen9n' target=\"_blank\">https://wandb.ai/eberrigan-salk-institute-for-biological-studies/sleap-roots/runs/hu6cen9n</a><br/> View project at: <a href='https://wandb.ai/eberrigan-salk-institute-for-biological-studies/sleap-roots' target=\"_blank\">https://wandb.ai/eberrigan-salk-institute-for-biological-studies/sleap-roots</a><br/>Synced 7 W&B file(s), 0 media file(s), 8 artifact file(s) and 0 other file(s)"
      ],
      "text/plain": [
       "<IPython.core.display.HTML object>"
      ]
     },
     "metadata": {},
     "output_type": "display_data"
    },
    {
     "data": {
      "text/html": [
       "Find logs at: <code>.\\wandb\\run-20250207_140126-hu6cen9n\\logs</code>"
      ],
      "text/plain": [
       "<IPython.core.display.HTML object>"
      ]
     },
     "metadata": {},
     "output_type": "display_data"
    },
    {
     "data": {
      "text/html": [
       "Tracking run with wandb version 0.18.6"
      ],
      "text/plain": [
       "<IPython.core.display.HTML object>"
      ]
     },
     "metadata": {},
     "output_type": "display_data"
    },
    {
     "data": {
      "text/html": [
       "Run data is saved locally in <code>e:\\repositories\\sleap-roots-training\\wandb\\run-20250207_140151-6ppxzebd</code>"
      ],
      "text/plain": [
       "<IPython.core.display.HTML object>"
      ]
     },
     "metadata": {},
     "output_type": "display_data"
    },
    {
     "data": {
      "text/html": [
       "Syncing run <strong><a href='https://wandb.ai/eberrigan-salk-institute-for-biological-studies/sleap-roots/runs/6ppxzebd' target=\"_blank\">evaluate_soybean-primary-2025-01-05_v001_on_sorghum-primary-2025-01-06_v001</a></strong> to <a href='https://wandb.ai/eberrigan-salk-institute-for-biological-studies/sleap-roots' target=\"_blank\">Weights & Biases</a> (<a href='https://wandb.me/developer-guide' target=\"_blank\">docs</a>)<br/>"
      ],
      "text/plain": [
       "<IPython.core.display.HTML object>"
      ]
     },
     "metadata": {},
     "output_type": "display_data"
    },
    {
     "data": {
      "text/html": [
       " View project at <a href='https://wandb.ai/eberrigan-salk-institute-for-biological-studies/sleap-roots' target=\"_blank\">https://wandb.ai/eberrigan-salk-institute-for-biological-studies/sleap-roots</a>"
      ],
      "text/plain": [
       "<IPython.core.display.HTML object>"
      ]
     },
     "metadata": {},
     "output_type": "display_data"
    },
    {
     "data": {
      "text/html": [
       " View run at <a href='https://wandb.ai/eberrigan-salk-institute-for-biological-studies/sleap-roots/runs/6ppxzebd' target=\"_blank\">https://wandb.ai/eberrigan-salk-institute-for-biological-studies/sleap-roots/runs/6ppxzebd</a>"
      ],
      "text/plain": [
       "<IPython.core.display.HTML object>"
      ]
     },
     "metadata": {},
     "output_type": "display_data"
    },
    {
     "name": "stdout",
     "output_type": "stream",
     "text": [
      "Fetching artifact: eberrigan-salk-institute-for-biological-studies-org/wandb-registry-sleap-roots-models/soybean-primary-2025-01-05_v001:latest\n"
     ]
    },
    {
     "name": "stderr",
     "output_type": "stream",
     "text": [
      "\u001b[34m\u001b[1mwandb\u001b[0m: \u001b[33mWARNING\u001b[0m Registries can be linked/fetched using a shorthand form without specifying the organization name. Try using shorthand path format: <my_registry_name>/<artifact_name> or just <my_registry_name> if fetching just the project.\n"
     ]
    },
    {
     "name": "stdout",
     "output_type": "stream",
     "text": [
      "Fetching artifact: eberrigan-salk-institute-for-biological-studies-org/wandb-registry-sleap-roots-models/sorghum-primary-2025-01-06_v001:latest\n"
     ]
    },
    {
     "name": "stderr",
     "output_type": "stream",
     "text": [
      "\u001b[34m\u001b[1mwandb\u001b[0m: \u001b[33mWARNING\u001b[0m Registries can be linked/fetched using a shorthand form without specifying the organization name. Try using shorthand path format: <my_registry_name>/<artifact_name> or just <my_registry_name> if fetching just the project.\n",
      "\u001b[34m\u001b[1mwandb\u001b[0m: Downloading large artifact soybean-primary-2025-01-05_v001:latest, 63.42MB. 16 files... \n"
     ]
    },
    {
     "name": "stdout",
     "output_type": "stream",
     "text": [
      "Loaded test data from D:\\SLEAP\\20250102_generalizability_experiment\\primary\\sorghum\\train_test_split.v001\\test.pkg.slp.\n",
      "Test data saved to output/sorghum-primary-2025-01-06_v001_test_labels.slp\n"
     ]
    },
    {
     "name": "stderr",
     "output_type": "stream",
     "text": [
      "\u001b[34m\u001b[1mwandb\u001b[0m:   16 of 16 files downloaded.  \n",
      "Done. 0:0:0.4\n"
     ]
    },
    {
     "data": {
      "application/vnd.jupyter.widget-view+json": {
       "model_id": "12ccb9b0d00a485699a74434c6529faa",
       "version_major": 2,
       "version_minor": 0
      },
      "text/plain": [
       "Output()"
      ]
     },
     "metadata": {},
     "output_type": "display_data"
    },
    {
     "name": "stdout",
     "output_type": "stream",
     "text": [
      "Model loaded successfully from e:\\repositories\\sleap-roots-training\\artifacts\\soybean-primary-2025-01-05_v001-v0.\n",
      "Bottom-up model loaded successfully: Model(backbone=UNet(stacks=1, filters=24, filters_rate=1.5, kernel_size=3, stem_kernel_size=7, convs_per_block=2, stem_blocks=0, down_blocks=6, middle_block=True, up_blocks=5, up_interpolate=True, block_contraction=False), heads=[MultiInstanceConfmapsHead(part_names=['r1', 'r2', 'r3', 'r4', 'r5', 'r6'], sigma=2.5, output_stride=2, loss_weight=1.0), PartAffinityFieldsHead(edges=[('r1', 'r2'), ('r2', 'r3'), ('r3', 'r4'), ('r4', 'r5'), ('r5', 'r6')], sigma=75.0, output_stride=8, loss_weight=1.0)], keras_model=<keras.engine.functional.Functional object at 0x000002058C134C88>).\n"
     ]
    },
    {
     "data": {
      "text/html": [
       "<pre style=\"white-space:pre;overflow-x:auto;line-height:normal;font-family:Menlo,'DejaVu Sans Mono',consolas,'Courier New',monospace\"></pre>\n"
      ],
      "text/plain": []
     },
     "metadata": {},
     "output_type": "display_data"
    },
    {
     "name": "stdout",
     "output_type": "stream",
     "text": [
      "INFO:sleap.nn.evals:OKS mAP: 0.004703\n",
      "Predictions saved to output/soybean-primary-2025-01-05_v001_on_sorghum-primary-2025-01-06_v001_test_predictions.slp\n",
      "Metrics saved to output/soybean-primary-2025-01-05_v001_on_sorghum-primary-2025-01-06_v001_metrics.csv\n",
      "Distances saved to output/soybean-primary-2025-01-05_v001_on_sorghum-primary-2025-01-06_v001_distances.csv\n",
      "Distance histogram saved to output\\soybean-primary-2025-01-05_v001_on_sorghum-primary-2025-01-06_v001_distance_histogram.png\n"
     ]
    },
    {
     "data": {
      "application/vnd.jupyter.widget-view+json": {
       "model_id": "086b5233e542496bb0c4ac74b250f5ea",
       "version_major": 2,
       "version_minor": 0
      },
      "text/plain": [
       "VBox(children=(Label(value='0.600 MB of 0.600 MB uploaded\\r'), FloatProgress(value=1.0, max=1.0)))"
      ]
     },
     "metadata": {},
     "output_type": "display_data"
    },
    {
     "data": {
      "text/html": [
       "\n",
       "    <style>\n",
       "        .wandb-row {\n",
       "            display: flex;\n",
       "            flex-direction: row;\n",
       "            flex-wrap: wrap;\n",
       "            justify-content: flex-start;\n",
       "            width: 100%;\n",
       "        }\n",
       "        .wandb-col {\n",
       "            display: flex;\n",
       "            flex-direction: column;\n",
       "            flex-basis: 100%;\n",
       "            flex: 1;\n",
       "            padding: 10px;\n",
       "        }\n",
       "    </style>\n",
       "<div class=\"wandb-row\"><div class=\"wandb-col\"><h3>Run summary:</h3><br/><table class=\"wandb\"><tr><td>dist_avg</td><td>3.04684</td></tr><tr><td>dist_p50</td><td>2.6742</td></tr><tr><td>dist_p90</td><td>6.39035</td></tr><tr><td>dist_p95</td><td>8.25493</td></tr><tr><td>dist_p99</td><td>10.43366</td></tr><tr><td>dist_std</td><td>2.48859</td></tr><tr><td>model_name</td><td>soybean-primary-2025...</td></tr><tr><td>model_path</td><td>e:\\repositories\\slea...</td></tr><tr><td>oks_map</td><td>0.0047</td></tr><tr><td>oks_mar</td><td>0.01111</td></tr><tr><td>vis_prec</td><td>1</td></tr><tr><td>vis_recall</td><td>0.50758</td></tr></table><br/></div></div>"
      ],
      "text/plain": [
       "<IPython.core.display.HTML object>"
      ]
     },
     "metadata": {},
     "output_type": "display_data"
    },
    {
     "data": {
      "text/html": [
       " View run <strong style=\"color:#cdcd00\">evaluate_soybean-primary-2025-01-05_v001_on_sorghum-primary-2025-01-06_v001</strong> at: <a href='https://wandb.ai/eberrigan-salk-institute-for-biological-studies/sleap-roots/runs/6ppxzebd' target=\"_blank\">https://wandb.ai/eberrigan-salk-institute-for-biological-studies/sleap-roots/runs/6ppxzebd</a><br/> View project at: <a href='https://wandb.ai/eberrigan-salk-institute-for-biological-studies/sleap-roots' target=\"_blank\">https://wandb.ai/eberrigan-salk-institute-for-biological-studies/sleap-roots</a><br/>Synced 7 W&B file(s), 0 media file(s), 4 artifact file(s) and 0 other file(s)"
      ],
      "text/plain": [
       "<IPython.core.display.HTML object>"
      ]
     },
     "metadata": {},
     "output_type": "display_data"
    },
    {
     "data": {
      "text/html": [
       "Find logs at: <code>.\\wandb\\run-20250207_140151-6ppxzebd\\logs</code>"
      ],
      "text/plain": [
       "<IPython.core.display.HTML object>"
      ]
     },
     "metadata": {},
     "output_type": "display_data"
    },
    {
     "data": {
      "text/html": [
       "Tracking run with wandb version 0.18.6"
      ],
      "text/plain": [
       "<IPython.core.display.HTML object>"
      ]
     },
     "metadata": {},
     "output_type": "display_data"
    },
    {
     "data": {
      "text/html": [
       "Run data is saved locally in <code>e:\\repositories\\sleap-roots-training\\wandb\\run-20250207_140221-ywgy3dkl</code>"
      ],
      "text/plain": [
       "<IPython.core.display.HTML object>"
      ]
     },
     "metadata": {},
     "output_type": "display_data"
    },
    {
     "data": {
      "text/html": [
       "Syncing run <strong><a href='https://wandb.ai/eberrigan-salk-institute-for-biological-studies/sleap-roots/runs/ywgy3dkl' target=\"_blank\">evaluate_soybean-primary-2025-01-05_v002_on_sorghum-primary-2025-01-06_v002</a></strong> to <a href='https://wandb.ai/eberrigan-salk-institute-for-biological-studies/sleap-roots' target=\"_blank\">Weights & Biases</a> (<a href='https://wandb.me/developer-guide' target=\"_blank\">docs</a>)<br/>"
      ],
      "text/plain": [
       "<IPython.core.display.HTML object>"
      ]
     },
     "metadata": {},
     "output_type": "display_data"
    },
    {
     "data": {
      "text/html": [
       " View project at <a href='https://wandb.ai/eberrigan-salk-institute-for-biological-studies/sleap-roots' target=\"_blank\">https://wandb.ai/eberrigan-salk-institute-for-biological-studies/sleap-roots</a>"
      ],
      "text/plain": [
       "<IPython.core.display.HTML object>"
      ]
     },
     "metadata": {},
     "output_type": "display_data"
    },
    {
     "data": {
      "text/html": [
       " View run at <a href='https://wandb.ai/eberrigan-salk-institute-for-biological-studies/sleap-roots/runs/ywgy3dkl' target=\"_blank\">https://wandb.ai/eberrigan-salk-institute-for-biological-studies/sleap-roots/runs/ywgy3dkl</a>"
      ],
      "text/plain": [
       "<IPython.core.display.HTML object>"
      ]
     },
     "metadata": {},
     "output_type": "display_data"
    },
    {
     "name": "stdout",
     "output_type": "stream",
     "text": [
      "Fetching artifact: eberrigan-salk-institute-for-biological-studies-org/wandb-registry-sleap-roots-models/soybean-primary-2025-01-05_v002:latest\n"
     ]
    },
    {
     "name": "stderr",
     "output_type": "stream",
     "text": [
      "\u001b[34m\u001b[1mwandb\u001b[0m: \u001b[33mWARNING\u001b[0m Registries can be linked/fetched using a shorthand form without specifying the organization name. Try using shorthand path format: <my_registry_name>/<artifact_name> or just <my_registry_name> if fetching just the project.\n"
     ]
    },
    {
     "name": "stdout",
     "output_type": "stream",
     "text": [
      "Fetching artifact: eberrigan-salk-institute-for-biological-studies-org/wandb-registry-sleap-roots-models/sorghum-primary-2025-01-06_v002:latest\n"
     ]
    },
    {
     "name": "stderr",
     "output_type": "stream",
     "text": [
      "\u001b[34m\u001b[1mwandb\u001b[0m: \u001b[33mWARNING\u001b[0m Registries can be linked/fetched using a shorthand form without specifying the organization name. Try using shorthand path format: <my_registry_name>/<artifact_name> or just <my_registry_name> if fetching just the project.\n",
      "\u001b[34m\u001b[1mwandb\u001b[0m: Downloading large artifact soybean-primary-2025-01-05_v002:latest, 63.41MB. 16 files... \n"
     ]
    },
    {
     "name": "stdout",
     "output_type": "stream",
     "text": [
      "Loaded test data from D:\\SLEAP\\20250102_generalizability_experiment\\primary\\sorghum\\train_test_split.v002\\test.pkg.slp.\n",
      "Test data saved to output/sorghum-primary-2025-01-06_v002_test_labels.slp\n"
     ]
    },
    {
     "name": "stderr",
     "output_type": "stream",
     "text": [
      "\u001b[34m\u001b[1mwandb\u001b[0m:   16 of 16 files downloaded.  \n",
      "Done. 0:0:0.3\n"
     ]
    },
    {
     "data": {
      "application/vnd.jupyter.widget-view+json": {
       "model_id": "0094315b1e124ec59ddcc6f24c798658",
       "version_major": 2,
       "version_minor": 0
      },
      "text/plain": [
       "Output()"
      ]
     },
     "metadata": {},
     "output_type": "display_data"
    },
    {
     "name": "stdout",
     "output_type": "stream",
     "text": [
      "Model loaded successfully from e:\\repositories\\sleap-roots-training\\artifacts\\soybean-primary-2025-01-05_v002-v0.\n",
      "Bottom-up model loaded successfully: Model(backbone=UNet(stacks=1, filters=24, filters_rate=1.5, kernel_size=3, stem_kernel_size=7, convs_per_block=2, stem_blocks=0, down_blocks=6, middle_block=True, up_blocks=5, up_interpolate=True, block_contraction=False), heads=[MultiInstanceConfmapsHead(part_names=['r1', 'r2', 'r3', 'r4', 'r5', 'r6'], sigma=2.5, output_stride=2, loss_weight=1.0), PartAffinityFieldsHead(edges=[('r1', 'r2'), ('r2', 'r3'), ('r3', 'r4'), ('r4', 'r5'), ('r5', 'r6')], sigma=75.0, output_stride=8, loss_weight=1.0)], keras_model=<keras.engine.functional.Functional object at 0x000002066C2C4C88>).\n"
     ]
    },
    {
     "data": {
      "text/html": [
       "<pre style=\"white-space:pre;overflow-x:auto;line-height:normal;font-family:Menlo,'DejaVu Sans Mono',consolas,'Courier New',monospace\"></pre>\n"
      ],
      "text/plain": []
     },
     "metadata": {},
     "output_type": "display_data"
    },
    {
     "name": "stdout",
     "output_type": "stream",
     "text": [
      "INFO:sleap.nn.evals:OKS mAP: 0.000000\n",
      "Predictions saved to output/soybean-primary-2025-01-05_v002_on_sorghum-primary-2025-01-06_v002_test_predictions.slp\n",
      "Metrics saved to output/soybean-primary-2025-01-05_v002_on_sorghum-primary-2025-01-06_v002_metrics.csv\n",
      "Distances saved to output/soybean-primary-2025-01-05_v002_on_sorghum-primary-2025-01-06_v002_distances.csv\n",
      "Distance histogram saved to output\\soybean-primary-2025-01-05_v002_on_sorghum-primary-2025-01-06_v002_distance_histogram.png\n"
     ]
    },
    {
     "data": {
      "application/vnd.jupyter.widget-view+json": {
       "model_id": "131dd039734d4a708c40082b1b5e6524",
       "version_major": 2,
       "version_minor": 0
      },
      "text/plain": [
       "VBox(children=(Label(value='0.573 MB of 0.573 MB uploaded\\r'), FloatProgress(value=1.0, max=1.0)))"
      ]
     },
     "metadata": {},
     "output_type": "display_data"
    },
    {
     "data": {
      "text/html": [
       "\n",
       "    <style>\n",
       "        .wandb-row {\n",
       "            display: flex;\n",
       "            flex-direction: row;\n",
       "            flex-wrap: wrap;\n",
       "            justify-content: flex-start;\n",
       "            width: 100%;\n",
       "        }\n",
       "        .wandb-col {\n",
       "            display: flex;\n",
       "            flex-direction: column;\n",
       "            flex-basis: 100%;\n",
       "            flex: 1;\n",
       "            padding: 10px;\n",
       "        }\n",
       "    </style>\n",
       "<div class=\"wandb-row\"><div class=\"wandb-col\"><h3>Run summary:</h3><br/><table class=\"wandb\"><tr><td>dist_avg</td><td>2.64788</td></tr><tr><td>dist_p50</td><td>2.19331</td></tr><tr><td>dist_p90</td><td>6.4496</td></tr><tr><td>dist_p95</td><td>7.53679</td></tr><tr><td>dist_p99</td><td>8.66844</td></tr><tr><td>dist_std</td><td>2.42524</td></tr><tr><td>model_name</td><td>soybean-primary-2025...</td></tr><tr><td>model_path</td><td>e:\\repositories\\slea...</td></tr><tr><td>oks_map</td><td>0</td></tr><tr><td>oks_mar</td><td>0</td></tr><tr><td>vis_prec</td><td>1</td></tr><tr><td>vis_recall</td><td>0.34848</td></tr></table><br/></div></div>"
      ],
      "text/plain": [
       "<IPython.core.display.HTML object>"
      ]
     },
     "metadata": {},
     "output_type": "display_data"
    },
    {
     "data": {
      "text/html": [
       " View run <strong style=\"color:#cdcd00\">evaluate_soybean-primary-2025-01-05_v002_on_sorghum-primary-2025-01-06_v002</strong> at: <a href='https://wandb.ai/eberrigan-salk-institute-for-biological-studies/sleap-roots/runs/ywgy3dkl' target=\"_blank\">https://wandb.ai/eberrigan-salk-institute-for-biological-studies/sleap-roots/runs/ywgy3dkl</a><br/> View project at: <a href='https://wandb.ai/eberrigan-salk-institute-for-biological-studies/sleap-roots' target=\"_blank\">https://wandb.ai/eberrigan-salk-institute-for-biological-studies/sleap-roots</a><br/>Synced 7 W&B file(s), 0 media file(s), 4 artifact file(s) and 0 other file(s)"
      ],
      "text/plain": [
       "<IPython.core.display.HTML object>"
      ]
     },
     "metadata": {},
     "output_type": "display_data"
    },
    {
     "data": {
      "text/html": [
       "Find logs at: <code>.\\wandb\\run-20250207_140221-ywgy3dkl\\logs</code>"
      ],
      "text/plain": [
       "<IPython.core.display.HTML object>"
      ]
     },
     "metadata": {},
     "output_type": "display_data"
    },
    {
     "data": {
      "text/html": [
       "Tracking run with wandb version 0.18.6"
      ],
      "text/plain": [
       "<IPython.core.display.HTML object>"
      ]
     },
     "metadata": {},
     "output_type": "display_data"
    },
    {
     "data": {
      "text/html": [
       "Run data is saved locally in <code>e:\\repositories\\sleap-roots-training\\wandb\\run-20250207_140248-9ptgifaa</code>"
      ],
      "text/plain": [
       "<IPython.core.display.HTML object>"
      ]
     },
     "metadata": {},
     "output_type": "display_data"
    },
    {
     "data": {
      "text/html": [
       "Syncing run <strong><a href='https://wandb.ai/eberrigan-salk-institute-for-biological-studies/sleap-roots/runs/9ptgifaa' target=\"_blank\">evaluate_rice-primary-2025-01-19_v000_on_sorghum-primary-2025-01-06_v000</a></strong> to <a href='https://wandb.ai/eberrigan-salk-institute-for-biological-studies/sleap-roots' target=\"_blank\">Weights & Biases</a> (<a href='https://wandb.me/developer-guide' target=\"_blank\">docs</a>)<br/>"
      ],
      "text/plain": [
       "<IPython.core.display.HTML object>"
      ]
     },
     "metadata": {},
     "output_type": "display_data"
    },
    {
     "data": {
      "text/html": [
       " View project at <a href='https://wandb.ai/eberrigan-salk-institute-for-biological-studies/sleap-roots' target=\"_blank\">https://wandb.ai/eberrigan-salk-institute-for-biological-studies/sleap-roots</a>"
      ],
      "text/plain": [
       "<IPython.core.display.HTML object>"
      ]
     },
     "metadata": {},
     "output_type": "display_data"
    },
    {
     "data": {
      "text/html": [
       " View run at <a href='https://wandb.ai/eberrigan-salk-institute-for-biological-studies/sleap-roots/runs/9ptgifaa' target=\"_blank\">https://wandb.ai/eberrigan-salk-institute-for-biological-studies/sleap-roots/runs/9ptgifaa</a>"
      ],
      "text/plain": [
       "<IPython.core.display.HTML object>"
      ]
     },
     "metadata": {},
     "output_type": "display_data"
    },
    {
     "name": "stdout",
     "output_type": "stream",
     "text": [
      "Fetching artifact: eberrigan-salk-institute-for-biological-studies-org/wandb-registry-sleap-roots-models/rice-primary-2025-01-19_v000:latest\n"
     ]
    },
    {
     "name": "stderr",
     "output_type": "stream",
     "text": [
      "\u001b[34m\u001b[1mwandb\u001b[0m: \u001b[33mWARNING\u001b[0m Registries can be linked/fetched using a shorthand form without specifying the organization name. Try using shorthand path format: <my_registry_name>/<artifact_name> or just <my_registry_name> if fetching just the project.\n"
     ]
    },
    {
     "name": "stdout",
     "output_type": "stream",
     "text": [
      "Fetching artifact: eberrigan-salk-institute-for-biological-studies-org/wandb-registry-sleap-roots-models/sorghum-primary-2025-01-06_v000:latest\n"
     ]
    },
    {
     "name": "stderr",
     "output_type": "stream",
     "text": [
      "\u001b[34m\u001b[1mwandb\u001b[0m: \u001b[33mWARNING\u001b[0m Registries can be linked/fetched using a shorthand form without specifying the organization name. Try using shorthand path format: <my_registry_name>/<artifact_name> or just <my_registry_name> if fetching just the project.\n",
      "\u001b[34m\u001b[1mwandb\u001b[0m: Downloading large artifact rice-primary-2025-01-19_v000:latest, 248.76MB. 204 files... \n"
     ]
    },
    {
     "name": "stdout",
     "output_type": "stream",
     "text": [
      "Loaded test data from D:\\SLEAP\\20250102_generalizability_experiment\\primary\\sorghum\\train_test_split.v000\\test.pkg.slp.\n",
      "Test data saved to output/sorghum-primary-2025-01-06_v000_test_labels.slp\n"
     ]
    },
    {
     "name": "stderr",
     "output_type": "stream",
     "text": [
      "\u001b[34m\u001b[1mwandb\u001b[0m:   204 of 204 files downloaded.  \n",
      "Done. 0:0:0.9\n"
     ]
    },
    {
     "data": {
      "application/vnd.jupyter.widget-view+json": {
       "model_id": "d93bfa729c9d4430b262789b3e87ed9b",
       "version_major": 2,
       "version_minor": 0
      },
      "text/plain": [
       "Output()"
      ]
     },
     "metadata": {},
     "output_type": "display_data"
    },
    {
     "name": "stdout",
     "output_type": "stream",
     "text": [
      "Model loaded successfully from e:\\repositories\\sleap-roots-training\\artifacts\\rice-primary-2025-01-19_v000-v0.\n",
      "Bottom-up model loaded successfully: Model(backbone=UNet(stacks=1, filters=24, filters_rate=1.5, kernel_size=3, stem_kernel_size=7, convs_per_block=2, stem_blocks=0, down_blocks=6, middle_block=True, up_blocks=5, up_interpolate=True, block_contraction=False), heads=[MultiInstanceConfmapsHead(part_names=['r1', 'r2', 'r3', 'r4', 'r5', 'r6'], sigma=2.5, output_stride=2, loss_weight=1.0), PartAffinityFieldsHead(edges=[('r1', 'r2'), ('r2', 'r3'), ('r3', 'r4'), ('r4', 'r5'), ('r5', 'r6')], sigma=75.0, output_stride=8, loss_weight=1.0)], keras_model=<keras.engine.functional.Functional object at 0x00000207E8219108>).\n"
     ]
    },
    {
     "data": {
      "text/html": [
       "<pre style=\"white-space:pre;overflow-x:auto;line-height:normal;font-family:Menlo,'DejaVu Sans Mono',consolas,'Courier New',monospace\"></pre>\n"
      ],
      "text/plain": []
     },
     "metadata": {},
     "output_type": "display_data"
    },
    {
     "name": "stdout",
     "output_type": "stream",
     "text": [
      "INFO:sleap.nn.evals:OKS mAP: 0.000743\n",
      "Predictions saved to output/rice-primary-2025-01-19_v000_on_sorghum-primary-2025-01-06_v000_test_predictions.slp\n",
      "Metrics saved to output/rice-primary-2025-01-19_v000_on_sorghum-primary-2025-01-06_v000_metrics.csv\n",
      "Distances saved to output/rice-primary-2025-01-19_v000_on_sorghum-primary-2025-01-06_v000_distances.csv\n",
      "Distance histogram saved to output\\rice-primary-2025-01-19_v000_on_sorghum-primary-2025-01-06_v000_distance_histogram.png\n"
     ]
    },
    {
     "data": {
      "application/vnd.jupyter.widget-view+json": {
       "model_id": "76a8872aa7b34194ad19986d07e48659",
       "version_major": 2,
       "version_minor": 0
      },
      "text/plain": [
       "VBox(children=(Label(value='0.544 MB of 0.544 MB uploaded\\r'), FloatProgress(value=1.0, max=1.0)))"
      ]
     },
     "metadata": {},
     "output_type": "display_data"
    },
    {
     "data": {
      "text/html": [
       "\n",
       "    <style>\n",
       "        .wandb-row {\n",
       "            display: flex;\n",
       "            flex-direction: row;\n",
       "            flex-wrap: wrap;\n",
       "            justify-content: flex-start;\n",
       "            width: 100%;\n",
       "        }\n",
       "        .wandb-col {\n",
       "            display: flex;\n",
       "            flex-direction: column;\n",
       "            flex-basis: 100%;\n",
       "            flex: 1;\n",
       "            padding: 10px;\n",
       "        }\n",
       "    </style>\n",
       "<div class=\"wandb-row\"><div class=\"wandb-col\"><h3>Run summary:</h3><br/><table class=\"wandb\"><tr><td>dist_avg</td><td>7.48148</td></tr><tr><td>dist_p50</td><td>3.0719</td></tr><tr><td>dist_p90</td><td>20.87057</td></tr><tr><td>dist_p95</td><td>31.12629</td></tr><tr><td>dist_p99</td><td>47.9229</td></tr><tr><td>dist_std</td><td>10.50299</td></tr><tr><td>model_name</td><td>rice-primary-2025-01...</td></tr><tr><td>model_path</td><td>e:\\repositories\\slea...</td></tr><tr><td>oks_map</td><td>0.00074</td></tr><tr><td>oks_mar</td><td>0.00222</td></tr><tr><td>vis_prec</td><td>1</td></tr><tr><td>vis_recall</td><td>0.56667</td></tr></table><br/></div></div>"
      ],
      "text/plain": [
       "<IPython.core.display.HTML object>"
      ]
     },
     "metadata": {},
     "output_type": "display_data"
    },
    {
     "data": {
      "text/html": [
       " View run <strong style=\"color:#cdcd00\">evaluate_rice-primary-2025-01-19_v000_on_sorghum-primary-2025-01-06_v000</strong> at: <a href='https://wandb.ai/eberrigan-salk-institute-for-biological-studies/sleap-roots/runs/9ptgifaa' target=\"_blank\">https://wandb.ai/eberrigan-salk-institute-for-biological-studies/sleap-roots/runs/9ptgifaa</a><br/> View project at: <a href='https://wandb.ai/eberrigan-salk-institute-for-biological-studies/sleap-roots' target=\"_blank\">https://wandb.ai/eberrigan-salk-institute-for-biological-studies/sleap-roots</a><br/>Synced 7 W&B file(s), 0 media file(s), 4 artifact file(s) and 0 other file(s)"
      ],
      "text/plain": [
       "<IPython.core.display.HTML object>"
      ]
     },
     "metadata": {},
     "output_type": "display_data"
    },
    {
     "data": {
      "text/html": [
       "Find logs at: <code>.\\wandb\\run-20250207_140248-9ptgifaa\\logs</code>"
      ],
      "text/plain": [
       "<IPython.core.display.HTML object>"
      ]
     },
     "metadata": {},
     "output_type": "display_data"
    },
    {
     "data": {
      "text/html": [
       "Tracking run with wandb version 0.18.6"
      ],
      "text/plain": [
       "<IPython.core.display.HTML object>"
      ]
     },
     "metadata": {},
     "output_type": "display_data"
    },
    {
     "data": {
      "text/html": [
       "Run data is saved locally in <code>e:\\repositories\\sleap-roots-training\\wandb\\run-20250207_140313-otmm0y9b</code>"
      ],
      "text/plain": [
       "<IPython.core.display.HTML object>"
      ]
     },
     "metadata": {},
     "output_type": "display_data"
    },
    {
     "data": {
      "text/html": [
       "Syncing run <strong><a href='https://wandb.ai/eberrigan-salk-institute-for-biological-studies/sleap-roots/runs/otmm0y9b' target=\"_blank\">evaluate_rice-primary-2025-01-19_v001_on_sorghum-primary-2025-01-06_v001</a></strong> to <a href='https://wandb.ai/eberrigan-salk-institute-for-biological-studies/sleap-roots' target=\"_blank\">Weights & Biases</a> (<a href='https://wandb.me/developer-guide' target=\"_blank\">docs</a>)<br/>"
      ],
      "text/plain": [
       "<IPython.core.display.HTML object>"
      ]
     },
     "metadata": {},
     "output_type": "display_data"
    },
    {
     "data": {
      "text/html": [
       " View project at <a href='https://wandb.ai/eberrigan-salk-institute-for-biological-studies/sleap-roots' target=\"_blank\">https://wandb.ai/eberrigan-salk-institute-for-biological-studies/sleap-roots</a>"
      ],
      "text/plain": [
       "<IPython.core.display.HTML object>"
      ]
     },
     "metadata": {},
     "output_type": "display_data"
    },
    {
     "data": {
      "text/html": [
       " View run at <a href='https://wandb.ai/eberrigan-salk-institute-for-biological-studies/sleap-roots/runs/otmm0y9b' target=\"_blank\">https://wandb.ai/eberrigan-salk-institute-for-biological-studies/sleap-roots/runs/otmm0y9b</a>"
      ],
      "text/plain": [
       "<IPython.core.display.HTML object>"
      ]
     },
     "metadata": {},
     "output_type": "display_data"
    },
    {
     "name": "stdout",
     "output_type": "stream",
     "text": [
      "Fetching artifact: eberrigan-salk-institute-for-biological-studies-org/wandb-registry-sleap-roots-models/rice-primary-2025-01-19_v001:latest\n"
     ]
    },
    {
     "name": "stderr",
     "output_type": "stream",
     "text": [
      "\u001b[34m\u001b[1mwandb\u001b[0m: \u001b[33mWARNING\u001b[0m Registries can be linked/fetched using a shorthand form without specifying the organization name. Try using shorthand path format: <my_registry_name>/<artifact_name> or just <my_registry_name> if fetching just the project.\n"
     ]
    },
    {
     "name": "stdout",
     "output_type": "stream",
     "text": [
      "Fetching artifact: eberrigan-salk-institute-for-biological-studies-org/wandb-registry-sleap-roots-models/sorghum-primary-2025-01-06_v001:latest\n"
     ]
    },
    {
     "name": "stderr",
     "output_type": "stream",
     "text": [
      "\u001b[34m\u001b[1mwandb\u001b[0m: \u001b[33mWARNING\u001b[0m Registries can be linked/fetched using a shorthand form without specifying the organization name. Try using shorthand path format: <my_registry_name>/<artifact_name> or just <my_registry_name> if fetching just the project.\n",
      "\u001b[34m\u001b[1mwandb\u001b[0m: Downloading large artifact rice-primary-2025-01-19_v001:latest, 273.89MB. 232 files... \n"
     ]
    },
    {
     "name": "stdout",
     "output_type": "stream",
     "text": [
      "Loaded test data from D:\\SLEAP\\20250102_generalizability_experiment\\primary\\sorghum\\train_test_split.v001\\test.pkg.slp.\n",
      "Test data saved to output/sorghum-primary-2025-01-06_v001_test_labels.slp\n"
     ]
    },
    {
     "name": "stderr",
     "output_type": "stream",
     "text": [
      "\u001b[34m\u001b[1mwandb\u001b[0m:   232 of 232 files downloaded.  \n",
      "Done. 0:0:0.9\n"
     ]
    },
    {
     "data": {
      "application/vnd.jupyter.widget-view+json": {
       "model_id": "e13e72337e5049219177c893a6f4ce7e",
       "version_major": 2,
       "version_minor": 0
      },
      "text/plain": [
       "Output()"
      ]
     },
     "metadata": {},
     "output_type": "display_data"
    },
    {
     "name": "stdout",
     "output_type": "stream",
     "text": [
      "Model loaded successfully from e:\\repositories\\sleap-roots-training\\artifacts\\rice-primary-2025-01-19_v001-v0.\n",
      "Bottom-up model loaded successfully: Model(backbone=UNet(stacks=1, filters=24, filters_rate=1.5, kernel_size=3, stem_kernel_size=7, convs_per_block=2, stem_blocks=0, down_blocks=6, middle_block=True, up_blocks=5, up_interpolate=True, block_contraction=False), heads=[MultiInstanceConfmapsHead(part_names=['r1', 'r2', 'r3', 'r4', 'r5', 'r6'], sigma=2.5, output_stride=2, loss_weight=1.0), PartAffinityFieldsHead(edges=[('r1', 'r2'), ('r2', 'r3'), ('r3', 'r4'), ('r4', 'r5'), ('r5', 'r6')], sigma=75.0, output_stride=8, loss_weight=1.0)], keras_model=<keras.engine.functional.Functional object at 0x00000205D5366508>).\n"
     ]
    },
    {
     "data": {
      "text/html": [
       "<pre style=\"white-space:pre;overflow-x:auto;line-height:normal;font-family:Menlo,'DejaVu Sans Mono',consolas,'Courier New',monospace\"></pre>\n"
      ],
      "text/plain": []
     },
     "metadata": {},
     "output_type": "display_data"
    },
    {
     "name": "stdout",
     "output_type": "stream",
     "text": [
      "INFO:sleap.nn.evals:OKS mAP: 0.001718\n",
      "Predictions saved to output/rice-primary-2025-01-19_v001_on_sorghum-primary-2025-01-06_v001_test_predictions.slp\n",
      "Metrics saved to output/rice-primary-2025-01-19_v001_on_sorghum-primary-2025-01-06_v001_metrics.csv\n",
      "Distances saved to output/rice-primary-2025-01-19_v001_on_sorghum-primary-2025-01-06_v001_distances.csv\n",
      "Distance histogram saved to output\\rice-primary-2025-01-19_v001_on_sorghum-primary-2025-01-06_v001_distance_histogram.png\n"
     ]
    },
    {
     "data": {
      "application/vnd.jupyter.widget-view+json": {
       "model_id": "773f50b9437b4299a7a10f1125d2b175",
       "version_major": 2,
       "version_minor": 0
      },
      "text/plain": [
       "VBox(children=(Label(value='0.578 MB of 0.578 MB uploaded\\r'), FloatProgress(value=1.0, max=1.0)))"
      ]
     },
     "metadata": {},
     "output_type": "display_data"
    },
    {
     "data": {
      "text/html": [
       "\n",
       "    <style>\n",
       "        .wandb-row {\n",
       "            display: flex;\n",
       "            flex-direction: row;\n",
       "            flex-wrap: wrap;\n",
       "            justify-content: flex-start;\n",
       "            width: 100%;\n",
       "        }\n",
       "        .wandb-col {\n",
       "            display: flex;\n",
       "            flex-direction: column;\n",
       "            flex-basis: 100%;\n",
       "            flex: 1;\n",
       "            padding: 10px;\n",
       "        }\n",
       "    </style>\n",
       "<div class=\"wandb-row\"><div class=\"wandb-col\"><h3>Run summary:</h3><br/><table class=\"wandb\"><tr><td>dist_avg</td><td>5.64329</td></tr><tr><td>dist_p50</td><td>1.99042</td></tr><tr><td>dist_p90</td><td>17.30812</td></tr><tr><td>dist_p95</td><td>28.98295</td></tr><tr><td>dist_p99</td><td>41.55582</td></tr><tr><td>dist_std</td><td>9.43182</td></tr><tr><td>model_name</td><td>rice-primary-2025-01...</td></tr><tr><td>model_path</td><td>e:\\repositories\\slea...</td></tr><tr><td>oks_map</td><td>0.00172</td></tr><tr><td>oks_mar</td><td>0.00667</td></tr><tr><td>vis_prec</td><td>1</td></tr><tr><td>vis_recall</td><td>0.60965</td></tr></table><br/></div></div>"
      ],
      "text/plain": [
       "<IPython.core.display.HTML object>"
      ]
     },
     "metadata": {},
     "output_type": "display_data"
    },
    {
     "data": {
      "text/html": [
       " View run <strong style=\"color:#cdcd00\">evaluate_rice-primary-2025-01-19_v001_on_sorghum-primary-2025-01-06_v001</strong> at: <a href='https://wandb.ai/eberrigan-salk-institute-for-biological-studies/sleap-roots/runs/otmm0y9b' target=\"_blank\">https://wandb.ai/eberrigan-salk-institute-for-biological-studies/sleap-roots/runs/otmm0y9b</a><br/> View project at: <a href='https://wandb.ai/eberrigan-salk-institute-for-biological-studies/sleap-roots' target=\"_blank\">https://wandb.ai/eberrigan-salk-institute-for-biological-studies/sleap-roots</a><br/>Synced 7 W&B file(s), 0 media file(s), 8 artifact file(s) and 0 other file(s)"
      ],
      "text/plain": [
       "<IPython.core.display.HTML object>"
      ]
     },
     "metadata": {},
     "output_type": "display_data"
    },
    {
     "data": {
      "text/html": [
       "Find logs at: <code>.\\wandb\\run-20250207_140313-otmm0y9b\\logs</code>"
      ],
      "text/plain": [
       "<IPython.core.display.HTML object>"
      ]
     },
     "metadata": {},
     "output_type": "display_data"
    },
    {
     "data": {
      "text/html": [
       "Tracking run with wandb version 0.18.6"
      ],
      "text/plain": [
       "<IPython.core.display.HTML object>"
      ]
     },
     "metadata": {},
     "output_type": "display_data"
    },
    {
     "data": {
      "text/html": [
       "Run data is saved locally in <code>e:\\repositories\\sleap-roots-training\\wandb\\run-20250207_140340-gndfz06u</code>"
      ],
      "text/plain": [
       "<IPython.core.display.HTML object>"
      ]
     },
     "metadata": {},
     "output_type": "display_data"
    },
    {
     "data": {
      "text/html": [
       "Syncing run <strong><a href='https://wandb.ai/eberrigan-salk-institute-for-biological-studies/sleap-roots/runs/gndfz06u' target=\"_blank\">evaluate_rice-primary-2025-01-19_v002_on_sorghum-primary-2025-01-06_v002</a></strong> to <a href='https://wandb.ai/eberrigan-salk-institute-for-biological-studies/sleap-roots' target=\"_blank\">Weights & Biases</a> (<a href='https://wandb.me/developer-guide' target=\"_blank\">docs</a>)<br/>"
      ],
      "text/plain": [
       "<IPython.core.display.HTML object>"
      ]
     },
     "metadata": {},
     "output_type": "display_data"
    },
    {
     "data": {
      "text/html": [
       " View project at <a href='https://wandb.ai/eberrigan-salk-institute-for-biological-studies/sleap-roots' target=\"_blank\">https://wandb.ai/eberrigan-salk-institute-for-biological-studies/sleap-roots</a>"
      ],
      "text/plain": [
       "<IPython.core.display.HTML object>"
      ]
     },
     "metadata": {},
     "output_type": "display_data"
    },
    {
     "data": {
      "text/html": [
       " View run at <a href='https://wandb.ai/eberrigan-salk-institute-for-biological-studies/sleap-roots/runs/gndfz06u' target=\"_blank\">https://wandb.ai/eberrigan-salk-institute-for-biological-studies/sleap-roots/runs/gndfz06u</a>"
      ],
      "text/plain": [
       "<IPython.core.display.HTML object>"
      ]
     },
     "metadata": {},
     "output_type": "display_data"
    },
    {
     "name": "stdout",
     "output_type": "stream",
     "text": [
      "Fetching artifact: eberrigan-salk-institute-for-biological-studies-org/wandb-registry-sleap-roots-models/rice-primary-2025-01-19_v002:latest\n"
     ]
    },
    {
     "name": "stderr",
     "output_type": "stream",
     "text": [
      "\u001b[34m\u001b[1mwandb\u001b[0m: \u001b[33mWARNING\u001b[0m Registries can be linked/fetched using a shorthand form without specifying the organization name. Try using shorthand path format: <my_registry_name>/<artifact_name> or just <my_registry_name> if fetching just the project.\n"
     ]
    },
    {
     "name": "stdout",
     "output_type": "stream",
     "text": [
      "Fetching artifact: eberrigan-salk-institute-for-biological-studies-org/wandb-registry-sleap-roots-models/sorghum-primary-2025-01-06_v002:latest\n"
     ]
    },
    {
     "name": "stderr",
     "output_type": "stream",
     "text": [
      "\u001b[34m\u001b[1mwandb\u001b[0m: \u001b[33mWARNING\u001b[0m Registries can be linked/fetched using a shorthand form without specifying the organization name. Try using shorthand path format: <my_registry_name>/<artifact_name> or just <my_registry_name> if fetching just the project.\n",
      "\u001b[34m\u001b[1mwandb\u001b[0m: Downloading large artifact rice-primary-2025-01-19_v002:latest, 274.83MB. 236 files... \n"
     ]
    },
    {
     "name": "stdout",
     "output_type": "stream",
     "text": [
      "Loaded test data from D:\\SLEAP\\20250102_generalizability_experiment\\primary\\sorghum\\train_test_split.v002\\test.pkg.slp.\n",
      "Test data saved to output/sorghum-primary-2025-01-06_v002_test_labels.slp\n"
     ]
    },
    {
     "name": "stderr",
     "output_type": "stream",
     "text": [
      "\u001b[34m\u001b[1mwandb\u001b[0m:   236 of 236 files downloaded.  \n",
      "Done. 0:0:1.4\n"
     ]
    },
    {
     "data": {
      "application/vnd.jupyter.widget-view+json": {
       "model_id": "617f5fd5ff5c41b2baf1042e9854078b",
       "version_major": 2,
       "version_minor": 0
      },
      "text/plain": [
       "Output()"
      ]
     },
     "metadata": {},
     "output_type": "display_data"
    },
    {
     "name": "stdout",
     "output_type": "stream",
     "text": [
      "Model loaded successfully from e:\\repositories\\sleap-roots-training\\artifacts\\rice-primary-2025-01-19_v002-v0.\n",
      "Bottom-up model loaded successfully: Model(backbone=UNet(stacks=1, filters=24, filters_rate=1.5, kernel_size=3, stem_kernel_size=7, convs_per_block=2, stem_blocks=0, down_blocks=6, middle_block=True, up_blocks=5, up_interpolate=True, block_contraction=False), heads=[MultiInstanceConfmapsHead(part_names=['r1', 'r2', 'r3', 'r4', 'r5', 'r6'], sigma=2.5, output_stride=2, loss_weight=1.0), PartAffinityFieldsHead(edges=[('r1', 'r2'), ('r2', 'r3'), ('r3', 'r4'), ('r4', 'r5'), ('r5', 'r6')], sigma=75.0, output_stride=8, loss_weight=1.0)], keras_model=<keras.engine.functional.Functional object at 0x00000206D06C5F88>).\n"
     ]
    },
    {
     "data": {
      "text/html": [
       "<pre style=\"white-space:pre;overflow-x:auto;line-height:normal;font-family:Menlo,'DejaVu Sans Mono',consolas,'Courier New',monospace\"></pre>\n"
      ],
      "text/plain": []
     },
     "metadata": {},
     "output_type": "display_data"
    },
    {
     "name": "stdout",
     "output_type": "stream",
     "text": [
      "INFO:sleap.nn.evals:OKS mAP: 0.008267\n",
      "Predictions saved to output/rice-primary-2025-01-19_v002_on_sorghum-primary-2025-01-06_v002_test_predictions.slp\n",
      "Metrics saved to output/rice-primary-2025-01-19_v002_on_sorghum-primary-2025-01-06_v002_metrics.csv\n",
      "Distances saved to output/rice-primary-2025-01-19_v002_on_sorghum-primary-2025-01-06_v002_distances.csv\n",
      "Distance histogram saved to output\\rice-primary-2025-01-19_v002_on_sorghum-primary-2025-01-06_v002_distance_histogram.png\n"
     ]
    },
    {
     "data": {
      "application/vnd.jupyter.widget-view+json": {
       "model_id": "1929c98c76a741ca9ad2106716fe4bbf",
       "version_major": 2,
       "version_minor": 0
      },
      "text/plain": [
       "VBox(children=(Label(value='0.543 MB of 0.543 MB uploaded\\r'), FloatProgress(value=1.0, max=1.0)))"
      ]
     },
     "metadata": {},
     "output_type": "display_data"
    },
    {
     "data": {
      "text/html": [
       "\n",
       "    <style>\n",
       "        .wandb-row {\n",
       "            display: flex;\n",
       "            flex-direction: row;\n",
       "            flex-wrap: wrap;\n",
       "            justify-content: flex-start;\n",
       "            width: 100%;\n",
       "        }\n",
       "        .wandb-col {\n",
       "            display: flex;\n",
       "            flex-direction: column;\n",
       "            flex-basis: 100%;\n",
       "            flex: 1;\n",
       "            padding: 10px;\n",
       "        }\n",
       "    </style>\n",
       "<div class=\"wandb-row\"><div class=\"wandb-col\"><h3>Run summary:</h3><br/><table class=\"wandb\"><tr><td>dist_avg</td><td>4.31877</td></tr><tr><td>dist_p50</td><td>2.62247</td></tr><tr><td>dist_p90</td><td>9.11062</td></tr><tr><td>dist_p95</td><td>12.80708</td></tr><tr><td>dist_p99</td><td>30.70498</td></tr><tr><td>dist_std</td><td>5.9174</td></tr><tr><td>model_name</td><td>rice-primary-2025-01...</td></tr><tr><td>model_path</td><td>e:\\repositories\\slea...</td></tr><tr><td>oks_map</td><td>0.00827</td></tr><tr><td>oks_mar</td><td>0.01111</td></tr><tr><td>vis_prec</td><td>1</td></tr><tr><td>vis_recall</td><td>0.58333</td></tr></table><br/></div></div>"
      ],
      "text/plain": [
       "<IPython.core.display.HTML object>"
      ]
     },
     "metadata": {},
     "output_type": "display_data"
    },
    {
     "data": {
      "text/html": [
       " View run <strong style=\"color:#cdcd00\">evaluate_rice-primary-2025-01-19_v002_on_sorghum-primary-2025-01-06_v002</strong> at: <a href='https://wandb.ai/eberrigan-salk-institute-for-biological-studies/sleap-roots/runs/gndfz06u' target=\"_blank\">https://wandb.ai/eberrigan-salk-institute-for-biological-studies/sleap-roots/runs/gndfz06u</a><br/> View project at: <a href='https://wandb.ai/eberrigan-salk-institute-for-biological-studies/sleap-roots' target=\"_blank\">https://wandb.ai/eberrigan-salk-institute-for-biological-studies/sleap-roots</a><br/>Synced 7 W&B file(s), 0 media file(s), 8 artifact file(s) and 0 other file(s)"
      ],
      "text/plain": [
       "<IPython.core.display.HTML object>"
      ]
     },
     "metadata": {},
     "output_type": "display_data"
    },
    {
     "data": {
      "text/html": [
       "Find logs at: <code>.\\wandb\\run-20250207_140340-gndfz06u\\logs</code>"
      ],
      "text/plain": [
       "<IPython.core.display.HTML object>"
      ]
     },
     "metadata": {},
     "output_type": "display_data"
    },
    {
     "data": {
      "text/html": [
       "Tracking run with wandb version 0.18.6"
      ],
      "text/plain": [
       "<IPython.core.display.HTML object>"
      ]
     },
     "metadata": {},
     "output_type": "display_data"
    },
    {
     "data": {
      "text/html": [
       "Run data is saved locally in <code>e:\\repositories\\sleap-roots-training\\wandb\\run-20250207_140406-db3idmyw</code>"
      ],
      "text/plain": [
       "<IPython.core.display.HTML object>"
      ]
     },
     "metadata": {},
     "output_type": "display_data"
    },
    {
     "data": {
      "text/html": [
       "Syncing run <strong><a href='https://wandb.ai/eberrigan-salk-institute-for-biological-studies/sleap-roots/runs/db3idmyw' target=\"_blank\">evaluate_canola-primary-2025-01-19_v000_on_sorghum-primary-2025-01-06_v000</a></strong> to <a href='https://wandb.ai/eberrigan-salk-institute-for-biological-studies/sleap-roots' target=\"_blank\">Weights & Biases</a> (<a href='https://wandb.me/developer-guide' target=\"_blank\">docs</a>)<br/>"
      ],
      "text/plain": [
       "<IPython.core.display.HTML object>"
      ]
     },
     "metadata": {},
     "output_type": "display_data"
    },
    {
     "data": {
      "text/html": [
       " View project at <a href='https://wandb.ai/eberrigan-salk-institute-for-biological-studies/sleap-roots' target=\"_blank\">https://wandb.ai/eberrigan-salk-institute-for-biological-studies/sleap-roots</a>"
      ],
      "text/plain": [
       "<IPython.core.display.HTML object>"
      ]
     },
     "metadata": {},
     "output_type": "display_data"
    },
    {
     "data": {
      "text/html": [
       " View run at <a href='https://wandb.ai/eberrigan-salk-institute-for-biological-studies/sleap-roots/runs/db3idmyw' target=\"_blank\">https://wandb.ai/eberrigan-salk-institute-for-biological-studies/sleap-roots/runs/db3idmyw</a>"
      ],
      "text/plain": [
       "<IPython.core.display.HTML object>"
      ]
     },
     "metadata": {},
     "output_type": "display_data"
    },
    {
     "name": "stdout",
     "output_type": "stream",
     "text": [
      "Fetching artifact: eberrigan-salk-institute-for-biological-studies-org/wandb-registry-sleap-roots-models/canola-primary-2025-01-19_v000:latest\n"
     ]
    },
    {
     "name": "stderr",
     "output_type": "stream",
     "text": [
      "\u001b[34m\u001b[1mwandb\u001b[0m: \u001b[33mWARNING\u001b[0m Registries can be linked/fetched using a shorthand form without specifying the organization name. Try using shorthand path format: <my_registry_name>/<artifact_name> or just <my_registry_name> if fetching just the project.\n"
     ]
    },
    {
     "name": "stdout",
     "output_type": "stream",
     "text": [
      "Fetching artifact: eberrigan-salk-institute-for-biological-studies-org/wandb-registry-sleap-roots-models/sorghum-primary-2025-01-06_v000:latest\n"
     ]
    },
    {
     "name": "stderr",
     "output_type": "stream",
     "text": [
      "\u001b[34m\u001b[1mwandb\u001b[0m: \u001b[33mWARNING\u001b[0m Registries can be linked/fetched using a shorthand form without specifying the organization name. Try using shorthand path format: <my_registry_name>/<artifact_name> or just <my_registry_name> if fetching just the project.\n",
      "\u001b[34m\u001b[1mwandb\u001b[0m: Downloading large artifact canola-primary-2025-01-19_v000:latest, 59.55MB. 16 files... \n"
     ]
    },
    {
     "name": "stdout",
     "output_type": "stream",
     "text": [
      "Loaded test data from D:\\SLEAP\\20250102_generalizability_experiment\\primary\\sorghum\\train_test_split.v000\\test.pkg.slp.\n",
      "Test data saved to output/sorghum-primary-2025-01-06_v000_test_labels.slp\n"
     ]
    },
    {
     "name": "stderr",
     "output_type": "stream",
     "text": [
      "\u001b[34m\u001b[1mwandb\u001b[0m:   16 of 16 files downloaded.  \n",
      "Done. 0:0:0.4\n"
     ]
    },
    {
     "data": {
      "application/vnd.jupyter.widget-view+json": {
       "model_id": "5c30e52cbffe4f40a420caff08071aba",
       "version_major": 2,
       "version_minor": 0
      },
      "text/plain": [
       "Output()"
      ]
     },
     "metadata": {},
     "output_type": "display_data"
    },
    {
     "name": "stdout",
     "output_type": "stream",
     "text": [
      "Model loaded successfully from e:\\repositories\\sleap-roots-training\\artifacts\\canola-primary-2025-01-19_v000-v0.\n",
      "Bottom-up model loaded successfully: Model(backbone=UNet(stacks=1, filters=24, filters_rate=1.5, kernel_size=3, stem_kernel_size=7, convs_per_block=2, stem_blocks=0, down_blocks=6, middle_block=True, up_blocks=5, up_interpolate=True, block_contraction=False), heads=[MultiInstanceConfmapsHead(part_names=['r1', 'r2', 'r3', 'r4', 'r5', 'r6'], sigma=2.5, output_stride=2, loss_weight=1.0), PartAffinityFieldsHead(edges=[('r1', 'r2'), ('r2', 'r3'), ('r3', 'r4'), ('r4', 'r5'), ('r5', 'r6')], sigma=75.0, output_stride=8, loss_weight=1.0)], keras_model=<keras.engine.functional.Functional object at 0x00000205BAB4F948>).\n"
     ]
    },
    {
     "data": {
      "text/html": [
       "<pre style=\"white-space:pre;overflow-x:auto;line-height:normal;font-family:Menlo,'DejaVu Sans Mono',consolas,'Courier New',monospace\"></pre>\n"
      ],
      "text/plain": []
     },
     "metadata": {},
     "output_type": "display_data"
    },
    {
     "name": "stdout",
     "output_type": "stream",
     "text": [
      "INFO:sleap.nn.evals:OKS mAP: 0.007850\n",
      "Predictions saved to output/canola-primary-2025-01-19_v000_on_sorghum-primary-2025-01-06_v000_test_predictions.slp\n",
      "Metrics saved to output/canola-primary-2025-01-19_v000_on_sorghum-primary-2025-01-06_v000_metrics.csv\n",
      "Distances saved to output/canola-primary-2025-01-19_v000_on_sorghum-primary-2025-01-06_v000_distances.csv\n",
      "Distance histogram saved to output\\canola-primary-2025-01-19_v000_on_sorghum-primary-2025-01-06_v000_distance_histogram.png\n"
     ]
    },
    {
     "data": {
      "application/vnd.jupyter.widget-view+json": {
       "model_id": "1ffb19a5cd524eab94edc48405b116c2",
       "version_major": 2,
       "version_minor": 0
      },
      "text/plain": [
       "VBox(children=(Label(value='0.605 MB of 0.605 MB uploaded\\r'), FloatProgress(value=1.0, max=1.0)))"
      ]
     },
     "metadata": {},
     "output_type": "display_data"
    },
    {
     "data": {
      "text/html": [
       "\n",
       "    <style>\n",
       "        .wandb-row {\n",
       "            display: flex;\n",
       "            flex-direction: row;\n",
       "            flex-wrap: wrap;\n",
       "            justify-content: flex-start;\n",
       "            width: 100%;\n",
       "        }\n",
       "        .wandb-col {\n",
       "            display: flex;\n",
       "            flex-direction: column;\n",
       "            flex-basis: 100%;\n",
       "            flex: 1;\n",
       "            padding: 10px;\n",
       "        }\n",
       "    </style>\n",
       "<div class=\"wandb-row\"><div class=\"wandb-col\"><h3>Run summary:</h3><br/><table class=\"wandb\"><tr><td>dist_avg</td><td>4.56004</td></tr><tr><td>dist_p50</td><td>2.89563</td></tr><tr><td>dist_p90</td><td>10.54466</td></tr><tr><td>dist_p95</td><td>15.89047</td></tr><tr><td>dist_p99</td><td>21.8647</td></tr><tr><td>dist_std</td><td>4.98259</td></tr><tr><td>model_name</td><td>canola-primary-2025-...</td></tr><tr><td>model_path</td><td>e:\\repositories\\slea...</td></tr><tr><td>oks_map</td><td>0.00785</td></tr><tr><td>oks_mar</td><td>0.01556</td></tr><tr><td>vis_prec</td><td>1</td></tr><tr><td>vis_recall</td><td>0.6</td></tr></table><br/></div></div>"
      ],
      "text/plain": [
       "<IPython.core.display.HTML object>"
      ]
     },
     "metadata": {},
     "output_type": "display_data"
    },
    {
     "data": {
      "text/html": [
       " View run <strong style=\"color:#cdcd00\">evaluate_canola-primary-2025-01-19_v000_on_sorghum-primary-2025-01-06_v000</strong> at: <a href='https://wandb.ai/eberrigan-salk-institute-for-biological-studies/sleap-roots/runs/db3idmyw' target=\"_blank\">https://wandb.ai/eberrigan-salk-institute-for-biological-studies/sleap-roots/runs/db3idmyw</a><br/> View project at: <a href='https://wandb.ai/eberrigan-salk-institute-for-biological-studies/sleap-roots' target=\"_blank\">https://wandb.ai/eberrigan-salk-institute-for-biological-studies/sleap-roots</a><br/>Synced 7 W&B file(s), 0 media file(s), 4 artifact file(s) and 0 other file(s)"
      ],
      "text/plain": [
       "<IPython.core.display.HTML object>"
      ]
     },
     "metadata": {},
     "output_type": "display_data"
    },
    {
     "data": {
      "text/html": [
       "Find logs at: <code>.\\wandb\\run-20250207_140406-db3idmyw\\logs</code>"
      ],
      "text/plain": [
       "<IPython.core.display.HTML object>"
      ]
     },
     "metadata": {},
     "output_type": "display_data"
    },
    {
     "data": {
      "text/html": [
       "Tracking run with wandb version 0.18.6"
      ],
      "text/plain": [
       "<IPython.core.display.HTML object>"
      ]
     },
     "metadata": {},
     "output_type": "display_data"
    },
    {
     "data": {
      "text/html": [
       "Run data is saved locally in <code>e:\\repositories\\sleap-roots-training\\wandb\\run-20250207_140431-yd3vfegt</code>"
      ],
      "text/plain": [
       "<IPython.core.display.HTML object>"
      ]
     },
     "metadata": {},
     "output_type": "display_data"
    },
    {
     "data": {
      "text/html": [
       "Syncing run <strong><a href='https://wandb.ai/eberrigan-salk-institute-for-biological-studies/sleap-roots/runs/yd3vfegt' target=\"_blank\">evaluate_canola-primary-2025-01-19_v001_on_sorghum-primary-2025-01-06_v001</a></strong> to <a href='https://wandb.ai/eberrigan-salk-institute-for-biological-studies/sleap-roots' target=\"_blank\">Weights & Biases</a> (<a href='https://wandb.me/developer-guide' target=\"_blank\">docs</a>)<br/>"
      ],
      "text/plain": [
       "<IPython.core.display.HTML object>"
      ]
     },
     "metadata": {},
     "output_type": "display_data"
    },
    {
     "data": {
      "text/html": [
       " View project at <a href='https://wandb.ai/eberrigan-salk-institute-for-biological-studies/sleap-roots' target=\"_blank\">https://wandb.ai/eberrigan-salk-institute-for-biological-studies/sleap-roots</a>"
      ],
      "text/plain": [
       "<IPython.core.display.HTML object>"
      ]
     },
     "metadata": {},
     "output_type": "display_data"
    },
    {
     "data": {
      "text/html": [
       " View run at <a href='https://wandb.ai/eberrigan-salk-institute-for-biological-studies/sleap-roots/runs/yd3vfegt' target=\"_blank\">https://wandb.ai/eberrigan-salk-institute-for-biological-studies/sleap-roots/runs/yd3vfegt</a>"
      ],
      "text/plain": [
       "<IPython.core.display.HTML object>"
      ]
     },
     "metadata": {},
     "output_type": "display_data"
    },
    {
     "name": "stdout",
     "output_type": "stream",
     "text": [
      "Fetching artifact: eberrigan-salk-institute-for-biological-studies-org/wandb-registry-sleap-roots-models/canola-primary-2025-01-19_v001:latest\n"
     ]
    },
    {
     "name": "stderr",
     "output_type": "stream",
     "text": [
      "\u001b[34m\u001b[1mwandb\u001b[0m: \u001b[33mWARNING\u001b[0m Registries can be linked/fetched using a shorthand form without specifying the organization name. Try using shorthand path format: <my_registry_name>/<artifact_name> or just <my_registry_name> if fetching just the project.\n"
     ]
    },
    {
     "name": "stdout",
     "output_type": "stream",
     "text": [
      "Fetching artifact: eberrigan-salk-institute-for-biological-studies-org/wandb-registry-sleap-roots-models/sorghum-primary-2025-01-06_v001:latest\n"
     ]
    },
    {
     "name": "stderr",
     "output_type": "stream",
     "text": [
      "\u001b[34m\u001b[1mwandb\u001b[0m: \u001b[33mWARNING\u001b[0m Registries can be linked/fetched using a shorthand form without specifying the organization name. Try using shorthand path format: <my_registry_name>/<artifact_name> or just <my_registry_name> if fetching just the project.\n",
      "\u001b[34m\u001b[1mwandb\u001b[0m: Downloading large artifact canola-primary-2025-01-19_v001:latest, 59.55MB. 16 files... \n"
     ]
    },
    {
     "name": "stdout",
     "output_type": "stream",
     "text": [
      "Loaded test data from D:\\SLEAP\\20250102_generalizability_experiment\\primary\\sorghum\\train_test_split.v001\\test.pkg.slp.\n",
      "Test data saved to output/sorghum-primary-2025-01-06_v001_test_labels.slp\n"
     ]
    },
    {
     "name": "stderr",
     "output_type": "stream",
     "text": [
      "\u001b[34m\u001b[1mwandb\u001b[0m:   16 of 16 files downloaded.  \n",
      "Done. 0:0:0.3\n"
     ]
    },
    {
     "data": {
      "application/vnd.jupyter.widget-view+json": {
       "model_id": "8c7728c82cfc437aae7ad1545b72d6da",
       "version_major": 2,
       "version_minor": 0
      },
      "text/plain": [
       "Output()"
      ]
     },
     "metadata": {},
     "output_type": "display_data"
    },
    {
     "name": "stdout",
     "output_type": "stream",
     "text": [
      "Model loaded successfully from e:\\repositories\\sleap-roots-training\\artifacts\\canola-primary-2025-01-19_v001-v0.\n",
      "Bottom-up model loaded successfully: Model(backbone=UNet(stacks=1, filters=24, filters_rate=1.5, kernel_size=3, stem_kernel_size=7, convs_per_block=2, stem_blocks=0, down_blocks=6, middle_block=True, up_blocks=5, up_interpolate=True, block_contraction=False), heads=[MultiInstanceConfmapsHead(part_names=['r1', 'r2', 'r3', 'r4', 'r5', 'r6'], sigma=2.5, output_stride=2, loss_weight=1.0), PartAffinityFieldsHead(edges=[('r1', 'r2'), ('r2', 'r3'), ('r3', 'r4'), ('r4', 'r5'), ('r5', 'r6')], sigma=75.0, output_stride=8, loss_weight=1.0)], keras_model=<keras.engine.functional.Functional object at 0x00000207F34FFD88>).\n"
     ]
    },
    {
     "data": {
      "text/html": [
       "<pre style=\"white-space:pre;overflow-x:auto;line-height:normal;font-family:Menlo,'DejaVu Sans Mono',consolas,'Courier New',monospace\"></pre>\n"
      ],
      "text/plain": []
     },
     "metadata": {},
     "output_type": "display_data"
    },
    {
     "name": "stdout",
     "output_type": "stream",
     "text": [
      "INFO:sleap.nn.evals:OKS mAP: 0.010891\n",
      "Predictions saved to output/canola-primary-2025-01-19_v001_on_sorghum-primary-2025-01-06_v001_test_predictions.slp\n",
      "Metrics saved to output/canola-primary-2025-01-19_v001_on_sorghum-primary-2025-01-06_v001_metrics.csv\n",
      "Distances saved to output/canola-primary-2025-01-19_v001_on_sorghum-primary-2025-01-06_v001_distances.csv\n",
      "Distance histogram saved to output\\canola-primary-2025-01-19_v001_on_sorghum-primary-2025-01-06_v001_distance_histogram.png\n"
     ]
    },
    {
     "data": {
      "application/vnd.jupyter.widget-view+json": {
       "model_id": "cadfd1394b15453a9fb93bc55709327c",
       "version_major": 2,
       "version_minor": 0
      },
      "text/plain": [
       "VBox(children=(Label(value='0.583 MB of 0.583 MB uploaded\\r'), FloatProgress(value=1.0, max=1.0)))"
      ]
     },
     "metadata": {},
     "output_type": "display_data"
    },
    {
     "data": {
      "text/html": [
       "\n",
       "    <style>\n",
       "        .wandb-row {\n",
       "            display: flex;\n",
       "            flex-direction: row;\n",
       "            flex-wrap: wrap;\n",
       "            justify-content: flex-start;\n",
       "            width: 100%;\n",
       "        }\n",
       "        .wandb-col {\n",
       "            display: flex;\n",
       "            flex-direction: column;\n",
       "            flex-basis: 100%;\n",
       "            flex: 1;\n",
       "            padding: 10px;\n",
       "        }\n",
       "    </style>\n",
       "<div class=\"wandb-row\"><div class=\"wandb-col\"><h3>Run summary:</h3><br/><table class=\"wandb\"><tr><td>dist_avg</td><td>4.76639</td></tr><tr><td>dist_p50</td><td>1.75807</td></tr><tr><td>dist_p90</td><td>14.60728</td></tr><tr><td>dist_p95</td><td>20.33221</td></tr><tr><td>dist_p99</td><td>31.8376</td></tr><tr><td>dist_std</td><td>7.18419</td></tr><tr><td>model_name</td><td>canola-primary-2025-...</td></tr><tr><td>model_path</td><td>e:\\repositories\\slea...</td></tr><tr><td>oks_map</td><td>0.01089</td></tr><tr><td>oks_mar</td><td>0.02444</td></tr><tr><td>vis_prec</td><td>1</td></tr><tr><td>vis_recall</td><td>0.59402</td></tr></table><br/></div></div>"
      ],
      "text/plain": [
       "<IPython.core.display.HTML object>"
      ]
     },
     "metadata": {},
     "output_type": "display_data"
    },
    {
     "data": {
      "text/html": [
       " View run <strong style=\"color:#cdcd00\">evaluate_canola-primary-2025-01-19_v001_on_sorghum-primary-2025-01-06_v001</strong> at: <a href='https://wandb.ai/eberrigan-salk-institute-for-biological-studies/sleap-roots/runs/yd3vfegt' target=\"_blank\">https://wandb.ai/eberrigan-salk-institute-for-biological-studies/sleap-roots/runs/yd3vfegt</a><br/> View project at: <a href='https://wandb.ai/eberrigan-salk-institute-for-biological-studies/sleap-roots' target=\"_blank\">https://wandb.ai/eberrigan-salk-institute-for-biological-studies/sleap-roots</a><br/>Synced 7 W&B file(s), 0 media file(s), 8 artifact file(s) and 0 other file(s)"
      ],
      "text/plain": [
       "<IPython.core.display.HTML object>"
      ]
     },
     "metadata": {},
     "output_type": "display_data"
    },
    {
     "data": {
      "text/html": [
       "Find logs at: <code>.\\wandb\\run-20250207_140431-yd3vfegt\\logs</code>"
      ],
      "text/plain": [
       "<IPython.core.display.HTML object>"
      ]
     },
     "metadata": {},
     "output_type": "display_data"
    },
    {
     "data": {
      "text/html": [
       "Tracking run with wandb version 0.18.6"
      ],
      "text/plain": [
       "<IPython.core.display.HTML object>"
      ]
     },
     "metadata": {},
     "output_type": "display_data"
    },
    {
     "data": {
      "text/html": [
       "Run data is saved locally in <code>e:\\repositories\\sleap-roots-training\\wandb\\run-20250207_140500-juvkfy74</code>"
      ],
      "text/plain": [
       "<IPython.core.display.HTML object>"
      ]
     },
     "metadata": {},
     "output_type": "display_data"
    },
    {
     "data": {
      "text/html": [
       "Syncing run <strong><a href='https://wandb.ai/eberrigan-salk-institute-for-biological-studies/sleap-roots/runs/juvkfy74' target=\"_blank\">evaluate_canola-primary-2025-01-19_v002_on_sorghum-primary-2025-01-06_v002</a></strong> to <a href='https://wandb.ai/eberrigan-salk-institute-for-biological-studies/sleap-roots' target=\"_blank\">Weights & Biases</a> (<a href='https://wandb.me/developer-guide' target=\"_blank\">docs</a>)<br/>"
      ],
      "text/plain": [
       "<IPython.core.display.HTML object>"
      ]
     },
     "metadata": {},
     "output_type": "display_data"
    },
    {
     "data": {
      "text/html": [
       " View project at <a href='https://wandb.ai/eberrigan-salk-institute-for-biological-studies/sleap-roots' target=\"_blank\">https://wandb.ai/eberrigan-salk-institute-for-biological-studies/sleap-roots</a>"
      ],
      "text/plain": [
       "<IPython.core.display.HTML object>"
      ]
     },
     "metadata": {},
     "output_type": "display_data"
    },
    {
     "data": {
      "text/html": [
       " View run at <a href='https://wandb.ai/eberrigan-salk-institute-for-biological-studies/sleap-roots/runs/juvkfy74' target=\"_blank\">https://wandb.ai/eberrigan-salk-institute-for-biological-studies/sleap-roots/runs/juvkfy74</a>"
      ],
      "text/plain": [
       "<IPython.core.display.HTML object>"
      ]
     },
     "metadata": {},
     "output_type": "display_data"
    },
    {
     "name": "stdout",
     "output_type": "stream",
     "text": [
      "Fetching artifact: eberrigan-salk-institute-for-biological-studies-org/wandb-registry-sleap-roots-models/canola-primary-2025-01-19_v002:latest\n"
     ]
    },
    {
     "name": "stderr",
     "output_type": "stream",
     "text": [
      "\u001b[34m\u001b[1mwandb\u001b[0m: \u001b[33mWARNING\u001b[0m Registries can be linked/fetched using a shorthand form without specifying the organization name. Try using shorthand path format: <my_registry_name>/<artifact_name> or just <my_registry_name> if fetching just the project.\n"
     ]
    },
    {
     "name": "stdout",
     "output_type": "stream",
     "text": [
      "Fetching artifact: eberrigan-salk-institute-for-biological-studies-org/wandb-registry-sleap-roots-models/sorghum-primary-2025-01-06_v002:latest\n"
     ]
    },
    {
     "name": "stderr",
     "output_type": "stream",
     "text": [
      "\u001b[34m\u001b[1mwandb\u001b[0m: \u001b[33mWARNING\u001b[0m Registries can be linked/fetched using a shorthand form without specifying the organization name. Try using shorthand path format: <my_registry_name>/<artifact_name> or just <my_registry_name> if fetching just the project.\n",
      "\u001b[34m\u001b[1mwandb\u001b[0m: Downloading large artifact canola-primary-2025-01-19_v002:latest, 59.55MB. 16 files... \n"
     ]
    },
    {
     "name": "stdout",
     "output_type": "stream",
     "text": [
      "Loaded test data from D:\\SLEAP\\20250102_generalizability_experiment\\primary\\sorghum\\train_test_split.v002\\test.pkg.slp.\n",
      "Test data saved to output/sorghum-primary-2025-01-06_v002_test_labels.slp\n"
     ]
    },
    {
     "name": "stderr",
     "output_type": "stream",
     "text": [
      "\u001b[34m\u001b[1mwandb\u001b[0m:   16 of 16 files downloaded.  \n",
      "Done. 0:0:0.4\n"
     ]
    },
    {
     "data": {
      "application/vnd.jupyter.widget-view+json": {
       "model_id": "398c982ec68a4e368f06f687e24a16ba",
       "version_major": 2,
       "version_minor": 0
      },
      "text/plain": [
       "Output()"
      ]
     },
     "metadata": {},
     "output_type": "display_data"
    },
    {
     "name": "stdout",
     "output_type": "stream",
     "text": [
      "Model loaded successfully from e:\\repositories\\sleap-roots-training\\artifacts\\canola-primary-2025-01-19_v002-v0.\n",
      "Bottom-up model loaded successfully: Model(backbone=UNet(stacks=1, filters=24, filters_rate=1.5, kernel_size=3, stem_kernel_size=7, convs_per_block=2, stem_blocks=0, down_blocks=6, middle_block=True, up_blocks=5, up_interpolate=True, block_contraction=False), heads=[MultiInstanceConfmapsHead(part_names=['r1', 'r2', 'r3', 'r4', 'r5', 'r6'], sigma=2.5, output_stride=2, loss_weight=1.0), PartAffinityFieldsHead(edges=[('r1', 'r2'), ('r2', 'r3'), ('r3', 'r4'), ('r4', 'r5'), ('r5', 'r6')], sigma=75.0, output_stride=8, loss_weight=1.0)], keras_model=<keras.engine.functional.Functional object at 0x000002092886F408>).\n"
     ]
    },
    {
     "data": {
      "text/html": [
       "<pre style=\"white-space:pre;overflow-x:auto;line-height:normal;font-family:Menlo,'DejaVu Sans Mono',consolas,'Courier New',monospace\"></pre>\n"
      ],
      "text/plain": []
     },
     "metadata": {},
     "output_type": "display_data"
    },
    {
     "name": "stdout",
     "output_type": "stream",
     "text": [
      "INFO:sleap.nn.evals:OKS mAP: 0.027512\n",
      "Predictions saved to output/canola-primary-2025-01-19_v002_on_sorghum-primary-2025-01-06_v002_test_predictions.slp\n",
      "Metrics saved to output/canola-primary-2025-01-19_v002_on_sorghum-primary-2025-01-06_v002_metrics.csv\n",
      "Distances saved to output/canola-primary-2025-01-19_v002_on_sorghum-primary-2025-01-06_v002_distances.csv\n",
      "Distance histogram saved to output\\canola-primary-2025-01-19_v002_on_sorghum-primary-2025-01-06_v002_distance_histogram.png\n"
     ]
    },
    {
     "data": {
      "application/vnd.jupyter.widget-view+json": {
       "model_id": "d8b4d389c2b34d32ab08c8f4c1cc0e41",
       "version_major": 2,
       "version_minor": 0
      },
      "text/plain": [
       "VBox(children=(Label(value='0.544 MB of 0.544 MB uploaded\\r'), FloatProgress(value=1.0, max=1.0)))"
      ]
     },
     "metadata": {},
     "output_type": "display_data"
    },
    {
     "data": {
      "text/html": [
       "\n",
       "    <style>\n",
       "        .wandb-row {\n",
       "            display: flex;\n",
       "            flex-direction: row;\n",
       "            flex-wrap: wrap;\n",
       "            justify-content: flex-start;\n",
       "            width: 100%;\n",
       "        }\n",
       "        .wandb-col {\n",
       "            display: flex;\n",
       "            flex-direction: column;\n",
       "            flex-basis: 100%;\n",
       "            flex: 1;\n",
       "            padding: 10px;\n",
       "        }\n",
       "    </style>\n",
       "<div class=\"wandb-row\"><div class=\"wandb-col\"><h3>Run summary:</h3><br/><table class=\"wandb\"><tr><td>dist_avg</td><td>3.99725</td></tr><tr><td>dist_p50</td><td>1.89352</td></tr><tr><td>dist_p90</td><td>9.60461</td></tr><tr><td>dist_p95</td><td>17.13637</td></tr><tr><td>dist_p99</td><td>32.39597</td></tr><tr><td>dist_std</td><td>6.17394</td></tr><tr><td>model_name</td><td>canola-primary-2025-...</td></tr><tr><td>model_path</td><td>e:\\repositories\\slea...</td></tr><tr><td>oks_map</td><td>0.02751</td></tr><tr><td>oks_mar</td><td>0.03556</td></tr><tr><td>vis_prec</td><td>1</td></tr><tr><td>vis_recall</td><td>0.67593</td></tr></table><br/></div></div>"
      ],
      "text/plain": [
       "<IPython.core.display.HTML object>"
      ]
     },
     "metadata": {},
     "output_type": "display_data"
    },
    {
     "data": {
      "text/html": [
       " View run <strong style=\"color:#cdcd00\">evaluate_canola-primary-2025-01-19_v002_on_sorghum-primary-2025-01-06_v002</strong> at: <a href='https://wandb.ai/eberrigan-salk-institute-for-biological-studies/sleap-roots/runs/juvkfy74' target=\"_blank\">https://wandb.ai/eberrigan-salk-institute-for-biological-studies/sleap-roots/runs/juvkfy74</a><br/> View project at: <a href='https://wandb.ai/eberrigan-salk-institute-for-biological-studies/sleap-roots' target=\"_blank\">https://wandb.ai/eberrigan-salk-institute-for-biological-studies/sleap-roots</a><br/>Synced 7 W&B file(s), 0 media file(s), 8 artifact file(s) and 0 other file(s)"
      ],
      "text/plain": [
       "<IPython.core.display.HTML object>"
      ]
     },
     "metadata": {},
     "output_type": "display_data"
    },
    {
     "data": {
      "text/html": [
       "Find logs at: <code>.\\wandb\\run-20250207_140500-juvkfy74\\logs</code>"
      ],
      "text/plain": [
       "<IPython.core.display.HTML object>"
      ]
     },
     "metadata": {},
     "output_type": "display_data"
    },
    {
     "data": {
      "text/html": [
       "Tracking run with wandb version 0.18.6"
      ],
      "text/plain": [
       "<IPython.core.display.HTML object>"
      ]
     },
     "metadata": {},
     "output_type": "display_data"
    },
    {
     "data": {
      "text/html": [
       "Run data is saved locally in <code>e:\\repositories\\sleap-roots-training\\wandb\\run-20250207_140525-4ixu8gy9</code>"
      ],
      "text/plain": [
       "<IPython.core.display.HTML object>"
      ]
     },
     "metadata": {},
     "output_type": "display_data"
    },
    {
     "data": {
      "text/html": [
       "Syncing run <strong><a href='https://wandb.ai/eberrigan-salk-institute-for-biological-studies/sleap-roots/runs/4ixu8gy9' target=\"_blank\">evaluate_pennycress-primary-2025-01-19_v000_on_sorghum-primary-2025-01-06_v000</a></strong> to <a href='https://wandb.ai/eberrigan-salk-institute-for-biological-studies/sleap-roots' target=\"_blank\">Weights & Biases</a> (<a href='https://wandb.me/developer-guide' target=\"_blank\">docs</a>)<br/>"
      ],
      "text/plain": [
       "<IPython.core.display.HTML object>"
      ]
     },
     "metadata": {},
     "output_type": "display_data"
    },
    {
     "data": {
      "text/html": [
       " View project at <a href='https://wandb.ai/eberrigan-salk-institute-for-biological-studies/sleap-roots' target=\"_blank\">https://wandb.ai/eberrigan-salk-institute-for-biological-studies/sleap-roots</a>"
      ],
      "text/plain": [
       "<IPython.core.display.HTML object>"
      ]
     },
     "metadata": {},
     "output_type": "display_data"
    },
    {
     "data": {
      "text/html": [
       " View run at <a href='https://wandb.ai/eberrigan-salk-institute-for-biological-studies/sleap-roots/runs/4ixu8gy9' target=\"_blank\">https://wandb.ai/eberrigan-salk-institute-for-biological-studies/sleap-roots/runs/4ixu8gy9</a>"
      ],
      "text/plain": [
       "<IPython.core.display.HTML object>"
      ]
     },
     "metadata": {},
     "output_type": "display_data"
    },
    {
     "name": "stdout",
     "output_type": "stream",
     "text": [
      "Fetching artifact: eberrigan-salk-institute-for-biological-studies-org/wandb-registry-sleap-roots-models/pennycress-primary-2025-01-19_v000:latest\n"
     ]
    },
    {
     "name": "stderr",
     "output_type": "stream",
     "text": [
      "\u001b[34m\u001b[1mwandb\u001b[0m: \u001b[33mWARNING\u001b[0m Registries can be linked/fetched using a shorthand form without specifying the organization name. Try using shorthand path format: <my_registry_name>/<artifact_name> or just <my_registry_name> if fetching just the project.\n"
     ]
    },
    {
     "name": "stdout",
     "output_type": "stream",
     "text": [
      "Fetching artifact: eberrigan-salk-institute-for-biological-studies-org/wandb-registry-sleap-roots-models/sorghum-primary-2025-01-06_v000:latest\n"
     ]
    },
    {
     "name": "stderr",
     "output_type": "stream",
     "text": [
      "\u001b[34m\u001b[1mwandb\u001b[0m: \u001b[33mWARNING\u001b[0m Registries can be linked/fetched using a shorthand form without specifying the organization name. Try using shorthand path format: <my_registry_name>/<artifact_name> or just <my_registry_name> if fetching just the project.\n",
      "\u001b[34m\u001b[1mwandb\u001b[0m: Downloading large artifact pennycress-primary-2025-01-19_v000:latest, 162.63MB. 120 files... \n"
     ]
    },
    {
     "name": "stdout",
     "output_type": "stream",
     "text": [
      "Loaded test data from D:\\SLEAP\\20250102_generalizability_experiment\\primary\\sorghum\\train_test_split.v000\\test.pkg.slp.\n",
      "Test data saved to output/sorghum-primary-2025-01-06_v000_test_labels.slp\n"
     ]
    },
    {
     "name": "stderr",
     "output_type": "stream",
     "text": [
      "\u001b[34m\u001b[1mwandb\u001b[0m:   120 of 120 files downloaded.  \n",
      "Done. 0:0:0.7\n"
     ]
    },
    {
     "data": {
      "application/vnd.jupyter.widget-view+json": {
       "model_id": "a26e1188665f48138fe7e9f43e577f4e",
       "version_major": 2,
       "version_minor": 0
      },
      "text/plain": [
       "Output()"
      ]
     },
     "metadata": {},
     "output_type": "display_data"
    },
    {
     "name": "stdout",
     "output_type": "stream",
     "text": [
      "Model loaded successfully from e:\\repositories\\sleap-roots-training\\artifacts\\pennycress-primary-2025-01-19_v000-v0.\n",
      "Bottom-up model loaded successfully: Model(backbone=UNet(stacks=1, filters=24, filters_rate=1.5, kernel_size=3, stem_kernel_size=7, convs_per_block=2, stem_blocks=0, down_blocks=6, middle_block=True, up_blocks=5, up_interpolate=True, block_contraction=False), heads=[MultiInstanceConfmapsHead(part_names=['r1', 'r2', 'r3', 'r4', 'r5', 'r6'], sigma=2.5, output_stride=2, loss_weight=1.0), PartAffinityFieldsHead(edges=[('r1', 'r2'), ('r2', 'r3'), ('r3', 'r4'), ('r4', 'r5'), ('r5', 'r6')], sigma=75.0, output_stride=8, loss_weight=1.0)], keras_model=<keras.engine.functional.Functional object at 0x00000205870A7888>).\n"
     ]
    },
    {
     "data": {
      "text/html": [
       "<pre style=\"white-space:pre;overflow-x:auto;line-height:normal;font-family:Menlo,'DejaVu Sans Mono',consolas,'Courier New',monospace\"></pre>\n"
      ],
      "text/plain": []
     },
     "metadata": {},
     "output_type": "display_data"
    },
    {
     "name": "stdout",
     "output_type": "stream",
     "text": [
      "INFO:sleap.nn.evals:OKS mAP: 0.000000\n",
      "Predictions saved to output/pennycress-primary-2025-01-19_v000_on_sorghum-primary-2025-01-06_v000_test_predictions.slp\n",
      "Metrics saved to output/pennycress-primary-2025-01-19_v000_on_sorghum-primary-2025-01-06_v000_metrics.csv\n",
      "Distances saved to output/pennycress-primary-2025-01-19_v000_on_sorghum-primary-2025-01-06_v000_distances.csv\n",
      "Distance histogram saved to output\\pennycress-primary-2025-01-19_v000_on_sorghum-primary-2025-01-06_v000_distance_histogram.png\n"
     ]
    },
    {
     "data": {
      "text/html": [
       "\n",
       "    <style>\n",
       "        .wandb-row {\n",
       "            display: flex;\n",
       "            flex-direction: row;\n",
       "            flex-wrap: wrap;\n",
       "            justify-content: flex-start;\n",
       "            width: 100%;\n",
       "        }\n",
       "        .wandb-col {\n",
       "            display: flex;\n",
       "            flex-direction: column;\n",
       "            flex-basis: 100%;\n",
       "            flex: 1;\n",
       "            padding: 10px;\n",
       "        }\n",
       "    </style>\n",
       "<div class=\"wandb-row\"><div class=\"wandb-col\"><h3>Run summary:</h3><br/><table class=\"wandb\"><tr><td>dist_avg</td><td>7.76429</td></tr><tr><td>dist_p50</td><td>5.74017</td></tr><tr><td>dist_p90</td><td>18.26721</td></tr><tr><td>dist_p95</td><td>22.9297</td></tr><tr><td>dist_p99</td><td>33.56395</td></tr><tr><td>dist_std</td><td>7.8015</td></tr><tr><td>model_name</td><td>pennycress-primary-2...</td></tr><tr><td>model_path</td><td>e:\\repositories\\slea...</td></tr><tr><td>oks_map</td><td>0</td></tr><tr><td>oks_mar</td><td>0</td></tr><tr><td>vis_prec</td><td>1</td></tr><tr><td>vis_recall</td><td>0.67391</td></tr></table><br/></div></div>"
      ],
      "text/plain": [
       "<IPython.core.display.HTML object>"
      ]
     },
     "metadata": {},
     "output_type": "display_data"
    },
    {
     "data": {
      "text/html": [
       " View run <strong style=\"color:#cdcd00\">evaluate_pennycress-primary-2025-01-19_v000_on_sorghum-primary-2025-01-06_v000</strong> at: <a href='https://wandb.ai/eberrigan-salk-institute-for-biological-studies/sleap-roots/runs/4ixu8gy9' target=\"_blank\">https://wandb.ai/eberrigan-salk-institute-for-biological-studies/sleap-roots/runs/4ixu8gy9</a><br/> View project at: <a href='https://wandb.ai/eberrigan-salk-institute-for-biological-studies/sleap-roots' target=\"_blank\">https://wandb.ai/eberrigan-salk-institute-for-biological-studies/sleap-roots</a><br/>Synced 7 W&B file(s), 0 media file(s), 8 artifact file(s) and 0 other file(s)"
      ],
      "text/plain": [
       "<IPython.core.display.HTML object>"
      ]
     },
     "metadata": {},
     "output_type": "display_data"
    },
    {
     "data": {
      "text/html": [
       "Find logs at: <code>.\\wandb\\run-20250207_140525-4ixu8gy9\\logs</code>"
      ],
      "text/plain": [
       "<IPython.core.display.HTML object>"
      ]
     },
     "metadata": {},
     "output_type": "display_data"
    },
    {
     "data": {
      "text/html": [
       "Tracking run with wandb version 0.18.6"
      ],
      "text/plain": [
       "<IPython.core.display.HTML object>"
      ]
     },
     "metadata": {},
     "output_type": "display_data"
    },
    {
     "data": {
      "text/html": [
       "Run data is saved locally in <code>e:\\repositories\\sleap-roots-training\\wandb\\run-20250207_140548-8l1v7dy7</code>"
      ],
      "text/plain": [
       "<IPython.core.display.HTML object>"
      ]
     },
     "metadata": {},
     "output_type": "display_data"
    },
    {
     "data": {
      "text/html": [
       "Syncing run <strong><a href='https://wandb.ai/eberrigan-salk-institute-for-biological-studies/sleap-roots/runs/8l1v7dy7' target=\"_blank\">evaluate_pennycress-primary-2025-01-19_v001_on_sorghum-primary-2025-01-06_v001</a></strong> to <a href='https://wandb.ai/eberrigan-salk-institute-for-biological-studies/sleap-roots' target=\"_blank\">Weights & Biases</a> (<a href='https://wandb.me/developer-guide' target=\"_blank\">docs</a>)<br/>"
      ],
      "text/plain": [
       "<IPython.core.display.HTML object>"
      ]
     },
     "metadata": {},
     "output_type": "display_data"
    },
    {
     "data": {
      "text/html": [
       " View project at <a href='https://wandb.ai/eberrigan-salk-institute-for-biological-studies/sleap-roots' target=\"_blank\">https://wandb.ai/eberrigan-salk-institute-for-biological-studies/sleap-roots</a>"
      ],
      "text/plain": [
       "<IPython.core.display.HTML object>"
      ]
     },
     "metadata": {},
     "output_type": "display_data"
    },
    {
     "data": {
      "text/html": [
       " View run at <a href='https://wandb.ai/eberrigan-salk-institute-for-biological-studies/sleap-roots/runs/8l1v7dy7' target=\"_blank\">https://wandb.ai/eberrigan-salk-institute-for-biological-studies/sleap-roots/runs/8l1v7dy7</a>"
      ],
      "text/plain": [
       "<IPython.core.display.HTML object>"
      ]
     },
     "metadata": {},
     "output_type": "display_data"
    },
    {
     "name": "stdout",
     "output_type": "stream",
     "text": [
      "Fetching artifact: eberrigan-salk-institute-for-biological-studies-org/wandb-registry-sleap-roots-models/pennycress-primary-2025-01-19_v001:latest\n"
     ]
    },
    {
     "name": "stderr",
     "output_type": "stream",
     "text": [
      "\u001b[34m\u001b[1mwandb\u001b[0m: \u001b[33mWARNING\u001b[0m Registries can be linked/fetched using a shorthand form without specifying the organization name. Try using shorthand path format: <my_registry_name>/<artifact_name> or just <my_registry_name> if fetching just the project.\n"
     ]
    },
    {
     "name": "stdout",
     "output_type": "stream",
     "text": [
      "Fetching artifact: eberrigan-salk-institute-for-biological-studies-org/wandb-registry-sleap-roots-models/sorghum-primary-2025-01-06_v001:latest\n"
     ]
    },
    {
     "name": "stderr",
     "output_type": "stream",
     "text": [
      "\u001b[34m\u001b[1mwandb\u001b[0m: \u001b[33mWARNING\u001b[0m Registries can be linked/fetched using a shorthand form without specifying the organization name. Try using shorthand path format: <my_registry_name>/<artifact_name> or just <my_registry_name> if fetching just the project.\n",
      "\u001b[34m\u001b[1mwandb\u001b[0m: Downloading large artifact pennycress-primary-2025-01-19_v001:latest, 175.85MB. 136 files... \n"
     ]
    },
    {
     "name": "stdout",
     "output_type": "stream",
     "text": [
      "Loaded test data from D:\\SLEAP\\20250102_generalizability_experiment\\primary\\sorghum\\train_test_split.v001\\test.pkg.slp.\n",
      "Test data saved to output/sorghum-primary-2025-01-06_v001_test_labels.slp\n"
     ]
    },
    {
     "name": "stderr",
     "output_type": "stream",
     "text": [
      "\u001b[34m\u001b[1mwandb\u001b[0m:   136 of 136 files downloaded.  \n",
      "Done. 0:0:0.6\n"
     ]
    },
    {
     "data": {
      "application/vnd.jupyter.widget-view+json": {
       "model_id": "3a9edb07d287418b9520ee978f22fb51",
       "version_major": 2,
       "version_minor": 0
      },
      "text/plain": [
       "Output()"
      ]
     },
     "metadata": {},
     "output_type": "display_data"
    },
    {
     "name": "stdout",
     "output_type": "stream",
     "text": [
      "Model loaded successfully from e:\\repositories\\sleap-roots-training\\artifacts\\pennycress-primary-2025-01-19_v001-v0.\n",
      "Bottom-up model loaded successfully: Model(backbone=UNet(stacks=1, filters=24, filters_rate=1.5, kernel_size=3, stem_kernel_size=7, convs_per_block=2, stem_blocks=0, down_blocks=6, middle_block=True, up_blocks=5, up_interpolate=True, block_contraction=False), heads=[MultiInstanceConfmapsHead(part_names=['r1', 'r2', 'r3', 'r4', 'r5', 'r6'], sigma=2.5, output_stride=2, loss_weight=1.0), PartAffinityFieldsHead(edges=[('r1', 'r2'), ('r2', 'r3'), ('r3', 'r4'), ('r4', 'r5'), ('r5', 'r6')], sigma=75.0, output_stride=8, loss_weight=1.0)], keras_model=<keras.engine.functional.Functional object at 0x0000020588F93708>).\n"
     ]
    },
    {
     "data": {
      "text/html": [
       "<pre style=\"white-space:pre;overflow-x:auto;line-height:normal;font-family:Menlo,'DejaVu Sans Mono',consolas,'Courier New',monospace\"></pre>\n"
      ],
      "text/plain": []
     },
     "metadata": {},
     "output_type": "display_data"
    },
    {
     "name": "stdout",
     "output_type": "stream",
     "text": [
      "INFO:sleap.nn.evals:OKS mAP: 0.002970\n",
      "Predictions saved to output/pennycress-primary-2025-01-19_v001_on_sorghum-primary-2025-01-06_v001_test_predictions.slp\n",
      "Metrics saved to output/pennycress-primary-2025-01-19_v001_on_sorghum-primary-2025-01-06_v001_metrics.csv\n",
      "Distances saved to output/pennycress-primary-2025-01-19_v001_on_sorghum-primary-2025-01-06_v001_distances.csv\n",
      "Distance histogram saved to output\\pennycress-primary-2025-01-19_v001_on_sorghum-primary-2025-01-06_v001_distance_histogram.png\n"
     ]
    },
    {
     "data": {
      "text/html": [
       "\n",
       "    <style>\n",
       "        .wandb-row {\n",
       "            display: flex;\n",
       "            flex-direction: row;\n",
       "            flex-wrap: wrap;\n",
       "            justify-content: flex-start;\n",
       "            width: 100%;\n",
       "        }\n",
       "        .wandb-col {\n",
       "            display: flex;\n",
       "            flex-direction: column;\n",
       "            flex-basis: 100%;\n",
       "            flex: 1;\n",
       "            padding: 10px;\n",
       "        }\n",
       "    </style>\n",
       "<div class=\"wandb-row\"><div class=\"wandb-col\"><h3>Run summary:</h3><br/><table class=\"wandb\"><tr><td>dist_avg</td><td>6.41001</td></tr><tr><td>dist_p50</td><td>1.95731</td></tr><tr><td>dist_p90</td><td>20.08362</td></tr><tr><td>dist_p95</td><td>27.48338</td></tr><tr><td>dist_p99</td><td>30.3731</td></tr><tr><td>dist_std</td><td>8.55923</td></tr><tr><td>model_name</td><td>pennycress-primary-2...</td></tr><tr><td>model_path</td><td>e:\\repositories\\slea...</td></tr><tr><td>oks_map</td><td>0.00297</td></tr><tr><td>oks_mar</td><td>0.00444</td></tr><tr><td>vis_prec</td><td>1</td></tr><tr><td>vis_recall</td><td>0.59722</td></tr></table><br/></div></div>"
      ],
      "text/plain": [
       "<IPython.core.display.HTML object>"
      ]
     },
     "metadata": {},
     "output_type": "display_data"
    },
    {
     "data": {
      "text/html": [
       " View run <strong style=\"color:#cdcd00\">evaluate_pennycress-primary-2025-01-19_v001_on_sorghum-primary-2025-01-06_v001</strong> at: <a href='https://wandb.ai/eberrigan-salk-institute-for-biological-studies/sleap-roots/runs/8l1v7dy7' target=\"_blank\">https://wandb.ai/eberrigan-salk-institute-for-biological-studies/sleap-roots/runs/8l1v7dy7</a><br/> View project at: <a href='https://wandb.ai/eberrigan-salk-institute-for-biological-studies/sleap-roots' target=\"_blank\">https://wandb.ai/eberrigan-salk-institute-for-biological-studies/sleap-roots</a><br/>Synced 7 W&B file(s), 0 media file(s), 4 artifact file(s) and 0 other file(s)"
      ],
      "text/plain": [
       "<IPython.core.display.HTML object>"
      ]
     },
     "metadata": {},
     "output_type": "display_data"
    },
    {
     "data": {
      "text/html": [
       "Find logs at: <code>.\\wandb\\run-20250207_140548-8l1v7dy7\\logs</code>"
      ],
      "text/plain": [
       "<IPython.core.display.HTML object>"
      ]
     },
     "metadata": {},
     "output_type": "display_data"
    },
    {
     "data": {
      "text/html": [
       "Tracking run with wandb version 0.18.6"
      ],
      "text/plain": [
       "<IPython.core.display.HTML object>"
      ]
     },
     "metadata": {},
     "output_type": "display_data"
    },
    {
     "data": {
      "text/html": [
       "Run data is saved locally in <code>e:\\repositories\\sleap-roots-training\\wandb\\run-20250207_140612-yik224f2</code>"
      ],
      "text/plain": [
       "<IPython.core.display.HTML object>"
      ]
     },
     "metadata": {},
     "output_type": "display_data"
    },
    {
     "data": {
      "text/html": [
       "Syncing run <strong><a href='https://wandb.ai/eberrigan-salk-institute-for-biological-studies/sleap-roots/runs/yik224f2' target=\"_blank\">evaluate_pennycress-primary-2025-01-19_v002_on_sorghum-primary-2025-01-06_v002</a></strong> to <a href='https://wandb.ai/eberrigan-salk-institute-for-biological-studies/sleap-roots' target=\"_blank\">Weights & Biases</a> (<a href='https://wandb.me/developer-guide' target=\"_blank\">docs</a>)<br/>"
      ],
      "text/plain": [
       "<IPython.core.display.HTML object>"
      ]
     },
     "metadata": {},
     "output_type": "display_data"
    },
    {
     "data": {
      "text/html": [
       " View project at <a href='https://wandb.ai/eberrigan-salk-institute-for-biological-studies/sleap-roots' target=\"_blank\">https://wandb.ai/eberrigan-salk-institute-for-biological-studies/sleap-roots</a>"
      ],
      "text/plain": [
       "<IPython.core.display.HTML object>"
      ]
     },
     "metadata": {},
     "output_type": "display_data"
    },
    {
     "data": {
      "text/html": [
       " View run at <a href='https://wandb.ai/eberrigan-salk-institute-for-biological-studies/sleap-roots/runs/yik224f2' target=\"_blank\">https://wandb.ai/eberrigan-salk-institute-for-biological-studies/sleap-roots/runs/yik224f2</a>"
      ],
      "text/plain": [
       "<IPython.core.display.HTML object>"
      ]
     },
     "metadata": {},
     "output_type": "display_data"
    },
    {
     "name": "stdout",
     "output_type": "stream",
     "text": [
      "Fetching artifact: eberrigan-salk-institute-for-biological-studies-org/wandb-registry-sleap-roots-models/pennycress-primary-2025-01-19_v002:latest\n"
     ]
    },
    {
     "name": "stderr",
     "output_type": "stream",
     "text": [
      "\u001b[34m\u001b[1mwandb\u001b[0m: \u001b[33mWARNING\u001b[0m Registries can be linked/fetched using a shorthand form without specifying the organization name. Try using shorthand path format: <my_registry_name>/<artifact_name> or just <my_registry_name> if fetching just the project.\n"
     ]
    },
    {
     "name": "stdout",
     "output_type": "stream",
     "text": [
      "Fetching artifact: eberrigan-salk-institute-for-biological-studies-org/wandb-registry-sleap-roots-models/sorghum-primary-2025-01-06_v002:latest\n"
     ]
    },
    {
     "name": "stderr",
     "output_type": "stream",
     "text": [
      "\u001b[34m\u001b[1mwandb\u001b[0m: \u001b[33mWARNING\u001b[0m Registries can be linked/fetched using a shorthand form without specifying the organization name. Try using shorthand path format: <my_registry_name>/<artifact_name> or just <my_registry_name> if fetching just the project.\n",
      "\u001b[34m\u001b[1mwandb\u001b[0m: Downloading large artifact pennycress-primary-2025-01-19_v002:latest, 132.68MB. 92 files... \n"
     ]
    },
    {
     "name": "stdout",
     "output_type": "stream",
     "text": [
      "Loaded test data from D:\\SLEAP\\20250102_generalizability_experiment\\primary\\sorghum\\train_test_split.v002\\test.pkg.slp.\n",
      "Test data saved to output/sorghum-primary-2025-01-06_v002_test_labels.slp\n"
     ]
    },
    {
     "name": "stderr",
     "output_type": "stream",
     "text": [
      "\u001b[34m\u001b[1mwandb\u001b[0m:   92 of 92 files downloaded.  \n",
      "Done. 0:0:0.6\n"
     ]
    },
    {
     "data": {
      "application/vnd.jupyter.widget-view+json": {
       "model_id": "7a6a4c02f7e74c538c84a207e16b49c8",
       "version_major": 2,
       "version_minor": 0
      },
      "text/plain": [
       "Output()"
      ]
     },
     "metadata": {},
     "output_type": "display_data"
    },
    {
     "name": "stdout",
     "output_type": "stream",
     "text": [
      "Model loaded successfully from e:\\repositories\\sleap-roots-training\\artifacts\\pennycress-primary-2025-01-19_v002-v0.\n",
      "Bottom-up model loaded successfully: Model(backbone=UNet(stacks=1, filters=24, filters_rate=1.5, kernel_size=3, stem_kernel_size=7, convs_per_block=2, stem_blocks=0, down_blocks=6, middle_block=True, up_blocks=5, up_interpolate=True, block_contraction=False), heads=[MultiInstanceConfmapsHead(part_names=['r1', 'r2', 'r3', 'r4', 'r5', 'r6'], sigma=2.5, output_stride=2, loss_weight=1.0), PartAffinityFieldsHead(edges=[('r1', 'r2'), ('r2', 'r3'), ('r3', 'r4'), ('r4', 'r5'), ('r5', 'r6')], sigma=75.0, output_stride=8, loss_weight=1.0)], keras_model=<keras.engine.functional.Functional object at 0x00000206D06BDF08>).\n"
     ]
    },
    {
     "data": {
      "text/html": [
       "<pre style=\"white-space:pre;overflow-x:auto;line-height:normal;font-family:Menlo,'DejaVu Sans Mono',consolas,'Courier New',monospace\"></pre>\n"
      ],
      "text/plain": []
     },
     "metadata": {},
     "output_type": "display_data"
    },
    {
     "name": "stdout",
     "output_type": "stream",
     "text": [
      "WARNING:sleap.nn.evals:Failed to compute metrics.\n"
     ]
    },
    {
     "name": "stderr",
     "output_type": "stream",
     "text": [
      "c:\\Users\\pbiobgh\\.conda\\envs\\sleap_v1.3.4\\lib\\site-packages\\sleap\\nn\\evals.py:539: RuntimeWarning: Mean of empty slice\n",
      "  \"dist.avg\": np.nanmean(dists),\n",
      "c:\\Users\\pbiobgh\\.conda\\envs\\sleap_v1.3.4\\lib\\site-packages\\sleap\\nn\\evals.py:572: RuntimeWarning: Mean of empty slice.\n",
      "  mPCK = mPCK_parts.mean()\n",
      "c:\\Users\\pbiobgh\\.conda\\envs\\sleap_v1.3.4\\lib\\site-packages\\numpy\\core\\_methods.py:189: RuntimeWarning: invalid value encountered in double_scalars\n",
      "  ret = ret.dtype.type(ret / rcount)\n",
      "c:\\Users\\pbiobgh\\.conda\\envs\\sleap_v1.3.4\\lib\\site-packages\\sleap\\nn\\evals.py:666: RuntimeWarning: Mean of empty slice.\n",
      "  pair_pck = metrics[\"pck.pcks\"].mean(axis=-1).mean(axis=-1)\n",
      "c:\\Users\\pbiobgh\\.conda\\envs\\sleap_v1.3.4\\lib\\site-packages\\numpy\\core\\_methods.py:182: RuntimeWarning: invalid value encountered in true_divide\n",
      "  ret, rcount, out=ret, casting='unsafe', subok=False)\n",
      "c:\\Users\\pbiobgh\\.conda\\envs\\sleap_v1.3.4\\lib\\site-packages\\sleap\\nn\\evals.py:668: RuntimeWarning: Mean of empty slice.\n",
      "  metrics[\"oks.mOKS\"] = pair_oks.mean()\n"
     ]
    },
    {
     "name": "stdout",
     "output_type": "stream",
     "text": [
      "Predictions saved to output/pennycress-primary-2025-01-19_v002_on_sorghum-primary-2025-01-06_v002_test_predictions.slp\n",
      "Error during model evaluation: 'NoneType' object is not subscriptable. Skipping this model...\n"
     ]
    },
    {
     "data": {
      "application/vnd.jupyter.widget-view+json": {
       "model_id": "26a8aa85cad346389a3c4d3d1809ddfb",
       "version_major": 2,
       "version_minor": 0
      },
      "text/plain": [
       "VBox(children=(Label(value='0.573 MB of 0.573 MB uploaded\\r'), FloatProgress(value=1.0, max=1.0)))"
      ]
     },
     "metadata": {},
     "output_type": "display_data"
    },
    {
     "data": {
      "text/html": [
       " View run <strong style=\"color:#cdcd00\">evaluate_pennycress-primary-2025-01-19_v002_on_sorghum-primary-2025-01-06_v002</strong> at: <a href='https://wandb.ai/eberrigan-salk-institute-for-biological-studies/sleap-roots/runs/yik224f2' target=\"_blank\">https://wandb.ai/eberrigan-salk-institute-for-biological-studies/sleap-roots/runs/yik224f2</a><br/> View project at: <a href='https://wandb.ai/eberrigan-salk-institute-for-biological-studies/sleap-roots' target=\"_blank\">https://wandb.ai/eberrigan-salk-institute-for-biological-studies/sleap-roots</a><br/>Synced 7 W&B file(s), 0 media file(s), 4 artifact file(s) and 0 other file(s)"
      ],
      "text/plain": [
       "<IPython.core.display.HTML object>"
      ]
     },
     "metadata": {},
     "output_type": "display_data"
    },
    {
     "data": {
      "text/html": [
       "Find logs at: <code>.\\wandb\\run-20250207_140612-yik224f2\\logs</code>"
      ],
      "text/plain": [
       "<IPython.core.display.HTML object>"
      ]
     },
     "metadata": {},
     "output_type": "display_data"
    },
    {
     "name": "stdout",
     "output_type": "stream",
     "text": [
      "Skipping pennycress-primary-2025-01-19_v002 due to evaluation error.\n"
     ]
    },
    {
     "data": {
      "text/html": [
       "Tracking run with wandb version 0.18.6"
      ],
      "text/plain": [
       "<IPython.core.display.HTML object>"
      ]
     },
     "metadata": {},
     "output_type": "display_data"
    },
    {
     "data": {
      "text/html": [
       "Run data is saved locally in <code>e:\\repositories\\sleap-roots-training\\wandb\\run-20250207_140636-5cxwal08</code>"
      ],
      "text/plain": [
       "<IPython.core.display.HTML object>"
      ]
     },
     "metadata": {},
     "output_type": "display_data"
    },
    {
     "data": {
      "text/html": [
       "Syncing run <strong><a href='https://wandb.ai/eberrigan-salk-institute-for-biological-studies/sleap-roots/runs/5cxwal08' target=\"_blank\">evaluate_arabidopsis-primary-2025-01-19_v000_on_sorghum-primary-2025-01-06_v000</a></strong> to <a href='https://wandb.ai/eberrigan-salk-institute-for-biological-studies/sleap-roots' target=\"_blank\">Weights & Biases</a> (<a href='https://wandb.me/developer-guide' target=\"_blank\">docs</a>)<br/>"
      ],
      "text/plain": [
       "<IPython.core.display.HTML object>"
      ]
     },
     "metadata": {},
     "output_type": "display_data"
    },
    {
     "data": {
      "text/html": [
       " View project at <a href='https://wandb.ai/eberrigan-salk-institute-for-biological-studies/sleap-roots' target=\"_blank\">https://wandb.ai/eberrigan-salk-institute-for-biological-studies/sleap-roots</a>"
      ],
      "text/plain": [
       "<IPython.core.display.HTML object>"
      ]
     },
     "metadata": {},
     "output_type": "display_data"
    },
    {
     "data": {
      "text/html": [
       " View run at <a href='https://wandb.ai/eberrigan-salk-institute-for-biological-studies/sleap-roots/runs/5cxwal08' target=\"_blank\">https://wandb.ai/eberrigan-salk-institute-for-biological-studies/sleap-roots/runs/5cxwal08</a>"
      ],
      "text/plain": [
       "<IPython.core.display.HTML object>"
      ]
     },
     "metadata": {},
     "output_type": "display_data"
    },
    {
     "name": "stdout",
     "output_type": "stream",
     "text": [
      "Fetching artifact: eberrigan-salk-institute-for-biological-studies-org/wandb-registry-sleap-roots-models/arabidopsis-primary-2025-01-19_v000:latest\n"
     ]
    },
    {
     "name": "stderr",
     "output_type": "stream",
     "text": [
      "\u001b[34m\u001b[1mwandb\u001b[0m: \u001b[33mWARNING\u001b[0m Registries can be linked/fetched using a shorthand form without specifying the organization name. Try using shorthand path format: <my_registry_name>/<artifact_name> or just <my_registry_name> if fetching just the project.\n"
     ]
    },
    {
     "name": "stdout",
     "output_type": "stream",
     "text": [
      "Fetching artifact: eberrigan-salk-institute-for-biological-studies-org/wandb-registry-sleap-roots-models/sorghum-primary-2025-01-06_v000:latest\n"
     ]
    },
    {
     "name": "stderr",
     "output_type": "stream",
     "text": [
      "\u001b[34m\u001b[1mwandb\u001b[0m: \u001b[33mWARNING\u001b[0m Registries can be linked/fetched using a shorthand form without specifying the organization name. Try using shorthand path format: <my_registry_name>/<artifact_name> or just <my_registry_name> if fetching just the project.\n",
      "\u001b[34m\u001b[1mwandb\u001b[0m: Downloading large artifact arabidopsis-primary-2025-01-19_v000:latest, 59.36MB. 16 files... \n"
     ]
    },
    {
     "name": "stdout",
     "output_type": "stream",
     "text": [
      "Loaded test data from D:\\SLEAP\\20250102_generalizability_experiment\\primary\\sorghum\\train_test_split.v000\\test.pkg.slp.\n",
      "Test data saved to output/sorghum-primary-2025-01-06_v000_test_labels.slp\n"
     ]
    },
    {
     "name": "stderr",
     "output_type": "stream",
     "text": [
      "\u001b[34m\u001b[1mwandb\u001b[0m:   16 of 16 files downloaded.  \n",
      "Done. 0:0:0.4\n"
     ]
    },
    {
     "data": {
      "application/vnd.jupyter.widget-view+json": {
       "model_id": "a64672beb5104daeac24921a20d7dbb5",
       "version_major": 2,
       "version_minor": 0
      },
      "text/plain": [
       "Output()"
      ]
     },
     "metadata": {},
     "output_type": "display_data"
    },
    {
     "name": "stdout",
     "output_type": "stream",
     "text": [
      "Model loaded successfully from e:\\repositories\\sleap-roots-training\\artifacts\\arabidopsis-primary-2025-01-19_v000-v0.\n",
      "Bottom-up model loaded successfully: Model(backbone=UNet(stacks=1, filters=24, filters_rate=1.5, kernel_size=3, stem_kernel_size=7, convs_per_block=2, stem_blocks=0, down_blocks=6, middle_block=True, up_blocks=5, up_interpolate=True, block_contraction=False), heads=[MultiInstanceConfmapsHead(part_names=['r1', 'r2', 'r3', 'r4', 'r5', 'r6'], sigma=2.5, output_stride=2, loss_weight=1.0), PartAffinityFieldsHead(edges=[('r1', 'r2'), ('r2', 'r3'), ('r3', 'r4'), ('r4', 'r5'), ('r5', 'r6')], sigma=75.0, output_stride=8, loss_weight=1.0)], keras_model=<keras.engine.functional.Functional object at 0x0000020928739DC8>).\n"
     ]
    },
    {
     "data": {
      "text/html": [
       "<pre style=\"white-space:pre;overflow-x:auto;line-height:normal;font-family:Menlo,'DejaVu Sans Mono',consolas,'Courier New',monospace\"></pre>\n"
      ],
      "text/plain": []
     },
     "metadata": {},
     "output_type": "display_data"
    },
    {
     "name": "stdout",
     "output_type": "stream",
     "text": [
      "INFO:sleap.nn.evals:OKS mAP: 0.000000\n",
      "Predictions saved to output/arabidopsis-primary-2025-01-19_v000_on_sorghum-primary-2025-01-06_v000_test_predictions.slp\n",
      "Metrics saved to output/arabidopsis-primary-2025-01-19_v000_on_sorghum-primary-2025-01-06_v000_metrics.csv\n",
      "Distances saved to output/arabidopsis-primary-2025-01-19_v000_on_sorghum-primary-2025-01-06_v000_distances.csv\n",
      "Distance histogram saved to output\\arabidopsis-primary-2025-01-19_v000_on_sorghum-primary-2025-01-06_v000_distance_histogram.png\n"
     ]
    },
    {
     "data": {
      "application/vnd.jupyter.widget-view+json": {
       "model_id": "241c92d28a04442c9effd17bec8d4e97",
       "version_major": 2,
       "version_minor": 0
      },
      "text/plain": [
       "VBox(children=(Label(value='0.631 MB of 0.631 MB uploaded\\r'), FloatProgress(value=1.0, max=1.0)))"
      ]
     },
     "metadata": {},
     "output_type": "display_data"
    },
    {
     "data": {
      "text/html": [
       "\n",
       "    <style>\n",
       "        .wandb-row {\n",
       "            display: flex;\n",
       "            flex-direction: row;\n",
       "            flex-wrap: wrap;\n",
       "            justify-content: flex-start;\n",
       "            width: 100%;\n",
       "        }\n",
       "        .wandb-col {\n",
       "            display: flex;\n",
       "            flex-direction: column;\n",
       "            flex-basis: 100%;\n",
       "            flex: 1;\n",
       "            padding: 10px;\n",
       "        }\n",
       "    </style>\n",
       "<div class=\"wandb-row\"><div class=\"wandb-col\"><h3>Run summary:</h3><br/><table class=\"wandb\"><tr><td>dist_avg</td><td>21.93751</td></tr><tr><td>dist_p50</td><td>22.42869</td></tr><tr><td>dist_p90</td><td>30.12425</td></tr><tr><td>dist_p95</td><td>31.64848</td></tr><tr><td>dist_p99</td><td>32.86786</td></tr><tr><td>dist_std</td><td>6.93323</td></tr><tr><td>model_name</td><td>arabidopsis-primary-...</td></tr><tr><td>model_path</td><td>e:\\repositories\\slea...</td></tr><tr><td>oks_map</td><td>0</td></tr><tr><td>oks_mar</td><td>0</td></tr><tr><td>vis_prec</td><td>1</td></tr><tr><td>vis_recall</td><td>0.58333</td></tr></table><br/></div></div>"
      ],
      "text/plain": [
       "<IPython.core.display.HTML object>"
      ]
     },
     "metadata": {},
     "output_type": "display_data"
    },
    {
     "data": {
      "text/html": [
       " View run <strong style=\"color:#cdcd00\">evaluate_arabidopsis-primary-2025-01-19_v000_on_sorghum-primary-2025-01-06_v000</strong> at: <a href='https://wandb.ai/eberrigan-salk-institute-for-biological-studies/sleap-roots/runs/5cxwal08' target=\"_blank\">https://wandb.ai/eberrigan-salk-institute-for-biological-studies/sleap-roots/runs/5cxwal08</a><br/> View project at: <a href='https://wandb.ai/eberrigan-salk-institute-for-biological-studies/sleap-roots' target=\"_blank\">https://wandb.ai/eberrigan-salk-institute-for-biological-studies/sleap-roots</a><br/>Synced 7 W&B file(s), 0 media file(s), 10 artifact file(s) and 0 other file(s)"
      ],
      "text/plain": [
       "<IPython.core.display.HTML object>"
      ]
     },
     "metadata": {},
     "output_type": "display_data"
    },
    {
     "data": {
      "text/html": [
       "Find logs at: <code>.\\wandb\\run-20250207_140636-5cxwal08\\logs</code>"
      ],
      "text/plain": [
       "<IPython.core.display.HTML object>"
      ]
     },
     "metadata": {},
     "output_type": "display_data"
    },
    {
     "data": {
      "text/html": [
       "Tracking run with wandb version 0.18.6"
      ],
      "text/plain": [
       "<IPython.core.display.HTML object>"
      ]
     },
     "metadata": {},
     "output_type": "display_data"
    },
    {
     "data": {
      "text/html": [
       "Run data is saved locally in <code>e:\\repositories\\sleap-roots-training\\wandb\\run-20250207_140700-v2sx3fji</code>"
      ],
      "text/plain": [
       "<IPython.core.display.HTML object>"
      ]
     },
     "metadata": {},
     "output_type": "display_data"
    },
    {
     "data": {
      "text/html": [
       "Syncing run <strong><a href='https://wandb.ai/eberrigan-salk-institute-for-biological-studies/sleap-roots/runs/v2sx3fji' target=\"_blank\">evaluate_arabidopsis-primary-2025-01-19_v001_on_sorghum-primary-2025-01-06_v001</a></strong> to <a href='https://wandb.ai/eberrigan-salk-institute-for-biological-studies/sleap-roots' target=\"_blank\">Weights & Biases</a> (<a href='https://wandb.me/developer-guide' target=\"_blank\">docs</a>)<br/>"
      ],
      "text/plain": [
       "<IPython.core.display.HTML object>"
      ]
     },
     "metadata": {},
     "output_type": "display_data"
    },
    {
     "data": {
      "text/html": [
       " View project at <a href='https://wandb.ai/eberrigan-salk-institute-for-biological-studies/sleap-roots' target=\"_blank\">https://wandb.ai/eberrigan-salk-institute-for-biological-studies/sleap-roots</a>"
      ],
      "text/plain": [
       "<IPython.core.display.HTML object>"
      ]
     },
     "metadata": {},
     "output_type": "display_data"
    },
    {
     "data": {
      "text/html": [
       " View run at <a href='https://wandb.ai/eberrigan-salk-institute-for-biological-studies/sleap-roots/runs/v2sx3fji' target=\"_blank\">https://wandb.ai/eberrigan-salk-institute-for-biological-studies/sleap-roots/runs/v2sx3fji</a>"
      ],
      "text/plain": [
       "<IPython.core.display.HTML object>"
      ]
     },
     "metadata": {},
     "output_type": "display_data"
    },
    {
     "name": "stdout",
     "output_type": "stream",
     "text": [
      "Fetching artifact: eberrigan-salk-institute-for-biological-studies-org/wandb-registry-sleap-roots-models/arabidopsis-primary-2025-01-19_v001:latest\n"
     ]
    },
    {
     "name": "stderr",
     "output_type": "stream",
     "text": [
      "\u001b[34m\u001b[1mwandb\u001b[0m: \u001b[33mWARNING\u001b[0m Registries can be linked/fetched using a shorthand form without specifying the organization name. Try using shorthand path format: <my_registry_name>/<artifact_name> or just <my_registry_name> if fetching just the project.\n"
     ]
    },
    {
     "name": "stdout",
     "output_type": "stream",
     "text": [
      "Fetching artifact: eberrigan-salk-institute-for-biological-studies-org/wandb-registry-sleap-roots-models/sorghum-primary-2025-01-06_v001:latest\n"
     ]
    },
    {
     "name": "stderr",
     "output_type": "stream",
     "text": [
      "\u001b[34m\u001b[1mwandb\u001b[0m: \u001b[33mWARNING\u001b[0m Registries can be linked/fetched using a shorthand form without specifying the organization name. Try using shorthand path format: <my_registry_name>/<artifact_name> or just <my_registry_name> if fetching just the project.\n",
      "\u001b[34m\u001b[1mwandb\u001b[0m: Downloading large artifact arabidopsis-primary-2025-01-19_v001:latest, 59.36MB. 16 files... \n"
     ]
    },
    {
     "name": "stdout",
     "output_type": "stream",
     "text": [
      "Loaded test data from D:\\SLEAP\\20250102_generalizability_experiment\\primary\\sorghum\\train_test_split.v001\\test.pkg.slp.\n",
      "Test data saved to output/sorghum-primary-2025-01-06_v001_test_labels.slp\n"
     ]
    },
    {
     "name": "stderr",
     "output_type": "stream",
     "text": [
      "\u001b[34m\u001b[1mwandb\u001b[0m:   16 of 16 files downloaded.  \n",
      "Done. 0:0:0.4\n"
     ]
    },
    {
     "data": {
      "application/vnd.jupyter.widget-view+json": {
       "model_id": "423d866d4f4640fdbb9bf016487cf85b",
       "version_major": 2,
       "version_minor": 0
      },
      "text/plain": [
       "Output()"
      ]
     },
     "metadata": {},
     "output_type": "display_data"
    },
    {
     "name": "stdout",
     "output_type": "stream",
     "text": [
      "Model loaded successfully from e:\\repositories\\sleap-roots-training\\artifacts\\arabidopsis-primary-2025-01-19_v001-v0.\n",
      "Bottom-up model loaded successfully: Model(backbone=UNet(stacks=1, filters=24, filters_rate=1.5, kernel_size=3, stem_kernel_size=7, convs_per_block=2, stem_blocks=0, down_blocks=6, middle_block=True, up_blocks=5, up_interpolate=True, block_contraction=False), heads=[MultiInstanceConfmapsHead(part_names=['r1', 'r2', 'r3', 'r4', 'r5', 'r6'], sigma=2.5, output_stride=2, loss_weight=1.0), PartAffinityFieldsHead(edges=[('r1', 'r2'), ('r2', 'r3'), ('r3', 'r4'), ('r4', 'r5'), ('r5', 'r6')], sigma=75.0, output_stride=8, loss_weight=1.0)], keras_model=<keras.engine.functional.Functional object at 0x00000209288E2B88>).\n"
     ]
    },
    {
     "data": {
      "text/html": [
       "<pre style=\"white-space:pre;overflow-x:auto;line-height:normal;font-family:Menlo,'DejaVu Sans Mono',consolas,'Courier New',monospace\"></pre>\n"
      ],
      "text/plain": []
     },
     "metadata": {},
     "output_type": "display_data"
    },
    {
     "name": "stdout",
     "output_type": "stream",
     "text": [
      "INFO:sleap.nn.evals:OKS mAP: 0.000000\n",
      "Predictions saved to output/arabidopsis-primary-2025-01-19_v001_on_sorghum-primary-2025-01-06_v001_test_predictions.slp\n",
      "Metrics saved to output/arabidopsis-primary-2025-01-19_v001_on_sorghum-primary-2025-01-06_v001_metrics.csv\n",
      "Distances saved to output/arabidopsis-primary-2025-01-19_v001_on_sorghum-primary-2025-01-06_v001_distances.csv\n",
      "Distance histogram saved to output\\arabidopsis-primary-2025-01-19_v001_on_sorghum-primary-2025-01-06_v001_distance_histogram.png\n"
     ]
    },
    {
     "data": {
      "text/html": [
       "\n",
       "    <style>\n",
       "        .wandb-row {\n",
       "            display: flex;\n",
       "            flex-direction: row;\n",
       "            flex-wrap: wrap;\n",
       "            justify-content: flex-start;\n",
       "            width: 100%;\n",
       "        }\n",
       "        .wandb-col {\n",
       "            display: flex;\n",
       "            flex-direction: column;\n",
       "            flex-basis: 100%;\n",
       "            flex: 1;\n",
       "            padding: 10px;\n",
       "        }\n",
       "    </style>\n",
       "<div class=\"wandb-row\"><div class=\"wandb-col\"><h3>Run summary:</h3><br/><table class=\"wandb\"><tr><td>dist_avg</td><td>18.61098</td></tr><tr><td>dist_p50</td><td>14.34982</td></tr><tr><td>dist_p90</td><td>31.92489</td></tr><tr><td>dist_p95</td><td>34.51109</td></tr><tr><td>dist_p99</td><td>36.58006</td></tr><tr><td>dist_std</td><td>8.61585</td></tr><tr><td>model_name</td><td>arabidopsis-primary-...</td></tr><tr><td>model_path</td><td>e:\\repositories\\slea...</td></tr><tr><td>oks_map</td><td>0</td></tr><tr><td>oks_mar</td><td>0</td></tr><tr><td>vis_prec</td><td>1</td></tr><tr><td>vis_recall</td><td>0.55556</td></tr></table><br/></div></div>"
      ],
      "text/plain": [
       "<IPython.core.display.HTML object>"
      ]
     },
     "metadata": {},
     "output_type": "display_data"
    },
    {
     "data": {
      "text/html": [
       " View run <strong style=\"color:#cdcd00\">evaluate_arabidopsis-primary-2025-01-19_v001_on_sorghum-primary-2025-01-06_v001</strong> at: <a href='https://wandb.ai/eberrigan-salk-institute-for-biological-studies/sleap-roots/runs/v2sx3fji' target=\"_blank\">https://wandb.ai/eberrigan-salk-institute-for-biological-studies/sleap-roots/runs/v2sx3fji</a><br/> View project at: <a href='https://wandb.ai/eberrigan-salk-institute-for-biological-studies/sleap-roots' target=\"_blank\">https://wandb.ai/eberrigan-salk-institute-for-biological-studies/sleap-roots</a><br/>Synced 7 W&B file(s), 0 media file(s), 4 artifact file(s) and 0 other file(s)"
      ],
      "text/plain": [
       "<IPython.core.display.HTML object>"
      ]
     },
     "metadata": {},
     "output_type": "display_data"
    },
    {
     "data": {
      "text/html": [
       "Find logs at: <code>.\\wandb\\run-20250207_140700-v2sx3fji\\logs</code>"
      ],
      "text/plain": [
       "<IPython.core.display.HTML object>"
      ]
     },
     "metadata": {},
     "output_type": "display_data"
    },
    {
     "data": {
      "text/html": [
       "Tracking run with wandb version 0.18.6"
      ],
      "text/plain": [
       "<IPython.core.display.HTML object>"
      ]
     },
     "metadata": {},
     "output_type": "display_data"
    },
    {
     "data": {
      "text/html": [
       "Run data is saved locally in <code>e:\\repositories\\sleap-roots-training\\wandb\\run-20250207_140830-0dtxrdjl</code>"
      ],
      "text/plain": [
       "<IPython.core.display.HTML object>"
      ]
     },
     "metadata": {},
     "output_type": "display_data"
    },
    {
     "data": {
      "text/html": [
       "Syncing run <strong><a href='https://wandb.ai/eberrigan-salk-institute-for-biological-studies/sleap-roots/runs/0dtxrdjl' target=\"_blank\">evaluate_arabidopsis-primary-2025-01-19_v002_on_sorghum-primary-2025-01-06_v002</a></strong> to <a href='https://wandb.ai/eberrigan-salk-institute-for-biological-studies/sleap-roots' target=\"_blank\">Weights & Biases</a> (<a href='https://wandb.me/developer-guide' target=\"_blank\">docs</a>)<br/>"
      ],
      "text/plain": [
       "<IPython.core.display.HTML object>"
      ]
     },
     "metadata": {},
     "output_type": "display_data"
    },
    {
     "data": {
      "text/html": [
       " View project at <a href='https://wandb.ai/eberrigan-salk-institute-for-biological-studies/sleap-roots' target=\"_blank\">https://wandb.ai/eberrigan-salk-institute-for-biological-studies/sleap-roots</a>"
      ],
      "text/plain": [
       "<IPython.core.display.HTML object>"
      ]
     },
     "metadata": {},
     "output_type": "display_data"
    },
    {
     "data": {
      "text/html": [
       " View run at <a href='https://wandb.ai/eberrigan-salk-institute-for-biological-studies/sleap-roots/runs/0dtxrdjl' target=\"_blank\">https://wandb.ai/eberrigan-salk-institute-for-biological-studies/sleap-roots/runs/0dtxrdjl</a>"
      ],
      "text/plain": [
       "<IPython.core.display.HTML object>"
      ]
     },
     "metadata": {},
     "output_type": "display_data"
    },
    {
     "name": "stdout",
     "output_type": "stream",
     "text": [
      "Fetching artifact: eberrigan-salk-institute-for-biological-studies-org/wandb-registry-sleap-roots-models/arabidopsis-primary-2025-01-19_v002:latest\n"
     ]
    },
    {
     "name": "stderr",
     "output_type": "stream",
     "text": [
      "\u001b[34m\u001b[1mwandb\u001b[0m: \u001b[33mWARNING\u001b[0m Registries can be linked/fetched using a shorthand form without specifying the organization name. Try using shorthand path format: <my_registry_name>/<artifact_name> or just <my_registry_name> if fetching just the project.\n"
     ]
    },
    {
     "name": "stdout",
     "output_type": "stream",
     "text": [
      "Fetching artifact: eberrigan-salk-institute-for-biological-studies-org/wandb-registry-sleap-roots-models/sorghum-primary-2025-01-06_v002:latest\n"
     ]
    },
    {
     "name": "stderr",
     "output_type": "stream",
     "text": [
      "\u001b[34m\u001b[1mwandb\u001b[0m: \u001b[33mWARNING\u001b[0m Registries can be linked/fetched using a shorthand form without specifying the organization name. Try using shorthand path format: <my_registry_name>/<artifact_name> or just <my_registry_name> if fetching just the project.\n",
      "\u001b[34m\u001b[1mwandb\u001b[0m: Downloading large artifact arabidopsis-primary-2025-01-19_v002:latest, 59.36MB. 16 files... \n"
     ]
    },
    {
     "name": "stdout",
     "output_type": "stream",
     "text": [
      "Loaded test data from D:\\SLEAP\\20250102_generalizability_experiment\\primary\\sorghum\\train_test_split.v002\\test.pkg.slp.\n",
      "Test data saved to output/sorghum-primary-2025-01-06_v002_test_labels.slp\n"
     ]
    },
    {
     "name": "stderr",
     "output_type": "stream",
     "text": [
      "\u001b[34m\u001b[1mwandb\u001b[0m:   16 of 16 files downloaded.  \n",
      "Done. 0:0:0.4\n"
     ]
    },
    {
     "data": {
      "application/vnd.jupyter.widget-view+json": {
       "model_id": "d6ac429e94c94f03af6bef102ddaa654",
       "version_major": 2,
       "version_minor": 0
      },
      "text/plain": [
       "Output()"
      ]
     },
     "metadata": {},
     "output_type": "display_data"
    },
    {
     "name": "stdout",
     "output_type": "stream",
     "text": [
      "Model loaded successfully from e:\\repositories\\sleap-roots-training\\artifacts\\arabidopsis-primary-2025-01-19_v002-v0.\n",
      "Bottom-up model loaded successfully: Model(backbone=UNet(stacks=1, filters=24, filters_rate=1.5, kernel_size=3, stem_kernel_size=7, convs_per_block=2, stem_blocks=0, down_blocks=6, middle_block=True, up_blocks=5, up_interpolate=True, block_contraction=False), heads=[MultiInstanceConfmapsHead(part_names=['r1', 'r2', 'r3', 'r4', 'r5', 'r6'], sigma=2.5, output_stride=2, loss_weight=1.0), PartAffinityFieldsHead(edges=[('r1', 'r2'), ('r2', 'r3'), ('r3', 'r4'), ('r4', 'r5'), ('r5', 'r6')], sigma=75.0, output_stride=8, loss_weight=1.0)], keras_model=<keras.engine.functional.Functional object at 0x00000205FCE78508>).\n"
     ]
    },
    {
     "data": {
      "text/html": [
       "<pre style=\"white-space:pre;overflow-x:auto;line-height:normal;font-family:Menlo,'DejaVu Sans Mono',consolas,'Courier New',monospace\"></pre>\n"
      ],
      "text/plain": []
     },
     "metadata": {},
     "output_type": "display_data"
    },
    {
     "name": "stdout",
     "output_type": "stream",
     "text": [
      "INFO:sleap.nn.evals:OKS mAP: 0.000000\n",
      "Predictions saved to output/arabidopsis-primary-2025-01-19_v002_on_sorghum-primary-2025-01-06_v002_test_predictions.slp\n",
      "Metrics saved to output/arabidopsis-primary-2025-01-19_v002_on_sorghum-primary-2025-01-06_v002_metrics.csv\n",
      "Distances saved to output/arabidopsis-primary-2025-01-19_v002_on_sorghum-primary-2025-01-06_v002_distances.csv\n",
      "Distance histogram saved to output\\arabidopsis-primary-2025-01-19_v002_on_sorghum-primary-2025-01-06_v002_distance_histogram.png\n"
     ]
    },
    {
     "data": {
      "text/html": [
       "\n",
       "    <style>\n",
       "        .wandb-row {\n",
       "            display: flex;\n",
       "            flex-direction: row;\n",
       "            flex-wrap: wrap;\n",
       "            justify-content: flex-start;\n",
       "            width: 100%;\n",
       "        }\n",
       "        .wandb-col {\n",
       "            display: flex;\n",
       "            flex-direction: column;\n",
       "            flex-basis: 100%;\n",
       "            flex: 1;\n",
       "            padding: 10px;\n",
       "        }\n",
       "    </style>\n",
       "<div class=\"wandb-row\"><div class=\"wandb-col\"><h3>Run summary:</h3><br/><table class=\"wandb\"><tr><td>dist_avg</td><td>28.69024</td></tr><tr><td>dist_p50</td><td>25.99761</td></tr><tr><td>dist_p90</td><td>45.26401</td></tr><tr><td>dist_p95</td><td>50.58355</td></tr><tr><td>dist_p99</td><td>54.83918</td></tr><tr><td>dist_std</td><td>12.27174</td></tr><tr><td>model_name</td><td>arabidopsis-primary-...</td></tr><tr><td>model_path</td><td>e:\\repositories\\slea...</td></tr><tr><td>oks_map</td><td>0</td></tr><tr><td>oks_mar</td><td>0</td></tr><tr><td>vis_prec</td><td>1</td></tr><tr><td>vis_recall</td><td>0.33333</td></tr></table><br/></div></div>"
      ],
      "text/plain": [
       "<IPython.core.display.HTML object>"
      ]
     },
     "metadata": {},
     "output_type": "display_data"
    },
    {
     "data": {
      "text/html": [
       " View run <strong style=\"color:#cdcd00\">evaluate_arabidopsis-primary-2025-01-19_v002_on_sorghum-primary-2025-01-06_v002</strong> at: <a href='https://wandb.ai/eberrigan-salk-institute-for-biological-studies/sleap-roots/runs/0dtxrdjl' target=\"_blank\">https://wandb.ai/eberrigan-salk-institute-for-biological-studies/sleap-roots/runs/0dtxrdjl</a><br/> View project at: <a href='https://wandb.ai/eberrigan-salk-institute-for-biological-studies/sleap-roots' target=\"_blank\">https://wandb.ai/eberrigan-salk-institute-for-biological-studies/sleap-roots</a><br/>Synced 7 W&B file(s), 0 media file(s), 4 artifact file(s) and 0 other file(s)"
      ],
      "text/plain": [
       "<IPython.core.display.HTML object>"
      ]
     },
     "metadata": {},
     "output_type": "display_data"
    },
    {
     "data": {
      "text/html": [
       "Find logs at: <code>.\\wandb\\run-20250207_140830-0dtxrdjl\\logs</code>"
      ],
      "text/plain": [
       "<IPython.core.display.HTML object>"
      ]
     },
     "metadata": {},
     "output_type": "display_data"
    },
    {
     "data": {
      "text/html": [
       "Tracking run with wandb version 0.18.6"
      ],
      "text/plain": [
       "<IPython.core.display.HTML object>"
      ]
     },
     "metadata": {},
     "output_type": "display_data"
    },
    {
     "data": {
      "text/html": [
       "Run data is saved locally in <code>e:\\repositories\\sleap-roots-training\\wandb\\run-20250207_140914-6e1ccap1</code>"
      ],
      "text/plain": [
       "<IPython.core.display.HTML object>"
      ]
     },
     "metadata": {},
     "output_type": "display_data"
    },
    {
     "data": {
      "text/html": [
       "Syncing run <strong><a href='https://wandb.ai/eberrigan-salk-institute-for-biological-studies/sleap-roots/runs/6e1ccap1' target=\"_blank\">evaluate_sorghum-soybean-primary-2025-01-07_v000_on_sorghum-primary-2025-01-06_v000</a></strong> to <a href='https://wandb.ai/eberrigan-salk-institute-for-biological-studies/sleap-roots' target=\"_blank\">Weights & Biases</a> (<a href='https://wandb.me/developer-guide' target=\"_blank\">docs</a>)<br/>"
      ],
      "text/plain": [
       "<IPython.core.display.HTML object>"
      ]
     },
     "metadata": {},
     "output_type": "display_data"
    },
    {
     "data": {
      "text/html": [
       " View project at <a href='https://wandb.ai/eberrigan-salk-institute-for-biological-studies/sleap-roots' target=\"_blank\">https://wandb.ai/eberrigan-salk-institute-for-biological-studies/sleap-roots</a>"
      ],
      "text/plain": [
       "<IPython.core.display.HTML object>"
      ]
     },
     "metadata": {},
     "output_type": "display_data"
    },
    {
     "data": {
      "text/html": [
       " View run at <a href='https://wandb.ai/eberrigan-salk-institute-for-biological-studies/sleap-roots/runs/6e1ccap1' target=\"_blank\">https://wandb.ai/eberrigan-salk-institute-for-biological-studies/sleap-roots/runs/6e1ccap1</a>"
      ],
      "text/plain": [
       "<IPython.core.display.HTML object>"
      ]
     },
     "metadata": {},
     "output_type": "display_data"
    },
    {
     "name": "stdout",
     "output_type": "stream",
     "text": [
      "Fetching artifact: eberrigan-salk-institute-for-biological-studies-org/wandb-registry-sleap-roots-models/sorghum-soybean-primary-2025-01-07_v000:latest\n"
     ]
    },
    {
     "name": "stderr",
     "output_type": "stream",
     "text": [
      "\u001b[34m\u001b[1mwandb\u001b[0m: \u001b[33mWARNING\u001b[0m Registries can be linked/fetched using a shorthand form without specifying the organization name. Try using shorthand path format: <my_registry_name>/<artifact_name> or just <my_registry_name> if fetching just the project.\n"
     ]
    },
    {
     "name": "stdout",
     "output_type": "stream",
     "text": [
      "Fetching artifact: eberrigan-salk-institute-for-biological-studies-org/wandb-registry-sleap-roots-models/sorghum-primary-2025-01-06_v000:latest\n"
     ]
    },
    {
     "name": "stderr",
     "output_type": "stream",
     "text": [
      "\u001b[34m\u001b[1mwandb\u001b[0m: \u001b[33mWARNING\u001b[0m Registries can be linked/fetched using a shorthand form without specifying the organization name. Try using shorthand path format: <my_registry_name>/<artifact_name> or just <my_registry_name> if fetching just the project.\n",
      "\u001b[34m\u001b[1mwandb\u001b[0m: Downloading large artifact sorghum-soybean-primary-2025-01-07_v000:latest, 60.42MB. 16 files... \n"
     ]
    },
    {
     "name": "stdout",
     "output_type": "stream",
     "text": [
      "Loaded test data from D:\\SLEAP\\20250102_generalizability_experiment\\primary\\sorghum\\train_test_split.v000\\test.pkg.slp.\n",
      "Test data saved to output/sorghum-primary-2025-01-06_v000_test_labels.slp\n"
     ]
    },
    {
     "name": "stderr",
     "output_type": "stream",
     "text": [
      "\u001b[34m\u001b[1mwandb\u001b[0m:   16 of 16 files downloaded.  \n",
      "Done. 0:0:0.3\n"
     ]
    },
    {
     "data": {
      "application/vnd.jupyter.widget-view+json": {
       "model_id": "dc30ee33e9584cb784ad89c4d29c0985",
       "version_major": 2,
       "version_minor": 0
      },
      "text/plain": [
       "Output()"
      ]
     },
     "metadata": {},
     "output_type": "display_data"
    },
    {
     "name": "stdout",
     "output_type": "stream",
     "text": [
      "Model loaded successfully from e:\\repositories\\sleap-roots-training\\artifacts\\sorghum-soybean-primary-2025-01-07_v000-v0.\n",
      "Bottom-up model loaded successfully: Model(backbone=UNet(stacks=1, filters=24, filters_rate=1.5, kernel_size=3, stem_kernel_size=7, convs_per_block=2, stem_blocks=0, down_blocks=6, middle_block=True, up_blocks=5, up_interpolate=True, block_contraction=False), heads=[MultiInstanceConfmapsHead(part_names=['r1', 'r2', 'r3', 'r4', 'r5', 'r6'], sigma=2.5, output_stride=2, loss_weight=1.0), PartAffinityFieldsHead(edges=[('r1', 'r2'), ('r2', 'r3'), ('r3', 'r4'), ('r4', 'r5'), ('r5', 'r6')], sigma=75.0, output_stride=8, loss_weight=1.0)], keras_model=<keras.engine.functional.Functional object at 0x000002058CD609C8>).\n"
     ]
    },
    {
     "data": {
      "text/html": [
       "<pre style=\"white-space:pre;overflow-x:auto;line-height:normal;font-family:Menlo,'DejaVu Sans Mono',consolas,'Courier New',monospace\"></pre>\n"
      ],
      "text/plain": []
     },
     "metadata": {},
     "output_type": "display_data"
    },
    {
     "name": "stdout",
     "output_type": "stream",
     "text": [
      "INFO:sleap.nn.evals:OKS mAP: 0.000000\n",
      "Predictions saved to output/sorghum-soybean-primary-2025-01-07_v000_on_sorghum-primary-2025-01-06_v000_test_predictions.slp\n",
      "Metrics saved to output/sorghum-soybean-primary-2025-01-07_v000_on_sorghum-primary-2025-01-06_v000_metrics.csv\n",
      "Distances saved to output/sorghum-soybean-primary-2025-01-07_v000_on_sorghum-primary-2025-01-06_v000_distances.csv\n",
      "Distance histogram saved to output\\sorghum-soybean-primary-2025-01-07_v000_on_sorghum-primary-2025-01-06_v000_distance_histogram.png\n"
     ]
    },
    {
     "data": {
      "text/html": [
       "\n",
       "    <style>\n",
       "        .wandb-row {\n",
       "            display: flex;\n",
       "            flex-direction: row;\n",
       "            flex-wrap: wrap;\n",
       "            justify-content: flex-start;\n",
       "            width: 100%;\n",
       "        }\n",
       "        .wandb-col {\n",
       "            display: flex;\n",
       "            flex-direction: column;\n",
       "            flex-basis: 100%;\n",
       "            flex: 1;\n",
       "            padding: 10px;\n",
       "        }\n",
       "    </style>\n",
       "<div class=\"wandb-row\"><div class=\"wandb-col\"><h3>Run summary:</h3><br/><table class=\"wandb\"><tr><td>dist_avg</td><td>2.20587</td></tr><tr><td>dist_p50</td><td>1.20287</td></tr><tr><td>dist_p90</td><td>4.69671</td></tr><tr><td>dist_p95</td><td>6.89858</td></tr><tr><td>dist_p99</td><td>15.48871</td></tr><tr><td>dist_std</td><td>2.92079</td></tr><tr><td>model_name</td><td>sorghum-soybean-prim...</td></tr><tr><td>model_path</td><td>e:\\repositories\\slea...</td></tr><tr><td>oks_map</td><td>0</td></tr><tr><td>oks_mar</td><td>0</td></tr><tr><td>vis_prec</td><td>1</td></tr><tr><td>vis_recall</td><td>0.45513</td></tr></table><br/></div></div>"
      ],
      "text/plain": [
       "<IPython.core.display.HTML object>"
      ]
     },
     "metadata": {},
     "output_type": "display_data"
    },
    {
     "data": {
      "text/html": [
       " View run <strong style=\"color:#cdcd00\">evaluate_sorghum-soybean-primary-2025-01-07_v000_on_sorghum-primary-2025-01-06_v000</strong> at: <a href='https://wandb.ai/eberrigan-salk-institute-for-biological-studies/sleap-roots/runs/6e1ccap1' target=\"_blank\">https://wandb.ai/eberrigan-salk-institute-for-biological-studies/sleap-roots/runs/6e1ccap1</a><br/> View project at: <a href='https://wandb.ai/eberrigan-salk-institute-for-biological-studies/sleap-roots' target=\"_blank\">https://wandb.ai/eberrigan-salk-institute-for-biological-studies/sleap-roots</a><br/>Synced 7 W&B file(s), 0 media file(s), 4 artifact file(s) and 0 other file(s)"
      ],
      "text/plain": [
       "<IPython.core.display.HTML object>"
      ]
     },
     "metadata": {},
     "output_type": "display_data"
    },
    {
     "data": {
      "text/html": [
       "Find logs at: <code>.\\wandb\\run-20250207_140914-6e1ccap1\\logs</code>"
      ],
      "text/plain": [
       "<IPython.core.display.HTML object>"
      ]
     },
     "metadata": {},
     "output_type": "display_data"
    },
    {
     "data": {
      "text/html": [
       "Tracking run with wandb version 0.18.6"
      ],
      "text/plain": [
       "<IPython.core.display.HTML object>"
      ]
     },
     "metadata": {},
     "output_type": "display_data"
    },
    {
     "data": {
      "text/html": [
       "Run data is saved locally in <code>e:\\repositories\\sleap-roots-training\\wandb\\run-20250207_140943-ha8nzqd5</code>"
      ],
      "text/plain": [
       "<IPython.core.display.HTML object>"
      ]
     },
     "metadata": {},
     "output_type": "display_data"
    },
    {
     "data": {
      "text/html": [
       "Syncing run <strong><a href='https://wandb.ai/eberrigan-salk-institute-for-biological-studies/sleap-roots/runs/ha8nzqd5' target=\"_blank\">evaluate_sorghum-soybean-primary-2025-01-07_v001_on_sorghum-primary-2025-01-06_v001</a></strong> to <a href='https://wandb.ai/eberrigan-salk-institute-for-biological-studies/sleap-roots' target=\"_blank\">Weights & Biases</a> (<a href='https://wandb.me/developer-guide' target=\"_blank\">docs</a>)<br/>"
      ],
      "text/plain": [
       "<IPython.core.display.HTML object>"
      ]
     },
     "metadata": {},
     "output_type": "display_data"
    },
    {
     "data": {
      "text/html": [
       " View project at <a href='https://wandb.ai/eberrigan-salk-institute-for-biological-studies/sleap-roots' target=\"_blank\">https://wandb.ai/eberrigan-salk-institute-for-biological-studies/sleap-roots</a>"
      ],
      "text/plain": [
       "<IPython.core.display.HTML object>"
      ]
     },
     "metadata": {},
     "output_type": "display_data"
    },
    {
     "data": {
      "text/html": [
       " View run at <a href='https://wandb.ai/eberrigan-salk-institute-for-biological-studies/sleap-roots/runs/ha8nzqd5' target=\"_blank\">https://wandb.ai/eberrigan-salk-institute-for-biological-studies/sleap-roots/runs/ha8nzqd5</a>"
      ],
      "text/plain": [
       "<IPython.core.display.HTML object>"
      ]
     },
     "metadata": {},
     "output_type": "display_data"
    },
    {
     "name": "stdout",
     "output_type": "stream",
     "text": [
      "Fetching artifact: eberrigan-salk-institute-for-biological-studies-org/wandb-registry-sleap-roots-models/sorghum-soybean-primary-2025-01-07_v001:latest\n"
     ]
    },
    {
     "name": "stderr",
     "output_type": "stream",
     "text": [
      "\u001b[34m\u001b[1mwandb\u001b[0m: \u001b[33mWARNING\u001b[0m Registries can be linked/fetched using a shorthand form without specifying the organization name. Try using shorthand path format: <my_registry_name>/<artifact_name> or just <my_registry_name> if fetching just the project.\n"
     ]
    },
    {
     "name": "stdout",
     "output_type": "stream",
     "text": [
      "Fetching artifact: eberrigan-salk-institute-for-biological-studies-org/wandb-registry-sleap-roots-models/sorghum-primary-2025-01-06_v001:latest\n"
     ]
    },
    {
     "name": "stderr",
     "output_type": "stream",
     "text": [
      "\u001b[34m\u001b[1mwandb\u001b[0m: \u001b[33mWARNING\u001b[0m Registries can be linked/fetched using a shorthand form without specifying the organization name. Try using shorthand path format: <my_registry_name>/<artifact_name> or just <my_registry_name> if fetching just the project.\n",
      "\u001b[34m\u001b[1mwandb\u001b[0m: Downloading large artifact sorghum-soybean-primary-2025-01-07_v001:latest, 60.41MB. 16 files... \n"
     ]
    },
    {
     "name": "stdout",
     "output_type": "stream",
     "text": [
      "Loaded test data from D:\\SLEAP\\20250102_generalizability_experiment\\primary\\sorghum\\train_test_split.v001\\test.pkg.slp.\n",
      "Test data saved to output/sorghum-primary-2025-01-06_v001_test_labels.slp\n"
     ]
    },
    {
     "name": "stderr",
     "output_type": "stream",
     "text": [
      "\u001b[34m\u001b[1mwandb\u001b[0m:   16 of 16 files downloaded.  \n",
      "Done. 0:0:0.4\n"
     ]
    },
    {
     "data": {
      "application/vnd.jupyter.widget-view+json": {
       "model_id": "30e27c9a061b4266b220e13923a8e1d0",
       "version_major": 2,
       "version_minor": 0
      },
      "text/plain": [
       "Output()"
      ]
     },
     "metadata": {},
     "output_type": "display_data"
    },
    {
     "name": "stdout",
     "output_type": "stream",
     "text": [
      "Model loaded successfully from e:\\repositories\\sleap-roots-training\\artifacts\\sorghum-soybean-primary-2025-01-07_v001-v0.\n",
      "Bottom-up model loaded successfully: Model(backbone=UNet(stacks=1, filters=24, filters_rate=1.5, kernel_size=3, stem_kernel_size=7, convs_per_block=2, stem_blocks=0, down_blocks=6, middle_block=True, up_blocks=5, up_interpolate=True, block_contraction=False), heads=[MultiInstanceConfmapsHead(part_names=['r1', 'r2', 'r3', 'r4', 'r5', 'r6'], sigma=2.5, output_stride=2, loss_weight=1.0), PartAffinityFieldsHead(edges=[('r1', 'r2'), ('r2', 'r3'), ('r3', 'r4'), ('r4', 'r5'), ('r5', 'r6')], sigma=75.0, output_stride=8, loss_weight=1.0)], keras_model=<keras.engine.functional.Functional object at 0x00000207F3589C48>).\n"
     ]
    },
    {
     "data": {
      "text/html": [
       "<pre style=\"white-space:pre;overflow-x:auto;line-height:normal;font-family:Menlo,'DejaVu Sans Mono',consolas,'Courier New',monospace\"></pre>\n"
      ],
      "text/plain": []
     },
     "metadata": {},
     "output_type": "display_data"
    },
    {
     "name": "stdout",
     "output_type": "stream",
     "text": [
      "INFO:sleap.nn.evals:OKS mAP: 0.025798\n",
      "Predictions saved to output/sorghum-soybean-primary-2025-01-07_v001_on_sorghum-primary-2025-01-06_v001_test_predictions.slp\n",
      "Metrics saved to output/sorghum-soybean-primary-2025-01-07_v001_on_sorghum-primary-2025-01-06_v001_metrics.csv\n",
      "Distances saved to output/sorghum-soybean-primary-2025-01-07_v001_on_sorghum-primary-2025-01-06_v001_distances.csv\n",
      "Distance histogram saved to output\\sorghum-soybean-primary-2025-01-07_v001_on_sorghum-primary-2025-01-06_v001_distance_histogram.png\n"
     ]
    },
    {
     "data": {
      "application/vnd.jupyter.widget-view+json": {
       "model_id": "47ed96ef70e64d6a92c382db5944f3f9",
       "version_major": 2,
       "version_minor": 0
      },
      "text/plain": [
       "VBox(children=(Label(value='0.606 MB of 0.606 MB uploaded\\r'), FloatProgress(value=1.0, max=1.0)))"
      ]
     },
     "metadata": {},
     "output_type": "display_data"
    },
    {
     "data": {
      "text/html": [
       "\n",
       "    <style>\n",
       "        .wandb-row {\n",
       "            display: flex;\n",
       "            flex-direction: row;\n",
       "            flex-wrap: wrap;\n",
       "            justify-content: flex-start;\n",
       "            width: 100%;\n",
       "        }\n",
       "        .wandb-col {\n",
       "            display: flex;\n",
       "            flex-direction: column;\n",
       "            flex-basis: 100%;\n",
       "            flex: 1;\n",
       "            padding: 10px;\n",
       "        }\n",
       "    </style>\n",
       "<div class=\"wandb-row\"><div class=\"wandb-col\"><h3>Run summary:</h3><br/><table class=\"wandb\"><tr><td>dist_avg</td><td>2.08418</td></tr><tr><td>dist_p50</td><td>1.26046</td></tr><tr><td>dist_p90</td><td>5.03547</td></tr><tr><td>dist_p95</td><td>6.32496</td></tr><tr><td>dist_p99</td><td>10.67581</td></tr><tr><td>dist_std</td><td>2.26937</td></tr><tr><td>model_name</td><td>sorghum-soybean-prim...</td></tr><tr><td>model_path</td><td>e:\\repositories\\slea...</td></tr><tr><td>oks_map</td><td>0.0258</td></tr><tr><td>oks_mar</td><td>0.06444</td></tr><tr><td>vis_prec</td><td>1</td></tr><tr><td>vis_recall</td><td>0.72764</td></tr></table><br/></div></div>"
      ],
      "text/plain": [
       "<IPython.core.display.HTML object>"
      ]
     },
     "metadata": {},
     "output_type": "display_data"
    },
    {
     "data": {
      "text/html": [
       " View run <strong style=\"color:#cdcd00\">evaluate_sorghum-soybean-primary-2025-01-07_v001_on_sorghum-primary-2025-01-06_v001</strong> at: <a href='https://wandb.ai/eberrigan-salk-institute-for-biological-studies/sleap-roots/runs/ha8nzqd5' target=\"_blank\">https://wandb.ai/eberrigan-salk-institute-for-biological-studies/sleap-roots/runs/ha8nzqd5</a><br/> View project at: <a href='https://wandb.ai/eberrigan-salk-institute-for-biological-studies/sleap-roots' target=\"_blank\">https://wandb.ai/eberrigan-salk-institute-for-biological-studies/sleap-roots</a><br/>Synced 7 W&B file(s), 0 media file(s), 4 artifact file(s) and 0 other file(s)"
      ],
      "text/plain": [
       "<IPython.core.display.HTML object>"
      ]
     },
     "metadata": {},
     "output_type": "display_data"
    },
    {
     "data": {
      "text/html": [
       "Find logs at: <code>.\\wandb\\run-20250207_140943-ha8nzqd5\\logs</code>"
      ],
      "text/plain": [
       "<IPython.core.display.HTML object>"
      ]
     },
     "metadata": {},
     "output_type": "display_data"
    },
    {
     "data": {
      "text/html": [
       "Tracking run with wandb version 0.18.6"
      ],
      "text/plain": [
       "<IPython.core.display.HTML object>"
      ]
     },
     "metadata": {},
     "output_type": "display_data"
    },
    {
     "data": {
      "text/html": [
       "Run data is saved locally in <code>e:\\repositories\\sleap-roots-training\\wandb\\run-20250207_141018-0yycpati</code>"
      ],
      "text/plain": [
       "<IPython.core.display.HTML object>"
      ]
     },
     "metadata": {},
     "output_type": "display_data"
    },
    {
     "data": {
      "text/html": [
       "Syncing run <strong><a href='https://wandb.ai/eberrigan-salk-institute-for-biological-studies/sleap-roots/runs/0yycpati' target=\"_blank\">evaluate_sorghum-soybean-primary-2025-01-07_v002_on_sorghum-primary-2025-01-06_v002</a></strong> to <a href='https://wandb.ai/eberrigan-salk-institute-for-biological-studies/sleap-roots' target=\"_blank\">Weights & Biases</a> (<a href='https://wandb.me/developer-guide' target=\"_blank\">docs</a>)<br/>"
      ],
      "text/plain": [
       "<IPython.core.display.HTML object>"
      ]
     },
     "metadata": {},
     "output_type": "display_data"
    },
    {
     "data": {
      "text/html": [
       " View project at <a href='https://wandb.ai/eberrigan-salk-institute-for-biological-studies/sleap-roots' target=\"_blank\">https://wandb.ai/eberrigan-salk-institute-for-biological-studies/sleap-roots</a>"
      ],
      "text/plain": [
       "<IPython.core.display.HTML object>"
      ]
     },
     "metadata": {},
     "output_type": "display_data"
    },
    {
     "data": {
      "text/html": [
       " View run at <a href='https://wandb.ai/eberrigan-salk-institute-for-biological-studies/sleap-roots/runs/0yycpati' target=\"_blank\">https://wandb.ai/eberrigan-salk-institute-for-biological-studies/sleap-roots/runs/0yycpati</a>"
      ],
      "text/plain": [
       "<IPython.core.display.HTML object>"
      ]
     },
     "metadata": {},
     "output_type": "display_data"
    },
    {
     "name": "stdout",
     "output_type": "stream",
     "text": [
      "Fetching artifact: eberrigan-salk-institute-for-biological-studies-org/wandb-registry-sleap-roots-models/sorghum-soybean-primary-2025-01-07_v002:latest\n"
     ]
    },
    {
     "name": "stderr",
     "output_type": "stream",
     "text": [
      "\u001b[34m\u001b[1mwandb\u001b[0m: \u001b[33mWARNING\u001b[0m Registries can be linked/fetched using a shorthand form without specifying the organization name. Try using shorthand path format: <my_registry_name>/<artifact_name> or just <my_registry_name> if fetching just the project.\n"
     ]
    },
    {
     "name": "stdout",
     "output_type": "stream",
     "text": [
      "Fetching artifact: eberrigan-salk-institute-for-biological-studies-org/wandb-registry-sleap-roots-models/sorghum-primary-2025-01-06_v002:latest\n"
     ]
    },
    {
     "name": "stderr",
     "output_type": "stream",
     "text": [
      "\u001b[34m\u001b[1mwandb\u001b[0m: \u001b[33mWARNING\u001b[0m Registries can be linked/fetched using a shorthand form without specifying the organization name. Try using shorthand path format: <my_registry_name>/<artifact_name> or just <my_registry_name> if fetching just the project.\n",
      "\u001b[34m\u001b[1mwandb\u001b[0m: Downloading large artifact sorghum-soybean-primary-2025-01-07_v002:latest, 60.40MB. 16 files... \n"
     ]
    },
    {
     "name": "stdout",
     "output_type": "stream",
     "text": [
      "Loaded test data from D:\\SLEAP\\20250102_generalizability_experiment\\primary\\sorghum\\train_test_split.v002\\test.pkg.slp.\n",
      "Test data saved to output/sorghum-primary-2025-01-06_v002_test_labels.slp\n"
     ]
    },
    {
     "name": "stderr",
     "output_type": "stream",
     "text": [
      "\u001b[34m\u001b[1mwandb\u001b[0m:   16 of 16 files downloaded.  \n",
      "Done. 0:0:0.3\n"
     ]
    },
    {
     "data": {
      "application/vnd.jupyter.widget-view+json": {
       "model_id": "99876abadd524e249fbc2418a3248f30",
       "version_major": 2,
       "version_minor": 0
      },
      "text/plain": [
       "Output()"
      ]
     },
     "metadata": {},
     "output_type": "display_data"
    },
    {
     "name": "stdout",
     "output_type": "stream",
     "text": [
      "Model loaded successfully from e:\\repositories\\sleap-roots-training\\artifacts\\sorghum-soybean-primary-2025-01-07_v002-v0.\n",
      "Bottom-up model loaded successfully: Model(backbone=UNet(stacks=1, filters=24, filters_rate=1.5, kernel_size=3, stem_kernel_size=7, convs_per_block=2, stem_blocks=0, down_blocks=6, middle_block=True, up_blocks=5, up_interpolate=True, block_contraction=False), heads=[MultiInstanceConfmapsHead(part_names=['r1', 'r2', 'r3', 'r4', 'r5', 'r6'], sigma=2.5, output_stride=2, loss_weight=1.0), PartAffinityFieldsHead(edges=[('r1', 'r2'), ('r2', 'r3'), ('r3', 'r4'), ('r4', 'r5'), ('r5', 'r6')], sigma=75.0, output_stride=8, loss_weight=1.0)], keras_model=<keras.engine.functional.Functional object at 0x0000020925875508>).\n"
     ]
    },
    {
     "data": {
      "text/html": [
       "<pre style=\"white-space:pre;overflow-x:auto;line-height:normal;font-family:Menlo,'DejaVu Sans Mono',consolas,'Courier New',monospace\"></pre>\n"
      ],
      "text/plain": []
     },
     "metadata": {},
     "output_type": "display_data"
    },
    {
     "name": "stdout",
     "output_type": "stream",
     "text": [
      "INFO:sleap.nn.evals:OKS mAP: 0.050043\n",
      "Predictions saved to output/sorghum-soybean-primary-2025-01-07_v002_on_sorghum-primary-2025-01-06_v002_test_predictions.slp\n",
      "Metrics saved to output/sorghum-soybean-primary-2025-01-07_v002_on_sorghum-primary-2025-01-06_v002_metrics.csv\n",
      "Distances saved to output/sorghum-soybean-primary-2025-01-07_v002_on_sorghum-primary-2025-01-06_v002_distances.csv\n",
      "Distance histogram saved to output\\sorghum-soybean-primary-2025-01-07_v002_on_sorghum-primary-2025-01-06_v002_distance_histogram.png\n"
     ]
    },
    {
     "data": {
      "text/html": [
       "\n",
       "    <style>\n",
       "        .wandb-row {\n",
       "            display: flex;\n",
       "            flex-direction: row;\n",
       "            flex-wrap: wrap;\n",
       "            justify-content: flex-start;\n",
       "            width: 100%;\n",
       "        }\n",
       "        .wandb-col {\n",
       "            display: flex;\n",
       "            flex-direction: column;\n",
       "            flex-basis: 100%;\n",
       "            flex: 1;\n",
       "            padding: 10px;\n",
       "        }\n",
       "    </style>\n",
       "<div class=\"wandb-row\"><div class=\"wandb-col\"><h3>Run summary:</h3><br/><table class=\"wandb\"><tr><td>dist_avg</td><td>1.62802</td></tr><tr><td>dist_p50</td><td>1.06495</td></tr><tr><td>dist_p90</td><td>3.35472</td></tr><tr><td>dist_p95</td><td>4.81627</td></tr><tr><td>dist_p99</td><td>8.31326</td></tr><tr><td>dist_std</td><td>1.71952</td></tr><tr><td>model_name</td><td>sorghum-soybean-prim...</td></tr><tr><td>model_path</td><td>e:\\repositories\\slea...</td></tr><tr><td>oks_map</td><td>0.05004</td></tr><tr><td>oks_mar</td><td>0.05556</td></tr><tr><td>vis_prec</td><td>1</td></tr><tr><td>vis_recall</td><td>0.5914</td></tr></table><br/></div></div>"
      ],
      "text/plain": [
       "<IPython.core.display.HTML object>"
      ]
     },
     "metadata": {},
     "output_type": "display_data"
    },
    {
     "data": {
      "text/html": [
       " View run <strong style=\"color:#cdcd00\">evaluate_sorghum-soybean-primary-2025-01-07_v002_on_sorghum-primary-2025-01-06_v002</strong> at: <a href='https://wandb.ai/eberrigan-salk-institute-for-biological-studies/sleap-roots/runs/0yycpati' target=\"_blank\">https://wandb.ai/eberrigan-salk-institute-for-biological-studies/sleap-roots/runs/0yycpati</a><br/> View project at: <a href='https://wandb.ai/eberrigan-salk-institute-for-biological-studies/sleap-roots' target=\"_blank\">https://wandb.ai/eberrigan-salk-institute-for-biological-studies/sleap-roots</a><br/>Synced 7 W&B file(s), 0 media file(s), 8 artifact file(s) and 0 other file(s)"
      ],
      "text/plain": [
       "<IPython.core.display.HTML object>"
      ]
     },
     "metadata": {},
     "output_type": "display_data"
    },
    {
     "data": {
      "text/html": [
       "Find logs at: <code>.\\wandb\\run-20250207_141018-0yycpati\\logs</code>"
      ],
      "text/plain": [
       "<IPython.core.display.HTML object>"
      ]
     },
     "metadata": {},
     "output_type": "display_data"
    },
    {
     "data": {
      "text/html": [
       "Tracking run with wandb version 0.18.6"
      ],
      "text/plain": [
       "<IPython.core.display.HTML object>"
      ]
     },
     "metadata": {},
     "output_type": "display_data"
    },
    {
     "data": {
      "text/html": [
       "Run data is saved locally in <code>e:\\repositories\\sleap-roots-training\\wandb\\run-20250207_141043-yb1v9cz2</code>"
      ],
      "text/plain": [
       "<IPython.core.display.HTML object>"
      ]
     },
     "metadata": {},
     "output_type": "display_data"
    },
    {
     "data": {
      "text/html": [
       "Syncing run <strong><a href='https://wandb.ai/eberrigan-salk-institute-for-biological-studies/sleap-roots/runs/yb1v9cz2' target=\"_blank\">evaluate_sorghum-primary-2025-01-06_v000_on_sorghum-primary-2025-01-06_v000</a></strong> to <a href='https://wandb.ai/eberrigan-salk-institute-for-biological-studies/sleap-roots' target=\"_blank\">Weights & Biases</a> (<a href='https://wandb.me/developer-guide' target=\"_blank\">docs</a>)<br/>"
      ],
      "text/plain": [
       "<IPython.core.display.HTML object>"
      ]
     },
     "metadata": {},
     "output_type": "display_data"
    },
    {
     "data": {
      "text/html": [
       " View project at <a href='https://wandb.ai/eberrigan-salk-institute-for-biological-studies/sleap-roots' target=\"_blank\">https://wandb.ai/eberrigan-salk-institute-for-biological-studies/sleap-roots</a>"
      ],
      "text/plain": [
       "<IPython.core.display.HTML object>"
      ]
     },
     "metadata": {},
     "output_type": "display_data"
    },
    {
     "data": {
      "text/html": [
       " View run at <a href='https://wandb.ai/eberrigan-salk-institute-for-biological-studies/sleap-roots/runs/yb1v9cz2' target=\"_blank\">https://wandb.ai/eberrigan-salk-institute-for-biological-studies/sleap-roots/runs/yb1v9cz2</a>"
      ],
      "text/plain": [
       "<IPython.core.display.HTML object>"
      ]
     },
     "metadata": {},
     "output_type": "display_data"
    },
    {
     "name": "stdout",
     "output_type": "stream",
     "text": [
      "Fetching artifact: eberrigan-salk-institute-for-biological-studies-org/wandb-registry-sleap-roots-models/sorghum-primary-2025-01-06_v000:latest\n"
     ]
    },
    {
     "name": "stderr",
     "output_type": "stream",
     "text": [
      "\u001b[34m\u001b[1mwandb\u001b[0m: \u001b[33mWARNING\u001b[0m Registries can be linked/fetched using a shorthand form without specifying the organization name. Try using shorthand path format: <my_registry_name>/<artifact_name> or just <my_registry_name> if fetching just the project.\n"
     ]
    },
    {
     "name": "stdout",
     "output_type": "stream",
     "text": [
      "Fetching artifact: eberrigan-salk-institute-for-biological-studies-org/wandb-registry-sleap-roots-models/sorghum-primary-2025-01-06_v000:latest\n"
     ]
    },
    {
     "name": "stderr",
     "output_type": "stream",
     "text": [
      "\u001b[34m\u001b[1mwandb\u001b[0m: \u001b[33mWARNING\u001b[0m Registries can be linked/fetched using a shorthand form without specifying the organization name. Try using shorthand path format: <my_registry_name>/<artifact_name> or just <my_registry_name> if fetching just the project.\n",
      "\u001b[34m\u001b[1mwandb\u001b[0m: Downloading large artifact sorghum-primary-2025-01-06_v000:latest, 59.47MB. 16 files... \n"
     ]
    },
    {
     "name": "stdout",
     "output_type": "stream",
     "text": [
      "Loaded test data from D:\\SLEAP\\20250102_generalizability_experiment\\primary\\sorghum\\train_test_split.v000\\test.pkg.slp.\n",
      "Test data saved to output/sorghum-primary-2025-01-06_v000_test_labels.slp\n"
     ]
    },
    {
     "name": "stderr",
     "output_type": "stream",
     "text": [
      "\u001b[34m\u001b[1mwandb\u001b[0m:   16 of 16 files downloaded.  \n",
      "Done. 0:0:1.9\n"
     ]
    },
    {
     "data": {
      "application/vnd.jupyter.widget-view+json": {
       "model_id": "1e36dc9c13d741eaac441d4641aaee60",
       "version_major": 2,
       "version_minor": 0
      },
      "text/plain": [
       "Output()"
      ]
     },
     "metadata": {},
     "output_type": "display_data"
    },
    {
     "name": "stdout",
     "output_type": "stream",
     "text": [
      "Model loaded successfully from e:\\repositories\\sleap-roots-training\\artifacts\\sorghum-primary-2025-01-06_v000-v0.\n",
      "Bottom-up model loaded successfully: Model(backbone=UNet(stacks=1, filters=24, filters_rate=1.5, kernel_size=3, stem_kernel_size=7, convs_per_block=2, stem_blocks=0, down_blocks=6, middle_block=True, up_blocks=5, up_interpolate=True, block_contraction=False), heads=[MultiInstanceConfmapsHead(part_names=['r1', 'r2', 'r3', 'r4', 'r5', 'r6'], sigma=2.5, output_stride=2, loss_weight=1.0), PartAffinityFieldsHead(edges=[('r1', 'r2'), ('r2', 'r3'), ('r3', 'r4'), ('r4', 'r5'), ('r5', 'r6')], sigma=75.0, output_stride=8, loss_weight=1.0)], keras_model=<keras.engine.functional.Functional object at 0x00000209285FE088>).\n"
     ]
    },
    {
     "data": {
      "text/html": [
       "<pre style=\"white-space:pre;overflow-x:auto;line-height:normal;font-family:Menlo,'DejaVu Sans Mono',consolas,'Courier New',monospace\"></pre>\n"
      ],
      "text/plain": []
     },
     "metadata": {},
     "output_type": "display_data"
    },
    {
     "name": "stdout",
     "output_type": "stream",
     "text": [
      "WARNING:sleap.nn.evals:Failed to compute metrics.\n"
     ]
    },
    {
     "name": "stderr",
     "output_type": "stream",
     "text": [
      "c:\\Users\\pbiobgh\\.conda\\envs\\sleap_v1.3.4\\lib\\site-packages\\sleap\\nn\\evals.py:539: RuntimeWarning: Mean of empty slice\n",
      "  \"dist.avg\": np.nanmean(dists),\n",
      "c:\\Users\\pbiobgh\\.conda\\envs\\sleap_v1.3.4\\lib\\site-packages\\sleap\\nn\\evals.py:572: RuntimeWarning: Mean of empty slice.\n",
      "  mPCK = mPCK_parts.mean()\n",
      "c:\\Users\\pbiobgh\\.conda\\envs\\sleap_v1.3.4\\lib\\site-packages\\numpy\\core\\_methods.py:189: RuntimeWarning: invalid value encountered in double_scalars\n",
      "  ret = ret.dtype.type(ret / rcount)\n",
      "c:\\Users\\pbiobgh\\.conda\\envs\\sleap_v1.3.4\\lib\\site-packages\\sleap\\nn\\evals.py:666: RuntimeWarning: Mean of empty slice.\n",
      "  pair_pck = metrics[\"pck.pcks\"].mean(axis=-1).mean(axis=-1)\n",
      "c:\\Users\\pbiobgh\\.conda\\envs\\sleap_v1.3.4\\lib\\site-packages\\numpy\\core\\_methods.py:182: RuntimeWarning: invalid value encountered in true_divide\n",
      "  ret, rcount, out=ret, casting='unsafe', subok=False)\n",
      "c:\\Users\\pbiobgh\\.conda\\envs\\sleap_v1.3.4\\lib\\site-packages\\sleap\\nn\\evals.py:668: RuntimeWarning: Mean of empty slice.\n",
      "  metrics[\"oks.mOKS\"] = pair_oks.mean()\n"
     ]
    },
    {
     "name": "stdout",
     "output_type": "stream",
     "text": [
      "Predictions saved to output/sorghum-primary-2025-01-06_v000_on_sorghum-primary-2025-01-06_v000_test_predictions.slp\n",
      "Error during model evaluation: 'NoneType' object is not subscriptable. Skipping this model...\n"
     ]
    },
    {
     "data": {
      "application/vnd.jupyter.widget-view+json": {
       "model_id": "274cd22bbc9f46189ed6f97824dd3a38",
       "version_major": 2,
       "version_minor": 0
      },
      "text/plain": [
       "VBox(children=(Label(value='0.573 MB of 0.573 MB uploaded\\r'), FloatProgress(value=1.0, max=1.0)))"
      ]
     },
     "metadata": {},
     "output_type": "display_data"
    },
    {
     "data": {
      "text/html": [
       " View run <strong style=\"color:#cdcd00\">evaluate_sorghum-primary-2025-01-06_v000_on_sorghum-primary-2025-01-06_v000</strong> at: <a href='https://wandb.ai/eberrigan-salk-institute-for-biological-studies/sleap-roots/runs/yb1v9cz2' target=\"_blank\">https://wandb.ai/eberrigan-salk-institute-for-biological-studies/sleap-roots/runs/yb1v9cz2</a><br/> View project at: <a href='https://wandb.ai/eberrigan-salk-institute-for-biological-studies/sleap-roots' target=\"_blank\">https://wandb.ai/eberrigan-salk-institute-for-biological-studies/sleap-roots</a><br/>Synced 7 W&B file(s), 0 media file(s), 2 artifact file(s) and 0 other file(s)"
      ],
      "text/plain": [
       "<IPython.core.display.HTML object>"
      ]
     },
     "metadata": {},
     "output_type": "display_data"
    },
    {
     "data": {
      "text/html": [
       "Find logs at: <code>.\\wandb\\run-20250207_141043-yb1v9cz2\\logs</code>"
      ],
      "text/plain": [
       "<IPython.core.display.HTML object>"
      ]
     },
     "metadata": {},
     "output_type": "display_data"
    },
    {
     "name": "stdout",
     "output_type": "stream",
     "text": [
      "Skipping sorghum-primary-2025-01-06_v000 due to evaluation error.\n"
     ]
    },
    {
     "data": {
      "text/html": [
       "Tracking run with wandb version 0.18.6"
      ],
      "text/plain": [
       "<IPython.core.display.HTML object>"
      ]
     },
     "metadata": {},
     "output_type": "display_data"
    },
    {
     "data": {
      "text/html": [
       "Run data is saved locally in <code>e:\\repositories\\sleap-roots-training\\wandb\\run-20250207_141120-al97rjfz</code>"
      ],
      "text/plain": [
       "<IPython.core.display.HTML object>"
      ]
     },
     "metadata": {},
     "output_type": "display_data"
    },
    {
     "data": {
      "text/html": [
       "Syncing run <strong><a href='https://wandb.ai/eberrigan-salk-institute-for-biological-studies/sleap-roots/runs/al97rjfz' target=\"_blank\">evaluate_sorghum-primary-2025-01-06_v001_on_sorghum-primary-2025-01-06_v001</a></strong> to <a href='https://wandb.ai/eberrigan-salk-institute-for-biological-studies/sleap-roots' target=\"_blank\">Weights & Biases</a> (<a href='https://wandb.me/developer-guide' target=\"_blank\">docs</a>)<br/>"
      ],
      "text/plain": [
       "<IPython.core.display.HTML object>"
      ]
     },
     "metadata": {},
     "output_type": "display_data"
    },
    {
     "data": {
      "text/html": [
       " View project at <a href='https://wandb.ai/eberrigan-salk-institute-for-biological-studies/sleap-roots' target=\"_blank\">https://wandb.ai/eberrigan-salk-institute-for-biological-studies/sleap-roots</a>"
      ],
      "text/plain": [
       "<IPython.core.display.HTML object>"
      ]
     },
     "metadata": {},
     "output_type": "display_data"
    },
    {
     "data": {
      "text/html": [
       " View run at <a href='https://wandb.ai/eberrigan-salk-institute-for-biological-studies/sleap-roots/runs/al97rjfz' target=\"_blank\">https://wandb.ai/eberrigan-salk-institute-for-biological-studies/sleap-roots/runs/al97rjfz</a>"
      ],
      "text/plain": [
       "<IPython.core.display.HTML object>"
      ]
     },
     "metadata": {},
     "output_type": "display_data"
    },
    {
     "name": "stdout",
     "output_type": "stream",
     "text": [
      "Fetching artifact: eberrigan-salk-institute-for-biological-studies-org/wandb-registry-sleap-roots-models/sorghum-primary-2025-01-06_v001:latest\n"
     ]
    },
    {
     "name": "stderr",
     "output_type": "stream",
     "text": [
      "\u001b[34m\u001b[1mwandb\u001b[0m: \u001b[33mWARNING\u001b[0m Registries can be linked/fetched using a shorthand form without specifying the organization name. Try using shorthand path format: <my_registry_name>/<artifact_name> or just <my_registry_name> if fetching just the project.\n"
     ]
    },
    {
     "name": "stdout",
     "output_type": "stream",
     "text": [
      "Fetching artifact: eberrigan-salk-institute-for-biological-studies-org/wandb-registry-sleap-roots-models/sorghum-primary-2025-01-06_v001:latest\n"
     ]
    },
    {
     "name": "stderr",
     "output_type": "stream",
     "text": [
      "\u001b[34m\u001b[1mwandb\u001b[0m: \u001b[33mWARNING\u001b[0m Registries can be linked/fetched using a shorthand form without specifying the organization name. Try using shorthand path format: <my_registry_name>/<artifact_name> or just <my_registry_name> if fetching just the project.\n",
      "\u001b[34m\u001b[1mwandb\u001b[0m: Downloading large artifact sorghum-primary-2025-01-06_v001:latest, 59.48MB. 16 files... \n"
     ]
    },
    {
     "name": "stdout",
     "output_type": "stream",
     "text": [
      "Loaded test data from D:\\SLEAP\\20250102_generalizability_experiment\\primary\\sorghum\\train_test_split.v001\\test.pkg.slp.\n",
      "Test data saved to output/sorghum-primary-2025-01-06_v001_test_labels.slp\n"
     ]
    },
    {
     "name": "stderr",
     "output_type": "stream",
     "text": [
      "\u001b[34m\u001b[1mwandb\u001b[0m:   16 of 16 files downloaded.  \n",
      "Done. 0:0:0.3\n"
     ]
    },
    {
     "data": {
      "application/vnd.jupyter.widget-view+json": {
       "model_id": "8444ee96e2e34c2d88fa76cbeb5a95a7",
       "version_major": 2,
       "version_minor": 0
      },
      "text/plain": [
       "Output()"
      ]
     },
     "metadata": {},
     "output_type": "display_data"
    },
    {
     "name": "stdout",
     "output_type": "stream",
     "text": [
      "Model loaded successfully from e:\\repositories\\sleap-roots-training\\artifacts\\sorghum-primary-2025-01-06_v001-v0.\n",
      "Bottom-up model loaded successfully: Model(backbone=UNet(stacks=1, filters=24, filters_rate=1.5, kernel_size=3, stem_kernel_size=7, convs_per_block=2, stem_blocks=0, down_blocks=6, middle_block=True, up_blocks=5, up_interpolate=True, block_contraction=False), heads=[MultiInstanceConfmapsHead(part_names=['r1', 'r2', 'r3', 'r4', 'r5', 'r6'], sigma=2.5, output_stride=2, loss_weight=1.0), PartAffinityFieldsHead(edges=[('r1', 'r2'), ('r2', 'r3'), ('r3', 'r4'), ('r4', 'r5'), ('r5', 'r6')], sigma=75.0, output_stride=8, loss_weight=1.0)], keras_model=<keras.engine.functional.Functional object at 0x00000209354C6048>).\n"
     ]
    },
    {
     "data": {
      "text/html": [
       "<pre style=\"white-space:pre;overflow-x:auto;line-height:normal;font-family:Menlo,'DejaVu Sans Mono',consolas,'Courier New',monospace\"></pre>\n"
      ],
      "text/plain": []
     },
     "metadata": {},
     "output_type": "display_data"
    },
    {
     "name": "stdout",
     "output_type": "stream",
     "text": [
      "INFO:sleap.nn.evals:OKS mAP: 0.032449\n",
      "Predictions saved to output/sorghum-primary-2025-01-06_v001_on_sorghum-primary-2025-01-06_v001_test_predictions.slp\n",
      "Metrics saved to output/sorghum-primary-2025-01-06_v001_on_sorghum-primary-2025-01-06_v001_metrics.csv\n",
      "Distances saved to output/sorghum-primary-2025-01-06_v001_on_sorghum-primary-2025-01-06_v001_distances.csv\n",
      "Distance histogram saved to output\\sorghum-primary-2025-01-06_v001_on_sorghum-primary-2025-01-06_v001_distance_histogram.png\n"
     ]
    },
    {
     "data": {
      "text/html": [
       "\n",
       "    <style>\n",
       "        .wandb-row {\n",
       "            display: flex;\n",
       "            flex-direction: row;\n",
       "            flex-wrap: wrap;\n",
       "            justify-content: flex-start;\n",
       "            width: 100%;\n",
       "        }\n",
       "        .wandb-col {\n",
       "            display: flex;\n",
       "            flex-direction: column;\n",
       "            flex-basis: 100%;\n",
       "            flex: 1;\n",
       "            padding: 10px;\n",
       "        }\n",
       "    </style>\n",
       "<div class=\"wandb-row\"><div class=\"wandb-col\"><h3>Run summary:</h3><br/><table class=\"wandb\"><tr><td>dist_avg</td><td>1.99907</td></tr><tr><td>dist_p50</td><td>0.99889</td></tr><tr><td>dist_p90</td><td>4.64859</td></tr><tr><td>dist_p95</td><td>6.59902</td></tr><tr><td>dist_p99</td><td>10.75691</td></tr><tr><td>dist_std</td><td>2.30036</td></tr><tr><td>model_name</td><td>sorghum-primary-2025...</td></tr><tr><td>model_path</td><td>e:\\repositories\\slea...</td></tr><tr><td>oks_map</td><td>0.03245</td></tr><tr><td>oks_mar</td><td>0.05333</td></tr><tr><td>vis_prec</td><td>1</td></tr><tr><td>vis_recall</td><td>0.6553</td></tr></table><br/></div></div>"
      ],
      "text/plain": [
       "<IPython.core.display.HTML object>"
      ]
     },
     "metadata": {},
     "output_type": "display_data"
    },
    {
     "data": {
      "text/html": [
       " View run <strong style=\"color:#cdcd00\">evaluate_sorghum-primary-2025-01-06_v001_on_sorghum-primary-2025-01-06_v001</strong> at: <a href='https://wandb.ai/eberrigan-salk-institute-for-biological-studies/sleap-roots/runs/al97rjfz' target=\"_blank\">https://wandb.ai/eberrigan-salk-institute-for-biological-studies/sleap-roots/runs/al97rjfz</a><br/> View project at: <a href='https://wandb.ai/eberrigan-salk-institute-for-biological-studies/sleap-roots' target=\"_blank\">https://wandb.ai/eberrigan-salk-institute-for-biological-studies/sleap-roots</a><br/>Synced 7 W&B file(s), 0 media file(s), 8 artifact file(s) and 0 other file(s)"
      ],
      "text/plain": [
       "<IPython.core.display.HTML object>"
      ]
     },
     "metadata": {},
     "output_type": "display_data"
    },
    {
     "data": {
      "text/html": [
       "Find logs at: <code>.\\wandb\\run-20250207_141120-al97rjfz\\logs</code>"
      ],
      "text/plain": [
       "<IPython.core.display.HTML object>"
      ]
     },
     "metadata": {},
     "output_type": "display_data"
    },
    {
     "data": {
      "text/html": [
       "Tracking run with wandb version 0.18.6"
      ],
      "text/plain": [
       "<IPython.core.display.HTML object>"
      ]
     },
     "metadata": {},
     "output_type": "display_data"
    },
    {
     "data": {
      "text/html": [
       "Run data is saved locally in <code>e:\\repositories\\sleap-roots-training\\wandb\\run-20250207_141144-l4sogo92</code>"
      ],
      "text/plain": [
       "<IPython.core.display.HTML object>"
      ]
     },
     "metadata": {},
     "output_type": "display_data"
    },
    {
     "data": {
      "text/html": [
       "Syncing run <strong><a href='https://wandb.ai/eberrigan-salk-institute-for-biological-studies/sleap-roots/runs/l4sogo92' target=\"_blank\">evaluate_sorghum-primary-2025-01-06_v002_on_sorghum-primary-2025-01-06_v002</a></strong> to <a href='https://wandb.ai/eberrigan-salk-institute-for-biological-studies/sleap-roots' target=\"_blank\">Weights & Biases</a> (<a href='https://wandb.me/developer-guide' target=\"_blank\">docs</a>)<br/>"
      ],
      "text/plain": [
       "<IPython.core.display.HTML object>"
      ]
     },
     "metadata": {},
     "output_type": "display_data"
    },
    {
     "data": {
      "text/html": [
       " View project at <a href='https://wandb.ai/eberrigan-salk-institute-for-biological-studies/sleap-roots' target=\"_blank\">https://wandb.ai/eberrigan-salk-institute-for-biological-studies/sleap-roots</a>"
      ],
      "text/plain": [
       "<IPython.core.display.HTML object>"
      ]
     },
     "metadata": {},
     "output_type": "display_data"
    },
    {
     "data": {
      "text/html": [
       " View run at <a href='https://wandb.ai/eberrigan-salk-institute-for-biological-studies/sleap-roots/runs/l4sogo92' target=\"_blank\">https://wandb.ai/eberrigan-salk-institute-for-biological-studies/sleap-roots/runs/l4sogo92</a>"
      ],
      "text/plain": [
       "<IPython.core.display.HTML object>"
      ]
     },
     "metadata": {},
     "output_type": "display_data"
    },
    {
     "name": "stdout",
     "output_type": "stream",
     "text": [
      "Fetching artifact: eberrigan-salk-institute-for-biological-studies-org/wandb-registry-sleap-roots-models/sorghum-primary-2025-01-06_v002:latest\n"
     ]
    },
    {
     "name": "stderr",
     "output_type": "stream",
     "text": [
      "\u001b[34m\u001b[1mwandb\u001b[0m: \u001b[33mWARNING\u001b[0m Registries can be linked/fetched using a shorthand form without specifying the organization name. Try using shorthand path format: <my_registry_name>/<artifact_name> or just <my_registry_name> if fetching just the project.\n"
     ]
    },
    {
     "name": "stdout",
     "output_type": "stream",
     "text": [
      "Fetching artifact: eberrigan-salk-institute-for-biological-studies-org/wandb-registry-sleap-roots-models/sorghum-primary-2025-01-06_v002:latest\n"
     ]
    },
    {
     "name": "stderr",
     "output_type": "stream",
     "text": [
      "\u001b[34m\u001b[1mwandb\u001b[0m: \u001b[33mWARNING\u001b[0m Registries can be linked/fetched using a shorthand form without specifying the organization name. Try using shorthand path format: <my_registry_name>/<artifact_name> or just <my_registry_name> if fetching just the project.\n",
      "\u001b[34m\u001b[1mwandb\u001b[0m: Downloading large artifact sorghum-primary-2025-01-06_v002:latest, 59.48MB. 16 files... \n"
     ]
    },
    {
     "name": "stdout",
     "output_type": "stream",
     "text": [
      "Loaded test data from D:\\SLEAP\\20250102_generalizability_experiment\\primary\\sorghum\\train_test_split.v002\\test.pkg.slp.\n",
      "Test data saved to output/sorghum-primary-2025-01-06_v002_test_labels.slp\n"
     ]
    },
    {
     "name": "stderr",
     "output_type": "stream",
     "text": [
      "\u001b[34m\u001b[1mwandb\u001b[0m:   16 of 16 files downloaded.  \n",
      "Done. 0:0:0.4\n"
     ]
    },
    {
     "data": {
      "application/vnd.jupyter.widget-view+json": {
       "model_id": "b7d800d4bce14bb797b8131fd569c7e3",
       "version_major": 2,
       "version_minor": 0
      },
      "text/plain": [
       "Output()"
      ]
     },
     "metadata": {},
     "output_type": "display_data"
    },
    {
     "name": "stdout",
     "output_type": "stream",
     "text": [
      "Model loaded successfully from e:\\repositories\\sleap-roots-training\\artifacts\\sorghum-primary-2025-01-06_v002-v0.\n",
      "Bottom-up model loaded successfully: Model(backbone=UNet(stacks=1, filters=24, filters_rate=1.5, kernel_size=3, stem_kernel_size=7, convs_per_block=2, stem_blocks=0, down_blocks=6, middle_block=True, up_blocks=5, up_interpolate=True, block_contraction=False), heads=[MultiInstanceConfmapsHead(part_names=['r1', 'r2', 'r3', 'r4', 'r5', 'r6'], sigma=2.5, output_stride=2, loss_weight=1.0), PartAffinityFieldsHead(edges=[('r1', 'r2'), ('r2', 'r3'), ('r3', 'r4'), ('r4', 'r5'), ('r5', 'r6')], sigma=75.0, output_stride=8, loss_weight=1.0)], keras_model=<keras.engine.functional.Functional object at 0x00000206BFB91788>).\n"
     ]
    },
    {
     "data": {
      "text/html": [
       "<pre style=\"white-space:pre;overflow-x:auto;line-height:normal;font-family:Menlo,'DejaVu Sans Mono',consolas,'Courier New',monospace\"></pre>\n"
      ],
      "text/plain": []
     },
     "metadata": {},
     "output_type": "display_data"
    },
    {
     "name": "stdout",
     "output_type": "stream",
     "text": [
      "WARNING:sleap.nn.evals:Failed to compute metrics.\n"
     ]
    },
    {
     "name": "stderr",
     "output_type": "stream",
     "text": [
      "c:\\Users\\pbiobgh\\.conda\\envs\\sleap_v1.3.4\\lib\\site-packages\\sleap\\nn\\evals.py:539: RuntimeWarning: Mean of empty slice\n",
      "  \"dist.avg\": np.nanmean(dists),\n",
      "c:\\Users\\pbiobgh\\.conda\\envs\\sleap_v1.3.4\\lib\\site-packages\\sleap\\nn\\evals.py:572: RuntimeWarning: Mean of empty slice.\n",
      "  mPCK = mPCK_parts.mean()\n",
      "c:\\Users\\pbiobgh\\.conda\\envs\\sleap_v1.3.4\\lib\\site-packages\\numpy\\core\\_methods.py:189: RuntimeWarning: invalid value encountered in double_scalars\n",
      "  ret = ret.dtype.type(ret / rcount)\n",
      "c:\\Users\\pbiobgh\\.conda\\envs\\sleap_v1.3.4\\lib\\site-packages\\sleap\\nn\\evals.py:666: RuntimeWarning: Mean of empty slice.\n",
      "  pair_pck = metrics[\"pck.pcks\"].mean(axis=-1).mean(axis=-1)\n",
      "c:\\Users\\pbiobgh\\.conda\\envs\\sleap_v1.3.4\\lib\\site-packages\\numpy\\core\\_methods.py:182: RuntimeWarning: invalid value encountered in true_divide\n",
      "  ret, rcount, out=ret, casting='unsafe', subok=False)\n",
      "c:\\Users\\pbiobgh\\.conda\\envs\\sleap_v1.3.4\\lib\\site-packages\\sleap\\nn\\evals.py:668: RuntimeWarning: Mean of empty slice.\n",
      "  metrics[\"oks.mOKS\"] = pair_oks.mean()\n"
     ]
    },
    {
     "name": "stdout",
     "output_type": "stream",
     "text": [
      "Predictions saved to output/sorghum-primary-2025-01-06_v002_on_sorghum-primary-2025-01-06_v002_test_predictions.slp\n",
      "Error during model evaluation: 'NoneType' object is not subscriptable. Skipping this model...\n"
     ]
    },
    {
     "data": {
      "application/vnd.jupyter.widget-view+json": {
       "model_id": "e50ebe03326847ec96fd2e961c06e9ec",
       "version_major": 2,
       "version_minor": 0
      },
      "text/plain": [
       "VBox(children=(Label(value='0.573 MB of 0.573 MB uploaded\\r'), FloatProgress(value=1.0, max=1.0)))"
      ]
     },
     "metadata": {},
     "output_type": "display_data"
    },
    {
     "data": {
      "text/html": [
       " View run <strong style=\"color:#cdcd00\">evaluate_sorghum-primary-2025-01-06_v002_on_sorghum-primary-2025-01-06_v002</strong> at: <a href='https://wandb.ai/eberrigan-salk-institute-for-biological-studies/sleap-roots/runs/l4sogo92' target=\"_blank\">https://wandb.ai/eberrigan-salk-institute-for-biological-studies/sleap-roots/runs/l4sogo92</a><br/> View project at: <a href='https://wandb.ai/eberrigan-salk-institute-for-biological-studies/sleap-roots' target=\"_blank\">https://wandb.ai/eberrigan-salk-institute-for-biological-studies/sleap-roots</a><br/>Synced 7 W&B file(s), 0 media file(s), 2 artifact file(s) and 0 other file(s)"
      ],
      "text/plain": [
       "<IPython.core.display.HTML object>"
      ]
     },
     "metadata": {},
     "output_type": "display_data"
    },
    {
     "data": {
      "text/html": [
       "Find logs at: <code>.\\wandb\\run-20250207_141144-l4sogo92\\logs</code>"
      ],
      "text/plain": [
       "<IPython.core.display.HTML object>"
      ]
     },
     "metadata": {},
     "output_type": "display_data"
    },
    {
     "name": "stdout",
     "output_type": "stream",
     "text": [
      "Skipping sorghum-primary-2025-01-06_v002 due to evaluation error.\n",
      "Metrics saved to model_evaluation_metrics.csv\n"
     ]
    },
    {
     "data": {
      "image/png": "[encoded data removed]",
      "text/plain": [
       "<Figure size 1200x600 with 1 Axes>"
      ]
     },
     "metadata": {},
     "output_type": "display_data"
    },
    {
     "name": "stdout",
     "output_type": "stream",
     "text": [
      "Plot saved to model_average_error_comparison.png\n"
     ]
    }
   ],
   "source": [
    "# Initialize lists to store data\n",
    "data = []\n",
    "\n",
    "# Evaluate all models from groups and versions on corresponding test set\n",
    "predictions = {}\n",
    "metrics = {}\n",
    "\n",
    "for group in GROUPS:\n",
    "    for version in VERSIONS:\n",
    "        model_name = f\"{group}_v{version}\"\n",
    "        test_set = f\"{TEST_GROUP_NAME}_v{version}\"\n",
    "\n",
    "        # Evaluate the model\n",
    "        pred, metric = sleap_roots_training.evaluate_model(model_name, test_set)\n",
    "\n",
    "        predictions[model_name] = pred\n",
    "        metrics[model_name] = metric\n",
    "\n",
    "        if metric:  # If evaluation succeeded, store results\n",
    "            data.append({\n",
    "                \"model\": model_name,\n",
    "                \"group\": group,\n",
    "                \"version\": version,\n",
    "                \"test_set\": test_set,\n",
    "                \"dist_avg\": metric.get(\"dist_avg\", None)  # Get metric safely\n",
    "            })\n",
    "        else:\n",
    "            print(f\"Skipping {model_name} due to evaluation error.\")\n",
    "\n",
    "# Convert to DataFrame\n",
    "df = pd.DataFrame(data)\n",
    "\n",
    "# Save metrics to CSV\n",
    "csv_file_path = \"model_evaluation_metrics.csv\"\n",
    "df.to_csv(csv_file_path, index=False)\n",
    "print(f\"Metrics saved to {csv_file_path}\")\n",
    "\n",
    "# Aggregate by model (average dist_avg across test/train splits)\n",
    "df_grouped = df.groupby(\"model\").agg({\"dist_avg\": \"mean\"}).reset_index()\n",
    "\n",
    "# Plot dist_avg across models\n",
    "plt.figure(figsize=(12, 6))\n",
    "sns.barplot(data=df_grouped, x=\"model\", y=\"dist_avg\")\n",
    "\n",
    "plt.title(\"Comparison of Average Error Across Models\")\n",
    "plt.xlabel(\"Model\")\n",
    "plt.ylabel(\"Average Error (mm)\")\n",
    "plt.grid(axis=\"y\")\n",
    "plt.xticks(rotation=45, ha=\"right\")\n",
    "plt.tight_layout()\n",
    "\n",
    "# Save and display plot\n",
    "plot_file_path = \"model_average_error_comparison.png\"\n",
    "plt.savefig(plot_file_path)\n",
    "plt.show()\n",
    "print(f\"Plot saved to {plot_file_path}\")\n"
   ]
  },
  {
   "cell_type": "code",
   "execution_count": null,
   "metadata": {},
   "outputs": [],
   "source": []
  }
 ],
 "metadata": {
  "kernelspec": {
   "display_name": "sleap_v1.3.4",
   "language": "python",
   "name": "python3"
  },
  "language_info": {
   "codemirror_mode": {
    "name": "ipython",
    "version": 3
   },
   "file_extension": ".py",
   "mimetype": "text/x-python",
   "name": "python",
   "nbconvert_exporter": "python",
   "pygments_lexer": "ipython3",
   "version": "3.7.12"
  }
 },
 "nbformat": 4,
 "nbformat_minor": 2
}
