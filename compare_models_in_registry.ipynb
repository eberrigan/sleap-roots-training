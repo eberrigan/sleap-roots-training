{
 "cells": [
  {
   "cell_type": "code",
   "execution_count": 1,
   "metadata": {},
   "outputs": [],
   "source": [
    "import wandb\n",
    "import pandas as pd\n",
    "\n",
    "from pathlib import Path"
   ]
  },
  {
   "cell_type": "code",
   "execution_count": 2,
   "metadata": {},
   "outputs": [],
   "source": [
    "# Constants for W&B initialization\n",
    "ENTITY_NAME = \"eberrigan-salk-institute-for-biological-studies\"\n",
    "PROJECT_NAME = \"sleap-roots\"\n",
    "REGISTRY = \"sleap-roots-models\""
   ]
  },
  {
   "cell_type": "code",
   "execution_count": null,
   "metadata": {},
   "outputs": [],
   "source": [
    "def fetch_model_artifact(entity_name: str, project_name: str, registry: str, artifact_name: str, alias: str):\n",
    "    \"\"\"Return wandb.Artifact object for a given model artifact.\n",
    "    \n",
    "    Args:\n",
    "        entity_name (str): W&B entity name.\n",
    "        project_name (str): W&B project name.\n",
    "        registry (str): W&B registry name.\n",
    "        artifact_name (str): Name of the model artifact.\n",
    "        alias (str): Alias of the model artifact.\n",
    "        \n",
    "    Returns:\n",
    "        wandb.Artifact: The model artifact.\n",
    "    \"\"\"\n",
    "    run = wandb.init(entity=entity_name, project=project_name, job_type=\"fetch_model_artifact\")\n",
    "    artifact = run.use_artifact(f\"{registry}/{artifact_name}:{alias}\")\n",
    "    return artifact\n",
    "\n",
    "def get_distances(artifact: wandb.Artifact):\n",
    "    \"\"\"Return the distances dataframe from a model artifact.\n",
    "    \n",
    "    Args:\n",
    "        artifact (wandb.Artifact): The model artifact.\n",
    "        \n",
    "    Returns:\n",
    "        pd.DataFrame: The distances dataframe.\n",
    "    \"\"\"\n",
    "    distances = artifact.get(\"distances.csv\")\n",
    "    distances_df = pd.read_csv(distances)\n",
    "    return distances_df"
   ]
  }
 ],
 "metadata": {
  "kernelspec": {
   "display_name": "sleap_v1.3.4",
   "language": "python",
   "name": "python3"
  },
  "language_info": {
   "codemirror_mode": {
    "name": "ipython",
    "version": 3
   },
   "file_extension": ".py",
   "mimetype": "text/x-python",
   "name": "python",
   "nbconvert_exporter": "python",
   "pygments_lexer": "ipython3",
   "version": "3.7.12"
  }
 },
 "nbformat": 4,
 "nbformat_minor": 2
}
